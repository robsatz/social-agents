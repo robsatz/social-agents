{
 "cells": [
  {
   "cell_type": "markdown",
   "metadata": {
    "execution": {}
   },
   "source": [
    "<a href=\"https://colab.research.google.com/github/neuromatch/NeuroAI_Course/blob/main/projects/project-notebooks/Macrocircuits.ipynb\" target=\"_blank\"><img alt=\"Open In Colab\" src=\"https://colab.research.google.com/assets/colab-badge.svg\"/></a>   <a href=\"https://kaggle.com/kernels/welcome?src=https://raw.githubusercontent.com/neuromatch/NeuroAI_Course/main/projects/project-notebooks/Macrocircuits.ipynb\" target=\"_blank\"><img alt=\"Open in Kaggle\" src=\"https://kaggle.com/static/images/open-in-kaggle.svg\"/></a>"
   ]
  },
  {
   "cell_type": "markdown",
   "metadata": {
    "execution": {}
   },
   "source": [
    "# Macrocircuits\n",
    "\n",
    "***Macrocircuits: Leveraging neural architectural priors and modularity in embodied agents***\n",
    "\n",
    "**By Neuromatch Academy**\n",
    "\n",
    "**Content creators:** Divyansha Lachi, Kseniia Shilova  \n",
    "\n",
    "**Content reviewers:** Eva Dyer, Hannah Choi  \n",
    "\n",
    "__Production editors:__ Konstantine Tsafatinos, Ella Batty, Spiros Chavlis, Samuele Bolotta, Hlib Solodzhuk\n",
    "\n",
    "---"
   ]
  },
  {
   "cell_type": "markdown",
   "metadata": {
    "execution": {}
   },
   "source": [
    "## Background\n",
    "This project explores how we can build a biologically inspired artificial neural network (ANN) architecture, derived from the C. Elegans motor circuit, for the control of a simulated Swimmer agent. Traditional motor control ANNs often rely on generic, fully connected multilayer perceptrons (MLPs), which demand extensive training data, offer limited transferability, and possess complex internal dynamics that challenge interpretability. The project aims to understand how the biologically motivated ANN, which is shaped by evolution to be highly structured and sparse, could help to solve these problems and provide advantages in the domain of motor control. We will train MLPs using algorithms such as PPO, DDPG, and ES, and compare their performance in terms of rewards and sample efficiency with our bio-inspired ANN. The project also includes visualizing the C. Elegans connectome and building the network using this circuitry. We will conduct various ablation analyses by removing sign and weight-sharing constraints, and altering environmental parameters like the swimmer’s length or viscosity. These investigations aim to understand how architecture and modularity impact performance and learning across different environments. Finally, the project aims at building an agent that is robust to environmental variations, navigating towards specific targets, and enhancing our understanding of bio-inspired motor control.  \n",
    "\n",
    "\n",
    "**Relevant references:**  \n",
    "\n",
    "- [Neural circuit architectural priors for embodied control](https://arxiv.org/abs/2201.05242)  \n",
    "- [Hierarchical motor control in mammals and machines](https://www.nature.com/articles/s41467-019-13239-6)  \n",
    "- [Continuous control with deep reinforcement learning](https://arxiv.org/pdf/1509.02971.pdf)  \n",
    "\n",
    "*This notebook uses code from the following GitHub repository:* [ncap](https://github.com/nikhilxb/ncap) by Nikhil X. Bhattasali and Anthony M. Zador and Tatiana A. Engel.\n",
    "\n",
    "**Infrastructure note:** This notebook contains GPU install guide as well as CPU ones for different OS."
   ]
  },
  {
   "cell_type": "markdown",
   "metadata": {},
   "source": [
    "###  Install and import feedback gadget\n"
   ]
  },
  {
   "cell_type": "code",
   "execution_count": 1,
   "metadata": {
    "cellView": "form",
    "execution": {},
    "tags": [
     "hide-input"
    ]
   },
   "outputs": [],
   "source": [
    "# @title Install and import feedback gadget\n",
    "\n",
    "!pip install vibecheck datatops --quiet\n",
    "\n",
    "from vibecheck import DatatopsContentReviewContainer\n",
    "def content_review(notebook_section: str):\n",
    "    return DatatopsContentReviewContainer(\n",
    "        \"\",  # No text prompt\n",
    "        notebook_section,\n",
    "        {\n",
    "            \"url\": \"https://pmyvdlilci.execute-api.us-east-1.amazonaws.com/klab\",\n",
    "            \"name\": \"neuromatch_neuroai\",\n",
    "            \"user_key\": \"wb2cxze8\",\n",
    "        },\n",
    "    ).render()\n",
    "\n",
    "feedback_prefix = \"Project_Macrocircuits\""
   ]
  },
  {
   "cell_type": "code",
   "execution_count": 2,
   "metadata": {
    "cellView": "form",
    "execution": {},
    "tags": [
     "remove-input"
    ]
   },
   "outputs": [
    {
     "data": {
      "application/vnd.jupyter.widget-view+json": {
       "model_id": "6d812846e3a44b9e96c229664eb878c4",
       "version_major": 2,
       "version_minor": 0
      },
      "text/plain": [
       "Tab(children=(Output(), Output()), selected_index=0, titles=('Youtube', 'Bilibili'))"
      ]
     },
     "metadata": {},
     "output_type": "display_data"
    }
   ],
   "source": [
    "# @title Project Background\n",
    "\n",
    "from ipywidgets import widgets\n",
    "from IPython.display import YouTubeVideo\n",
    "from IPython.display import IFrame\n",
    "from IPython.display import display\n",
    "\n",
    "\n",
    "class PlayVideo(IFrame):\n",
    "  def __init__(self, id, source, page=1, width=400, height=300, **kwargs):\n",
    "    self.id = id\n",
    "    if source == 'Bilibili':\n",
    "      src = f'https://player.bilibili.com/player.html?bvid={id}&page={page}'\n",
    "    elif source == 'Osf':\n",
    "      src = f'https://mfr.ca-1.osf.io/render?url=https://osf.io/download/{id}/?direct%26mode=render'\n",
    "    super(PlayVideo, self).__init__(src, width, height, **kwargs)\n",
    "\n",
    "\n",
    "def display_videos(video_ids, W=400, H=300, fs=1):\n",
    "  tab_contents = []\n",
    "  for i, video_id in enumerate(video_ids):\n",
    "    out = widgets.Output()\n",
    "    with out:\n",
    "      if video_ids[i][0] == 'Youtube':\n",
    "        video = YouTubeVideo(id=video_ids[i][1], width=W,\n",
    "                             height=H, fs=fs, rel=0)\n",
    "        print(f'Video available at https://youtube.com/watch?v={video.id}')\n",
    "      else:\n",
    "        video = PlayVideo(id=video_ids[i][1], source=video_ids[i][0], width=W,\n",
    "                          height=H, fs=fs, autoplay=False)\n",
    "        if video_ids[i][0] == 'Bilibili':\n",
    "          print(f'Video available at https://www.bilibili.com/video/{video.id}')\n",
    "        elif video_ids[i][0] == 'Osf':\n",
    "          print(f'Video available at https://osf.io/{video.id}')\n",
    "      display(video)\n",
    "    tab_contents.append(out)\n",
    "  return tab_contents\n",
    "\n",
    "\n",
    "video_ids = [('Youtube', 'CwOUn0Bt4JU'), ('Bilibili', 'BV1Zx4y1t7BU')]\n",
    "tab_contents = display_videos(video_ids, W=730, H=410)\n",
    "tabs = widgets.Tab()\n",
    "tabs.children = tab_contents\n",
    "for i in range(len(tab_contents)):\n",
    "  tabs.set_title(i, video_ids[i][0])\n",
    "display(tabs)"
   ]
  },
  {
   "cell_type": "markdown",
   "metadata": {},
   "source": [
    "###  Project Template\n"
   ]
  },
  {
   "cell_type": "code",
   "execution_count": 3,
   "metadata": {
    "cellView": "form",
    "execution": {},
    "tags": [
     "hide-input"
    ]
   },
   "outputs": [
    {
     "data": {
      "text/html": [
       "<img src=\"https://github.com/neuromatch/NeuroAI_Course/blob/main/projects/project-notebooks/static/NCAPProjectTemplate.png?raw=true\"/>"
      ],
      "text/plain": [
       "<IPython.core.display.Image object>"
      ]
     },
     "metadata": {},
     "output_type": "display_data"
    }
   ],
   "source": [
    "#@title Project Template\n",
    "from IPython.display import Image, display\n",
    "import os\n",
    "from pathlib import Path\n",
    "\n",
    "url = \"https://github.com/neuromatch/NeuroAI_Course/blob/main/projects/project-notebooks/static/NCAPProjectTemplate.png?raw=true\"\n",
    "\n",
    "display(Image(url=url))"
   ]
  },
  {
   "cell_type": "markdown",
   "metadata": {
    "execution": {}
   },
   "source": [
    "**Tutorial links**\n",
    "\n",
    "This particular project connects a couple of distinct ideas explored throughout the course. Firstly, the innate ability to learn a certain set of actions quickly is the main topic of [Tutorial 4](https://neuroai.neuromatch.io/tutorials/W2D4_Macrolearning/student/W2D4_Tutorial4.html) for **W2D4** on biological meta-learning. The focus comes with the observation that the brain is not of a generic architecture but is a highly structured and optimized hierarchy of modules, the importance of which is highlighted in [Tutorial 3](https://neuroai.neuromatch.io/tutorials/W2D1_Macrocircuits/student/W2D1_Tutorial3.html) for **W2D1**, forming inductive bias for efficient motor control. The default model for the agent used here is already known Actor-Critic; you had the opportunity to observe in already mentioned tutorials as well as in [Tutorial 3](https://neuroai.neuromatch.io/tutorials/W1D2_ComparingTasks/student/W1D2_Tutorial3.html) for **W1D2**."
   ]
  },
  {
   "cell_type": "markdown",
   "metadata": {},
   "source": [
    "###  Importing Libraries\n"
   ]
  },
  {
   "cell_type": "code",
   "execution_count": 4,
   "metadata": {
    "cellView": "form",
    "execution": {},
    "tags": [
     "hide-input"
    ]
   },
   "outputs": [],
   "source": [
    "#@title Importing Libraries\n",
    "import numpy as np\n",
    "import collections\n",
    "import argparse\n",
    "import os\n",
    "# import yaml\n",
    "import typing as T\n",
    "import imageio\n",
    "import matplotlib\n",
    "import matplotlib.pyplot as plt\n",
    "import matplotlib.animation as animation\n",
    "import pandas as pd\n",
    "import seaborn as sns\n",
    "from IPython.display import HTML\n",
    "\n",
    "import dm_control as dm\n",
    "# import dm_control.suite.swimmer as swimmer\n",
    "from dm_control.rl import control\n",
    "from dm_control.utils import rewards\n",
    "from dm_control import suite\n",
    "from dm_control.suite.wrappers import pixels\n",
    "\n",
    "from acme import wrappers\n",
    "\n",
    "from torch import nn"
   ]
  },
  {
   "cell_type": "markdown",
   "metadata": {},
   "source": [
    "###  Utility code for displaying videos\n"
   ]
  },
  {
   "cell_type": "code",
   "execution_count": 5,
   "metadata": {
    "cellView": "form",
    "execution": {},
    "tags": [
     "hide-input"
    ]
   },
   "outputs": [
    {
     "name": "stdout",
     "output_type": "stream",
     "text": [
      "/Users/Apple/social-agents\n"
     ]
    }
   ],
   "source": [
    "from cust_utils.video_utils import write_video, display_video"
   ]
  },
  {
   "cell_type": "markdown",
   "metadata": {
    "execution": {}
   },
   "source": [
    "\n",
    "In this notebook we will explore the major components essential for this project.\n",
    "\n",
    "\n",
    "*   **Understanding the DeepMind Control Suite Swimmer Agent:** We will begin by exploring the swimmer agent provided by the DeepMind Control Suite. This section includes a detailed exploration of the agent's API, task customization capabilities, and how to adapt the environment to fit our experimental needs.\n",
    "*   **Training Models Using Various Reinforcement Learning Algorithms:** Next, we move on to learn how can we train models for the agents we created. We will be using Tonic_RL library to train our model. We will first train a standard MLP model using the Proximal Policy Optimization (PPO) algorithm.\n",
    "\n",
    "* **Training the NCAP model:** Finally we will define the NCAP model from [Neural Circuit Architectural Priors for Embodied Control](https://arxiv.org/abs/2201.05242) paper. We will train it using PPO and compare it against the MLP model we trained before.\n",
    "\n"
   ]
  },
  {
   "cell_type": "markdown",
   "metadata": {
    "execution": {}
   },
   "source": [
    "---\n",
    "## Section 1: Exploring the DeepMind Swimmer"
   ]
  },
  {
   "cell_type": "markdown",
   "metadata": {
    "execution": {}
   },
   "source": [
    "### 1.1 Create a basic swim task for the swimmer environment\n"
   ]
  },
  {
   "cell_type": "markdown",
   "metadata": {
    "execution": {}
   },
   "source": [
    "First, we'll initialize a basic swimmer agent consisting of 6 links. Each agent requires a defined task and its corresponding reward function. In this instance, we've designed a swim forward task that involves the agent swimming forward in any direction.\n",
    "\n",
    "The environment is flexible, allowing for modifications to introduce additional tasks such as \"swim only in the x-direction\" or \"move towards a ball.\""
   ]
  },
  {
   "cell_type": "code",
   "execution_count": 6,
   "metadata": {
    "execution": {}
   },
   "outputs": [
    {
     "name": "stdout",
     "output_type": "stream",
     "text": [
      "Imported Agents\n"
     ]
    }
   ],
   "source": [
    "_SWIM_SPEED = 0.1\n",
    "\n",
    "from tasks.forwards_tasks import Swim\n",
    "from Agents.DeepControlSwimmer import swim\n",
    "import Agents\n",
    "# from Agents.DeepControlSwimmer import swimmer, swim"
   ]
  },
  {
   "cell_type": "markdown",
   "metadata": {
    "execution": {}
   },
   "source": [
    "### 1.2 Vizualizing an agent that takes random actions in the environment"
   ]
  },
  {
   "cell_type": "markdown",
   "metadata": {
    "execution": {}
   },
   "source": [
    "Let's visualize the environment by executing a sequence of random actions on a swimmer agent. This involves applying random actions over a series of steps and compiling the rendered frames into a video to visualize the agent's behavior."
   ]
  },
  {
   "cell_type": "code",
   "execution_count": 8,
   "metadata": {
    "execution": {}
   },
   "outputs": [],
   "source": [
    "from cust_utils.video_utils import render\n",
    "from tests.dm_control_test import test_dm_control"
   ]
  },
  {
   "cell_type": "code",
   "execution_count": 9,
   "metadata": {
    "execution": {}
   },
   "outputs": [
    {
     "name": "stdout",
     "output_type": "stream",
     "text": [
      "importing\n",
      "Two Bodies Imported\n"
     ]
    }
   ],
   "source": [
    "from cust_utils.video_utils import render\n",
    "from tests.dm_control_test import test_dm_control\n",
    "from tasks.forwards_tasks import Swim\n",
    "from Agents.DeepControlSwimmer import swimmer, swim, _SWIM_SPEED\n",
    "from dm_control import suite\n",
    "from dm_control.utils import containers\n",
    "\n",
    "\n",
    "env = Agents.env_load('swimmer', 'swim', task_kwargs={'random': 1})"
   ]
  },
  {
   "cell_type": "code",
   "execution_count": 10,
   "metadata": {},
   "outputs": [
    {
     "name": "stdout",
     "output_type": "stream",
     "text": [
      "['/Users/Apple/anaconda3/envs/nma-neuroai/lib/python3.10/site-packages/dm_control/suite']\n"
     ]
    }
   ],
   "source": [
    "print(suite.__path__)"
   ]
  },
  {
   "cell_type": "code",
   "execution_count": 11,
   "metadata": {
    "execution": {}
   },
   "outputs": [
    {
     "data": {
      "text/html": [
       "<video width=\"640\" height=\"480\" controls autoplay>\n",
       "  <source type=\"video/mp4\" src=\"data:video/mp4;base64,AAAAIGZ0eXBNNFYgAAACAE00ViBpc29taXNvMmF2YzEAAAAIZnJlZQAAuwFtZGF0AAACrwYF//+r\n",
       "3EXpvebZSLeWLNgg2SPu73gyNjQgLSBjb3JlIDE2NCByMzEwOCAzMWUxOWY5IC0gSC4yNjQvTVBF\n",
       "Ry00IEFWQyBjb2RlYyAtIENvcHlsZWZ0IDIwMDMtMjAyMyAtIGh0dHA6Ly93d3cudmlkZW9sYW4u\n",
       "b3JnL3gyNjQuaHRtbCAtIG9wdGlvbnM6IGNhYmFjPTEgcmVmPTMgZGVibG9jaz0xOjA6MCBhbmFs\n",
       "eXNlPTB4MzoweDExMyBtZT1oZXggc3VibWU9NyBwc3k9MSBwc3lfcmQ9MS4wMDowLjAwIG1peGVk\n",
       "X3JlZj0xIG1lX3JhbmdlPTE2IGNocm9tYV9tZT0xIHRyZWxsaXM9MSA4eDhkY3Q9MSBjcW09MCBk\n",
       "ZWFkem9uZT0yMSwxMSBmYXN0X3Bza2lwPTEgY2hyb21hX3FwX29mZnNldD0tMiB0aHJlYWRzPTE1\n",
       "IGxvb2thaGVhZF90aHJlYWRzPTIgc2xpY2VkX3RocmVhZHM9MCBucj0wIGRlY2ltYXRlPTEgaW50\n",
       "ZXJsYWNlZD0wIGJsdXJheV9jb21wYXQ9MCBjb25zdHJhaW5lZF9pbnRyYT0wIGJmcmFtZXM9MyBi\n",
       "X3B5cmFtaWQ9MiBiX2FkYXB0PTEgYl9iaWFzPTAgZGlyZWN0PTEgd2VpZ2h0Yj0xIG9wZW5fZ29w\n",
       "PTAgd2VpZ2h0cD0yIGtleWludD0yNTAga2V5aW50X21pbj0yNSBzY2VuZWN1dD00MCBpbnRyYV9y\n",
       "ZWZyZXNoPTAgcmNfbG9va2FoZWFkPTQwIHJjPWNyZiBtYnRyZWU9MSBjcmY9MjMuMCBxY29tcD0w\n",
       "LjYwIHFwbWluPTAgcXBtYXg9NjkgcXBzdGVwPTQgaXBfcmF0aW89MS40MCBhcT0xOjEuMDAAgAAA\n",
       "G2FliIQAI//+xt95Apm95Z9eCyya78j0/Wr6ChNkGO4UjUpVvOQIu6HbFA1jtBsVMg2OM/nTFhhm\n",
       "e/pebFM4n9HtnxfYbsAdirmc7d9Sk9SqeHSMoP5rcWkJCsRq8IlsL6Wi0mIBL6TnvtuNOrEtm+/2\n",
       "JoF59oK+kU8OwX4N94x/BxFLDYkWHcNlCT19pXalkeOS4OnMaTHguJVX6cpqpECNiF/K3py0Zm8L\n",
       "EAm7ZrsncfoHI2maC5OSInYZd20E01wTqJG6CM8vBfAEobswO3iN7IrmsdrqOemWe9cYzFO/LxD4\n",
       "1EB2ZTgA0fd6xP8IndB/nEDAlbtN1OUilxrH5mRjXbTQejia7kXDvyP7fkxpgIhXwPf0peeiJOBN\n",
       "x6d/fQ06yGls5E6+1UQzdgOPrI/l4xyWn+cMX9ghZHqPhEf5o5zgIwF07VzQrbVr5KRaF1u/AqZB\n",
       "dNRNBOaVgTrPA6zN/fDys8wnKBzvhgtZdBuBG+JQdhforZ8n0NFNaj085fgQf3/7LJZLhR549Qsi\n",
       "rSF8LpzjI8e9n5Qg3w2GhdbQ/DG1VtRIy+4/yJbvngmNlvZrUBbgoKE3gh0bh4G6zfMjv8WCu9Gd\n",
       "CORyB8P0Cv6lu3l9Daa3cmrwQrZv3+i7fZK2wa+D3Y/LA3dXXRFDbnUSAsxXJ8n2jVIvJzS8OD9j\n",
       "ERFVxm/PeO9ZwuIgXkXha0LmmtMayaK7bwZxA7YbpUpSHXZarnraUCIutDjcRN8VQUQOpFJHeSnq\n",
       "UQzO2pbSZvKkETvd5BPC7cqGaRpdvoVVPJlhOk7XFhgstczW3bUvGGsIldI5KNIhq8xwup+Z6KDJ\n",
       "HJ2z5RNphP+VLjUlXgv8fpWxEmCFGWYt4JNBLiJgVxlWKqI0AQCeRZvmPlv4X2aoIfDCScVB37wU\n",
       "deCB3MXWvrcGMDL6q6X6S4NdZGVpqJsw8ooF0W3cOnR1VVba1jumMwCnPrv1lROgvBkPcbW0vcAC\n",
       "ncURx3Pp5bMm0j2NpXjENPoiwUfCHy4YhSUeczsofZPnyJWKGzficME6Jq0uYV4gi6QejttgW9va\n",
       "C6JB6op31wwnvsfKixLyR+smCPBQdCQy9NuYHQx1CXsBDl3JG7fMzF1yVZVesrHLmFmIYePrMbYH\n",
       "DzCh5RhpUO1OPDGItRD9fK6ze2M1JylIBk97zWxZLtvJZx6kifkLxK1AJ4/Rowiej4k3MkP0hJJR\n",
       "DzHrhnm2G9UO1FGI/JKOLp6q2OOBE7C5JONr+nWSvAb1HP2ni7s4uEm2d1sn42kvaxqQHDrOiJut\n",
       "obR27g6m22wO4LLVRO0mFDZijCsFywsHCXybeFX+a1gWxNUjIIqSAj2EJURYSL2g0GONmeXOKYLe\n",
       "fp+mv6t9/XLyM/ZLTDFHyIz47w2ms8wAxya7gaqBJTUlTKhe4LmYJcqW2fkukCppkKwa4KxqOhm8\n",
       "VCW6CU57dkeWWSpfi8WB8Nml2u1RaXypFQFkpzy2w0IZvt2e+y4bbzH3Sq3+lq/VTCojZr8avXhi\n",
       "bGAVOcXjafzGgu5rJ6OtIhQoIO1HEfM7nE5KYg2w9KNl9MEufin7ylEAAjA4WhKftFZWpp6nW2Y8\n",
       "T8UpV4i9fv2jMSdZeMQ8KCWgAc0y/43utVGxSsJrENy1N2nelCWq3ixg4VdiXjuQJyyRAXdfD3PB\n",
       "VLWtyGEMYFTpDZGCPf8rKR3UwAFpqyGI6w/HPyFmfG4iJUJpazg3Hzm0QyOFfAO2ukCja4uH7zRg\n",
       "FNApj/s2xySW57uuKbt/s5Hn04WAewIx9lR616uZN7rU+tuQhirk9kifcJ2g/MVn8xyjM9bsZuCD\n",
       "97lxOmCJ08hi+hSTRnwmA82Va/in7soHpOLiV/X1rWS3Qkb9LJTzXa2unprdD6mChdQSyZWAq6Q6\n",
       "A4lfVQGuEhdivu6Gr2aZOJreejMEvsTWDA8nhMlt0fvKVOIJAiAqmECJvP0NgAEfz+gzbau1b5n7\n",
       "9NubeHzz7KFP5ONV8bPK8E8fIz1Sam/K7zlL8Cl4M6j1NlSP3uI3bnKpEZZ9Kz9w17AwHE/I2DFQ\n",
       "l8l50thaOorjYiForn3s4C37Z6maFeYnSEGOKXT7TOKTigjeqy3T9iaBrS5f0focqQCHudS0HRNV\n",
       "HxHlL1doHWv37SXo3DgUKMktgcsvOtBBIWNLUU/54ZFq//Aw5jT8EEM31YIqipXuxcUfOLTZCvZ5\n",
       "mUNreRUBoAHxpagAqdEm/6Wa7HNzq4QPdQ+bUFFRJezbuD8BLo/9L56TQYZbG24JgI1mwSJvPmRG\n",
       "a6G013OyOufcH2rIYu2DIqaVqxHxZLRQDU2Yw4vNt7gjG5snqun9l7aJVHqFKvR6769urifGXC4f\n",
       "WhUGglf6F2dL/abUFewkMRIoMFiW+fL1wjkILeH7J+QNVkFgi1j27F2jRn0skt+OcxyCHYkI2g/o\n",
       "JxlQpY0wsSLNrVAkH5IREP2+/AodwnFwMAERBu96U3o+1ef1fuzXQfjNftk+ghbHfDXll2HXaZ8n\n",
       "gH0DI/ZZ4r/D9evkMbg6cPqfMqYuXJIVRGwjhBjlMi65XmcetijE+KWLR7TfYrb2jRh83odMb6eq\n",
       "qX7wGTm1kTMt+h+uoGyDfAcrM+kMApHgpAuiRFJ1oTPquzeg+dn3J7/bXAysWY6oQNs4vc5FQGZv\n",
       "PxAM1bK1p0lvQLvjeGa3dyoixWuMn25wdZCdzmwTfqtXEpR0C/651hBfp77bdRYwFZo4vIHbsxIh\n",
       "TQuJQOnRAmmopccnn00b+uUGn8qFSD7qLIdg9fuvMhD9WKc9BpR5NeJXq3I56XYGUUOzmnmIoazu\n",
       "7s03dRvA2Z2Z6Kqz3nvXEKrqj5ezaIPJ8zu2r+P0WnuaoVEmwS8f7cxjKq5pZaF88DNypdqFABj5\n",
       "saQL8zqJg2z5bgzLYjISyjXzPtkOKyaH8LPjkZmTus53sSbk7liXQTFFEl4/I9p9fO+Z/3lXf5Np\n",
       "jiffT3WdKFWd2zS8s3z379XPJmeAhoHjnjwdbbRxHxlVzY0V0ToQgkzR4Gi0whQlwqT0q58r+fGD\n",
       "XNRe/xFRhMYe1Igid1dA6qYeYAQzsf/QLvOYCOsn4RoV1s5Ztv1rcejbyXsKnLQRjAcTgOn6lwrj\n",
       "wczBnAsBpfLkg6InRdL6tWSgIaG8PQmoGrPvcV4EwfXlzlxCKP4FGZYWkC7XjRwOBvAJm6KEV9Sa\n",
       "3US78E5EyfCYVuSxHsU2Yp5OPnj4T+aRYJUFCP+FA7U6PD98JGJUypZvjakWAnW3x3UwnuKXY/FZ\n",
       "UmGj620iqObO6WXZwwNQ1b5xr9vjDcedBTIbPfI2BAGA0llZ4c2BtLFSn27bjFz3j/a7mDrGNuSh\n",
       "ULE/0bem+70sHcvtpJSPAwOB1AKWS7r9VJVqdJZqJUYowYImopN+8ygBkVqGItsHzZd2UWy+faMP\n",
       "J+uRUcP8CQxaDGgkYaRtCXSUE/TmoDX2c4XdgN994coLwyA7uTAyd681KeYrl101g9q5q1RajB6w\n",
       "7pYnjVksVfxon7H5WyFylGehFQyphuv3QqXH319K5wZLyBDb415K2hy3v9yNQeTk0yexxwMrz0D9\n",
       "vwSThEyB+bNLkrcR/iMT1Xf8NJudFCfKhmewFjMuda8UB+sbmEE9yT+CW7IRWTqo+y2jj16IFm/S\n",
       "T/NP6dVryR4Pw7fu0D6I0J5LvgqwvZs4dNUf0fFSAwm0FLFiDERdwXDd2iESVwFLUmArTZIQRJRP\n",
       "WcPQ0t8h51dM1kA4b2AM9lRzsayi0vq/jeloQ9zd57a8x92cRAj76BR7uSUuzCxYeeR3CXWuvtWu\n",
       "JJhzKHCjP0QU90DhhiwerUQzvwKRb1MT0vzWTOqtMzu6FuPOa1d+AuK7HJfLYnTsNVVXTshsTQ8e\n",
       "d6zG5mOpST2NBEcsngN+/rzdrMnuMpVaXPKyiQhimk9UNop+ogo5o4/PS3hjLeREotF6KCZjz4rY\n",
       "6QdD5DH6+uiEN7LZyomPuuAdUBfKqH60RyELqQ9eqnsMPf6hn798NR9LqHLjHorqmGrP8kMP/Mem\n",
       "abEcHOWHMOiJw1sQbG87xz5B4wkLh43sG3sLoAztP3zqaEK1N1xncaprQC61699hoDqoj5DA03zT\n",
       "EqN9mS04DqvjrPhm2syaIw6NdDA/17PeFkmIVOb6rJCq8KiC4gPJlii0jJ2Y3HF2TWpMs0MBRqTq\n",
       "AxlQZg+/h2LmAMfEOvh+R3PXWtCqCDkXGHSZ+rMmdmxI+ZKuCjvqpW5ubeE9dHUH48tMTpxIylL8\n",
       "pl6SjQyj5/S3LuJwqNhtgYuJ3A0KOUtcgrBlhkHud7HLQGup2/HZ4xjsHtYx19GbB2tJTwIckUef\n",
       "uITKi6LOrZNF9QkmW3Nrt8HLE3rMqMZdCZAmjB5v2WEpSG+PzSbpjxqnGThFNBV65wmjlibxzM0L\n",
       "Zf5nbsO7s+W8jOmA4fW/Bpdg+UOQqN+ZFhBVqSwD8CDdfZwTl4jj2ET/pCLxv80MSycVlTEMHBje\n",
       "Xo2YES+9QYqk5WRFejstYoJjE/7E4z0NGV/+qSrMhdAX+gXyl5TWGakGqPW0/iiduRy4c5pRAD4D\n",
       "gqypB3H/g/DOUiAvfMX3MenPCcbEUwkgfvUSULiypA7Rm1K3beQuOTG+kAyouwIyRaEFbqUqv2tl\n",
       "DshtUdpRz/iQDBdTRPLpLxYzYzak2YpaeIYPEdRgfJJ2F+y53eB46uFOPUsQAeDnSrr3UuOwR3GM\n",
       "cMpzk9g1mey+ph1ooQHx8Yyau/s07mhT+I/TKUjWPwMaFD2372KHYOM5o6nVDyPMrAzpuvYKah/p\n",
       "HMveDIRwGuPAv/lLK+VIHQZHElpgC49k4kfWIxyAePe1VAoaiU5vdkCEEpa30k9dHwUGeVwOo0JK\n",
       "Ri/5OveiWbljOJ0frucX/6DzcgI1kbzrlNjSo3CWe269YmVYJJIJySMtO92W6aCwEKHsCxw+E/EP\n",
       "kmwWXztJWpSCyLL2HZazAEoKPqbA2rilZB7d2R6RA/y3518r+CQMdoNv3CVz/Pqy+FhR+Ipzcdcn\n",
       "iAizUXh7yWZi5BP1rtcBnhubJgwkZ4AVvv708cbsCxNJVAJPDlXxacokp3VO+NBsECKDA08qs4eO\n",
       "TXdQ9UEF8MAyFWN7s3SF+XV+b9t2zTGkODG5FdqQ4BvCgVC5puc2eSSh+/DtcpWNpalHaEDNZDw3\n",
       "/5fUdoYf/dc2K3UeHGOiqjFtOIUc16zHqRksnUz8AJdcbCg6skZI+9EYscjxue45M4rxm62K7niw\n",
       "RlBTxjXVGgjVQGvhRA8ko4BDmVSpbjje6rBnuy/BN4VvF75ZnpdVaRiX3pXnPiZ3ZdTCQG45z53B\n",
       "jeh4nSNmWNy1m3vCugtzwfKle1MHSguNBmLkpAuyfic6vod3ZfThhgSeuQk0d10qWjpFWrCIE9V3\n",
       "+pTRcBTTptMu1GOy1Cslj8jfsdUtTWFu7gP6/tYPhDA8WpYf9c5JZnQAzysuyC63dzSnahiADstU\n",
       "BHoKCSurTIgcC0Qu3sedrJSaKDBKrow+MNofCdC64e5GFg/aiU0VBNI7sJM1QSXDsBOEK356Idcs\n",
       "0hfYb6OLHYY9LvIUIP5uPOwpEi8hOYMDr9z8ipWoyH/hzPdGszrKskeUCX/QdKBAzpfG+xdfIdWp\n",
       "FhrQpqaj043CyBpRY0PZpwfeRcHab7B20/oExurqiR40KFNpUFCoIoK8sQnERo6GTPyDpMpt3vS8\n",
       "oTPAOKPqX16VtG1iVdC7TfCxWcKSZhr4niysizrnX0KvyYuEXIZJvqUKhaQqZ270ES/GhiaHW8CR\n",
       "6vLJUg9XtuVbxeOgGMuJyUA9Gz+67EgUxoS32l2LXNXcntCBKA2V50bK+Um4eOkYWhenLQSLvrB0\n",
       "W6rhJwHMlYzLbSWx61H30xHdnxaDzdoDOtLYOOkDmqM4fdhu/WSaeFrZ9YwVyD0pADQPMozVT/Al\n",
       "c4f7LW98N9L837nTwUivzuCPeRQ7LkJuZRtZE1Ml2CLLxEtiK5veaMIYeM4KQ79uhBY1WDWuQGJc\n",
       "EqXu9MVH2TSDVBun89pn0aEgk9Eyy6noB/3wKIZ1m/xCeAJhoRWo6lhsk6zIxmFgsz7oezeiWCf7\n",
       "C5vWluS4JsPm4txqkT4aFW9kPKOT4Po8NXtHyA6fQBM8NfBie82WSi91LpxlVVtx9Xq4FZynzVY2\n",
       "qbAc39QpfgQ7TEeSoHwnSbzjKCzuWJk0YX7GNz6Vm+/LfoJg9ufP2rifYxdFT+736P5LlIQ0dud8\n",
       "NBLgZcoPXIUsS2mrBn38z8PFMC3HCCvPSGrWp8C/s7/9J8qbPRHXji0MYrUIz1/5UoRDG/41zZfR\n",
       "sraanF8Mu+yKUOMg6weXytBTo7cmh0uTXhoF8/ebPJc2r35Jq5dC7C1oG3g5OqEHtLKOsmktkD/d\n",
       "7HRrHT+OenH35QQHZpFvqXQNdYZnEbkvNHLCFgnwwOnlYIFych5Ja4DP+hdaUzedjpODMz85bWgd\n",
       "39W50JIx+BIw97TpI8M477rXvKaJiRxJXh/EOJoGf4SmyFxh3kn/fmgA1W7K20Rmi5dGbxiW3Gxq\n",
       "Xi8RwgeXcf9Xuz9Amm4XVgOHrMcYOnl24HG+jgs1VIx6O7vWEopIbTAYmhSWvCqqXOZX03RoFc6G\n",
       "lAZ4bi+dcxwsbWwXEBXKTbBwitFl7jML6QaCUnLaTjVbOxmVNyWi32z+lbrbtoH4TdPDiTmMlivz\n",
       "NZWpPFudYrGQzKgPi7Gt/0vp6U4lRMZD/Bii4guw7ydC2e412IBPXjemlX1pNuHmAW2kcRgldQ+9\n",
       "O/cKBzWgB/L323UAY83GPQUoe1+rXGf0xJT9JDh+Nn0BcLhbpOtZgYkj90HFb2Ut7KyiHRJ5GqDU\n",
       "iBGM+9LbgAeYyJNoCM3mNXmNhCswnZXaFpE/ttEa9gfOwVY71VxBSom8IVD/olwL4jPBOP7LbNbl\n",
       "paHc65T9FwEW75lq0LCSjNBNgvzlu3YryCiqPnkLT/74uoieFnbITbzP9z15iMN9KFIJhVJ+byBm\n",
       "dFd95r1jDuLNuK0d9HeTrUFrjf6eJxTnbwVgU3p3AaQ1HOocPVJ4i6VF0UyLUFZKs58Yqi26T8Jc\n",
       "+oJlkxR0kE51mv7e0dOajReTh0yl5Zbj7qSuA+Njq3yCaAu9JzbjbvByZ/M4xIIIDLaAq0Mb+iY/\n",
       "+/iZmb0eFYco9flyed+NlRRM4GRPLY7ewqBT1mdkBF/L8IbkmMnKw307BnYgJ9FGC9F/R/ooo+l6\n",
       "VKweJQBU2jePWK3kPdghbVL8GLfe8OL0oToH23C30mHFzUi9w1LvqVLcR60bCEdT8NSGy7df3PKK\n",
       "7q1QsDV7RB+HQLGL5EX3GYfvlhrRhrhuaVzQW3DX2+ouS43Qc+Cxtns2QFyc/7xUrT4by/vvwd9O\n",
       "aensTGaR4zeMcQ05ByN0k2ZUt2AZRnoSFf7vuEQ5EGrunWnFGeE7/4NuJTWB/9geu3xl1blCJ5Cp\n",
       "SHwO3IgXhRZx1oSGzkvr9/Ee3ldrlqzL6aBUaV6t1aHSyzIVCJFtrvl0xd9cLoCDMdEHrDYP5eYH\n",
       "u9Ofca6FVCNpxECbNfURKTcJuAOu2fTRFiUICzUvYnZK3rW872ehrefDT4wgxK0U2B7SS4vAwxVk\n",
       "p0YI7sDnSYRFf7A+ZuPMsfvE73FHcr8q91OhHIQhV0pgm4UDqozC90Id/oKZxmz2hd/zaIQuPDKe\n",
       "K/s0VFoDGH1znFZKZEvzmJ1FhFnzr3+zPFgpaRRVI9q/Kc+zwzCuOzhuZWaROEZzolO/Le+0twvZ\n",
       "9bXPD3BP8FERGYwP5xr3/bu0wO8ARrfm9WAV0X6rLE0wOsijltYH1gklDgJIIIWzNDxKRajANQy1\n",
       "5t/8Ah8nGUw3s6SqDDd3QHJIImXogH0awY5OyIZK1JnfdlQ0RRyb/Q71H3gvr6IWprB8/jyuk3g7\n",
       "Vxc93EoYqsTar0W2bqQvwnQecNY/P/Ueid39Mg7UDUFc0CteD5NWfT3f+rBlyolclm1jIpygqToN\n",
       "XcpPAgGuIFwhFH/OtyrVgl+7VX13zojPwIJqqL0TLovm0iDO8ISFj2ZQ6ICVYHJMUY84s5rQoDBk\n",
       "f/0R9vRVF/lllj5A137BIWhF5MbXC+bMnOAV9h8bW9Yk5rpKyPaCQYuqpvD2SCaVfk0ALX3WiDXq\n",
       "25lFoDsh4CykpbzdwRc9eN4bdke8TumirXqZzM5DncaAdcZXpQ/HOpVK35+xEvMzBQFY3HxhXhmE\n",
       "NAM1386naCtLoXt5gi7a3EODyB2bsbblb6LbywLbUPSY4I8I9Z5qAc7wsbYBamvsMcJqDiHo5sEQ\n",
       "NSynzjp1XxMtUlipEu6X3uWtpMw/bHAItiH5XzsxIuKxFag0uGFNTkEFqGtlRxxooCAfXAPT7pMK\n",
       "B+tndirCaHY0tDU8z/4lSfBG5+FCJPDyduaFihrX5Pd9opzkzBLlUh1mtrbjLX1AazG974Fp6Y6L\n",
       "eIqmZpUWlcILWRrSmXIs2FBI7vsy44d8AYEl+OkkLOOGdYtafIkc5pldvxq7K/hzpWWYt5lzGm81\n",
       "6iIohQu/O15c7qAIeO7AF0Xiylbrg2P+gMiF++1beR7QBbHy9e/o0ScGFUWNAiSDtN2sbgwEatQq\n",
       "bIravjAJJtkECb8t8YCGh6+QsahgfOqXFI4TAPxrMw6OS+3zlB0g/nGrUVijH3fzojfCABlikvL0\n",
       "a76MKwc+f/7vaBMx0Hl4ThtVyt886bups4TBpbUPd5qCdgU0wGNM++a/d300S+tux6dBJYUp24ZH\n",
       "0/nVC5tVrie3ZmvmEdVQ7rp+Ou0vi0Z0sponn/bsDxDwdGlZytOJf03PEY4eu6rKZN5E4kuH5bGs\n",
       "RwJ9hOEBVdTJr/0I9P+6N3CgCBVPDuF/uHuCYBizho7L661bqaY8PyhnV0jdNsbygflAoA2O8FVc\n",
       "p3ZTeNHIdHbIF27Lfjc/IpJiHxHfQutrTdEpzYO50R06Vm8aG8LGqkeB9gQAj5V5zwAPXp437Y3B\n",
       "D4fg8SDFiXP3GKSFtyDyDtmvpq1bvIQ0rWEaV74OHEkjfDz0o4usw3YLdrILlMkl94dUByYzMNEK\n",
       "ehqZJNVKhATXuKyvpNfHhi3KxZZkgh/9va5DuKPXqJgR3vtG9Ej/9V5JrEBkIsps6/1snDk7x+3l\n",
       "4DGJzt3fjRa0tzHPloizVFsLXJRb5frhqLCWE6VXdf5swLYAAnYcBb2S+o67D+5mDpLhZDCXT8s3\n",
       "hK7qFcgmwLZRWE05Q1iL4LPYvESMFL0XAbHiEtbAN48YN7iEMYhbVQDwf/VoEv9GxUf6TR9lLwEd\n",
       "T6+TUjiETq1jknzG0wiqPW8EzMZMSyFKYd5r4MU8GWcdHKRC4exHaAl5CsMYowjnp53TcF3Pjdal\n",
       "AAAGUkGaJGxCP4Mx6tShlhdHJBPB09sy/Ssss4Mgfg3wpmW73yzmGvVMmLE9hhArPoTXKDday4nK\n",
       "zSNKtm+WprAS/2SNpvuWTd3PaRHTIh2WvgIeOQx7iFFuBwFMFwcdN+Fp0ZVAx6lIAAMxhbQ2jZ8a\n",
       "G7PEsff4uhojLs6Z+APEe1BneQqPIYCGqs/lGe/YJmLvdnAB4jVF4cvdsKh07TL2qrH19qJxTPA9\n",
       "1iIVMKit6KS7O+akr4yJzTlCGILkl4T7n8fXE7Z3dVJMMAuhdetklJkcS42EFxhUIt+dZJjOJ6XP\n",
       "/NDQ7DHMQm9ZThyObfvROjmCoE0z6vK4PHxwLwq/6JdW5N+KAOWhXDaDjMKtqdy1sGwWWuy1ozY0\n",
       "5lDA4EbojpXv+o/LeexJyKTYki2nx2UmgS/VHATJzNPktwY1XdJyJSXaK/AMy6rn2vlOgxO/hyJZ\n",
       "JmPaRxHjQByRA6qwOUNwOr/rD7D3C/+DTXX2qGyF0MyGNj31MmyfMiDtwPk7+0yhWgJLSFrrpYXb\n",
       "p3Lloy/GG6vTyLFDjFDDveRxdl7Q4k0Lz1k49oAG8YG77MaLV8HOhJxbhN0+r+7G+iAKRqNCMFC+\n",
       "i7Hfjmb+NlNf3IyNXRba08KDdohFdhCWobVqmGJOOrpYltAJCTkqPqhh6jpMqD1GWQHGbQZnjlim\n",
       "W8ZXA98u9NJBSILi7teGR8A3797/37Zy1FbZ4EiIj4Yxl1YSnfYhdUdOeZJXPKLr8O15O55VXTV2\n",
       "PTyESpo8f4uV2xF03gMqdRqmq3NrPdvv89g/dWso/OmAwzdCcBz7stlzNqS1lzkxCe8O0zzQBeI4\n",
       "JpIwyXaHw4b2X1Gh4BhFQvGt7aRnTZn+DHDQC+3Jp5ArQWwyhOBVGpbiXVWfnd0s0bE1k7V8NrpU\n",
       "w+P4Zpxe/kRdOsEnQUhzThlHgrBTTu7vmKXXjmWSqZP7fAb1XgvK2Ox4eUShldrSTK9CidevpeGp\n",
       "yStNS+U7eFylAOCtt01HHOzoT5TYI7XQNX3m0PExbY8VbNoYxtaCj76nO77SZ/wcoc0CB/B4K8Bp\n",
       "RGpIe7V9WRqDimzK6fQHj83s6vcLSlWf6WuRkSbmpG2AeBPrDFVF/l3umMMrgf8EuOdk3+42/EpM\n",
       "olhKxpeL1m0pLPGHkn4QP76RAPL7oI648jm7n4Jeae0S4LUHCAhU5N9lPiRfjPRhnGUWZcLZPW8u\n",
       "QV1nmLFSU+5AIpigN+GAydqRdNbPJ1dQR95sU2MPLn3kdq5qOGchb7EEWGK+jqjQP46TcKFPrSiB\n",
       "m9NqDEmeYGdWA1JhOIjsR1dgkbytVs8cHVdHckrUci7iIkSlL5xtPYzOKSVBylfQpMMuKDNVFF3B\n",
       "vGfn+WQHERigVxuIZi1ObprBPIvLltMuP0GWe1Ae/FXuAzstBff9zdBJQVfk2/mFI35oE3OM3AEF\n",
       "ySl5nbq7aKyFQ+oo5Itco07AJLlwhQOn78VTG5qP7oAc6+tCv8MRrc4XyypVFVYZj8Aii+KxF9+7\n",
       "Yew8yEY0ytgY4nAJsVL0T73NmLZcIQrbM0wVlEVJuVH4gNtEsZbimEfr08vIae0kZ59emLCvuNE0\n",
       "05V7pQmpel5qGM4EfS2NYqW15zNNSiYttedCOdSnASq4p93Lc1FVA3qc7A1j6hJ6m02QuyDgN++m\n",
       "T1g8GYUBr87Jpe++tTfBasg1rYpdxMSSnFY8GrAUvIvHGV931b5b8tgNvRVIAU4XDB5rBRnM/7aK\n",
       "TFWygf56kxOQbqeZePQgUjJPPlJSSTS2xVHztN7efjcHG7uYP36CGvTYPxkWtAiKoXEUOf0ltEFn\n",
       "AwejHzQfmw0m9SLiwGPoJcDE4XLch9Y6ozoSEiWpGkngiVI/ytwDhi83333cQ0oJgNIEZfWhtdpL\n",
       "MpBb7fgK5jx5zEGE5Ijc73iuBsg/8Aq9WD3dmbg6mBTrmh4n7oGOQzW74ipFM6RwrdSm0VqoZ25b\n",
       "VgXUzN3TMtK4/0Kx+f53QHkcA5Br1UZAqwe+JaLdsa1w+wyGrpMXlImbKf0WWJ5CkdM24EF/iTOd\n",
       "/yNILBsHnTDAsHVY9luoA3rSfoBnOnZHa7xKKdHxliD5p3wFTkVjjxY0jqVBc8zFwbf4Hhr4JvsV\n",
       "sO0/e1/k95ZC9c2cpufN/ZtgtUzwUUCOIZwAAAGJQZ5CeJ//9PTu0EwSsoOuFTqSf5W53PhYJOE0\n",
       "as7WSNdB43lkOD3U7BnsdC6KneKxDgjgCoQ442TSszY8aPqr5IA1OzfrGQh+lG2Pk/dhAWTd2So1\n",
       "xUD+7d8GU8p0FtFSrKN8Pp8g72kjSMOO3ejekO8xL7E1W1YrwB+5Rx2H+kuTgAmGRO4lWa9SHD2q\n",
       "Tw1KOkDniwFu4dfZHYoNIkZ5sWJowBt1MOG0xqikno04QX4SDvoyJWta43QsO3X2BDmFIbsBEEu+\n",
       "wFiJDctiJOrP2//ANw3Tplxuxe25aqieMcwl5PvA4Zs4W3ADoQEwvUFnhMZzeOyoOfBVEFdxvJch\n",
       "DR9eGmf2WVK/j5A6xf4vQWLUKU2TB5t4jwGGCcytCjoqYTZUWcMd9RyuGgoHzB8rXrbNMB56PifE\n",
       "m0dH1Pc6HKPmx45SKLqJQ3QFrKKe32DbV4cXqivxmEFO003yQGLlOhehc3JmxEirxuk/Wj2hgPt0\n",
       "qIaO1i6qMFjTjWHst6CEIcggllhSTlOBAAAAlQGeYXRfSbjppKMjqu6k6A0JElsghsJQ6Cw3EbI1\n",
       "J/tlVX5X/fB9CFkUuzJqtB8LZHDNl8lqNYncYVbSvQvZjmbkDsoIVXHNRc6DUR0BHK/aRzO6HT8y\n",
       "i3WxedYbk5enYB1gkrTQVc3NrLwDuQy07mVM3aubiAyORG7cYIVXzV4AXTv8UJoM5xZK+ZvFZY04\n",
       "M1Doz38BAAAAugGeY2pfAAC9EVu52p6T5jDWVCMf9U3EujE7og69elVz5xb4cceALddTOFP6RZ3W\n",
       "Fz4Xv6hBN3uU8AXAqkQ1p/pUAlJbuRvz8PpN8KU62PTnc96Erv0I39UXm0AGumN1tU9/rSzyjE2F\n",
       "WTClIrmHMzQsi9jwLrRf72JqKLMPLX+JGan37l6O/TcrmeO0PiP7oq06uX+Yl8CWRN5vGpWhct3X\n",
       "LbExod7eZay6RoQxwXubEbK0dSZN+EkcqQAACA5BmmhJqEFomUwI//y2VVsq0qgXrV6nAfRtZnTx\n",
       "DQwQPiW2x1zud+LuJWlRAz+2cjlHZO4hNWk3Ybcax26MfV6KXk7qJJ6dEYRVMtvL1ASgMsqyKDD/\n",
       "WIsq0SzWD/GKaOi94rAZQa5DgOB4KIaQVGjRHnNt8pcKXpSd3FvlcJq/nXKmGEZIFzKEdR8QkyTU\n",
       "8A74KBnxMkF0WWVfk/CQtxjdUjbSw4Flg8joKBrRMl2HAu7QTbO4BGxaYbA9MIgn9nKwcG4slgHr\n",
       "R89q7nf/MATfDlOTLziJHLo82xuDFpDZQ5PUG8Y9Ta1OOoWLEM77SdyNF5s4jlAD+jukklaRB/Bo\n",
       "gVKumYsKsgFdmhzhxhQ1am0f67ei7pI392HJ85WXTeV4MAMPXddXm8VkTNtvjojccFtOgvZo6gtB\n",
       "sixMiKUV5Js2bUO23z6eKLOOxlUcN9aNhXcCdwNxzuWvRs6jmlz5zgcrrPMZVHYZSlNKOUEU/4bk\n",
       "qG7yk4L0UViLCwPSQcy9r+XLq58SJcKt9FmIwDTG+9WhCc3C6t58OJQGrTs9duc7zxv66jm70Jyz\n",
       "SPkKWJm5WpK2w3AGV+iM3GOck5DWFa/PES2WGgVfJrZpEq9ePmJ+bQoMwycaK7NxohOZoMyra2Np\n",
       "0LB/t3rb+ji9OJKtZp520v5ebVxlY5NkIovXMDKlskFKkYanirdS9I/vfGPzpJDPYuzBegamElCq\n",
       "mRnvgO1LilzpA9aXKdsL1bW/INCOT1mXQcXgxmisVqpe92J29yKLglF/RRTrI9lONN0DNpML14RM\n",
       "0Wol7q4Wgo9nwuHNu4WVncjZp71+Mqnh7jnlkkQnomomayiJryq5fFGAaKgeUAN1hToH8ORjcI3X\n",
       "U1QP6olGKK84bfCIlQqiOrSaViaM3DbZv4AMrE+V0hWX6pyDWW+p7LK3bgY9WGtG1aWLInayhVfi\n",
       "tMWOhopdy/UjdxolPm+skP7Qi9hPyYbMeqxjqIPySd6xdal6s/m6JVcVW+jB9l+tzoNLywSuDkTK\n",
       "yBLu48i4kRJuXRBJ3rR1Q0+j0QwnEpsnUoKQiEwI6vVe/R5aVokPUQvmuRFq7JM7Mn4xD9+Rwp3a\n",
       "DNiR3FTVHnO9QOs52BXJtyJKD+rxZzZAT0PkB9C/QSEaMfoZxzw7SR2it8srJfG5o96u8MimrZ2+\n",
       "kOPgVhz1ZQ3jctDbOo1Y2tfLWB9QgO2RL1XRPENhjUold8Yb8zYNzIz53sApxpKmcHlA3a5lp4sb\n",
       "KCRY1dX3PJgJDVyUkUbWwkz4hnX9+NrLGhYN0wmG7jtxKZ7FBg6606J7YoQxowttVc04avFi0IU7\n",
       "H0/dQ7potsTpwhvTOGo4LOQoID4Uy63tHPgYkHaFFkM3+TEWvXBfbuL4+BO6QP5afGi2ELkomwiy\n",
       "rrYMXoFOVpCDR0JhXZYQ7WKrXrYeWUplyy/vN7ZDPeK8kQquaemSx4bKvBw1lrRx9jEjmQw0ovza\n",
       "drnM+we+DUogHcSw7+0m5GncoOeiGF7pCmQ9izYhSlbMpSlYC98204Od/PCcDxis9Hn+3N6n9FLw\n",
       "jz+OfX1Xuigpu+dL9Q0kxsAgbltt26u09XZTMj5GF6IdADM2uf7CUIfpUveeJTJgWr4667g9AOBJ\n",
       "r6tU8Jyu6LufLR2fFWKwXy+Nmfyn/owhdh4hE10AaA1ZVscsIRJ8dVZoBn47Y4pPB2vTKrqDPSOC\n",
       "+9VrDsHwZ49hB429SV5R8VVJu964IPNt295RdVMVJRY7H/39qIGjVLp+2RUCM4C3OitFZePL59WF\n",
       "VrXVVpZoDZvyBpV9RNmaOfPJkGEhDfO38iBY9zgCwr4rUwGO48C4sTkfb0A3mEDfsLicAVJ+jMy0\n",
       "jh2OMNHB+eTt1fBlzv4zljJh/OLmDrlQjb3+8W8zmIv9vcJC25lJYmzVVdivXfq4pM1QePDJrFqf\n",
       "hI79+N/ciC04D3ZvXecBoOmXLebg19BpSWM1I2EpEVZvcwcGmBOJF/9MkfYuKMczIQVTmpIzoPSk\n",
       "LKPFhYj8NV4uvVd223GMQb2t0HwcLoogO96NEkZJ49vbPkg0EE3XZTBPnkDeB++HgvQAZwlqrRlY\n",
       "H/t27dfjM7xCnh4XMZO5VLfdTiWcLQ1yqHyujG++DDtqeN0TFqPVvV8NeWL8HIH7H+rEdtKhGS15\n",
       "7C/089BNoDwhnR8hX4Y0kbd/utEgiWkHZmg0fcbbAGTB5FFaH+J1WDccMXCMs6MMUdmB3Go/QcoY\n",
       "xaCjYxs8Km4xmAQM9vLhHz3VTvV6AFh450a2WZ2FlQASwuk1dfunMjcElI/epD8M/VX5HJlPIX1K\n",
       "r9Wqs5LhySZDojkDof62CycPbU9pSGQMAX4vplAME7AL5j1F1b2bzItWV2XN4KMzqrxrKwiBbNPU\n",
       "sSL+1MBsXQAecmYSyA2sK0mcZOuQM+4KyBWSkVaZvQPtbTk7mvJ715PbLGv7butXaVehH/bQzy+Y\n",
       "gkiQGsD32htH1+maMbBBmV3IuyvmYXbaLy0TrhtXI+zLSOZJMEI+XFerxIX3VTLgPNTmSzNJ/dqG\n",
       "ZgNoIrLSPavBSSiSAeHONTk3j8ddK9CYSc2XVuttZ4TZtoUFxYR2ZaIdNA02S3ldptRu8icNa8jS\n",
       "kyG0rQ+LS3IDgnduBygqUOwFevkLIdV+D8pkP77Vbs/CPDW07pZZsitOlBxY4gLdVwxRXFFytshb\n",
       "T8V2iy80qFLtDHuca4yzNcNd+i1xCOs4cyZt6g9Lu/TUmRTLMF1BAAABvUGehkURLP8G5djVhY+t\n",
       "X+QOi5Ik3cLap697KSZgHutxfwuQcLKgfAOkrQbvEdJUoEIxl1jgcXe9i5ZPOfoVZABpAD/M4wPA\n",
       "KKsTp27lWUjyFaGJ6rUX4RBS1KClSAlnq3rWzoyv6D9R0srmllUlz0AOSKHPHMW2BJNSQ3c8p17v\n",
       "eqf/rkICE5NnuX3Vq/174UFaxOzAv1dKSI8XA93gSeZuRYvUXQljb2edsuqlamSoiOs1x81BBd+o\n",
       "ObJmfX99lcJmuth4WSWyNvo3xwheIEqrA6LYkDnzHAsJOy/8tjR6Bvme6mDR0XVJR45uf4CPqYlJ\n",
       "3ngs9p+6zoSbmAy2BJZ9GV6iw3/rjSt37lDMc+d820sTdNskRUAjHn4zd9Ldfoa3u6UQK+kHXc7m\n",
       "vxl6ChgXAWL0xik2g/QbmnAhssHQAWkg6pCB0APUa3rmsGhMchzRrGzx6RflqK3i2/3C24QeRQNE\n",
       "plPkM48TR2P0DoeW5QS7ZtP8XO1Nk6h0Jshd4Kdadm73gtZimDaV4/wyIsp2YFjTIM8qgoEDh5Sx\n",
       "AOVIoaiKBcsVg4N7j/IRiRp8zdKbvFMPjw/FVgPe2UEAAAC+AZ6ldF8AIzdRdDcAfM4VJuROYJ2E\n",
       "uyB6Tz63ZgwCEoSaa/6KigC3/a0hZ9zFnJJhngq1RREB0V6YAccB3Ij52wWkbVL31Rd1Tq7BAI/I\n",
       "QOXxtOO6BtvfwQ2z2F1mn6V0tMU2Lu0k2CcRJLsnkwRaGhoRnF5tNphC9VUQYVLVzdFoVk6UO0O0\n",
       "JKV0Px4BivK1WiD681KJI5TxJoYi9CAsCeDqr1sGA/bGY5vFVizjxFuohmypSCQUMBtbdUSnfwAA\n",
       "AOQBnqdqXwGrT2L89zIAbBJfhO8nfBwzdTg20kLeAldue2Kk9dIcOSbIkSZkDacrfqT86X83myNq\n",
       "pzaAFwDg64J0ViSvSLG997XEQYNJsT7xLbbui7s6s5uN1Uj5RIhP3EwFE5vkG2rud1tHhJ3WzHP4\n",
       "jTEa9Cr0jZFQQaTkpXs9RL+cIXGFERYyZhUFFok5uizP/XYKO44H0TZ2oiGuj0N7sH6B4Mx7QcFT\n",
       "reFwfKajZt6AlVVv26XURM0Tw+jIRTugLN1puuMar4QIInZ6tyPZeldoiaGH047cmkDsKT/YMyHB\n",
       "4IAAAAjUQZqsSahBbJlMCP/8hwI4f0kixPRwgBy5SM5tLdZ5OMyPu+asww3ePvmSJJRchnXCQNc2\n",
       "ZhPvR3lHe3T1tRSUwq2tK8s+7Op8Qx8khIpcEPJNPLBKDuUE1Yj1c9exmQfa4xfsi5iidEp5N0cn\n",
       "0jRimd3FNbtmSd1G13PX/Kw/FakP3Tfuil+NbwuFfwhilAX9pSn0uLjALzZRpMmDW63KHfo8KVHc\n",
       "lb3rlRnAcPp56FcNrT6gvfu6/rSxWujjBG7EgqIBnySTiv2nA+vqYhB1qhtTZbq67yQ259YriQFX\n",
       "zfZjELxCSxUv0gP0MnBHt4ltGXkElE8pgqqiQ1EK5Ax6KrmS6v3zXmy/bsnwjJ4PNFsln1GveF+Z\n",
       "l2b39V4Qd+EPD7v4uAQtIaqdZBibE96djtM60gWdIY/f5G+WC3kgOcq/dQPBYENFqMHcQpqSNNeq\n",
       "i3FHgYomE4yjIk+EyQXMjAJA6dPeFRtacnsNLzFByeaWSRK2agKHCKBuKXLj8mZJto4y8r2Gkrnz\n",
       "Wo4rJvtqKT2GsE9rDdmwFEx6E4XgRb8Ys8LqK1G6BbgxCIC0bmkldP07b6vPlKnf8SKvUZkcO1a/\n",
       "DGX5Q2vURh0SZweMa7sezmfTRf8E+xqJnuMvb8c66wgd1GNd6LIcGqhBaRbarDFtqe9XizKVi9CZ\n",
       "mnTjTyro5dc4fwBze+oK0od+VTzp0UiUwXMt8lMCD+gC2XLWYqWDAVPKNZSUwHWsPO636h7S+6Mn\n",
       "HmT9OUEMhFJPw9VaXqxxCAX9JGF8SsZmj3ShiKa4SG4XbJaW6U3RqTe78qfpsatV9xaDq7BQC9pi\n",
       "1zY6U0o36ic4FlEL4B6PsqeB0xGx3TOtfAJ7OLRfk0+iH4xpGP/D9QdLq5wuyZW4N5KDym8Ww69+\n",
       "38kg8I5BuhlBJaf0JjH3+rKBIJ7CEGBTMnAcM4MbfX8dkuG5I3oW+nSZyok4u5qCB87Jkn6wgmzz\n",
       "jH1rcMUNQsns+9Wdi6JfdaHVtGhZm3VmXfStl4XLvy9IAE6lZJf1CueRK5eFaHe0bsmf8DsBR68n\n",
       "Y6O261VrrMg/YZOIdq/cqxKXZegt6Ovid2BV71ovh3bJTRFvaDkKbpg/WisFoQYKHTPSe8XQmy/u\n",
       "WOIwbVrqGAW7YiEpAmU/W1Kv6Hx2tSqK4nyoIiWcszH79o1DJj5ns7LHvNFo6cNKPG7GMAVL7joo\n",
       "9s+YXavWDhikbwHm/vZjByafv7K2SRUsQfqyyJmnseh4C01GbKJEeSZbldtlAfJ4/U5JCgktzky7\n",
       "I+Fq420Vkhsxb4HQ3bNb5/rf6yymoOPXB4RTSwjATQp/1auK4S2FfdDK3taT+azgejKdXLrLT+jO\n",
       "3SjYYoTmWgB+nbVVknGL5EGUhRS/BFH02rFu8IGLdJmhLdkN2quC0pIe5gcS7vBRh2eYuEkrMpXj\n",
       "c5zEHRczc8NiGRYcU/gYL31VZtuMSqi5hweMBvtH3M0cpvZiekeHSfGIXx8rSBBDIaLX7Q5Y9iNL\n",
       "ITaT4xY5zSAVgwPhP9UnN/G5Kt0vddgv8rKFQDVkiYjnzS5dodTC1CYoFJH+l+g8Pg+IBJHwUv6N\n",
       "N/XOVcD6cps6gwgk5wipWbbezvip9NbXlCLD4Oa5aLDTpv5Mgiqq8yO8X2srGC6lNM8uDmGvYqWn\n",
       "V0PMn8VMzzfwIGMuXUXTtYYwSGYBWqp6FWezT7RwFUq83rMBxH+WriZp32gyf1d60OUmUbCXtg+i\n",
       "LsNsTCT6gQzvh1g7G9NHPO/XEoo4EecZ7bDpxR7E5xquGIIz72VPJhiH9k/EBjIQUDeU7OeEGz6w\n",
       "IqziiGureRmFvy1gXKe8hKrWz6L6HWbX4uUxTH94jFbcJl0Jtf8JuYK27zYb/YFwT4VIpGiv5kEo\n",
       "G7nrHY12cY+2ZrhmVcsxxnhPiSghRI8gOnyaqzOjFF+3G4UGTLPAGY5ELd9pa+mviiRZwxYWnXwu\n",
       "PaLFXod9z4WQ4DHfgTMbz2Ohjml6L8G5HbMlL5zNCygPboiSqf/zgtM3v4M79lNQRTRAAzAudMDL\n",
       "WXc+Cnle4KFYGtbAM/0nWZVr4E2jPN6IQyN1gMBd5vnBjcK9OjH3wjrlUWcVj8g8T8MSy4ro0z2E\n",
       "ywdtbn8SSmeqNU5p6xnAefs0TeSvE4d+JtzR8gZA6LXuozC+1Zytj71iLD3aBZ9jrmvAhZORqH6z\n",
       "QQyRDvyyd5Kam0mpyYD5OoCJEyG2bD3yiXAiml3+1/QhQ1vqWmBgPKAefbyAPBWw/Wa4tmpD+0Cz\n",
       "QithvW2No60EKDIM5VhyypZVtkk72dMvdw459uqo0UENfxsauuxLpl0JLlUdJNI5mrkaxW/dJweP\n",
       "weUYsWgnAMgTVmQEKOrWSkhT/lxaOmq0enKg/AJhKlhpqr5EaAhhdwRi6mnJvuMgy6dmAo5C0pAn\n",
       "XQBPVLvYQgKJe6GuDHpTwOuyzm6JRWZrp1EMnzhl/5t4nKt0jxslqoaYuzl1AbWfGAUff+gQLzkR\n",
       "g3nHKKLE+oeRbEed3RtyIufZ9G4N78EEkWreJ0LDOcoS+r891qwf/kETh49mUCbCzaDbpgmv3hPG\n",
       "3BTxH31QmeGqaRRSQynWlePWI00pEdkAGsWNbBkXwzyEK66QirYrxq+YMe8lnJnuOcXrKDnw2CHO\n",
       "ZEfRaeHufGoLipoYuoIaFIsqgdrQZXQmRKKqmA70gQpX7k9Va1xKH7fFCtYv9Nc1aPFSzDgNSjXR\n",
       "ojDvqbOaNjWLHg51nJvnLzCuIlTkW9reBUeKZgNuEUoH2c9qRtvw5S0jBwJy9umZPf2kR1KgLFuD\n",
       "Pzg7fHqtR3Q+ZuALn+92iLxI3WSq9rPXLWpOqXJznthNaQcmM6Q3Eepal0QvIW0AVQUCImAuTkdp\n",
       "u2tjrVP2wbNWEE0u5D+CDU9Ix9H/KzWdma/gQW+SliBZ4RBvm9IUUXY964yq8OXQJGtCvaS35rbm\n",
       "vW//JTi+2s7eSKqJP2nQC3aDdcC81jawJYsJhaM9WYNNVUQZd4in1PriIAAAAZVBnspFFSz/ALqM\n",
       "raqY6wUIpLr3zNaiLtD0r6CSeFAZRhrh+LuGWa1CGth5wa5igCsxeEgkYowYcDB2c5nXTYrwx4+p\n",
       "ZG5JqaI1chFokCL8Pe+fhRUwaQn+SkxADOe6Ru6thkKHS1XY38a6OppAqGE9DqWj1c5qCEAL1I15\n",
       "lWG7AWXCqCluTxpf9Tq4NmUTjK4qmpTPQF9v+Vn1mzi+95y+Lzn5k356fCfylrXbHunFEi2Qo3KF\n",
       "qTysvrzzo3Tj2d8QafcNLWdbqe5iAc0m4obygY+HojbmcPiA3/vj3tLStfQBW+pUregDDOnzh+XZ\n",
       "JLq9KGIIqyb/7i1bYmGcvthCmNgqXzbUDhvKDa8c7FcQbgNZvP7qWn1JobcALJ5QH3Sro4rMMBPl\n",
       "uc7QPDEz42Xl4C1Y5jPkVjQ1y08wAAD8yiVY9vKfG6SzfroIZLun2IuZAqd9VmRCX/F8LVQLo1LN\n",
       "PyYbvRuZ3ntWmgU+xyEOVRTDULrNXYnEroZ5AOvqflXi9OWVg4ecsIcN0VwLgAian1DZeA0AAADz\n",
       "AZ7pdF8AJDcOTqYbBhl7vp4xtdI/BhmNpKwfZ1A08QAefhBEnlfPhn3wejCoVgC4QHovv083PesK\n",
       "4nA+Zv7d80LYPCd6Di2hgB8vI+UjgVbhzK/1aHMBvTlAXRUygh+vJMWMs/bKO2ibfe+Z1Hc9H7Wy\n",
       "T09eBUy3yBN7bwFKpSYPFYBMTeuNutckDbABdVzVjlNE//htTqaspKZ619PQG+hETEYZi4q/qnLf\n",
       "qKGqlKM1rU8iYH0BHe5QKwJ9fUuskIGbifthc2dMnYUdDii6W7SCtwSwr4m0qwsiMSb1USK/B4YV\n",
       "0sp370443IYYZsWTLZ+xAAAAtwGe62pfABgyVyf4cA589358n5yhUtdqh5TYO4Xagp5B7PugGkCU\n",
       "zurX/Co49oheOTEkgQut4HEuuZS10ceY0RbvPUB5rCJqTofovTVwdzAgJnB/mES9kgKCSpLTU4c9\n",
       "Ce6j2YpM5c35qnQvws02miNO1CAz7slRsNS6K6DsqCdax1gKF7LtrKi3S+eVX7fC/Q9tWC6aSbvY\n",
       "/TJh13/LUxi6KJq/hJnqNjLc9wlldpDOHnlEjjqJYAAAB+ZBmvBJqEFsmUwIv/n1TYIoBTikg0SG\n",
       "kOWZtL4GFlygVlKgFGlHGHNCbFO551bzBL2CT9coMf1zo8C261jU6ReDlVMpuvoN9IfsESEyaQw4\n",
       "ZN3NnUkqnM0d6EZv6EAT/joMomjehEn7duUPalmDGGVRfPImQv11HWYxxy5W9NykVtWtJg8f+2ki\n",
       "cU5qiZiYpk5BJvRG3qZg/zLu0DNL0pDDt18fZnXpMZAm98Rk21gWnWFNSJpEXLoZaha3qckI+35+\n",
       "gnDrJcJQI0UH79p6oBMeCUKcB/X0wRhC0jo5Iunchn9HpVtnHVQUl0fgG8/Tsw+hvqMQfCwcIXwZ\n",
       "JrvIIbd19Wu1B6rrsdE9OPNGVpWTHETekx7nsfSA1GnqzFLo89K+6JfkDoFuyKJBuCgDX1EzdCyE\n",
       "ddHhvsb+U+mm800vc3MfLSCC2DqtAaPAdit+8Etk9oIhUCWQ5S8A1Mqv6YLZY3iw4ioEgzIWyP6Y\n",
       "dvPd1FjtMbaaS6D9VPtyssvx4XeRoEVaEs4QFJSL9sDUVVKrgruGMopIuLWNzusXp72DaUrYj+DP\n",
       "BZztv8Q0rESQH+rDbSjGC8hK3gkJ0tJeyBPas1Q0ZA9AKHEHZhRRmbqUGQHUvdrCs8XPc57+6qKK\n",
       "GFq2QSjyE+4jxt5joXMLi+SVlcmVh5TRcmoWNyjpdhA468Uv48U5DaRZh79mAt8uRaMr/985hgz1\n",
       "m+PeDF0itHMhsEz91ETIh4098mFCpjI+T+JLYxowLTgNirBhUQtDV3jWoHGum2NoT092Yf3bDf/g\n",
       "7PcBWdz5X/ZKlRQAEbZtEY5hRSnwnFdGv/L1Dk9Tqzan3yy3BB+fEbN5EVfPDSwey4VhR5C66Iz/\n",
       "Jub4pwX9FgVg7Ym63HJDj2tPgx13Nt2ipJnUf/y+LkvCvEjFZgFvMiwYEfu9UjEkrWqy4wjaI4ng\n",
       "mywosCUz2LAKOYmhUztVKrTNpF4an2LYHRQi5ih8uCgh9rCSYSTI/+MVa2mkz6t1FgL0Je36PoVl\n",
       "k2T7nbsiCP6FjmoZ0QZYqZmwEFtcVzBQgzpqRNDsClfSThyq1ZT39pgW/6QqS5/UCNCtkkzDEnsf\n",
       "C+jAKSINAc8ElZOXpXQaVyJtImAce0S2CNBUHJtdzUoNG48270EkSAx5chWm8J3uEWODABV1cvOB\n",
       "AuELgdEzGW4zzsrjEkhHcgb7Q8vfaxTF52a8pY7694gzd1rXJVPleshJz49pVr9cdhr3vBo6dEQh\n",
       "7E//1vE1zvH+j810n76tyJAwsEcAdilqGb5Aju7kEDHGk9dJe07bPLJ0bUrWYTnjjvU7hxj//i14\n",
       "HnBQQHC38wMhIxG7f8SbbNNFKFdde3f0iH6VegPJNB0gENGttmZc6bspFt2CrDHVaSBlRlmJOGFe\n",
       "u8BO8dR3OCX/1WKcbGPURWkhkACMcpU1TYz9adbN0rYcZRAlhET7QkBqotKkRVgIg1vTiirumP1+\n",
       "Ecxo+ekEqXcq1Zotg0gxw/0G6mbXtndRzLkpAQb53eY2vn3umDEOTD1R5Wn5UzWhpd71E/fkC56C\n",
       "TeHa8hHUVokpDPaW5VF4J5UvwuK+jq4bP0BTSmc3qqWBui5xHGoGHRlEjlwItvymhoQkMmiqj2AJ\n",
       "1xSOcYcNGMbLG2Z+3E7U7xfeiSEy0hzruLLagqbTm6rao9is+mbdgzIef3vG/fDyJ5zF20xa4uDu\n",
       "pGfxhBnx7VDZEqBl3o6e5OQwibDZgnPGgfn/FKpG6LeZCu6YSir7IkbuaXtUvSinIau4WlHMKkJY\n",
       "29cqueeV+aOlBa2J0gena+ZkHIm6+CyZs8G9kpB5d4zp/EVqMAIGPML+GnuIcrVTggcUDrapVLyT\n",
       "i5laHSn7SR7eT5NEx4zSF75yNwb+bPBirT+HvMCS41kfKAXd/STp3zZDq0lfwN8I2jxtgPNmL/4w\n",
       "FFsebQLgVHYyZoXrZpwcFJA/umiQWNE7OB0CCIW5sLHFo/VzvHmuwCEZiRKblJOjEbl0hLYTqbKF\n",
       "umKFt9fyO+Jj8OEsEmyB4K9O6iXeIg9ZgTZ6/PpVLnvZCn/sFQCaiZAj3wCUsEVgKVNhmLvfrmLh\n",
       "zOQ5GHIsGHIhcxodVAgMfPwmwHTyIjSjZNR1srMjLN40IBnFomi/TsPKeRP8EC5BlZNx8/wQ4irH\n",
       "sGTpD6FrpK9/6cXIhexijlHE3Abky9ri1ARCIFlEz2VqSETpd/3KwReAL0dtiMKC1TgaldIRAQJz\n",
       "+GqdJxmccR4jQZhUIIjUnuYYA0pKxAAI6dWV7cPE/nnIvvIiV47507GeaUTzjYdxLC9mcTeYvcDF\n",
       "Mf5DTjPebSDQ1sqIZXZG+4JhB8/6bODdv7fYC4Ko5t1tZDV0aiELNJNNMfSt+bJB7KG7dIkUFKk7\n",
       "ilDOvo/T14laUtD5kAOrDIBtHFyHOzE+wRwris+VZ7+MgtnlVWPksNtWiEk5arcymHVfBrwWVlNc\n",
       "3K321FRJOnJ8maxahja9a9d7g1B/TdLHjArx2zYuhob6JubWoF4B3YHm+hIUm4GYCfK6oSBHVU+s\n",
       "EVzoJT5ITQaioFmjDoZKw7UKAZar8bF8YAbFOah3hlR9+pWeT7zDNnutANZBsTFpUh3cBMPoUUuJ\n",
       "ehjm8tUQhIfQPa/EvcYHBQcn3NAn/nIlD/0hWqsp+2kNSI5IKJnhhExKqLmDLWjJTNSK4yPBxsc6\n",
       "3UGq/5kAAAGnQZ8ORRUs/wLDhpktO7tSWMgprjDw3BQuIuuIUzyLFMl7gV1H/se/8XvADnMY7I2J\n",
       "xOjWB92LprX/fHNhSca/4KN59/d9PP2T67/5yJAe56MnCCdgh1CLBWoDymavDgSxheCmZYs83UEF\n",
       "jH1i/ncmY+MjZ2K+muNcMZTuqu7cQiN5uknfVfICJDKS091ONFWkx6ehwjB9WNj5KgIcyOu+cmkL\n",
       "Nv4bvWmG9KpQ9wgA3DA1qZs3Hmem10F/50kBb+C7s0N5zSQ25fqv0SCDrweTwRejKCzGvrVFqj8j\n",
       "g68FT08DvMVswvcX6t61/+nQ8EgkHTBqBvHk65bj0JBFDdcAccUpIKvMmvMvSuAbbP25xjeRAQJy\n",
       "uIWbsHRW1MyBrezoxw47meVLbq6ETQvNEkVrIJumENBRxN+ziKx6ktQDG+/jzXmJaVk9z4whiSPd\n",
       "fyEffpEBH30bJ3jKz+EBA/Udrs+DJu/yKEiaeIXhaX6MbhPiWpB3HvPdZLo2O6fiZR0DYDUdv7fq\n",
       "Ljpt5dqHcBCcLK669J2HBEdhiGbQzaHdIKoDY1lLNxIvAAAA0wGfLXRfAXiZID04dFB0xZQRey2k\n",
       "B2qkqXpkY2/o0bbO/KqoQqgns9DGbpfHDbHZgLfKEuJR5/hkWE18/pKPfylp4hSN8g8OX0MFL4nD\n",
       "jmWXIge90d9dMSUWnxDEUvXzMP7gNIXtia9BuMGyTk/uImzL+p6psOse+jsYxjrcTKURjPRbDX6l\n",
       "xGDZUF6SIccUJQPqlDggnE3i/iKvLy5ewun7M4I4NdbtzftHINry303AmMHpIDjDM0M9Czf6qwLD\n",
       "28Oy3wN5AkUr0oqCadjH4Yg4L/MAAACjAZ8val8AByoJUIhlVUhgAetPWA3wb/EbOycCQm3PnnbI\n",
       "FvY9TAji6Z5BvlJgetN9V1Eo6JiYUzVGKgse8KAIHinvewrFEfwuT22anr+9LMjCy9EPfTP9k5gj\n",
       "CEscg18LN0ZHe8xM7i3vMoWL80FvgfI6jb0J67zMoyK/5IbaZwwqccEYmy1YB9kCzGGTA5qxvXEv\n",
       "xkjQUCTJT47GXMUVL81jxgAACERBmzRJqEFsmUwIR/94VnT69oWkpbbSczDppsmhElmqmE8NXmWG\n",
       "Brp726ryxIQVCkum3CpOx74LNs/6USupqZg2npv523/r/4VqUpYniYKCriX7q+v1P+gVfUhRzXc5\n",
       "591JIcHqYLPy86l1d9Ezi1cEHcOo9W7hbb6U5nGuZDWYfxuDctOHv6E+W0mDtcH/n+nW3xa0zjM/\n",
       "CPAzZ+6dYaGFw9u1osvyJDELEsW6Y8m9JKRrww160BN0o4fzH2YF5eU2aXp5bm5sK3djTryr9iP3\n",
       "Jh+nQ7nm1YhUZVRNUn4hR1YxEvuUV0HGVp41Y0uVaenQypcKDBfsia16dY0B9+0aOsEqfPJHQchI\n",
       "GKlJ+Nibhd+YidDMxdNWBE8PV4OdSIOHtXNUU74oDnrEuCzgbrnr40icBmS6yMZleyDJCWRhKdOx\n",
       "xV82rvY46MOhj3TZP6WmvqHflTfRh8v641DHnTEODQfoYyFFUmryR6zATRmgQrikpK5Ob0V2WFN2\n",
       "H3mXQHs4wBeXuYj13hwXn3LmEcv0jpoNY+CTQDDTIUq/tIw6uIumwqyE0r0VonwXCrv//yfKEnrx\n",
       "pi7hfnj+JhgWOqAam5onx4Rn6dpU79D5D7BDsey/8O8zW/shc5SrDOgVCmvHY3ogkkzxyteTM8Cf\n",
       "cYBmsPT163+THkCggQen9ywL7ppOgClSjikHuCVCSKIVEaVxYpToGy6oNFZgQsh/dsjke6h3pNQq\n",
       "18DE3V2EFXoleuDi6/L1zKRHB9unXJ0CNyVIr7a9lOmz179D53YoZz0n02CjdU/dPP0Qzsl8Zg/T\n",
       "YsxOZGTO1Yfx7aklF8Bx/q+Ia8kwdVU80CTqORowjXjq3JDq4qqiyz4lETcC3nA03jw7iFcMEIOy\n",
       "s47E7EwMHPw3kbAGNbZ+S1dNpSApwLlROQ6SUe8K66FZYoFpfgxQbdCNHsDvUG1EyaAhW2/O4l/G\n",
       "avDGZHqBjPyQrxiEUmEvHW49ee/Mxoqsn1Ojxwjo/CSpbvX1i1LlXdoIRVWFu8ZNNhsVSx/lLozf\n",
       "wCjAC0b0xyOF5E6LAGwuR9+u0kfrc378eYtk9GcrU59qKvjBYOg1TQUQE0/weFbTiFTql/8ze/vt\n",
       "7BV0KxVxl7qyg9WphfM3Gwi5dPtGYhfsp1uJK/4n6kL6G+XI43KIynp6MNjcuPaG4uIUHTtSkMZf\n",
       "c5zsTH+ad5K0kYKRvg8TtJLEIt9XMn4BYIhuwslZkf3KB+z1URby9FQsJjZeau4O7WBPsP1cLPTT\n",
       "P+vSjW6v1jDzxyO8ais69NDsvLzOm2fvU3VjZZRLk3B0SGz7PQC757OoM5U0rpSAdQ9I7Vuebc4l\n",
       "yK9HKUBS9E3VaezbrqdEtZUcynwTcXSc5HWq2N2+Du9Tm9sx8F8egGfU1EqlkJOnEQU2pmVuTqir\n",
       "rhpujIJk/8MKLsaBtvfzTG8DKjxePF2QA9ZfyBu/CA+XFIdLPBgCiqvtckcXrVgvxIrO+ccayf6Q\n",
       "q8ZzOzAHrBpDeESuyqR/Dvh2KmvZ7Jzv/xXoWXsKOcOw3ls5m0z0DelEpgSFNQeDavDdyvoAuU92\n",
       "S8qkcC8cAokHP2JE7Kxix0597UJtnfA8ur6xZmiUIP4MGZwrpNSRFRdjKQ1bEu5b0LdQ3Oz7Z8Y+\n",
       "sm4fydDEE2ExEumU5WmogE4MfiqzNS6vCRXhmmtXAIeula1GqNL/0cBlbuV31KBDtO+Eyc1XQE+f\n",
       "h3tJrOFbAMxWgxfsR3+XO2sR+93Uh9xoB5tZbPRrUI4HYcDnDWkAqmi00Z05rk1nv1AjZNqCV8DN\n",
       "YvJG9iY7lQJRYFC2H/6cyHu0rUanHQoOV2m6/bIlXeSJRxbI/zJdT/xRromlBRtFg/2PWodHpKOW\n",
       "8FWTta7EMRscuxq0oZYGK+i4Kk79ccsfP7Wv4rEswO1KBKzC3OyACVJ06KlM7SEx6Bq2H6wZbi/T\n",
       "uC1a7EPVr0ehzKpu1MDTfNoNkUvGgmUF1Z6yh0VclXkS/P57S3TlbMb299uvcn5s5RFQOUG/9shi\n",
       "sWGJ7Q741fRP4nu3xd2EtDkwckxsdzStztNKCm41mC68tTNU3LXd/R33V1HANXo+KCUfir9k+lnD\n",
       "7kVIrEvHiifNG2rGDFxJDDhlykDNxhX8IEGBbzvY7kyGe0fhGS1+b/oYx5aS6uho29uTDV1pK9U6\n",
       "PDKjR74Oz+e2B4WZliYuP1L57dzZcz3qIolCIxIy8tF6NfbpcUumZ52xaiQLxLIy3A+r4WqBv7j1\n",
       "C1v5smXwsR8UEUI4LaN/RXcpUoF9q/R/d7rRgb15N+lAqPAKVgxiZGpa3fa5nQmsumGBtXsF4NcC\n",
       "1KFcXUwLh/P+i4JYCoDtLZt4tsB5990zb4pWW5sfoFZrDR51u+FsCra8LI2lhF6b6oHFE/HVCCTx\n",
       "jaBk33th8jd0LG8MDzv2PcE26sruweqGZlKAhb7dzDBX4qrK3DSr3sYKaGa2HX5mWvchwku4JXXT\n",
       "uXOXl6gZDZrCEUxKAS24HdJlt1q1nRFBhuY562C6U85Cuon1VyTg+LQ0I6M0AM5vMECvZXNjW6L+\n",
       "TE2DUyAI6wl4330sSKZ0eOyBtJ6he2duV0i41zVcjdMfgmksescb8DPGeZopFo8B/wu6YiyDNTbN\n",
       "6agBiCF4ArS0aqDMmZIBVWAw1j1+ymXhfkgZMg1Fp3Rr5O/i561p01mtZcpBV5NGZvh0BzFxcIFh\n",
       "4FPUe0PMxI8TL4H+HnDdAvRmg1KfcMp/lib5X1fGi6i8JMLpvajttZnrPO44tD8WK4DXGrs9/Y7o\n",
       "QkIvVmkm3aX++NChrcWmRR1YldmMdiZEDgCwAAAB10GfUkUVLL8NCT2JRwdXGrvyY6HAVTQHv9Ch\n",
       "cCOrBjG6yejlrpUojRyWoJdZgBh/TjJ/1AHe2MJD4X81qi6di9kDviZP7q6pHWrJwjPZdvBVqTnI\n",
       "ZOjFg6dEfs1tZblVnz4rEvdKCAqynpFuLMpQ6PYf6KmF/HWl43gUTSY45JvjMu4fwjTK/WrPCfHu\n",
       "+q0+Z6AHjHqBNVvhhNYXBamrZ3EtqCa/mMxWb0N9Shz20V+ScoLC7t3nPD0ndVY80zjtKaqzh3yV\n",
       "+oGwqUjpfbihKuifAXVDK/9iddO/5O9oTuvUtFI2WQjhbME40UDMlGsROpUJBQyj2sSoUmiN3JqK\n",
       "FqnXvRtr0Q5CIUV0zvMPAnkXyZt/T8EcKDVyoQhwXqSMsOYijRBTdzMFAXPAFqk+OdmViZFMFxwU\n",
       "aaPQLBDe7lFF40WWtAC0creypWND6HUZnTpNbOZhNn7LE+pGep5f/H8dsVSLYaYor6YjfH6WTOjt\n",
       "eHwPTceqL6kGA+n49VNmuEdqkfODVuhgY3gPnv45IBBuTcULli1cFuBMwDTOf+acSdAVMRvqqFfQ\n",
       "Cmt5O4gdMmjdFLoMtiKM2I4YDq2SGVQ1cDiRzzi8j4UfyH5ggPW3xrPyQveQGwAAAM8Bn3F0XwXG\n",
       "8XLYahyKzsH3OHPNxpgaWe1eiddAsu6R/3IwfLcCNo/NZ30eWBpSuQQ4kkuVSIRx4YVzsDUKVxL2\n",
       "435xI5Tge0ez7+4Bvz2EKcce1uOipeqGBEE81Mp1tZ3eKcsv6QQzLN9PznIB9bnJ+0jwsVwAuf2M\n",
       "GTAwPVtI0j9f2UGEENMBHEarbQ+nROLeii0Wz4h4JhaDapAFlnwnfBvJWSYNAX7y2RwBTwfIxAEk\n",
       "LemM3UvFI4eV5TiU6xNYACYQDitmX1d9ZTu7iygAAAD5AZ9zakv/BJQQDvPByj3hDaWFkT8DNKhv\n",
       "q49fwCsKziFzSr83RD3mZoL+fCKtA0tc2X3wbrARaBbiH7Fns2/J7Pz5VDEaVJQ+IjJYuSFQ2cEK\n",
       "9J9lJrIi/8abqRNjqjDPWqiUOkY2JzdB4ZUPq0X3nq5gLG5iZLDENib7kuUU6EUHD1fpHbvTLxAM\n",
       "q6/S+8nPAoApRTOH+NSTdtzX+5R2km4UMiwgocTDL1RqzI6aBGWR7IdGlTyzc0XBpqYfFFH846xS\n",
       "YCKLSSEjMXskuOWGSi38Nfo4q5rxnyuatkj9gDeH0STOh2B/B3wKYRMjmNvQrOuKCCpt5v9IAAAI\n",
       "zUGbeEmoQWyZTAhH//3hBRlKT8Sa7ZKZQB8dSeeddJYDJhmct7ofQvxVLnF/jsjfs60weY3GVaa8\n",
       "1biupCdzijrVaPGXtC6Q4h7xssufjIahctDo7r1Ab8QYBYnJv4TZBcNcF9egumwH8ptqjl0dm7ye\n",
       "P0xKrLhWsaiaU12HETNtOekpDQKpZxRtYc9mJgOsiDfpSBvGOnzsnf3TDZpUKbEMxdZ3HIAu7b7i\n",
       "isWz6b3WglCKoi4Ui6OHUTVWscOhZ6TPPSKnNaKyfX4tAmrxCyRkSWQ/QoNwcJfNj7QaAXm1jeGR\n",
       "fH5KDQMfyeS2jkeVShr6HFjAO40xcnTeEtojLneDNPOwJim83/A3H3wc55KYRiOVd5d8mAKinBl1\n",
       "Fdh9thexLIy8K3fGbHE1mjDlJGlvpCV4RSuq2k71s1E7X0ufYzKETIH+Ebb4RDcBZDd3yv5GxsvX\n",
       "2vEyX8SRkijWNiERX35Dn8LGTfgcFVIBT8M7M9omvMZkGXShmfXGNBrOGu9dC+F7FSPJNtsM3+B8\n",
       "FBmJfcdQRj6i4nicTGHQVY1A+57rLvpWiSZYt43eKtaDxMPpE6q5US5hlcLNWuuWwq0O/JUz/ZbN\n",
       "bdNABE/s6FvUrLRodkcFODMxG7n4NqF9jGxhQmJP/+BcDwTaAr8yApXXdu72mTVELc8c7YG84SWR\n",
       "DW3QFQU+4DX2y9kgoHHAxaLZ/Wsd908HO0dL1yeSvEo+k8fuzkUgoeRL3KHyDAFqWz+AKxuJRUyx\n",
       "z8sx1p9FmLR8BNT1zzNBgXdlrJVQsUCmGJCN4G3+m33N2yxePy9t+YNyo7EZPGgS66EnqN2qEKgd\n",
       "9dPnbg+E7VQ5cut8x6P/g6XnMf482aqgCZK5y2ZBCpV0/tM/+bG2jiK1gmAfPkWbqkQHeIJ1w9hB\n",
       "Ko1h0+aii0+4YOh89nbVD7IblxM9xjqc8ZsSYaCQf6gQfIQexu8iArjDr6WDJ8d3pO5GKV9QwUt/\n",
       "VmDzatM5BBCcuwIHXreP/myA24xOeSx7QlHntAO9YTzAi11goM1ir1UAQsrUAp3LireimeAEG3TE\n",
       "FQ02ap3hsC8ZKqRJXb+EaBMmdfZ7LwaaGgzXcYUeAAdjC+qsKq7rFC+BIi+tCM9Mj6proZz+jmN6\n",
       "DSNw9LIUFlowC1pvzvl+IeMzRpv4E0UafxxlIv2Mg17GQWUmh61yXWrx18KTysN2gDpwV9ObuhdA\n",
       "2FfLfQAiHZUWHmyk48TH7vUH32F6TTcz+1B5xYRa0At5FDzpZbRKQ66jv0y1GjUa+AIrhyIJ7Xpj\n",
       "120EFs8vHcWoZ/ujXudP4gfR1y14q+Cyhb7qh1Bo46UXq6FD7gIBth2C8kBwlSazmXe7oXNQRlTq\n",
       "58cEM4Ooyp5wkoF/Ky78RuU+XFdPrjxFTnLSOw/oo73bfnAX1Rm3esVQSHCKzrWKYeeRj0Afd/NC\n",
       "D/tFSgR7yryQATG4AThx94447n55m97IrfMrbOcOBQwrYIy0GWsTcy0ss6V6hnwYX3a/ToouKguY\n",
       "gJjLSeEV2e1jLn1B/rT27Lu/0EqVA46DpBumoUM9PVTTuQ4bf/xiYnpvYZrM7e/LpxGObGGTXAJ7\n",
       "/1FaakiVmlhZEtgu7KPfsNr6r+g4AM6AkKQQqBfQMibhcp8PmDo4YMFu+7M5Z89W2qD6M8FX+1SS\n",
       "jNsYUlV5F3xXADuUm5Hf5WmcrHYWxGjArtlUOh9u7P3rxBW5lRKDeNqV0t9q/3k71xt4l/SKXcSM\n",
       "1QfKWTNMIsoCEm+nglaSTb7hjj1bqB3aVDACJZ9XLXWAhaF9YGY2gNrGmR1m9seKXB/Pev4K6Q+Y\n",
       "3Ryu/n2nFLqxqnLAZ+Ii1YN58xy5n1KNlRZOfGamXuXD5HPo022k6skkZUWB3QCNuc9YvzjpiAyN\n",
       "4hGaVWS6+XhyIuiloEsHtoM2tHbkDsF7CqKA8SlPaDhYPVQqGXe6ybtppw3yDhF4CtQSbyVXdThP\n",
       "+nICk7tEpDgHna8STydu9Em7jU6/p2u4sAs5Sm9q3zpnDu1zGoseBFFg+MoknYDGqB9dA22XTlKI\n",
       "tfcSeiaVta7MGOeK7FEV7Hv0JlnYsZWxjDkYQSLXcbdMzBfMyxm+d09mpkIEYW/Sw76JydRWT5nt\n",
       "/glR02ynRJSFPfvjjBCpQ3qvJK6VxyIwqAukOUYFTocdpQHbCZmMIxTSsqGNiAQpd+0axLaNCY3C\n",
       "9yWe1Nxot3JkLo/mMsO3o7b86n1MKPgY3GW+syVs2k3+G+VYZQkshsKTaPU0I1003/yhz89xSMxc\n",
       "i1hKqvG47kCQxYwSv+SS0CpZ1n5in9VPI6kEW05JCLogBRnPN+O3Zem1pLO/fK4Bt/Z11Q5pRkEi\n",
       "mJfivGHtwtQAQ/HEfumZAqmYrEkq9RnsNbArhzyWnz66A3PO1TK2kFg6+sZGhSISpxhwXJ3UOzyv\n",
       "9UJZClS8ilSObP/qjjQz8/F4KJFAFOmf9RoqiiBK1R/uPmWENEBRrHBWA/pcfKn5A2Ua500CLhuD\n",
       "5rx3i5NFvtpyvmbKy5XI+df8uqN4ahYYaY0iBjnufyUHs/WvKpfQbTYv/aS34ctEYBBZUksJnuoA\n",
       "r5WFSpX9e9WUZyj8lzlUBxQ7YptU6chtkWhlwe+rG5fKm9avdUVQIaSLcg4mAj/lUcIPKy5Gktcv\n",
       "eH5hSDoaaExIna6XcXHroejYa3Z1RbA0kg1LLCrBF0kT0pjM9dYyYmlYpmQqgYxrKRAMy40Z7Eev\n",
       "mY36k9sbMYhH11e6tc4Z/YDo6DUSR8379IGzKTOpZpFeaoVD7KEo9KleaMjKtuQBD16/EDllC/Vu\n",
       "njQclIkgBsrCd0HMEtjxbkg0S/vwZZd/y2mSK37MJakIIwlWDClMvvbJPXPjhbzlr9i4RR7NdamO\n",
       "mBz9ee7Cu7eBXh8NZuVSyNjzZhW3mPxGj/PyyO6rCnM4YWPEB/GO3891lk2npi3PNGf2/Plu4l1F\n",
       "Bn6XCjM81Mq2BaBiecWiWK9uKmcZB74SXX77DNUfiQAAActBn5ZFFSz/Aa/ZLWSuDEsGAEKD6bhT\n",
       "npq/IsLXCoG8qiNUN4gGkj6gtjlbV6rooUoIPxnQlJsfaT0RUWq3bXKHHtitd3k+zO/l8Q98YpHP\n",
       "vTnqhS/fFlyU/zjJM89glGX+4V2x3y5rPfsTNGUpknPWuIQWpCXdoTRDIqYlD/hjTPPiBQmQfY3M\n",
       "HR+FzOY3naZNRpjdKmteGMNQF4um+iVB1G6AgxFdQkwq3JbwfwEwc/0Q/tTy296upnw57dDsyxPb\n",
       "yzatMGlfeEwvcbHQi96hE1BWXDbQdqpjAja2z4rrLNQvO8Sf/Wo/ObvnAuEWHRC/boZu5X9LzWsm\n",
       "cYAdgkiSuEN0CL9KppFyohVdmcr+XKnE2EqU3OOiIPRZ7tWdUhzA8J3aotiQ06is78SMnJByXs93\n",
       "fxTb2o0tQgWBOxt2LF7chb/f/C1JnUkBgos1d0aA0tJ6GQ/i3xnfv8fgQnvZnL0JEvRttE2Yq7uq\n",
       "j08uzn5DrKvAZD34+DW13LHvP/z7psE3EuMyxdXQ0JJnxO1G+pLQ/fwJsZYz7rvgUkl/omKCM9D7\n",
       "0QnisBCbB2kBMQ1bKnSZeg7Xp7F5UBkkiX34fHGBb4r2TN+fWDoAAADsAZ+1dEv/AACeHtlkLmIp\n",
       "0rG4YlvWNML0JWyJDCC8Egu0lhTaF/NdUbR4afBztv4GvJmYKOvYmzU333UcOlLcgB/7Rcq6OGQf\n",
       "0e5NHoXI9hvinUG3fCp6bMPW20s8EL7+NfwryXxhnqrQwiD9Y0UW6lMIkaCufMIrEnd50s88kP0K\n",
       "4PlG348BdiqRoETdWjMZYI2GC5KWcX+taWm/zvOrbzXsmGXNsVPrbdQkT0B24Z8Ps8bBwrXIV0fB\n",
       "qRlfpJZ0eMMu6rPlVucjGlFJTlBzB4XS9iKeH4vE5Us5EAZ8HTNZoqEEJj4ouztTEekAAAC/AZ+3\n",
       "al8AAfhMt3IscAX1/FN1slItfSrkMuRhMmKCB3UnJrmQNjlGN92w+T88j2sGvg4UdwvoQW1XUXW+\n",
       "qaYk6DeRiowj5BURWNF2iyDFGxY5uFC4Y+i5NAvOrO1PIZcsgbb/5ZWEDcsnK7TznJ7LH+BpH2xn\n",
       "qGG/pmj2Eu/u206n2FkB8rKzC1muqhPm7NIK3g01UF7SYrzBbpLParFpYKhye+OZBlQfbZO/m0Q+\n",
       "1TcsF98AdGOKgtFSYfqguBMAAAWFQZu8SahBbJlMCE//+YMWd6lbmjwa97rFpc9UM7DHssLRlyoM\n",
       "AaUZwKCl59mabgJap/fp7sgbFaocDvlUCs7v6+Xq0YsjCpOAMDWUfUxPbgR71Xex+bwa5SJShsU1\n",
       "Fjxo8s4LctClYjSqbWHl+/ijzGoJqMKRGwliZ0TjVwLWlGYgUabAniQOeQ+gMC/2QVk28kR4x349\n",
       "mfIqZdDjZ31ZS44JC/NdxjBAlHfSk0G8t7Zb91Wz64jBmUYnNFwxgf1I+zDe3OdzZkuQ003V/ep0\n",
       "P7+E1v43gxC0kWQkpgarijxWYIf4k9UGKN6+R9fUk7AlfFG+jWbZ4VkkNKe2RqJFTI1lIEMb6PTQ\n",
       "1qTJVw2HqHZCL+UCrtqq5Y/clo0C7H0laGaR4nu+W0YLB2L9G1teK4dIbCEpjd85ciVxCt1xz3Ch\n",
       "UkYKB1gf7sReqfS3//Bt5ExpYqfm7XGCH66Ozt59YjYBpMKHsKfiwIMsOmCUgGgFjEPWYRhWYajl\n",
       "ju1PxjmJ6Mxuta44ADyRS8+HZILxaIIGwY9cOBfphXVR9Ld76PLYTqn2xPZgV998pzEOM7WLKj1B\n",
       "nkVdzdxXo1ETZGi/uWydz66oS66MZxPOx3H+Dp74YDDlVswOQzlWPx9l49KQ8ozjCH6JjxlqfXBw\n",
       "2kmJsPZZff4RxrunZNgfYt4MxoOIX2xn1QC/tNDpgqD1nz70DzFr2bbs+yGZ7Gx5aPX9OSwCr3jp\n",
       "BxM9+T5C8sKmEEDHao07CKE/ujNs0e7lcbnU4arSRiZaa9iwNj7NINShievBrkbJwkuD/dq92PV3\n",
       "iIh41hywMAdePgFPyXByRX22WgTrH/9/q5KuvQ2TNr28HgOVR0YCuJFmtUVi8C2XhoMzxWOD1xgr\n",
       "+Rkg6ey4jjplTcYbdLPi9IY/UEcxVkSq32ul+9BQyimA3NAB9zf3BiA11mXFNad94Xu1L9qb9oxa\n",
       "B0jhssE7uqYyKYd3ZAWqF3aBTVgqNNZRgdOJTbsXW61a3vf7EJtgf7SIGhSkVY9jYhTTKdh4O1Wk\n",
       "upZVLmzhlNQ63EvZ5AJw0hmJzRV77uqBTVAfAObDa+fiTr610v0iTSq6+0lA30OGOtrfPOlwkWaz\n",
       "OHBY5gGsbOu64/+BKn8hC3uHfrIBPoZbtaw3dkTyVCgTFhmTAVzE+dB2eBAqkOUodCtcnEPPpXPF\n",
       "8SxxOfORnjHsqpIYhUQ8HDzcliaNJluvgrtXs4wsnE5onJignWZJSpK+DfKaItNhFFH1p0NqNsPn\n",
       "KYMfnNZO4FqN8cGW7/OewmB+OPUYAhaPyZlu+ku+D/2PP4XZ3IyaKTYEZVxwOpTaWiLGirigHAgz\n",
       "d1oezsTXEqSmsuYivIhA3Wq8MRNAfFXecmFqtEnZH8I+W9nmqEJ0BflROYHeO1Be5ozADxG5cIMl\n",
       "LWKiI+Tzu3L9oncY3m7aHokUzT1p69p9UDO0R/mXLUWDwBiKHzTBwNTebXJDZEhLF7tF7yIoGfuu\n",
       "Q+upvr/BDjSiHAfXpB5GrLCiqL3G5S1HvqnwgxEpbC8+WkpoibSFOQEfFBXsaSE8VEFbDJN4O0xZ\n",
       "ilMBW8nvKvRcZSbVxbjNf8B4JlZHZnWPoaj6z90kbw433UvAS5qzPgtqOupneDoyqyIsl5truqsX\n",
       "qjyV6LJmKPIRlqmDH9QT9ujopb4Pq1xqMyCjbXKk8QulhZDi9nwGEhYDA2e63KVQech6OiS3vYoJ\n",
       "0p1eWI70lvp8RmgBLacgTiYVlwUCn1ahixlmX3bTMXlVcD7nuBhiVVdo5bnJgcEc4dmekfKxCdWO\n",
       "O3MyduV5yrfpQTj3WP/KF8JV4jVRmPf3KoMM+/Mcpi9bwIUEBGNy9V5o9vm17LLR7eYVPX2YGsJK\n",
       "0Y0zrus+ZeItAAABqUGf2kUVLE8CubwOdur8MB+qUBvMTCZ4ISZlTQhhAkA+mgsUvLRtncNmXUFg\n",
       "BFky1zFk/R2a1SZy2+PBhRuafDqbdxFdWf+4QCRj5zaibYNNSzmHWXTt89eQ1QaQHOo3m4N9xxo5\n",
       "btXf6cyioYadKIeztCh5RelpcEpcgspOJDUwMWwG206bkMjv8hWJoMAHt7XUbY0h1QB9VmKaP/DP\n",
       "6L7vzw30WF3hkYPZioKToCECHArW8CVubH1MZREnbgelgIXF3EeDEA8skv1TTghDADFm2GMwS75b\n",
       "/RkmpmvU9jw6a4SA2Rz+i3iFCg3AUPbJhJnuC+3IzivW5Ck7G+IMvuJbQvQyrPOMcXOeYGZxkvm6\n",
       "Ihc2ZUEaUqHWVh7JwFrs4KJRamzQsG3etxUF9I6LWxn8uxW58mJkzI1YOz9nsWbLD3CXh6+dWFOw\n",
       "t7ScG0Xfx4/U2m9g8UnExoVpbUi8NAvq0gH66tiDJssNo9783jmnkK/5plsoMw9c6HzFAFV3mtgO\n",
       "//lrOG+d6u8ODdRF0xnnzAFtaGsQziE5rt0HicQBBbbYtIfAZI1BAAAAvQGf+XRfAperb5LN1rAQ\n",
       "T9P+gzWxgIGjsClo2GEn/GxGin64JVUhDnTrvSKI3skKOHEDED2mqKRZnal+gGg3gpUtHX8mlNIL\n",
       "Y7h24IgjFnb2JWkgf5Ntexu9hZuqM/e6nInaaNEJyiNOD+6qKeUHSyoBSFadnFrJq//7aWmB55tS\n",
       "E78tW8Pg33/+hcx7Y9MJwiaxknwMtkRyFklDtPTVcPQMdXeEVRmISSQiESyVAf/Z5IoPJoWk1k5Y\n",
       "drXDkQAAAKgBn/tqXwROGigUgh7qZTh4mhyruVp0TkxwBZYQ0cdAT/FX11vNwayr4UCOsdGih+/x\n",
       "otkBTwFTzZP85r6SOkqFvNv/D4vW0DD6aP9T3JY8nrLsO21UCcWzDHkfwUIgT1B8AEN0YiQ/SBb5\n",
       "30rbQUTmcedsw6y8AB/ssH/c662pTTAjNflU0C7x03Cw92sQSyAUGdoSYZQfCDyYOLEwlC49+uEL\n",
       "POJFr+kAAAjtQZvgSahBbJlMCE///fEA3IvxhRQRsNbnDqUzN8M/vw3XJiSwcxVxnpeDtn7FqDuN\n",
       "miFoFrqc9i2o4u5jxGeKujYgFL0mZThSKmJJbtDI7jUfsjWDp4q2ftFA8IVDLXTyz43kx8Yg4vUk\n",
       "BmzhIW3k0ZO1yOwO9H2xFaVToOsKOLR41r+Ya86RZdXtuHEvf4Zv/qap6DcYKDDdz6qAOwfUN+/N\n",
       "e3145QWtVuyRP1RhZ1pCJriRLq+dg5z7FseekM/bc7vRclpGi7/+sKSeMOXDh3qcrkSGrZmX+yGA\n",
       "FwvZMbglNYRK95aKfQTwEj07Zjge15tXXktIbUn0kzuHQi7psCXoTN6IbFpZ5m1DxLcVm5OJlocH\n",
       "Pffp7LgjUfjtDBS3ZE/d1TwqiavZE3o2yon1mSVWpdGhpu3oRUSX6ltVuRhWNAhcIh3rasOiG9N8\n",
       "dux9ddb/ORWNOw9NitK+Gz3HkNdul14mdS2kxKw4BACw4axoyDFGATyEDBYUVCB7ALueeCFBEpix\n",
       "1vXs+R2DpksyXz4Skvok1c4mLmZoMmejP+OTXU7BNOMT4lfibe8HC59I/Nn3c+knzrqJF4YEIH86\n",
       "ItY6QGJZbtR9k8+DOOF5JrG80tVUR6hgbnnF3EdENJJDln9ZwS9BmyhPxcffscAy98mLskM2RlNG\n",
       "H5Eqg0qsbrTEOXHgsQTftkZtRGb9RnRs9cxM2z/JTpSxe5qQpBaxOyd3Zu3RNguOR9mhSRZszy18\n",
       "lWQEIQdlpVPNDbDLhyKG1YXbXgnliLDOrphdE8PwEu2rptSfa8gtuzqE1OFvGWVLUWB+XAGJSz+q\n",
       "AfV4+wKQbXVdH0s7nn6mYY356SxkGhMUpNt/tj5tstcmulZTsyT5oIKbvwaGDZWEwDQU9TUV+9TL\n",
       "4kphwteLSJFo4RV6b4oEp8Epqo0AULJsXgz2m0BTVNfH7HnR9kQuGnotDbaxfiQTdn54nXNWFWg2\n",
       "ETr2f/AaR0J6DDOSnM8UXXz1btHgaF9xukSlOCNalwd4ixuyiC1EBTzDTYpbvz9tMIOhZgNxByMe\n",
       "unuBx8aPnyWzvHq45qdPMZqJnE4ooo4qYLJWv/QHPObm7S+WWFmZiY2SR8hA1pQyyBP2QnmLy1OA\n",
       "jI30eXxVOJ7V6RSAk4gkqvOevbH/LluSNDqPoW2kFtzYJVWFeFpT8NWlEQimDTNFqr8TEKvbXW0N\n",
       "xlpodAFGolYQpTgtuPwv+cZw++voLBNkSC8iMJ/TRiRzgQCfa5mnlS4/ir+KbIgo4QAM7x747BYV\n",
       "SN7FXc1vhNCN5jAQcd8W4Sp275R6/4jwHNLHzpgVY/g4w9S6xMYezNEu8F1HaSt1zSeDGZeihyw2\n",
       "JiZbDilXhFLtmgKKN5rRWvVYyz/YVDz6wY9GeYh4MnEIVSBPrRXGBF+GQUQQTYtJ+vboVlT5UWxy\n",
       "3g/0s6uwqa7hNCfIsK1MmnvINvhpMvJmhLbC0hLGI4ko+gJYv/P5SHkRZwTdbAG5AvVk3JtTitHv\n",
       "I2bYsHP7iFGTroj6dGbCQq0YAqR1VIg/EDIHipTazROxU/A66ONOOKLomI0uLcjL8rVNX51aAKxK\n",
       "mK4kOtmBqKAryXxipvz9D7duMW8VhtXJYdRZ/i6O6kPZLR5sWssBFjUkH25Lv+49C+mCInd54Qjp\n",
       "jpP5CRVpsYhMdBQVntm8gVRJ3XEPn85l5+U5uy0zIQlqk921fkRW+Hx7lSBeW/CdmAHDkywQM/xZ\n",
       "4n6E6TH/y2izVur5uU2EqHN5srHbHHpOMf3DyugfpwwAxU5Czk+gZpeAKRnhjEIeEc52l3HpBEuZ\n",
       "jDa0nvs3Shh4/GJ5a5oFEh4aNkcyij5cVC7V8HvUNghmo5WjjK6mP1+1ueKsX+FML60vIIFR0hPX\n",
       "js2N0n+H6apFem2wa9jzeyxs6ArYcdW8bf56h+C7wRBWFMjihUGZD0NCJ5eADLuyC57TfVV1/8m0\n",
       "twe6bhuoUNg4MzXBJl5tdTLVCgbzkbbgwb0UwYveuNFueA2c1MqwM2t88DNTpfz+7TsJKiB2cPKQ\n",
       "hOUokteCuo6dStT9Iy65k1uFh/rpVc2ez/0yk4+LLTZzJJbubdiYLLG05dhHSlPHSTQhwNaYOYdC\n",
       "OojcTiYYNJR0mbC/E/qq0DXIjIOyz79RaTDjdME/zx4Bo7eplEjrgRrz7NzA/h9Vwotz2KDn6LOQ\n",
       "MD5JqMUpv7IBUAZG5u02pBldl/avGRC+sLHtz74XwofR/N5NhEwhuH+sU5PwMIPyzSopYjao4oEw\n",
       "6fjul3cGlgboUNfEbPKWP5SSW8Iz5hGQz7zUQ0hg5QUmt2goNkSIuYG6Iquopteowz5I8BA2q3JC\n",
       "LqJLDyNiy41BbzqgrZLHYP+Z/VuakBjusUj1ps6EhElfi3wakr9kuPhG0E/g3V58U1PIZzkBgHHQ\n",
       "UDQfaHEtjWdFGfbfwNCmWff0jSlZ8LDi7Fpko6a/OinTyQ650NUWxbkBcHN8jBW/bnRMvdIQqLhp\n",
       "JBgfC4L0xsih4A6i4GNoalTCBqcz5Q/UrdK1U9+eJGj5BlPdTKrqoTvy0dEB7ykk/kVLd7ableti\n",
       "vyHd2h+MKkhfRP1xoYHN2wf8cfkMc+6iftQIUZm8iCNgOElUa9SE1f7WT9s1BqcfPAF2X5A/p8sy\n",
       "Smidon6ELyLKlzWlr28cmRHy18ewh6VRr2YPEO5xzSiJaFJzbkFY2hnQ1vhSwk/c0s5+HONK2Ern\n",
       "3XBG55JsM5mBSbQIOiDeDkJIFST0JFC3j70bTn7KTrqQ9ZcSJtSkPbuLquHGaduekYaXpZZlY0pu\n",
       "Oj7YPRPVVjSPR3HweXOq4Iai0o/lRtFUQUidE36tphM+YUTvGtxYB931+ynsA2kkI9BFMiuLLnhb\n",
       "23wykKpMDGt9OCxREjOqjXssEfMfJcbaDZwrAYtRonEgzPjjg4OHlVXpulwMKPA6jOscl22zbjlz\n",
       "KVxahCKlEmipaIA5IOzSA5Nwe/kRuKX2wR2fwjCHZJnBQQGVnfas9kN61nzfX25YG/Q+jRcDBWGH\n",
       "P0724V8iO9dCO5FCYbEAAAJnQZ4eRRUs/8+5yTHwsz8ZVTIKD4LFF80SvHaaVdlbSjPPudOddv9o\n",
       "wBcHvkx5dRBeRLTKMMdezxPxkkBnlh40GDNLcL+kXr4id8d0sLJsD/82dmBC7vRD/NFELEd5rR8a\n",
       "KUOf7rINvRe+eIN9UEtr9f41uOOf1piMvaiAY7m7Ug1Cr4oVaM3DxGgsgZD3qdK4NuRef53NqDDC\n",
       "dAa0kRUXio0IRjAntCGwOX70zTeTvOYmfSZqHIpm0BV2/6/Tthyf3By4+odsb6N9bYwO7x1H3u/1\n",
       "4i6/Z1PzSPYnFc2c1UbTgy6jYFLW9V4BJnEulxwUQljMYxQmF5e/6ofyJF/y+rF10ZUFi6hw+L4e\n",
       "u/uBU9LdCdwGnkJva4ANz4Jk92cYeIlf/0J8/J70Udp6oCFdUX28bblBwtFaBqZ/i8h/nU10Wp7w\n",
       "VbgwebQtGfUxjtnmjjEdz9dNZfoSXA60+DL07s848beUOlf8UeQulDoeA+r/D6hpEgCaOfbJRSzi\n",
       "J9RSHLYw1FBmpeQMMoAY/zMiEMXosgabIRYFE7WUK1Sex1CjNjuUpPHbQ/brWKzRuZeOt9KY0MYH\n",
       "vYEEK273iW9o82IsUMnkCNP/UBBO8c5OO5aGFKciQB/SbnVJB7d9FwTZ2tERtysDbIm1LEXSbNvo\n",
       "16Y5JNOjWaJ4+mUT9iliPTfNcLZCiK/WcHO+fbNGzjlmaQmMHKhAgu44aVByr7wtD2iXgQe/OWYa\n",
       "qE7czTJjVPBggtzMs+NZAf35kIhkk8vEDKjU7dzCFxUNHU7rrfkm1IsHba+eHJkJa4RQYKewzRKL\n",
       "TkVnyrOUAAAA9wGePXRfAG/3WEQU1aouSKoEVokUe1wCllGaWEcEB549QgMecQIi0pyIs4B+HQi/\n",
       "rfgabwnwEL/eMXe+1TYf4vXGeoANNDEg58gV8IG0ODxIcOb/LNnnn8lq23PaGWloENHX0yf4248a\n",
       "7qtVzHq5FsjHgVlovFVP43YqOhG8DICvjLUMiHUfj59J4uIaKaj5/zvRGAiMBZSr1iZKuLnzSy8w\n",
       "nH/MLu0He8O5Ck4YCNPuvGIwKwh9nBFvm6HDFco3qrQ3mfZjtGghaMRUy9+Q1NxfJmxBMSYp5zAv\n",
       "UZFHQ/OXn/yF4qJpdLR6iDoqqwQNCcPBAE73Z+gAAAD0AZ4/al8AAx0uH8sl3lB6JTTyhDsxrhC2\n",
       "9pt2lkg6NZniqyXkAy3KBYE6B6gswOH6hsg4giQTKDhplSSsFfkTPxGpsv4P75h29ggoVRXtLU4C\n",
       "clHda2FGxZ6HLx4BsCzadCS/ehBAHGmO3qWM4ZgXo2KF7GD6s5EzkxP3Gr6KctI7fXO2+uKbDnK6\n",
       "Hs5WJsXyP5QwXf0nZPen5AHimPza+tAqZrt24fBfWk3ZPOeVivkfcO7/sIicZBMzjcDG/SXVXzuq\n",
       "9vho/zsqEP9SQHtZn9jLGs45VNc7Dl5rH1OO7wIRhUENndV2MJwUE/YXdGU44p6/hQAACyZBmiRJ\n",
       "qEFsmUwIT//8QpHIyKFZPEaLygR2BAEaT3PJPdZdvlHuze4wQW60/ED+OSLIX5eJSPKmn3FBwAjm\n",
       "QOQZHI/zwu2C/2jouLcMLr71rwTXUhh7WPxQAkd9annvZnp8tDH1Tzg72wNLVZHhxdAF8ZfImZbQ\n",
       "tH3xZgZaj1mWByAFKw8DEaRbxMRLteVEK12oIM2b61fD7LzziKtgMRDWLLe9ueJkqMsavZUj4OvE\n",
       "fiow5bSrslemBSMJB/MtfanW0qDWVRpf4k5qOFKKpBqphg4h01vDlNjprAzyvkwCCpz6kulEXtnv\n",
       "qiox9mnNP16L37S28WwxyU0eHFGSQOQmOyT1c9OhgASoMjHPzDjVPYyIOSiXUCVUoj2FtZukDM7N\n",
       "GS/NuDGnxhng48tOPs1f5vwPrzEY1EzCYY0iEhEKIz3MwG/L0PVxXMJwYVuS725hwyBr4hJfuqig\n",
       "H2e0GIk6RcrqcCVlxHASBuIOeig1Vu1Df2bCvCxAH8UMM8djQV6TOE+VjJe9kH+AS2iLP3nLG/UD\n",
       "FBPJjmvfBMpIHSh4jmEnLgovk2ULL5ZpgBEO/qp/wvp0WJvKxxN9aEZLIzGVbTQMwlXEe96/9pYd\n",
       "AC8fphV4xTBxUi3lZju37lZx/XxT+Q97azB+MTG6jKDjK9DlpI/3rWaJVHSBb9hWYhcqhTRjpS9C\n",
       "qn0BPYlIPK/wPuKpOHp8fadyUe7iNFUTs8RDA5Ech9URASTmQABieDdT+vyBHQDbgBZbd/pE30+d\n",
       "z4vdFZNKNK5gfZEudzkJ4qfQi3D00RqnjbKblfgObV2blPvcQfnypVHvb1fH9d5Sksw8lLtoLlr3\n",
       "XJZ35UyB5R16P/dGp82iqmeNGGY/qFpNrCOvqKZT0r7n+Q8RW2ORKvRJo7nYxelGzN65jeUNmGUx\n",
       "CJti0jmwjtiW9zlbB1mSmIuqtnqOS3wAo5wWwSzC4C0Bz2zfsJWJwWdceQQ2wC6XQmz4nkx431mp\n",
       "0L/Sz3tfFRGrEixDLrx76ItFGzy6f9v9T/4KhBwHuQCke93e+I/NIgyoV3myfEvCzL3deVev5lYh\n",
       "FkU7rM0BhsHOBSD2+nWxOuZioiHXbnck8makGpuf5RfrsyPo+UCU4wZIDQRhi0uoV9l5M1bBgCAD\n",
       "ricrfPu5nJXuEKVVXvXGSpKR7XBQ0lC7OLhFW87hsDWVxFOfqOR4EV58yhqypwlJxgJXaCQrXV1K\n",
       "t4z2ASfY6z60BUi00KT5ZtgL4DXH+dFu/iknXtsXdIiM4IpToc3t2OVuco/YNL+sWP2upSOI5J/H\n",
       "LxZB5lkVb2YYDMUIfQvP5BMGFzrX0z96WjjhDPy/aI1p7NpGJQQaW//9PgCMFFeuYO6B9D6C9Kag\n",
       "veGsjv9mnyZLn/8xPxr8WXLlTHidulkuWl79ceutwT4ZvpUcgzHiALcMXVT6ghL+i4DSYaZZIngF\n",
       "VAOSaANKOlWRG2xQkFE9uRXiTfjDTV/f22aeNOjiQiQapXeVPF+kZNF0Uu1xJJr8wsySLufoGWLT\n",
       "I7r+EOpqLTX7Q1CU9JAMCba8P0AYVBMK12bhnchs0MnjIJfPCU/xQtI9TMp6Xw+F8qstVr8pxivY\n",
       "DeUzyNnDXH7/xUa0vsZ1tL/JSRVCfObdN7UZrzH03Si6+l+eE3YMeVKf9pDcURsbJF2E631CRLiI\n",
       "uw3K2Iu5pS2PcECVTZjdnVAG7QDjKAEP4xlnc3Qvbs55VjJhP0E7ZSRa4ppfmgavwi3jD1Iuh0HU\n",
       "ASbrX7R+WcnTuQiwUFBkzLD1SA26mCcE8R8ZRXJxZ8g5CFrUsUGS+oOxkJswmqGOjupyRgCtjZ2k\n",
       "WJaEOb3STMH8TjUe9bWnMANWFF5WoFzn8yY4iWQVQTPhl+laqRlVaKXNs4p+cKVkVilnKoHaz7+1\n",
       "C0kLpItfk+BWge9ONDinwmmhQ2c954yaZ5i8Ld6WHqkzTBUlsuavqm386CptbkqIcAxUO+OlewDX\n",
       "N4dl0Xf2lthcwUSz3/PINx1QO5g64DzFMAvlT6zuCI0aWBIZgtZ9lzYWQ6Ct33OQRi1vPEq7jvac\n",
       "TaRwLPQbWAGaGlLzkMy1c//j9Fo57CjcgPSkPkhI/kci7C0Lq8BeoMMig5GniMasVQN0SbtsUkFr\n",
       "JwsNKzluAedUsF/BPdr03Js6RCQALh1Qgu9vOpJL1AIrO6dz+8TFiK2IQUxj7kCJC+GTFeFTH3vG\n",
       "6xLrys6qXRhgoy1GLsVci0yhWvAqKy3dYCM218NpJuaU9h1PfW1xNMWXBacMmUcoPRmfO+NuBgUW\n",
       "tTTvNmEx1qY1zbns0MrRlYNPC/8OOr0CpjAT5tNOZTa+sXxZFCHIblHPADeer5GD46wAPcCW963W\n",
       "atwTjRTs0nLWJmHr2T20KvKS0LmnbOQyItEuTnxHytr8doF45euKmwVqV9XNURnXok/pxAgsH2CN\n",
       "ijJ+evtl7xcrgrd1YmxoKspiJTIFSsB/ZIrbEsziAIYjzPNLvVlKfn+8WyRHK3dj86ErQp+3rmmz\n",
       "kF8gSL++Bx8HDg3+s2pfcTAzDlT+ReTM4J4IbrNss62GDLCYAoBAOXcZSayf2Dk7m6SblpSkGZF2\n",
       "Idzuvk8hOm0x8YXfOiv8I2XMYj5/efqZn8/LjOvppRM9hM17izrafDo6VOjvOASs5PgBM059NQXk\n",
       "MTc3hblYl4L6G7+nPYgjL/CU9l5ju6aUMioSt0T+ycuiY2qiWKHQxFsgopp6QSZFHXkZWdZqFtTa\n",
       "dQaoWTnTlJtJApZ/FS6Z4wAw4zFGH+W00RhWJ4P/MVowlt8rmpDyxiLk34Fn/AXTNyhfymq49cE7\n",
       "2hjT8jwJH4Jyq5pV9pjPAYRozBMeQGoZyx9P/dt6XUQu1/KSoc+tVUmGOXYbCDwjlNy/Y5uASjd8\n",
       "3LyagAEHMw/qcQ/5zfd7U5TezY4Ei9Z0/kcXU+JEBSCbey/iRqZjtzdRA+gLB0HFTip4G//9oLYj\n",
       "pBGis7yFt211t3UC6rvz1kL22SogZs4N6Ki6t84mQ/6RQMK1XhCWl6V2WfV0ksA4sbVliG6uE+M0\n",
       "PFZbONPpnLqKbmuAtgskHIjVsMPW5Hu6WQxwLY809wgiEZw0femCGpS78/5OA25WEOSJwq0o97EI\n",
       "DziQ4qRLKmV0hXvoF3nhfLtbNhqhSnCD+S+lhhrOLkC29dvm2GcpdbUXje3GkEkfSbROZ6kz8nRd\n",
       "rdmXLstid+4OA/XdPWwIMAW1HPLzc8Mgx9uMYGQ/+fLwOr9bypA7y9K+tVlgB7iAfHB1dP7SXBL0\n",
       "L2C3XnPiqlMnYqz7ph5BQ20hQfv0tpKUP7TF6jw/v2P36HNKSv+4OpPYoleLBX6khexGBIiHTA0W\n",
       "3wO+NYb5O2CvVboMXJZ2rSl05HU9AHyPIbWCbIh+ZrRxCPvCwbMW4BXqN+EL1z1TJArcUFvlbYdT\n",
       "F0+ClEeb9bmuSKHd5v2XfOQxF+w8kpKsd4WDPqrsxdj3r2JuiqSBAqdQA3k4MQFCz41D2uC52mQP\n",
       "txcwz5XGkFJcS5baBUcOc7Pnr+HgqpNLhG4Z4XRZTJitS2jjAYJNB32pxlVIFXhAg6zEhQlnft50\n",
       "B/ERSd6QVlTayZ+rmUZU28fEPsseJWLeNhaU5kmsct8ryu6B8ztLfrV1KJXMqzOwfJ3ub8Oe3W6m\n",
       "NmoWIsvFd4u6wBygWCHIuTPKMq3aNP7Vq2R3Eguq+i7cQidV+IeQTEUhNczQ04To18Ns6XitxJg0\n",
       "kXDLkD7D5yhL7HtxJssQhpQiqUv7ACSGYiVIitI1fHZWhDEIDJ9c0ySpNsX+F1JW14ali0WP/oww\n",
       "AAACiEGeQkUVLP/PudB6gaTkSDrUcC85QaoblqJuC7YnoeencBgfxZdpClVZ2FIsR0DYKXVQBXJV\n",
       "Qxc8pv2BZtfd2WS6SNwsa7367PN2D1j/JTfSetZEJw8/SNs5kbWVr/osEi20r5RQiBGQks3VTcKY\n",
       "0mUDrVIT8X9xVxN4EI+mh2BHCXl5NfmVcWVzsg9X3axxsq/W3FvxaJC8vLnTVrdZrFweXiIa6v8T\n",
       "Ug2//2ma0LpWpRp+XGcAFvTP3ykluBm6qKhaiubO+hWNWTwhjf3/4Uj2t1BBUIRob9ConVcFBvWQ\n",
       "dk2uHws2LefyvHkusksIPdraEN8SYR4IJ/0/s0cXLZZz0vcDAuV/Misj0GxTj2+O1gAseVl1kf6u\n",
       "/1a3tWRyUdJSWPH0GdgixsrhHU1ouwZkOICztik42nmQOWpPFLN8dcoRuZ9CXwN8Uh1k/xiJhJF5\n",
       "HaTdvhZtdoN/AraQJqCRxralXoglCh7LfX/luyy+SZAYDv35LEN9QRQuQ5aTJJkAlBUx4WX+HHHJ\n",
       "A70sXpLwxKTl/mvYjbTMPjB21Mpwt1ET56smd3pkmGSkSueNV2OLbFucr2RrX3hpf0eJOIKhK9uG\n",
       "aEaddnFM13XDC4/K1MZQpfX8xhqI0GRPs7e+VQFkgo2xxxWD5Z49gusNKtS2RuiDAZOUcoYYlbn5\n",
       "F7RMb2AI5INWp1UW1TcMhbZATAUY7R8kfFiErL3HWEL2dIuPoxlPBhnW8YNuKdXkBHrT4kAsXlb/\n",
       "tD4TQBYriNW/N0umFwUhxk5pA2k7K32xxfgycyU04hLXbdFzgRxNUuDvusFcGMe0b0oID0XtIsKK\n",
       "zbHL2zGXdGOp3Q+CTS8xftIKTD9dFCZhSQAAAQ4BnmF0XwBqsDYnhuSaF1GdT9WSIsrFOvtCBQvw\n",
       "b027tXu7QaP275gKy6mL58RtgG9MPZAMuExboZr8n0zdrPCCkaCJrPeiZcR8AnrOjae55bMleWIf\n",
       "A6EaK/I3p/e5Y2zwGUX0Eam+MEyLWnnABuW80W5X3EnN8rVtLLLsTqiDm4tc5WgvDwwIjuShMANX\n",
       "1iOMpnf9DjiLAaGqIX1rCPSoCtd7xMehllv/3WZJ95E6iALjiTCIq6woP5R2Q9QKdjQPFl+twxz9\n",
       "o1R3spukrg39iRa17Jz8w1cihJD6ZMg6wjng92jdZcOpmEOCWgnKHd54MslBBIvZnrvgBF7lEagb\n",
       "2wk9MLUqI8oHa2DDMmAAAAENAZ5jal8AA2qr0rLUVmwMU61PldVH/mADIALLX5p+1xfY3qIWz7Ml\n",
       "JccN1LAZAopG2soOaBrdMRb9zHqpxOqYmY/tyAeMUfWaycaoJy+e0jR5CdD9aoMg8USDkyapOZkk\n",
       "oRoouMptxlGMQpUDfLxs5TlfsI+h8yRMLXJYxn4DpStV6mqrG935qhRC8RAXiSNgZrNlRthonhc4\n",
       "H36OmPzWyi7Et0hDuRHmtDcszZJVt9xMS0T1GO7jisve9yM5crSRPnyp/61SRBM5SyQVWgCjETgv\n",
       "ABPLmqm7ZYUJa+ViAQ40FjPcLh/F44P/R+YTTBJEC/KFMjii7JPH5L1SIjkSPsvRvBDFb1Kx+3q0\n",
       "/OMAAAfdQZpoSahBbJlMCEf/0VF/QYzNRC+U7dlmABZbLB20FEVSGOf3Spj8oAqHSCumGzXdF47O\n",
       "fgy3fouPl9Hcua5ZeaX9UUAbvGx+P8GqpPAevqpqa+XGLlRKxTaHbyQ4ZQdYkJAOPW7zAxteO1Ns\n",
       "HDkKjJ5w3+opSrWih0C2YZzZd7wyO45CPCCrhNewHutXCpRWw2/A/5abDHjwWfc6EDQs/f3QR4tc\n",
       "VHvjXtxklbcMa0y/8v9AvKxZglMXXjBvHa6oVuOw80PiY04fGv7ozqo3TY5GlivkOC+fHmqob5xx\n",
       "9LJXF2MbLN4Ds1vQ8xiwDPWUJKhVB6jS3cVf3bkDf5PcJav9ZbyPy3ePW3+E6ARbCxI7lbBYPQt0\n",
       "s1UsxUWmZmxq52Tm65dA2w4SgwLYXsWWG9wMT5UwqNRV7AQQdPn5p3+V3OIk5quaqrZ+6lH8ejwc\n",
       "l86HRnWaREHU8hdmOdyAMltIjtz7hTkrj43dSTvDx/WqE4hPA1zo7DktWNUguxAUsqGApw6vN+Gd\n",
       "ynr38fxvBXqh1KCJcS+Ow/9JjREsTqhNIFNQGTTd9nY/4WKSrAhAMPYqSkb0Phi3xqdlTfihBaJp\n",
       "C5PH+hUry0isJgUBTa5tUu6KfN4i52ytRJ0oI7d3+oke0380wWf5ZGExKToLDRlYGfidEC1Q1mFa\n",
       "B8d72jb99Fz0HZYS5Fy/qxDoQJ+jR6AuvZO88emu4WJqAiL/uVEkYjX2J5Zyp2qWDLEmLplkaYXT\n",
       "0Y/bzWFgW5Val/6voNlKE4dHTA20Bn5ZNhU7tR2tiqV/lk0SSCYEiYFFX+2YilLtetj7U3cLiX83\n",
       "ZW4d1wFMFMZjU5rEllJ8AL7s8DGnVMqKFNHcR8f64ZV9yn5xsCR2cfdpLrGCxfBcSAU/RpIYExuV\n",
       "oUjLCIX9EMIopxtBDvoA0ENY6/E+rfBzN8jOAvjj291VETOIulnF8hSjY71ltu8Q81weL4RNM+4R\n",
       "SUJUQJ8kZgk9q2l5ay2vAkBYZ8ZIol7YzJkQYvwK77BpA9qnQFaeCHQuYfXSDXARuPam++oMlgj9\n",
       "klw+Pzi50AVkG8DRXZ1KIJKVX2rVCgEGKYncn8BRfhOaLT0MLnj/YFMB34fsy6IcRzu8leG9QaVV\n",
       "v+uXZ1qCvx8z8azDHeaUeVcvb657cXJaUxETnL8awrOsL399YOdsLroRJaIqsSpRN2gnAMW2cB3F\n",
       "nEIr+81Bg6Mls8ZemtlrqyQZEo34yh/LUf+joMptIrqiWHuxzXIgod0c9EBxnEbui8rMU6GTU53+\n",
       "OmddTHegKbtlzAGmwiyWK5bTbY0srnKCWukSqIeCsNYJAy6Pbnxbx//FErJwZ3BhdqqDR6xhvpAt\n",
       "5WUE+WE8jeaga26OGYFMGTrBVxLJaU/XeFOTF3IO3QegTlcB9fcu4CXG6dZWDlxLjf51RUH/kb5g\n",
       "b415ll1T4mTNTn5d2zHsC0iYN1Y0R4HgM81k3qB2f2Xh5rIAzQLX4s8XeA47No21QGOedIY6zT3j\n",
       "ZHCIVpZljZ1hrt7GoZGfFju034vrmKWwDbM5PTphV0A6RZo2eAybMWb3Lnm6CzSrK/u+esvRMiyi\n",
       "HabFCuamIfOoP2zGkq9FeUONZdjk38MfwgKqXYzk+zlvs+fYs8/tWRtsR5/AJCuO2zpaujoJjLCQ\n",
       "Wv0FLO9C8ZTDjESNfQYkRNGzxKaqNr/rgIP4BSaM7WmqXe3P7HYxf71O3mndUrpAZ8ANOeRztRqM\n",
       "wH+IC2q+uPjhILVKmjQILUI6lYRttUo9Cums7xF1r6wocxMfwQ4Mbr2dKkDByzn1kjTTgwVjGbO9\n",
       "GlTVmdLIkBLCnL4N/y9M4a3UJe0X8Yz4M0abr7O8vRWgCd0JBfHiXeeF8FaiH3iDRfIbw0XnTOXs\n",
       "fmN2RS0j+8RH6kDAkRN7DkusLTHQtZQJVMrSEpdPwv/TgWAn1Cy5aAW0AutsNLCd5gSeWU3WbICo\n",
       "Qscod6H2qOW8iEmbOE0Mi/GL48L5gOsmcJFWpcIt1u9p7479cd+cYit+geRCtUKxJ5RvnytBFW8W\n",
       "VAgglTXGDvAnlnH5XETkZCcrYEIbSvQgkvhJbCrb0TGQjFZ8CHOJL6x6oENxJenIlphWKmWffoiN\n",
       "k8yV5yUdbwmb9qYqAMt3xleBzLMLBTXx9YBVYe+heLJvGpJBkZWSCu5lUrbw+zud34OPXeNn/3kY\n",
       "hvTofOSmGwWXKP82PQYkDDZxc/I1QZ6YM5UsqUX5kyfXLmdDXjQQRPwaNpx7Ajr0bpqJCRwGUznX\n",
       "fjvPXmDT0b6JuVHRCMkrTVKdqYcQ7wrVFIuVpFNSxn40HLSpI+rYxJDxZkhmqVW09F/S1b8WblvM\n",
       "YbiSGpeIg9RHRwuTKyeLOBWZY7nt1bv4ZxiUYY/hJpMsNhI78hgM2Lx3ZdS8mZ7qQQktmpJrOgCS\n",
       "+Y4yjju7h01zZF9t0K4+AfKWH2E6rUqhLDOtdEQ9v3aOVTJVj+6bDkX3hMWjtlYuykjsjTE27Q8d\n",
       "BqxObDaGGHFp232S84SCxMEQQ3L+YYDosyvAZBDyR5YNhJ3CkjRvdqOMjGMytgb3qMQJlLJQjwCg\n",
       "Mloyc2BczyEr8CYo9y3dwNxQJYhDzVUXpBAMbDhWmMTT5HXds/sRWbX85ysL6+gImtj745yUqB8P\n",
       "/wWzJEcf+ZCpghq7Vo18+G0wuvudTfHRAAABh0GehkUVLP8IqWPsZqr0oniGmq4DdldYr2wru9yG\n",
       "Pxv6K6nfNsuSAYcHF3zHPlrNLqngDlt1GnvaPrD6eTJy7kZQGiK3mjHj+Y9NJ3E/6qNFts3f5uWA\n",
       "s9hjdc712nTaJbv1qj48pRSl9w81zeUfkaFAjZw+sGCyvzUcUvOKzo1g8I/ia/keno+HKNdsZ0vv\n",
       "a/D7AQ/8JTe/pTcQ4awgacdZMyd6+O90g4cK5oYjlSQoOOlzQYYAJlQShlr22en+24dbAFp+TKZQ\n",
       "nqzH2BQp1eZ1FAPxc0mjilpBouIQAzNuon36+nnZYwWIrSA56/2AM36DJnr5+kiGJ6ZBTAfrtdDx\n",
       "vh5l8IiyENnpesEextIdmwgc3fxqQk7xusgnacANSUnbjdpCymPbI6N8poEzRVxV/4xJzSHcP1zw\n",
       "Fl32ghpMKzWI7cT4Xs/hIzDigwxXtdQlho9J2v+FIDkI0+lyxvWBg8nbl71NMD+0050LGgMjyNTL\n",
       "nH3+X3kS5dRGH2UgUlEbsKGxkIEAAACzAZ6ldF8BwafeRPJtLk3wIiWnsZP7oNiMt+j8NK3zTxj0\n",
       "Om4+CHPft4A8XT2NGU3fihlcW8NqVkrg2jkZ51Pv1nWmwBxuiK08zgXZDIM1D7Drc3DcqjSYrJ0T\n",
       "1bEuliyPcotNXDzFFbSGgeqR+9Yi7vxiaNu6WDnavWKaBU6T52wuqXWsBgcFehz6VDXd1xftriZy\n",
       "ZieaJdxswysJhgOCw0tebjgUKb9kYcX1kRNq3aHqWgsAAACaAZ6nal8AAxufDXlE7fdkibImos9P\n",
       "z5gn5QdhsGtKKmrbe4HO8+j/nLscR0HqZQ1cRVGt5+FDV2NKFCpDDuPL1lvu4qYgkEE7dxfjHbe4\n",
       "hyBhLUa989QU8LKVviPdenyFbiSsTPmTwM+c5tNYjFpaK76SsHJk9800q//EUVgUKA7YdMPG+1gE\n",
       "DbCH/uRpWtFLjknCpw+Xa0DNgAAABXZBmqxJqEFsmUwIR//94QCiAYI5to8d0hhval2Wi/dGqTde\n",
       "QjXcHNr80uMdlvDSvaA0biY8htAgSorTX1CHJbRynylTNdf0p4v1tdJ8RY4g8h3OVKmQ3rgi/JY/\n",
       "0vMJcoYbXLrnRdLVRx3Pw9NiS+BHzog9kkku5eIBr6KGG7IWzqq9aumcXopCE6AOlUfhGOlfWF7W\n",
       "RBSUK/KX6JMhCDNp0XpG7RVrtpcF7EKg6AadNS2eStpn35tENYAj2t7yG5sV141SeoEgp9dIwcj7\n",
       "nP910wUJw2uOerOSi2OrKi8UFAy9BYXSaYREp9OXF9Y4O2pPZSJd139ugBxR5QnGEKvh466/OitM\n",
       "bJShncy+j75Z+oEyJohs8/trbDYa80ve4B3HQjpCAjp7S9ScK6RQyH+T6XrToECqKk+hDJyGylQA\n",
       "yDTM1axMdjoFx55RZGNnC5RYMar4BAjeK54FP/kqKLOvU96fpa9Awgq2WDZeGF64MmdvrNGKmXNT\n",
       "60qnhduT4qelCF+QKfAZb9GbXi6TX6nqfoenQnAsdqE1DZBAbs7fxiBWC+ywVxnZYGpH/bwOF5VH\n",
       "lgQVHnvHu/pcVV/CZROxTsBDRzVINsc0x1PsuxoTUYfrR7iyBNHNSYk7L8d2aexQgjIP8EaIf7Sj\n",
       "DoMvTfOjcJ+uIL7QHlR8TyVGNFm6OKbQOwg4nF+hrqDArG1mMfcYSs4MhgOPEP0tt77fNNTICEBh\n",
       "lMa+YAMI9kA994FjkFvIBDk+iQMwaslUnZaHCHgm65+bIZ3JS28tHT5uyeFppFU4Ehpiez7Pm7Y1\n",
       "uOWeAC9pgZHCItwoXmwtQSKIGxjdF8ykICeRDu5CBLahjA6WOAs/gpCwdmZ/rT1eCfC8a7A/DqJv\n",
       "bHuPRNs0++FQx33noV5k/V8wet49o3hYcQUsLfz/fkWDUxKEsYz3Ob77g1+SsqbDJH20f86SlXwj\n",
       "6jk31NvqOvAYPsJULCJFe5qhcjFt/u+y4MKhnBWVHWYWEa7Q+2X1jXu1QbAMgvPgg7th90R/smRV\n",
       "mH0oVMcfT6or1NXCCHZer368SP4wZSIgMO4BWSqhIN9UxoKJrh+dRvsQOotwly3o88MR5fxYXN4z\n",
       "XkB20l2oEdTiPAyt2xGOqMM4VtH4W1qeG4LTUj4UmO1DY33wQOjLyVsXcdTHrbxr5R5xgUexH/fF\n",
       "Lukl2s+yyq0EpEvN5GnLFi53Hq5AREDLseA9K2UhBYPAk6+xoSTjkwMVkGjBUnd4KrP9+iV5mfCV\n",
       "SUKKp3zrpbWJNvzE+6DNgI2K6NxQE+yDWaqKULwEsFYb7zwHcSIfGoCtk/8uLMB9Na+esbaQgcJu\n",
       "4lIcYBCm7jwjq48szTmaWvSRcWJhp6kgOvmffOv/8YQ6GjTPRZcWArPATpcWuWzfjetkOSwKNJar\n",
       "yIt4p57Y2oFlXHdyeU8K0e5Ucorlnp7nc3UKa4Q+3pRQvLi6arFgxZYlkw8/oayP8JClUZMItYJQ\n",
       "mFTIPZaJEV1Knovmf9yYAzwTMK08wm45KjQrzSclLrCXnQmBeLBCLBaFrfE6x9L+qu2llivrHKWq\n",
       "zElK/NDlbSghpkxvw/ZYmPe+36ZTPQ3HxM84UqeJ3ILt0zBGyAnlVXWdNvF5cUgpvzNLjZZ+Wy1w\n",
       "s1dNh+OIYg1yl4pdWKK7VKt6Y1yTkjjHsS/NbLC9qZFwW+tNIkvQfOk6ID+JUu1mWo1tXHjY6lRk\n",
       "6PXujKlR4O0H1PNES1GKmMiA/x60ipVX1we73DcTwLK/9fw+MMkIipy2dn03aQ1mwRKBzJHh0Njm\n",
       "PsQeoP6BlLfOA6F/hpCED+aimJGUnacd3aij+DokP6NNpXNWA1PjVV+RlrxbpS+Ftu/fqEAAAAEN\n",
       "QZ7KRRUs/wACSuCu2BLyzXJ0u+Oac63euTNzqx6wAuAnXxIm3CdadKOYG6XwgHzA0eMT40OPJKtr\n",
       "ugr3/M7nHnmzERqXAu7EgUGBAUNu8kyZnnyAvEHijAvM5QHqO/DprWWlwxbbXy0kCE/oOKoSM2Bm\n",
       "+g0PNqUWdSRoBw2UGyHLlsh4ie6jDp5HjtrRk1FxbCvXgt9RvYOeRF5psNirno/UOznJBPInvPgh\n",
       "tBb8E/nnMtlqNdNpYqpN4mJIYy/FYGcCNZdZGptUMCQCNM83x34H3OBNnkcgikdMkxL3t9F/fxLs\n",
       "RGrzguDUTWwOVOSvvyEgaE48d+4ozabqRV1nUVqnxPK2zUD9CzU6Cc8AAAByAZ7pdF8AAxlFTVs+\n",
       "OnHgNgFj/+3B1gCE3Y2sNex4j7GJjmT1y4k6QGJEuXJbN4/9YVb9auBz8Rv3rOB+KHalH2RqzJX8\n",
       "qT1jKkSIhflXy867/nFQ5yxPm6fFK1px+hfrWAPwQEw9m8zMbCja5rwnYYNAAAAAogGe62pfAAMd\n",
       "LmHLWRMmOVfSiW4bdPw2aBZe6/Ue9gywGNqs+fjB3LBisR4cTOpuP1VLuv+uABxA6agBUbHDnBsg\n",
       "f+pCorr+m9+VdNHW/OcgN+60caZzwK712E60seeFFg/W76zhyGRCk9XrLmev5578TFmAr9KH3i9s\n",
       "EsH5BNdUy3vMDOuQQLsRuvxJ/nwCl0CVipz7UUQVWwz/d8x4jUQj4AAAB1pBmvBJqEFsmUwI//yE\n",
       "AOD135XihY7V6a5XQ5ZBEGkEMlC9sBCYA17iYgh9wtBFv6kaTf4VfRLGjv/C4/yiviUIR4G3QfVu\n",
       "Sjm7fnrUpb0WLJKDN/jb8v59N6yB5RqkuPdQrUnRgxMKvo/S+fWCTUm6g3V0wMBNKHnvsNck1lP3\n",
       "KtdWi4u8mq1AwIMHm1XFuGF/XM2plvJi0l6yCg9xHLzYhbsobZqdA5gHBgsvUXnXJgDG936PkwB4\n",
       "iR7zKXNVskTCzskWWtOS9KcHsEmWoGM04XHtojSY0JehKSjXj/VSOV7pbvHdrRQ86rVrIGxnYUfT\n",
       "/1Z312bXmqtCKJb2PZC9RmQUPSKjzOOZFk7C3w6VYF82keJvJlqcGdhLhXfOH5GsAGbF+xcBaCI+\n",
       "DCS5xOdBrYc3HogUhXh3FxMKkKHQqnPYo/7hYttfp8fnA64TZ3zqATaShleO0y2FWPY5quVK9L9p\n",
       "gl8ppG/txWeagz7/pl+LWclivd9hTCifQ47oSxxw2StfzbyQdrWhS1tP9j9Fq8gksTTxvJ2n5SD7\n",
       "08e/Jsv0vXMAHK8xnA3MUXu4fTVTiYlZbQ2CMpyKIn4XBVw4wRanWc7DcrPlxQTcsaLaIJsLIWCS\n",
       "rDzn+L2EAGuLSUD8SRZBPve1ro9Ez0Lk6UMFJO7NGNOtUQIeaCsZJxxz4ZGv31xCiLyU8642DTYK\n",
       "KDV1WTaWaVcRm7SzJMAAsD2eJf33nbheUswl97KMLmqCZFVE0nlCWaRGzklealfziSqk+sRfnccO\n",
       "Xb7xe58sGcPDi+AFdzUx8MydJwzQZQU9lCMOP+PB0ZXOl6vA8KNBcu4u17HFVAUdQeyxmuc7nznT\n",
       "f7pkCt+6qlxVODBCiIPM/v2ZQJ2mo4t/c5zsGAaN1iiUb9IbwfMn3tIU15fLQDYiw5BCb0QNxSl0\n",
       "2gwJiz1MJbLxx/Ve4oxA2mmh/dYOwApen3IIa5fKsurCCl0bXhj2OnTsGmVOBd+sdCvX+1Fs1Xmk\n",
       "5p0F6mxsIBpZXTO4NZKS+31J1OJ0MY97fOqyhUXUz6/RHKIXC24gapXZOcy7eul04cgYy7REWSEA\n",
       "+CXfZ24mPlOv0gdGAMUNv0vq34FhQK88/0yHU3COgkppgeWR/4l1BRhJsq7vHoHhbQy7lS4KPufU\n",
       "lNSDUagEn0d1uQLW2ikCAm+eusVaAlreNux0MlXNpRcCpkgnY9mLW6JSphojirxMcsLd9VdfEQ9t\n",
       "iblIVfYVdOO6Dw63JYTbxDZu20BZbwk9+XECs6ugmAPkQM76jpEKh0SCI70rtfxIaiHeY6IYXhiv\n",
       "412e2nPFMkhJq9VAWaMDxKRo13um8Cwef13GVDVjW6xnaoxLuGoAfVBkh4emFqN7Q2AySHOhMp01\n",
       "qVInqNs4APJZyTsNSDMxZRCZ4gsljxXNUha8WpFMBAyxy7ssNmUTvmmpsWPLZjCqttZu+nFcX6gF\n",
       "5KTAOb/G93XXq1Zt58YgsaO9voeNdqzumWhcV9PQv9Osuc/vk0DMoYa/Mbo5sLsJlx4ddReHD6pN\n",
       "6b2fPzJCFTCIbLyVrpdYB1MIdFpBUTVsxnq8VUA1pjCDdpsUqgBlIicLWKPuTxpxrUpfb+0IWsYC\n",
       "utgL5e21TAgf+DVQ+WBwAtBgXzjGUVWjeAopfUqjex9p6GFJIaa9D2UHjXzvxY/ITDlmerkUOPBC\n",
       "2MGDRgLm1tpDAIsZOK83JiQ7uBTl6QBF6ptyWUui2YZ0hwf3wu2Bd5HU6W9YGeUVUG5TXi4CtJw+\n",
       "HfOhc5dBFBkjc4IAcBgYZiZwVBYDMDnuFUYagtuWQSrl9Xh9+4ZSuh+fYuWdEfTU/8Vx24sTLHCe\n",
       "8DPqDEOf6L1h/pN2XgXUMxusMQYpOpAeB8mUyLOW2I1k3WDN96dc0jrvFTh9eFVze7QzZRfI0o85\n",
       "Ifqs1HjvOv37bjHo1XvrqTrlYlYTBGzAljZeC8fs65IeTWHKuSzimfaDAZEO6CsRDIJrpusNhZQa\n",
       "qnGsg2dbefJpsujHvMj6pm5wWN+kKAQ0IQsmotHb9q69g5W5YErtjOcG3ulaXO4zGqOQ9xmRfvCT\n",
       "FN2x2PZLzWcud1BuH/zE7nPj528fyWx/9Y3wUB/gAoujOzyfzjQqpKkLgulJJooTqanv00d4GrHc\n",
       "+dvgGwk4hvtMGwmNny3/bn0iflB9nCm7728CvXAvxZpWTm1y5T1H31dGsoP+nodAQSlHhztGgHAo\n",
       "WlKfIMZc+k9oltvZ3VGZB5Ioq8X9skD0oQVM3p0Ir33JLqlnoFOsXDJ630oSyh69BFGjmZtv4HIS\n",
       "3I/N5dJGILLUAdyuR9v6iSi/2gLk3ow1R9rYxio3P3Zx6FDQ/sdU/cDQP795aZNifWwyyvmrFEmA\n",
       "sV+BoRGJWpTkPqMo9ob3sohy5Iu9oeHzbXO9Cknb4J0zFHbmEyYkZZYhEioBNJVbQxAQd3cKnTU3\n",
       "tWxU3e97WuvJiNwhvvjMv/+DMP4e4y2vSGk7RI330vdm6aMPPPyuH1fR9fuvAAAB3UGfDkUVLP8E\n",
       "N4luvdWqgBnwXX7JXG7M3eIgFTCeJOb6D5WCwDjFEbPJ6wLOJTUgujdMtU9iWLJ0KAX6IoTGCpt3\n",
       "pNw8+n67Glhs3F0AgcYZUMhQzfThukIgepJV0Skc+8SUfa+0lD2ianUrCCRolVXmJd3itVUiDzik\n",
       "2ONRVTzpSPQGb85VMqeE+rb7KwZ+vT7bGNsErSiKVkMXBokIVv+pC/qw4Gc1lNCPqLi2BwOaAnVD\n",
       "y1TJ4gR5+7U8UvlLvj9szJMGlhMGB3YHxdNWfrilZESQtROC8OZsF8uUSIpHjyTO7VkruWdLDSVv\n",
       "WnI9vq9SRLh4fuMpTPS0SH+9Vrtxf/d9ts6GDx9+0MOyUfFj1vjIgR8+svzzZbvIGdeLuwHeVYpb\n",
       "x5BDZEPlrVe4D88fiuZIAxIiCIFKM8fO6Dtk55MMbcxDfue4kuskmo7hqBfuk0KJpk/RcpmvwFrR\n",
       "5WUvhZLAKj/uj9hhgW7cfWcuyxl1CgLK1Ngcunr6QZJM0Me7nApBvmzCdOFBk0AOGZkc1n2oZDmw\n",
       "2h+g84F3KG85e42DnbLlq0mHKr00tFEPO6ffD3ijuFjXj+VWr1Ytric7cj3NPRm+nv7t766zAlDU\n",
       "g9djiD0X0nenfzdZIQAAANcBny10XwADGV0fHHkzPShdGMoPS4DAAkTrKkjCw20GvpG8F+WkEFpp\n",
       "VLiTEnsBDwWIfL9DsUEUIKb8LbrgBOx2EPrDhGNdKCko48l6mZpZREAi3Uj4tQRgbjaK1WXUDyHv\n",
       "iis69DYJ1+6I4QCpnHT4osgx8wl8bE7QbwDXDgcmMit/BxIQmigXBYDr0QhtAu6ZXWaNK+16DQvd\n",
       "/oNkLQdpWP7Ahob94yNOEWUr5mqQjIWdx/ODjWtyv2sFFba31dXt08IB1yU6m/bgtX9xhvKR0bgD\n",
       "7RuZqQAAAL8Bny9qXwADHS5g+TJhs5h1q3wAtva5jrBz1einQjDMXgFTHk/ayUcuefm1jBb2irzp\n",
       "pBv09aAsUO2wNfAKyyZUeegb/bCq6D8ahH1Nd/8mI1DiilcTwRNpmaXYWv42vFByfYNmLI6p/saS\n",
       "sOelqdj2i92haMI9QhGxb2j1Pz3oOQvYDMEJDdSWto+JyAYkyEjsZmYvYDkHnnPLCyYq1iDQYR+i\n",
       "FOAWDxuFzV5UgpP0vgEPJuPSb3X/pheCEpZ0HwAABr9BmzRJqEFsmUwI3/pYAagT+lPnFc/9YkAo\n",
       "juN13Hwhu3BQhcnyhNQVCHflwBto7T6XUpuJ8h5Sl/w9o1I8r64SGtJ/7kB7bo5ph2BsnBLaMjja\n",
       "U4IczUHyS0u2REzjF+mqmhqTlCVmz3SQCKRGSZs52Ad4U+x3RdqBaT/3ui3IZdyt/4juf26D3lq+\n",
       "kkER87l02I438xYvhzvZdYzy/w2YWq0NPvpT+/lK1VQsaazMhRqdK1EgHpqO1Grt7tN8H+9f2FV8\n",
       "xzU0fY/j/I5fAeqIvq6bYSVRCZiB7Hu3DlQfidLeLlm1nE7b6K577G/1J6vh6HUzzzeVIS6D2Me/\n",
       "3md/WzgjOKmqV4acJuHD4u4/ks5c2fol/SfwWRGJrFkAAODeOZIvZuf9PxG59tsMksDGwX1gHqtu\n",
       "Iz7szrgZnmpna/2xjBzRliDykPKBggEk/Dex6XZRcYbKbaQnn67qjZIhmDeTgOSfkJKLlDVjQrci\n",
       "fjMyjXMzwiutSm0dUsHprJ8HHk+r1PQdtgrm+mPY8E1ROYM9cCn5wxKLAZjz+tuWS0cEj5dKRPCQ\n",
       "Uzl45nKY0smp+xWMtE67dhrW5JjR9rsy553Nm8neK6Ui6r1dBGvs8h3dWly2SZhNNTRsxBVPPe7X\n",
       "BimyoQqFks8J1XMU3HZw0ecBaPdGMwxyFyWfJm+k+QgC4xf7/wFrPiLQBu65B0MkWACZEHhzYlqt\n",
       "lv2SkrFiibH+yifHxbw8+WZLNbCQ5G87R2e9Fqf6ktUOka+Cy8KPnygJYigc7SRgBm5Yyv/Njwj1\n",
       "szZOFLTSKZl+etcTdX8MYNCBkujVkUvUbkndIh/kY7z71TuGfD5vcF19Jwx2ZR7e1SO9QEkkshUZ\n",
       "f4tfJ1vWTropMyYA4jpZI0TALUOztQO8mrl0hrpCjoGab5Yd85S2XxPyJBU4FyR8eV66EwioSO/O\n",
       "d8Q0y1wYigvr44x0U1TI7/8JtmX01cTJUV9i3Wnv7Y6hqlRcPkEevbmxLFsOQpmau0fI69J+DeRc\n",
       "K0ZVDgN+UNUUJPhVnuT0ImZSNHTds+vUwLYyYlrw87/fdBGQikW4YR/cbQuVskp7NJvxNYzXKKW2\n",
       "Mooge6B9xZuL2wDUrJbpIq6eFw493h0UkPN0bjXezk9ENxQg6LYm5wTOxTH7+QcFX9GEHvJx550V\n",
       "u98hz8FB6k0jjacqiq4vMDEyR61+f7N2oApXtzsW/uxNj3+UAk+BEXp1MqINOB2srHFJoIWpKvrz\n",
       "apuGVB3ASwBFYJavP8Fs5QpyScEPF+g6GoA+TACzZSnmfyOpxvsjJ1LYRNH12ku3WGkqRkNs8kaS\n",
       "Us+YERfXPqoK1OVw0BvYq1DkeaxrF5ulfL6VLuDxeGkIw64vTpUewTG4bEJGD7HBL8duXGKLQ/LE\n",
       "dunX/RCUfxgfx8fPVY6elvfSXEssUMjpmsIg27844b0OaWm9oVbfrrfBzEGHAU9zICZgPkbI/s0d\n",
       "k8QylVshJSzweMn8wSjU6mj14nDiy9g6OOKpxGzXoBZ36qnVcfnlwk7pFKVTXXVlryr8OuUQ81FS\n",
       "0+Xjeh1/Q4TcGKjFhXL82PFkcgacdx21E98LYWgAkBFRjrQgiPeO1bxmsr9vlozqJRqjzoZLw0i4\n",
       "JGKeEiv6Q8yauPBnbRuxhHyHu186AxoHRA7YnbCI4DOjycY+8b3BIhMsR6UbdH2OvAvnmA6Cd71L\n",
       "5G2Qcsz/XS5VLyhZnB6o5sxcEcSBmt8zdihDcBxdpg0xP39SH64R6FrptV+06RbqIQP5awJMwG2J\n",
       "GhLaMR1Wwtnl/vANqDeAqiNq+kRZZCfK1WcgWAD35YPOV5kAEwROPS/I8kx0sfrWAkWVy9G6BJd+\n",
       "FCqH1sitXoMa4Ki8/I3UyYgJPqOVzkn+SjnFJu3tpFtdoeQp/StsxwAzkIItXjYKLktSUk973Sty\n",
       "9BjWwMynwwn8BA1ZaxroN/XDiF+MizwgYUI4l8foUQyfC8VUgAY7/Ip9E/fUhGIz3OEQNZfRwVuQ\n",
       "6BFwmDb/FBP2ZQQwiBOa/ZoIfiM2cyZybTYv1v7havEtoS4BNc/yh9R/OOqN059fcnoI0T7nFRBU\n",
       "3gMclyQ00rs0dyd0wiiaoL9ilkNQEyw78OXjMGzcll8eTboFNRHt2RYSRVIguZtBJOaPWSucHbFi\n",
       "4ksy0sbZrjxThsJp5+JLUSvP2Au2zT8QAgUcU7gkhajmWaRO+tUx2amco3JzllNEF03aKDuxiARg\n",
       "9X+uczvYDaOqvOvLV5bH3xLSyf4DngBGIZgNVFpWD1PUTdPnQos/Mc25ke8gXkDWfAAAAXRBn1JF\n",
       "FSz/AJ53ZAL/yEwYGJXXpXgAR8C2sdxB8u8Z8mc9BREQUZYeSdomilZy0D/DcA/4sqXkjuGc1ADo\n",
       "yt6Y4ZINf4ajHeVceGeWc/l0VsLxSLFMvNeLPVaG/Fi2njsV1nkeI/FJGcNm4vnt9c7Qf50x4+Zk\n",
       "lD0phX3AQtb/SSee39el7q5izt2gUbJIa6t3mLqMc+hXXokr+fSOQ76KY4nLTfyDB6ExHdJ2+igl\n",
       "giFqGSmNIht0jMWfDkHJm4u4u8umtQz2Uugk2Lssbq9jvJfkaYDT0s/KdjLYV1k67+1prsyZe3SC\n",
       "yB1ikjwAQs2R1hqYZ3jT1qsuu+sRoPk6My1crEm6tizWdbL7tCXWtzGLn07X/NKiYGuPhqyFnkvc\n",
       "CbWGnmMKfg0dGKjZYKYoO+nmSoCVmvxV+0SUNJaxFyi8cJWaQK5UmfbdOmABLmGpUmI5PXd2NGQi\n",
       "mjHXAY9WeL3f3+c/kPBK8AjccvOSepQC6qUAAADmAZ9xdF8AAxlFJU7CH9A2lf+YCCNJZL/JPZAk\n",
       "yltJmO7rxkyDa7hV5zpXTsfi4sH9E1QoyQH7VjYGNznzOlkA5HL+O8R4L6PapzMA+vA3JeQbDdSa\n",
       "IpjpOje4jBuTmrMsuNttKiUP2kmMnvsjDoWIi5Sn99kBBJbt0N6bpLBgQMeYJ/o5/hudzROIxgC+\n",
       "TRpRDiFpdafFABEvMjugvoru2FqTRFCJjiaiJDMDFpcxmsuS2o7+4YexfovYHgX9wUs92Dmv4CBq\n",
       "kGWxTVmZj4A1galcDl+1Ms4Da4PRT426cclgWfBr/NAAAACGAZ9zal8AAfhMt02wZc1blTAW1LGC\n",
       "0qGaoTTiS9vsgBr1CqE3rgKXavnsOY93oyHDvoGkZWuz6adHqmFjrgD7KaLrScdipiESVnDyS1zm\n",
       "5/whNJd/vXYVhuxyJNPHlxsnL+eoR/peDJbYQujHzKZ+1TMGZPhEdFt4rIhfWySz7y3nBrQc5ooA\n",
       "AASmQZt4SahBbJlMCJ/zICuGPnrP2ueM8EXjxDG2WFvjBqYA48fv+LLqs/Adx5L+4WGR4SymLbuQ\n",
       "YByMWs3eHXAKBZWDZbK3RxQsY1ap0V0K15s/DVOyFszCoF73mtoJFeWf/3Ai/Y4n1KIR5HddTtq1\n",
       "E3T8Y40B8ysW3+NajikS1FmDFcxsRHD7erBWaenG+viTMBOTqj7uopsl8KrOoEPdmQBFKwMC5xkl\n",
       "6AumrOhKfYIn4lF1l/HJqfE6Ai8/ejwhTuL1D7ALRx1Y3sAiOwyU6nQpXVNwp4f2I/M6hLmLg7q7\n",
       "OKXuMBLimlSGZDxO0pW+4uo8OJOMxa37ghwVcQ9WRl6e6IcVsVQroVJN/fsU8pGo2ur5CaJ3+kO/\n",
       "1GVUhRU+2QJu0y11bgD0MXgpSuO/KYV0yU1f5uXrDNUeqYFo4ncBj6LqRXtRdOQ+wT7Qf7V9Ooz9\n",
       "nDGr9Garf54N1GA91ObfYlfXuBf4d7+jqJZTGOV+WovTijefWNLlDq7pAulZEeptJtNqKe6z25RG\n",
       "7g/KOQnC7i+k3P5xdSl0CgQ1TEIB4Gu7KG2QSWH0VY6Mkgsq/2EIRLvfL7Tw2yRmc4Ct5ja4VwoC\n",
       "+pRoaSL+i8IJ5kBtvnn/6758uLRVksCd11+CLZJ0lLGfieLoJrwPmVVXepo3hzhdXA9FghLnr2te\n",
       "P8cvgBPzTOUMScxpLJUT9FR6n9/zzWT+CU2lBOlsEOU5XcsZwues4ffHdrc8sz6e4nBKQ7TfeLOE\n",
       "TxBHYe1mWYEBY3RFAGyBtq+UIaSDLxEUvCQSNGusg/43f1rfrohMBie2y0hPJLPK7oVm3AriTUbw\n",
       "skOGjV3EO+wOj0lLJ38tGDomXr4jY/DHYuIdY+0zbBQ1srLoIsjYLjbz4UUnlUVnzD6yv07BSEO1\n",
       "Wsat5OlgF2MK68RVE04GeAC22zE+0nOM+Q/i3Lx9VZNNqIdonLjBn+KxIdJOQXw90CXKaR5GI9A0\n",
       "jhQldqPw59/g+ox/fMUOaSvBNoQz5LlbNFeIL+duibEYKvzPx0HcRpme9pAyX5kH1b3S6/MQzotq\n",
       "NC1EXYltCXIE1vrQ8BIOnESOfl+SmvGXq8gWySf1LBdJ2aqU0cm5AQtUl+Ks6vEmghDEWpSPf2QB\n",
       "kVAmkFDy+PAVt1Rq1ajF2QUuQxkKDbMkk17HabRcY/1q4PtO6jeWW4IfLsIqESaFXwPDec3idiRG\n",
       "hB73acnxAwcrRRlWJ290YMaRdpQnipaztAIjHSFCEbrgLHMGi3i3Z1Mmj4784J3e6vQseJcFJjjz\n",
       "c9iqhadlhAcJCF1XZqAsZ625nsqEtXNQMewMhKYJuqJQ3c8fQGhlZq+gnMZJsJiz/nJUG8g5+jBT\n",
       "WplFCnxnS38EwuHtMIjkGwneb8QqsgNUYvht9zI0NVApMKaEMbExjQni8/iE7rlTEwS0EkVTJbZN\n",
       "D+MLOMpzz5B0PC9cDlttEdWvRpA9hXhA0v+UJEN/4L79rypLMnTHjg5CeTnARmnB4ifqtCOuNll8\n",
       "IgD10K+nQM8kvEPC9N4qypFJm5K2mO/Ke4MhdFJP9FJOyPiZfA5PK+KT8+mXNd8ExhwnVPsAAAFl\n",
       "QZ+WRRUs/wDN7Stp8U+THiPWueUBCTckBu9bWQCAW/XD0I1tkcsy3fkKm5xoLNbXhNs+kMiHF0Ru\n",
       "01WkUAxzkLlZsPhsXaj+VtMrOQ0Qif0hEriQxdu9kM5ieRvUE4lw1g769RFSr4zR7KfnmmXPMEic\n",
       "5GsKqXQh3ln/F/IU+TycLRSvMOlHzYkQdxUWTYC+ZN5Eucp5XbPQMuJcwy3ch2S5mCvTwy/4NvaF\n",
       "TOvOaGM/Zx+6tYjcaBeM7OuO8z3194+aa6xfkkKg/gCRS/jwjn/8dofX9wo6K2wjlFrb9qsEiG3I\n",
       "3ogAx5fMnzOeHkH0Ecv9HctGNIxzqGcynJvf9HM/zhMibTDZVMyBx1t0HUU4PNxaTKrnNLB/0VXF\n",
       "IL0t8A54HCoAALVDib8N4ETobWUGwOyq0TxR4EuCAiMD4BrSg5ddHdmHEfeyEt2GtZN9KFVsIRiU\n",
       "YinxdQoV+YjRsNmFVPboAAAAmQGftXRfAAMZXMI4lBcvH9kq3B2lmRS1gCwCd2XlPuvb/R/F7IVX\n",
       "E80HtX56MCSd2ZGfRrt7bS7ZfaIDk5VT0KxKbwZdXiEgPP6keoBPw5UxRDkCxjTzJ87wWIoAbQwl\n",
       "0Crp1Mq3c+mgm87rz1j2YGqwkHyFV+cTJX3OrqGOI6Ep7907VlFWJjeuO6SNR0nKTPMM/ZD9wjAP\n",
       "gQAAAHMBn7dqXwADHS5jMDEIg9gbzM/cmCw5aSAm/9nkSFwZoGg+KglgspARZE1hfe96r3YiuN8R\n",
       "vGaLEwGRMciiCewZvRCrILm/T+5/d36Oo3xuVYEUElAOW464/sNkN/2+ks0bVBUc+SVcjVQW3CW+\n",
       "028OA+GTAAACLEGbvEmoQWyZTAv/AAAmhqVzs2KlcuGxqu60Izw9nVR42XY3C92fe6DBkQaMlQ1l\n",
       "E/rIBRztwia1AECES5/g9Z5KjN2e0FVq7jWKJEaf8TcgGYOf3cNlQtSZOb6bJ9lxt/Z5g2br/1lP\n",
       "w/+BoES7lsLyBEG26Lzp/bJU7B3A88wg3OtCf+wPtcGQ4kGv/h/yrd0p3kaNUntKL0/Oh00huATc\n",
       "+RwdLGjDHDdLEcmjnPWmA31YDaI/NfLG7bm55nr0dr2GB4jssY9P/z6wwPUsn3ezjElHpKW3Pyjy\n",
       "7IYSpQK8/G1XiNzYhEi3Z372OLj7DeXMTg9m3tC5RveJ7UX/2pP2aZyx8VqJ8ckLUZjCNOXAKj70\n",
       "WVHYbHyJrc4fu61khvzBbjkW1VaUynadNIVeX4NSw2bCFLsGhonEsIUDtx9CEeWauvDy2j7b5s7N\n",
       "6c3OA2xTIOz0nRWdf9VUiuy9VY5558zilUrWFR0NTU0gIX/bmfuHb7P4NHpuN9Z1pJ0Z3SXZH+pT\n",
       "SGEVrFwKVzkTkZ+QGDr4Q5IXliJbyW5cqa/3Z85PRa+rALscuJrFFP23a9mCrBELtonpjgJkeqgt\n",
       "e88UxB2GTo6qpAcdTnwxcT/KF0TiLTmIXH43/fZY6XwlHDyPi+KsAbmYStztsItEzGcrSti4zYFw\n",
       "YG+9WiLFUQNZqj3GA11YywTdBW3eVnVdWmMNJMb+uiuKZ/JmnNSdYuCAxn3A7fYnHk/pY3oAAAGN\n",
       "QZ/aRRUsTwF2Ov/S85Uuo64Yta75ilpWdg8L+gCK8Ldb9yXXfkxE7NWMTw2pMhUVUA1+T5nRtPmr\n",
       "RUykBxYLCYfD8JOYxjYvw47fqJD5e2AAU57BNqCmksTNy6UW9Px+ur0EiSq7UIOubCSsq6HyTg16\n",
       "XNHJYRmZgn1sXJMLgU8zClnnFrD4TVJpzTwrvynUWkbxlFwzO/J2PAwd496A4SPne7mxFt4W5gq2\n",
       "W6MrYuaH8P7DXSDBbhyYUpkRfrd+VF1t7y7vysJO1PiOVf0WAXWYRclo2Vsk3cqPKcAKxiJMYYQw\n",
       "BfNvJ2vazfCkq8pgpf38YhGko/PYdPcL76T2Sx++6PkNv/Wx/FHUGB+H2orYk5nchp2AAjt0dDa0\n",
       "0Pu/ObBcFyYHdUNKSo5N0zAjaPucn8Pe2JVBK06j03EyDRqO4zevqmh2OfLfhDfozl5DStOtMO7A\n",
       "/4Fh4cuNVFVnSpQB83vnDfFuJq2ZtjDhJqKRU2xC6jV4LipPDxCZxNAD66n8CIFSK/USIqS5wQAA\n",
       "AHoBn/l0XwETmm2CFGzSVEaAuXpsoWmVaV6gT0BNcYkarYswTAb9JLqnPw8qIV7HN9tr8/hJTghC\n",
       "1Fa3n+zm/gFjy57fIte0jrLU2KGHR2jhVLPG/1Ti8HTzUPnEjtWNZu5UtiIFuqO+1DFT+tMBxbOj\n",
       "ThUZ5KF5vyurIAAAAIUBn/tqXwAAs5pQ8byGLIh+qLBbRANVcJBj82OL5zSftAmuclbQxR7hxBMC\n",
       "K1hwYYBPohwhmnCaXnO3DiktDZGnqtFeFqicvKFM9eQx5EEJSdWJ5aUPg1Eofv3HrcXsnIcXvPsB\n",
       "2UxbGXRTzmQnlmIwwRCtnhJZGFEhJW+oTbqKo32qEJmBAAAGDW1vb3YAAABsbXZoZAAAAAAAAAAA\n",
       "AAAAAAAAA+gAAAP5AAEAAAEAAAAAAAAAAAAAAAABAAAAAAAAAAAAAAAAAAAAAQAAAAAAAAAAAAAA\n",
       "AAAAQAAAAAAAAAAAAAAAAAAAAAAAAAAAAAAAAAAAAAAAAAIAAAU4dHJhawAAAFx0a2hkAAAAAwAA\n",
       "AAAAAAAAAAAAAQAAAAAAAAP5AAAAAAAAAAAAAAAAAAAAAAABAAAAAAAAAAAAAAAAAAAAAQAAAAAA\n",
       "AAAAAAAAAAAAQAAAAAKAAAAB4AAAAAAAJGVkdHMAAAAcZWxzdAAAAAAAAAABAAAD+QAAAgAAAQAA\n",
       "AAAEsG1kaWEAAAAgbWRoZAAAAAAAAAAAAAAAAAAAPAAAAD0AVcQAAAAAAC1oZGxyAAAAAAAAAAB2\n",
       "aWRlAAAAAAAAAAAAAAAAVmlkZW9IYW5kbGVyAAAABFttaW5mAAAAFHZtaGQAAAABAAAAAAAAAAAA\n",
       "AAAkZGluZgAAABxkcmVmAAAAAAAAAAEAAAAMdXJsIAAAAAEAAAQbc3RibAAAALdzdHNkAAAAAAAA\n",
       "AAEAAACnYXZjMQAAAAAAAAABAAAAAAAAAAAAAAAAAAAAAAKAAeAASAAAAEgAAAAAAAAAAQAAAAAA\n",
       "AAAAAAAAAAAAAAAAAAAAAAAAAAAAAAAAAAAAABj//wAAADVhdmNDAWQAH//hABhnZAAfrNlAoD2h\n",
       "AAADAAEAAAMAeA8YMZYBAAZo6+PLIsD9+PgAAAAAHHV1aWRraEDyXyRPxbo5pRvPAyPzAAAAAAAA\n",
       "ABhzdHRzAAAAAAAAAAEAAAA9AAABAAAAABRzdHNzAAAAAAAAAAEAAAABAAAB+GN0dHMAAAAAAAAA\n",
       "PQAAAAEAAAIAAAAAAQAABQAAAAABAAACAAAAAAEAAAAAAAAAAQAAAQAAAAABAAAFAAAAAAEAAAIA\n",
       "AAAAAQAAAAAAAAABAAABAAAAAAEAAAUAAAAAAQAAAgAAAAABAAAAAAAAAAEAAAEAAAAAAQAABQAA\n",
       "AAABAAACAAAAAAEAAAAAAAAAAQAAAQAAAAABAAAFAAAAAAEAAAIAAAAAAQAAAAAAAAABAAABAAAA\n",
       "AAEAAAUAAAAAAQAAAgAAAAABAAAAAAAAAAEAAAEAAAAAAQAABQAAAAABAAACAAAAAAEAAAAAAAAA\n",
       "AQAAAQAAAAABAAAFAAAAAAEAAAIAAAAAAQAAAAAAAAABAAABAAAAAAEAAAUAAAAAAQAAAgAAAAAB\n",
       "AAAAAAAAAAEAAAEAAAAAAQAABQAAAAABAAACAAAAAAEAAAAAAAAAAQAAAQAAAAABAAAFAAAAAAEA\n",
       "AAIAAAAAAQAAAAAAAAABAAABAAAAAAEAAAUAAAAAAQAAAgAAAAABAAAAAAAAAAEAAAEAAAAAAQAA\n",
       "BQAAAAABAAACAAAAAAEAAAAAAAAAAQAAAQAAAAABAAAFAAAAAAEAAAIAAAAAAQAAAAAAAAABAAAB\n",
       "AAAAAAEAAAUAAAAAAQAAAgAAAAABAAAAAAAAAAEAAAEAAAAAHHN0c2MAAAAAAAAAAQAAAAEAAAA9\n",
       "AAAAAQAAAQhzdHN6AAAAAAAAAAAAAAA9AAAeGAAABlYAAAGNAAAAmQAAAL4AAAgSAAABwQAAAMIA\n",
       "AADoAAAI2AAAAZkAAAD3AAAAuwAAB+oAAAGrAAAA1wAAAKcAAAhIAAAB2wAAANMAAAD9AAAI0QAA\n",
       "Ac8AAADwAAAAwwAABYkAAAGtAAAAwQAAAKwAAAjxAAACawAAAPsAAAD4AAALKgAAAowAAAESAAAB\n",
       "EQAAB+EAAAGLAAAAtwAAAJ4AAAV6AAABEQAAAHYAAACmAAAHXgAAAeEAAADbAAAAwwAABsMAAAF4\n",
       "AAAA6gAAAIoAAASqAAABaQAAAJ0AAAB3AAACMAAAAZEAAAB+AAAAiQAAABRzdGNvAAAAAAAAAAEA\n",
       "AAAwAAAAYXVkdGEAAABZbWV0YQAAAAAAAAAhaGRscgAAAAAAAAAAbWRpcmFwcGwAAAAAAAAAAAAA\n",
       "AAAsaWxzdAAAACSpdG9vAAAAHGRhdGEAAAABAAAAAExhdmY2MS4xLjEwMA==\n",
       "\">\n",
       "  Your browser does not support the video tag.\n",
       "</video>"
      ],
      "text/plain": [
       "<IPython.core.display.HTML object>"
      ]
     },
     "execution_count": 11,
     "metadata": {},
     "output_type": "execute_result"
    }
   ],
   "source": [
    "test_dm_control(env)"
   ]
  },
  {
   "cell_type": "markdown",
   "metadata": {
    "execution": {}
   },
   "source": [
    "### 1.3 Swimmer Agent API"
   ]
  },
  {
   "cell_type": "markdown",
   "metadata": {
    "execution": {}
   },
   "source": [
    "The observation space consists of 25 total dimensions, combining joint positions and body velocities, while the action space involves 5 dimensions representing normalized joint forces."
   ]
  },
  {
   "cell_type": "markdown",
   "metadata": {
    "execution": {}
   },
   "source": [
    "\n",
    "**Observation Space**: 4k - 1 total (k = 6 $\\rightarrow$ 23)\n",
    "\n",
    "- k - 1: joint positions $q_i \\in [-\\pi, \\pi]$ (`joints`)\n",
    "- 3k: link linear velocities $vx_i, vy_i \\in \\mathbb{R}$ and rotational velocity $wz_i \\in \\mathbb{R}$ (`body_velocities`)"
   ]
  },
  {
   "cell_type": "code",
   "execution_count": null,
   "metadata": {
    "execution": {}
   },
   "outputs": [],
   "source": [
    "env.observation_spec()"
   ]
  },
  {
   "cell_type": "markdown",
   "metadata": {
    "execution": {}
   },
   "source": [
    "**Action Space**: k - 1 total (k = 6 $\\rightarrow$ 5)\n",
    "\n",
    "- k - 1: joint normalized force $\\ddot{q}_i \\in [-1, 1]$"
   ]
  },
  {
   "cell_type": "code",
   "execution_count": null,
   "metadata": {
    "execution": {}
   },
   "outputs": [],
   "source": [
    "env.action_spec()"
   ]
  },
  {
   "cell_type": "markdown",
   "metadata": {
    "execution": {}
   },
   "source": [
    "### 1.4 Example of simple modification to the agent"
   ]
  },
  {
   "cell_type": "markdown",
   "metadata": {
    "execution": {}
   },
   "source": [
    "\n",
    "Let's make a new swimmer agent with 12 links instead of 6, introducing complexity. Additionally, we have the flexibility to adjust various other parameters."
   ]
  },
  {
   "cell_type": "code",
   "execution_count": null,
   "metadata": {
    "execution": {}
   },
   "outputs": [],
   "source": [
    "from Agents.DeepControlSwimmer import swimmer, swim_12_links\n",
    "env = suite.load('swimmer', 'swim_12_links', task_kwargs={'random': 1})\n",
    "test_dm_control(env)"
   ]
  },
  {
   "cell_type": "markdown",
   "metadata": {
    "execution": {}
   },
   "source": [
    "We can visualize this longer agent using our previously defined test_dm_control function."
   ]
  },
  {
   "cell_type": "markdown",
   "metadata": {
    "execution": {}
   },
   "source": [
    "Using the API provided by Deepmind we can create any kind of changes to the agent and the environment.\n",
    "\n",
    "Try to make the following changes to make yourself more familiar with the swimmer.\n",
    "\n",
    "*   ***Adding a target (like a ball) to this environment at some x distance away from the agent.***\n",
    "*   ***Increasing the viscosity of the environment.***\n",
    "\n",
    "\n",
    "\n",
    "Have a look at the following links to see what kind of assets you will need to modify to make these changes.\n",
    "\n",
    "\n",
    "*   [swimmer.py](https://github.com/google-deepmind/dm_control/blob/main/dm_control/suite/swimmer.py)\n",
    "*   [swimmer.xml](https://github.com/google-deepmind/dm_control/blob/main/dm_control/suite/swimmer.xml)\n",
    "\n",
    "\n"
   ]
  },
  {
   "cell_type": "markdown",
   "metadata": {
    "execution": {}
   },
   "source": [
    "---\n",
    "## Section 2: Training models on the swim task"
   ]
  },
  {
   "cell_type": "markdown",
   "metadata": {
    "execution": {}
   },
   "source": [
    "\n",
    "To train the agents we defined in the previous section, we will utilize standard reinforcement learning (RL) algorithms. For the purposes of this tutorial, we will employ the [tonic_rl](https://github.com/fabiopardo/tonic) library, which provides a robust framework for training RL agents. Throughout most of this project, you will primarily be modifying the environment or the model architecture. Therefore, I suggest treating these algorithms as a \"black box\" for now. Simply put, you input an untrained model, and the algorithm processes and returns a well-trained model. This approach allows us to focus on the impact of different architectures and environmental settings without delving deeply into the algorithmic complexities at this stage."
   ]
  },
  {
   "cell_type": "markdown",
   "metadata": {
    "execution": {}
   },
   "source": [
    "### Section 2.1 Defining the train function\n",
    "\n",
    "First we defined a general training function to train any agent on any given environment with a variety of available algorithms. Given below are some of the parameter definitions of the function. You'll likely want to adjust these parameters to customize the training process for an agent in a specific environment using your chosen algorithm from the tonic library:\n",
    "\n",
    "* **Header**: Python code required to run before training begins, primarily for importing essential libraries or modules.\n",
    "\n",
    "* **Agent**: The agent that will undergo training; refer to section 3.2 and 4.2 for definitions of MLP and NCAP respectively.\n",
    "\n",
    "* **Environment**: The training environment for the agent. Ensure it is registered with the DeepMind Control Suite as detailed in section 2.\n",
    "\n",
    "* **Name**: The experiment's name, which will be utilized for log and model saving purposes.\n",
    "\n",
    "* **Trainer**: The trainer instance selected for use. It allows the configuration of the training steps, model saving frequency, and other training-related parameters.\n"
   ]
  },
  {
   "cell_type": "code",
   "execution_count": null,
   "metadata": {
    "execution": {}
   },
   "outputs": [],
   "source": [
    "import tonic\n",
    "import tonic.torch"
   ]
  },
  {
   "cell_type": "markdown",
   "metadata": {
    "execution": {}
   },
   "source": [
    "### Section 2.2 Training MLP model on swim task"
   ]
  },
  {
   "cell_type": "markdown",
   "metadata": {
    "execution": {}
   },
   "source": [
    "Now we are going to define a function for creating an actor-critic model suitable for Proximal Policy Optimization (PPO) using a Multi-Layer Perceptron (MLP) architecture."
   ]
  },
  {
   "cell_type": "markdown",
   "metadata": {
    "execution": {}
   },
   "source": [
    "Next we call the train function which initiates the training process for the provided agent using the Tonic library. It specifies the components necessary for training, including the model, environment, and training parameters:\n",
    "\n",
    "**Agent**: A Proximal Policy Optimization (PPO) agent with a custom Multi-Layer Perceptron (MLP) model architecture, configured with 256 units in each of two layers for both the actor and the critic.\n",
    "\n",
    "**Environment**: The training environment is set to \"swimmer-swim\" from the Control Suite, a benchmark suite for continuous control tasks.\n",
    "\n",
    "**Name**: The experiment is named 'mlp_256', which is useful for identifying logs and saved models associated with this training run.\n",
    "\n",
    "**Trainer**: Specifies the training configuration, including the total number of steps (5e5) and the frequency of saving the model (1e5 steps)."
   ]
  },
  {
   "cell_type": "markdown",
   "metadata": {
    "execution": {}
   },
   "source": [
    "\n",
    "*Note:* The model will checkpoint every 'save_steps' amount of training steps*  \n",
    "\n",
    "\n"
   ]
  },
  {
   "cell_type": "markdown",
   "metadata": {
    "execution": {}
   },
   "source": [
    "⏳ \n",
    "\n",
    "The model can take some time to train so feel free to skip the training for now. We have provided the pretrained model for you to play with. Move on to the next section to vizualize a agent with the pretrained model.\n",
    "\n",
    "Uncomment the cell below if you want to perform the training."
   ]
  },
  {
   "cell_type": "code",
   "execution_count": null,
   "metadata": {
    "execution": {}
   },
   "outputs": [],
   "source": [
    "# train('import tonic.torch',\n",
    "#       'tonic.torch.agents.PPO(model=ppo_mlp_model(actor_sizes=(256, 256), critic_sizes=(256,256)))',\n",
    "#       'tonic.environments.ControlSuite(\"swimmer-swim\")',\n",
    "#       name = 'mlp_256',\n",
    "#       trainer = 'tonic.Trainer(steps=int(5e5),save_steps=int(1e5))')"
   ]
  },
  {
   "cell_type": "markdown",
   "metadata": {
    "execution": {}
   },
   "source": [
    "**Try playing with the parameters of the trainer and the MLP model and see how it affects the performance.**\n",
    "\n",
    "\n",
    "*   ***How do the actor and the critic model size affect the performance.***\n",
    "*   ***Consider increasing the number of steps in trainer to train the model for longer.***\n",
    "*   ***Explore [Tonic library](https://github.com/fabiopardo/tonic) to see what algorithms we can use to train our agents. (D4PG is usually faster than PPO)***"
   ]
  },
  {
   "cell_type": "markdown",
   "metadata": {
    "execution": {}
   },
   "source": [
    "### Section 2.3 Function to run any model on the environment and generate video"
   ]
  },
  {
   "cell_type": "markdown",
   "metadata": {
    "execution": {}
   },
   "source": [
    "One of the most fun things about these environments is their visualization. We don't want to just look at the reward to know how good our model is we want to see how well the agent swims. This is particularly important to avoid \"reward hacking,\" where an agent learns to exploit the reward system in ways that are unintended and potentially detrimental to the desired outcomes. Moreover visualizing the agent also help us understand where the model is going wrong."
   ]
  },
  {
   "cell_type": "markdown",
   "metadata": {
    "execution": {}
   },
   "source": [
    "Here we have defined a function that will generate the videos of the agent using the input model. The function requires path to the checkpoint folder and the environment you wanna run the trained model on."
   ]
  },
  {
   "cell_type": "markdown",
   "metadata": {
    "execution": {}
   },
   "source": [
    "Let's visualize the agent with a pretrained MLP model. Once you have your pretrained model, you can replace the experiment path to visualize the agent with your model."
   ]
  },
  {
   "cell_type": "code",
   "execution_count": null,
   "metadata": {},
   "outputs": [],
   "source": [
    "from cust_utils.video_utils import play_model\n",
    "import tonic"
   ]
  },
  {
   "cell_type": "code",
   "execution_count": null,
   "metadata": {
    "cellView": "form",
    "execution": {}
   },
   "outputs": [],
   "source": [
    "play_model('data/local/experiments/tonic/swimmer-swim/mlp_256')\n",
    "# play_model('tonic/data/local/experiments/tonic/swimmer-swim/pretrained_mlp_ppo')"
   ]
  },
  {
   "cell_type": "markdown",
   "metadata": {
    "execution": {}
   },
   "source": [
    "Try testing the model on a modification of the enviroment it was trained on.\n",
    "\n",
    "\n",
    "*   ***Train on basic swim task and test on a environment with higher viscosity.***\n",
    "*   ***Can we train on the basic 6 link swimmer and test on a larger 12 link swimmer?***\n",
    "* ***Train the model for a bit on the modified environment and see how quickly the model can adapt to the new environment.***\n",
    "\n",
    "\n"
   ]
  },
  {
   "cell_type": "markdown",
   "metadata": {
    "execution": {}
   },
   "source": [
    "---\n",
    "## Section 3: NCAP"
   ]
  },
  {
   "cell_type": "markdown",
   "metadata": {
    "execution": {}
   },
   "source": [
    "Now that we are familiar with how to train standard models on the swimmer agent let's take a look at NCAP a model that was inspired from the C. elegans motor circuit.\n",
    "Our hope with using such models is that they would already have really good priors which should lead to much better transfer, faster learning curves and possibly really good innate performance (zero shot performance).\n",
    "\n",
    "Check out [NCAP paper](https://arxiv.org/abs/2201.05242) to learn more about the model."
   ]
  },
  {
   "cell_type": "markdown",
   "metadata": {},
   "source": [
    "###  Paper Illustration\n"
   ]
  },
  {
   "cell_type": "code",
   "execution_count": null,
   "metadata": {
    "cellView": "form",
    "execution": {},
    "tags": [
     "hide-input"
    ]
   },
   "outputs": [],
   "source": [
    "#@title Paper Illustration\n",
    "\n",
    "from IPython.display import Image, display\n",
    "import os\n",
    "from pathlib import Path\n",
    "\n",
    "url = \"https://github.com/neuromatch/NeuroAI_Course/blob/main/projects/project-notebooks/static/NCAPPaper.png?raw=true\"\n",
    "\n",
    "display(Image(url=url))"
   ]
  },
  {
   "cell_type": "markdown",
   "metadata": {
    "execution": {}
   },
   "source": [
    "### 3.1 NCAP classes"
   ]
  },
  {
   "cell_type": "markdown",
   "metadata": {
    "execution": {}
   },
   "source": [
    "Now we are going to define ***SwimmerModule*** (NCAP model) and ***SwimmerActor*** (wrapper around NCAP model to make it compatible with tonic) classes.\n",
    "\n",
    "\n",
    "\n",
    "  "
   ]
  },
  {
   "cell_type": "markdown",
   "metadata": {
    "execution": {}
   },
   "source": [
    "#### Section 3.1.1 Defining the constraints"
   ]
  },
  {
   "cell_type": "code",
   "execution_count": null,
   "metadata": {
    "execution": {}
   },
   "outputs": [],
   "source": [
    "from Agents.NCAPSwimmer import *"
   ]
  },
  {
   "cell_type": "markdown",
   "metadata": {
    "execution": {}
   },
   "source": [
    "***Can you think of more kinds of weight initializations and constraints that might be useful for the swimmer agent?***"
   ]
  },
  {
   "cell_type": "markdown",
   "metadata": {
    "execution": {}
   },
   "source": [
    "#### Section 3.1.2: Defining the ***SwimmerModule***"
   ]
  },
  {
   "cell_type": "markdown",
   "metadata": {
    "execution": {}
   },
   "source": [
    "The ***SwimmerModule*** class represents the neural network module inspired by the C. elegans neural circuitry, designed for controlling a robotic swimmer with specific architectural priors, such as proprioception and oscillatory movement patterns."
   ]
  },
  {
   "cell_type": "code",
   "execution_count": null,
   "metadata": {
    "execution": {}
   },
   "outputs": [],
   "source": [
    "from Agents.NCAPSwimmer import SwimmerModule"
   ]
  },
  {
   "cell_type": "markdown",
   "metadata": {
    "execution": {}
   },
   "source": [
    "#### Section 3.1.3: Defining the ***SwimmerActor*** wrapper"
   ]
  },
  {
   "cell_type": "markdown",
   "metadata": {
    "execution": {}
   },
   "source": [
    "\n",
    "The ***SwimmerActor*** class acts as a wrapper around the ***SwimmerModule***, managing high-level control signals and observations coming from the environment and passing them to the ***SwimmerModule*** in a suitable format. This class is basically responsible for making the SwimmerModule compatible with the tonic library. If you wish to use any other library to try a algorithm not present in tonic you have to write a new wrapper to make ***SwimmerModule*** compatible with that library."
   ]
  },
  {
   "cell_type": "code",
   "execution_count": null,
   "metadata": {
    "execution": {}
   },
   "outputs": [],
   "source": [
    "from wrappers.ActorNCAP import SwimmerActor"
   ]
  },
  {
   "cell_type": "markdown",
   "metadata": {
    "execution": {}
   },
   "source": [
    "### 3.2: Train NCAP"
   ]
  },
  {
   "cell_type": "markdown",
   "metadata": {
    "execution": {}
   },
   "source": [
    "We will now define functions akin to those for MLP we defined in Section 3.2, but tailored for the SwimmerActor model.\n",
    "  \n"
   ]
  },
  {
   "cell_type": "code",
   "execution_count": null,
   "metadata": {
    "execution": {}
   },
   "outputs": [],
   "source": [
    "# from tonic import models, normalizers\n",
    "import torch\n",
    "from wrappers.ActorNCAP import SwimmerActor, ppo_swimmer_model, d4pg_swimmer_model"
   ]
  },
  {
   "cell_type": "code",
   "execution_count": null,
   "metadata": {},
   "outputs": [],
   "source": [
    "import tonic\n",
    "import tonic.torch\n",
    "\n",
    "def train(\n",
    "  header,\n",
    "  agent,\n",
    "  environment,\n",
    "  name = 'test',\n",
    "  trainer = 'tonic.Trainer()',\n",
    "  before_training = None,\n",
    "  after_training = None,\n",
    "  parallel = 1,\n",
    "  sequential = 1,\n",
    "  seed = 0\n",
    "):\n",
    "  \"\"\"\n",
    "  Some additional parameters:\n",
    "\n",
    "  - before_training: Python code to execute immediately before the training loop commences, suitable for setup actions needed after initialization but prior to training.\n",
    "  - after_training: Python code to run once the training loop concludes, ideal for teardown or analytical purposes.\n",
    "  - parallel: The count of environments to execute in parallel. Limited to 1 in a Colab notebook, but if additional resources are available, this number can be increased to expedite training.\n",
    "  - sequential: The number of sequential steps the environment runs before sending observations back to the agent. This setting is useful for temporal batching. It can be disregarded for this tutorial's purposes.\n",
    "  - seed: The experiment's random seed, guaranteeing the reproducibility of the training process.\n",
    "\n",
    "  \"\"\"\n",
    "  # Capture the arguments to save them, e.g. to play with the trained agent.\n",
    "  args = dict(locals())\n",
    "\n",
    "  # Run the header first, e.g. to load an ML framework.\n",
    "  if header:\n",
    "    exec(header)\n",
    "\n",
    "  # Build the train and test environments.\n",
    "  _environment = environment\n",
    "  environment = tonic.environments.distribute(lambda: eval(_environment), parallel, sequential)\n",
    "  test_environment = tonic.environments.distribute(lambda: eval(_environment))\n",
    "\n",
    "\n",
    "  # Build the agent.\n",
    "  agent = eval(agent)\n",
    "  agent.initialize(\n",
    "    observation_space=test_environment.observation_space,\n",
    "    action_space=test_environment.action_space, seed=seed)\n",
    "\n",
    "  # Choose a name for the experiment.\n",
    "  if hasattr(test_environment, 'name'):\n",
    "    environment_name = test_environment.name\n",
    "  else:\n",
    "    environment_name = test_environment.__class__.__name__\n",
    "  if not name:\n",
    "    if hasattr(agent, 'name'):\n",
    "      name = agent.name\n",
    "    else:\n",
    "      name = agent.__class__.__name__\n",
    "    if parallel != 1 or sequential != 1:\n",
    "      name += f'-{parallel}x{sequential}'\n",
    "\n",
    "  # Initialize the logger to save data to the path environment/name/seed.\n",
    "  path = os.path.join('data', 'local', 'experiments', 'tonic', environment_name, name)\n",
    "  tonic.logger.initialize(path, script_path=None, config=args)\n",
    "\n",
    "  # Build the trainer.\n",
    "  trainer = eval(trainer)\n",
    "  trainer.initialize(\n",
    "    agent=agent,\n",
    "    environment=environment,\n",
    "    test_environment=test_environment,\n",
    "  )\n",
    "  # Run some code before training.\n",
    "  if before_training:\n",
    "    exec(before_training)\n",
    "\n",
    "  # Train.\n",
    "  trainer.run()\n",
    "\n",
    "  # Run some code after training.\n",
    "  if after_training:\n",
    "    exec(after_training)"
   ]
  },
  {
   "cell_type": "code",
   "execution_count": null,
   "metadata": {
    "execution": {}
   },
   "outputs": [],
   "source": [
    "train('import tonic.torch',\n",
    "      # 'tonic.torch.agents.D4PG(model=d4pg_swimmer_model(n_joints=5,critic_sizes=(128,128)))',\n",
    "      'tonic.torch.agents.PPO(model=ppo_swimmer_model(n_joints=5,critic_sizes=(256,256)))',\n",
    "  'tonic.environments.ControlSuite(\"swimmer-swim\",time_feature=True)',\n",
    "  name = 'ncap_ppo',\n",
    "  trainer = 'tonic.Trainer(steps=int(1e5),save_steps=int(5e4))')"
   ]
  },
  {
   "cell_type": "markdown",
   "metadata": {
    "execution": {}
   },
   "source": [
    "Let's visualize the trained NCAP agent in the environment."
   ]
  },
  {
   "cell_type": "code",
   "execution_count": null,
   "metadata": {
    "cellView": "form",
    "execution": {}
   },
   "outputs": [],
   "source": [
    "play_model('data/local/experiments/tonic/swimmer-swim/ncap_ppo')\n",
    "# play_model('data/local/experiments/tonic/swimmer-swim/pretrained_ncap_ppo')"
   ]
  },
  {
   "cell_type": "markdown",
   "metadata": {
    "execution": {}
   },
   "source": [
    "***This architecture was designed using the C. elegans motor circuit that can swim right at birth i.e it should already have really good priors. Can you try visualizing an agent with an untrained NCAP model. Can it swim?***"
   ]
  },
  {
   "cell_type": "markdown",
   "metadata": {
    "execution": {}
   },
   "source": [
    "### 3.3 Plot perfomance"
   ]
  },
  {
   "cell_type": "markdown",
   "metadata": {
    "execution": {}
   },
   "source": [
    "Now we are going to visualize performance of our model"
   ]
  },
  {
   "cell_type": "code",
   "execution_count": null,
   "metadata": {
    "execution": {}
   },
   "outputs": [],
   "source": [
    "from cust_utils.plot import plot_performance"
   ]
  },
  {
   "cell_type": "code",
   "execution_count": null,
   "metadata": {
    "execution": {}
   },
   "outputs": [],
   "source": [
    "fig, ax = plt.subplots()\n",
    "\n",
    "#Replace the paths with the path to models you trained to plot their performance.\n",
    "paths = [\n",
    "    'tonic/data/local/experiments/tonic/swimmer-swim/pretrained_ncap_ppo',\n",
    "    'tonic/data/local/experiments/tonic/swimmer-swim/pretrained_mlp_ppo'\n",
    "]\n",
    "plot_performance(paths, ax=ax, title='MLP v/s NCAP')\n",
    "plt.tight_layout()\n",
    "plt.show()"
   ]
  },
  {
   "cell_type": "markdown",
   "metadata": {
    "execution": {}
   },
   "source": [
    "\n",
    "\n",
    "* ***Compare the performance and learning curve of NCAP to MLP for the basic swimmer agent.***\n",
    "* ***Try testing the model on a modification of the environment (e.g., the 12-link swimmer) it was trained on.***\n",
    "* ***What happens if we remove certain weight constraints (e.g., sign constraint) from the NCAP model?***\n"
   ]
  },
  {
   "cell_type": "markdown",
   "metadata": {
    "execution": {}
   },
   "source": [
    "---\n",
    "## Section 4: Visualizing the sparse network"
   ]
  },
  {
   "cell_type": "markdown",
   "metadata": {
    "execution": {}
   },
   "source": [
    "\n",
    "Given the importance of architectural choices in our project we have provided a function which can visualize the network architecture. This includes the ability to render the NCAP network, representing the C. Elegans connectome."
   ]
  },
  {
   "cell_type": "code",
   "execution_count": null,
   "metadata": {
    "execution": {}
   },
   "outputs": [],
   "source": [
    "from cust_utils.plot import draw_network"
   ]
  },
  {
   "cell_type": "code",
   "execution_count": null,
   "metadata": {
    "execution": {}
   },
   "outputs": [],
   "source": [
    "draw_network('MLP', N=6)"
   ]
  },
  {
   "cell_type": "code",
   "execution_count": null,
   "metadata": {
    "execution": {}
   },
   "outputs": [],
   "source": [
    "draw_network('NCAP', N=6, include_speed_control=True, include_turn_control=True)"
   ]
  },
  {
   "cell_type": "markdown",
   "metadata": {
    "execution": {}
   },
   "source": [
    "Notice that the NCAP architecture is highly sparse and interpretable as compared to the MLP. Moreover notice that the ncap architecture can be completely embedded within a fully connected MLP of 3 hidden layers and ReLU nonlinearities. This enables us to do a thorough investigation into how specific architectural elements influence both performance and the learning process. By leveraging this capability, we can systematically analyze the impact of the architectural preferences inherent to the model and make better design choices.\n",
    "\n"
   ]
  },
  {
   "cell_type": "markdown",
   "metadata": {
    "execution": {}
   },
   "source": [
    "*It might be useful to also visualize the network's activity for NCAP. Given it only has 4 learnable parameters it becomes much easier to interpret the network.*\n",
    "\n"
   ]
  },
  {
   "cell_type": "markdown",
   "metadata": {
    "execution": {}
   },
   "source": [
    "---\n",
    "## Conclusion"
   ]
  },
  {
   "cell_type": "markdown",
   "metadata": {
    "execution": {}
   },
   "source": [
    "\n",
    "\n",
    "Based on the concepts we've discussed in this tutorial, you should now be equipped to advance with the project. Within this project, there are multiple pathways you can explore. For each pathway, you will delve deeply into one of the main sections outlined in this notebook, allowing for a thorough investigation of different factors that can influence performance:\n",
    "\n",
    "*   ***Exploring the effects of environment:*** Investigate how different environmental settings impact agent performance. This could involve altering parameters of the environment or the types of tasks and reward functions. Understanding these effects can help in making better architectural choices and learning algorithms that result in agents that are robust and adaptable\n",
    "\n",
    "\n",
    "*   ***Exploring the effects of learning algorithms:*** Standard RL algorithms often struggle with sparse and constrained networks, which can lead to suboptimal performance. Explore where these algorithms fail and analyze potential reasons for their limitations. Experiment with modifications or alternative algorithms that might overcome these challenges.\n",
    "\n",
    "\n",
    "* ***Exploring the effects of model architecture:*** Investigate how various architectural decisions within the NCAP model influence its performance. Visualize the model and its activity and explore potential improvements by tweaking architectural elements, assessing how these changes affect learning outcomes and operational efficiency."
   ]
  }
 ],
 "metadata": {
  "accelerator": "GPU",
  "colab": {
   "collapsed_sections": [],
   "gpuType": "T4",
   "include_colab_link": true,
   "name": "Macrocircuits",
   "provenance": [],
   "toc_visible": true
  },
  "kernel": {
   "display_name": "Python 3",
   "language": "python",
   "name": "python3"
  },
  "kernelspec": {
   "display_name": "Python 3 (ipykernel)",
   "language": "python",
   "name": "python3"
  },
  "language_info": {
   "codemirror_mode": {
    "name": "ipython",
    "version": 3
   },
   "file_extension": ".py",
   "mimetype": "text/x-python",
   "name": "python",
   "nbconvert_exporter": "python",
   "pygments_lexer": "ipython3",
   "version": "3.10.14"
  }
 },
 "nbformat": 4,
 "nbformat_minor": 4
}
