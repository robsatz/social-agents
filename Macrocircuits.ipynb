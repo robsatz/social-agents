{
 "cells": [
  {
   "cell_type": "markdown",
   "metadata": {
    "execution": {}
   },
   "source": [
    "<a href=\"https://colab.research.google.com/github/neuromatch/NeuroAI_Course/blob/main/projects/project-notebooks/Macrocircuits.ipynb\" target=\"_blank\"><img alt=\"Open In Colab\" src=\"https://colab.research.google.com/assets/colab-badge.svg\"/></a>   <a href=\"https://kaggle.com/kernels/welcome?src=https://raw.githubusercontent.com/neuromatch/NeuroAI_Course/main/projects/project-notebooks/Macrocircuits.ipynb\" target=\"_blank\"><img alt=\"Open in Kaggle\" src=\"https://kaggle.com/static/images/open-in-kaggle.svg\"/></a>"
   ]
  },
  {
   "cell_type": "markdown",
   "metadata": {
    "execution": {}
   },
   "source": [
    "# Macrocircuits\n",
    "\n",
    "***Macrocircuits: Leveraging neural architectural priors and modularity in embodied agents***\n",
    "\n",
    "**By Neuromatch Academy**\n",
    "\n",
    "**Content creators:** Divyansha Lachi, Kseniia Shilova  \n",
    "\n",
    "**Content reviewers:** Eva Dyer, Hannah Choi  \n",
    "\n",
    "__Production editors:__ Konstantine Tsafatinos, Ella Batty, Spiros Chavlis, Samuele Bolotta, Hlib Solodzhuk\n",
    "\n",
    "---"
   ]
  },
  {
   "cell_type": "markdown",
   "metadata": {
    "execution": {}
   },
   "source": [
    "## Background\n",
    "This project explores how we can build a biologically inspired artificial neural network (ANN) architecture, derived from the C. Elegans motor circuit, for the control of a simulated Swimmer agent. Traditional motor control ANNs often rely on generic, fully connected multilayer perceptrons (MLPs), which demand extensive training data, offer limited transferability, and possess complex internal dynamics that challenge interpretability. The project aims to understand how the biologically motivated ANN, which is shaped by evolution to be highly structured and sparse, could help to solve these problems and provide advantages in the domain of motor control. We will train MLPs using algorithms such as PPO, DDPG, and ES, and compare their performance in terms of rewards and sample efficiency with our bio-inspired ANN. The project also includes visualizing the C. Elegans connectome and building the network using this circuitry. We will conduct various ablation analyses by removing sign and weight-sharing constraints, and altering environmental parameters like the swimmer’s length or viscosity. These investigations aim to understand how architecture and modularity impact performance and learning across different environments. Finally, the project aims at building an agent that is robust to environmental variations, navigating towards specific targets, and enhancing our understanding of bio-inspired motor control.  \n",
    "\n",
    "\n",
    "**Relevant references:**  \n",
    "\n",
    "- [Neural circuit architectural priors for embodied control](https://arxiv.org/abs/2201.05242)  \n",
    "- [Hierarchical motor control in mammals and machines](https://www.nature.com/articles/s41467-019-13239-6)  \n",
    "- [Continuous control with deep reinforcement learning](https://arxiv.org/pdf/1509.02971.pdf)  \n",
    "\n",
    "*This notebook uses code from the following GitHub repository:* [ncap](https://github.com/nikhilxb/ncap) by Nikhil X. Bhattasali and Anthony M. Zador and Tatiana A. Engel.\n",
    "\n",
    "**Infrastructure note:** This notebook contains GPU install guide as well as CPU ones for different OS."
   ]
  },
  {
   "cell_type": "markdown",
   "metadata": {},
   "source": [
    "###  Install and import feedback gadget\n"
   ]
  },
  {
   "cell_type": "markdown",
   "metadata": {
    "execution": {}
   },
   "source": [
    "**Tutorial links**\n",
    "\n",
    "This particular project connects a couple of distinct ideas explored throughout the course. Firstly, the innate ability to learn a certain set of actions quickly is the main topic of [Tutorial 4](https://neuroai.neuromatch.io/tutorials/W2D4_Macrolearning/student/W2D4_Tutorial4.html) for **W2D4** on biological meta-learning. The focus comes with the observation that the brain is not of a generic architecture but is a highly structured and optimized hierarchy of modules, the importance of which is highlighted in [Tutorial 3](https://neuroai.neuromatch.io/tutorials/W2D1_Macrocircuits/student/W2D1_Tutorial3.html) for **W2D1**, forming inductive bias for efficient motor control. The default model for the agent used here is already known Actor-Critic; you had the opportunity to observe in already mentioned tutorials as well as in [Tutorial 3](https://neuroai.neuromatch.io/tutorials/W1D2_ComparingTasks/student/W1D2_Tutorial3.html) for **W1D2**."
   ]
  },
  {
   "cell_type": "markdown",
   "metadata": {
    "execution": {}
   },
   "source": [
    "---\n",
    "## Scetion 0: Initial setup"
   ]
  },
  {
   "cell_type": "markdown",
   "metadata": {
    "execution": {}
   },
   "source": [
    "**IF USING KAGGLE (recommended):**\n",
    "\n",
    "Uncomment the cell below and run it. "
   ]
  },
  {
   "cell_type": "markdown",
   "metadata": {
    "execution": {}
   },
   "source": [
    " **IF RUNNING LOCALLY**\n",
    "\n",
    "Uncomment the relevant lines of code depending on your OS."
   ]
  },
  {
   "cell_type": "markdown",
   "metadata": {},
   "source": [
    "###  Installing Dependencies (CPU case, comment if you want to use GPU one)\n"
   ]
  },
  {
   "cell_type": "code",
   "execution_count": 1,
   "metadata": {
    "cellView": "form",
    "execution": {},
    "tags": [
     "hide-input"
    ]
   },
   "outputs": [
    {
     "name": "stdout",
     "output_type": "stream",
     "text": [
      "mkdir: output_videos: File exists\n"
     ]
    }
   ],
   "source": [
    "#@title Installing Dependencies (CPU case, comment if you want to use GPU one)\n",
    "\n",
    "import subprocess\n",
    "import os\n",
    "\n",
    "# ############### For Linux #####################\n",
    "# # subprocess.run([\"sudo\", \"apt-get\", \"install\", \"-y\", \"libglew-dev\"])\n",
    "# # subprocess.run([\"sudo\", \"apt-get\", \"install\", \"-y\", \"libglfw3\"])\n",
    "# # subprocess.run([\"sudo\", \"apt\", \"install\", \"ffmpeg\"])\n",
    "# ###############################################\n",
    "\n",
    "# ############### For MacOS #####################\n",
    "# subprocess.run([\"brew\", \"install\", \"glew\"])\n",
    "# subprocess.run([\"brew\", \"install\", \"glfw\"])\n",
    "# ###############################################\n",
    "\n",
    "subprocess.run([\"pip\", \"install\", \"-q\", \"ffmpeg\"])\n",
    "subprocess.run([\"pip\", \"install\", \"-q\", \"dm-acme[envs]\"])\n",
    "subprocess.run([\"pip\", \"install\", \"-q\", \"dm_control>=1.0.16\"])\n",
    "\n",
    "!mkdir output_videos"
   ]
  },
  {
   "cell_type": "markdown",
   "metadata": {
    "execution": {}
   },
   "source": [
    "**Imports and Utility Functions**"
   ]
  },
  {
   "cell_type": "code",
   "execution_count": 2,
   "metadata": {},
   "outputs": [],
   "source": [
    "!pip install seaborn --quiet\n",
    "!pip install chex --quiet\n",
    "# !pip install jax==0.4.16 --\n",
    "!pip install acme --quiet"
   ]
  },
  {
   "cell_type": "code",
   "execution_count": 1,
   "metadata": {},
   "outputs": [],
   "source": [
    "# Step 1: Ensure autoreload is enabled\n",
    "%load_ext autoreload\n",
    "%autoreload 2\n",
    "\n",
    "# Step 2: Add the parent directory to the path\n",
    "import sys\n",
    "import os\n",
    "# sys.path.append(os.path.abspath('..'))\n"
   ]
  },
  {
   "cell_type": "markdown",
   "metadata": {},
   "source": [
    "###  Importing Libraries\n"
   ]
  },
  {
   "cell_type": "code",
   "execution_count": 2,
   "metadata": {
    "cellView": "form",
    "execution": {},
    "tags": [
     "hide-input"
    ]
   },
   "outputs": [
    {
     "name": "stdout",
     "output_type": "stream",
     "text": [
      "Imported Agents\n",
      "['Physics', 'SUITE', 'Swimmer', '_CONTROL_TIMESTEP', '_DEFAULT_TIME_LIMIT', '__builtins__', '__cached__', '__doc__', '__file__', '__loader__', '__name__', '__package__', '__spec__', '_make_body', '_make_model', '_make_swimmer', 'base', 'collections', 'common', 'containers', 'control', 'etree', 'get_model_and_assets', 'mujoco', 'np', 'os', 'randomizers', 'rewards', 'swimmer', 'swimmer15', 'swimmer6']\n"
     ]
    }
   ],
   "source": [
    "#@title Importing Libraries\n",
    "import numpy as np\n",
    "import collections\n",
    "import argparse\n",
    "import yaml\n",
    "import typing as T\n",
    "import imageio\n",
    "import matplotlib\n",
    "import matplotlib.pyplot as plt\n",
    "import matplotlib.animation as animation\n",
    "import pandas as pd\n",
    "import seaborn as sns\n",
    "from IPython.display import HTML\n",
    "\n",
    "import dm_control as dm\n",
    "import Agents.swimmer as swimmer\n",
    "print(dir(swimmer))\n",
    "from dm_control.rl import control\n",
    "from dm_control.utils import rewards\n",
    "# from dm_control import suite\n",
    "import Agents\n",
    "from dm_control.suite.wrappers import pixels\n",
    "\n",
    "from torch import nn\n",
    "from acme import wrappers"
   ]
  },
  {
   "cell_type": "code",
   "execution_count": 3,
   "metadata": {},
   "outputs": [
    {
     "name": "stdout",
     "output_type": "stream",
     "text": [
      "['ALL_TASKS', 'BENCHMARKING', 'EASY', 'EXTRA', 'HARD', 'NO_REWARD_VIZ', 'REWARD_VIZ', 'TASKS_BY_DOMAIN', '_DOMAINS', '__builtins__', '__cached__', '__doc__', '__file__', '__loader__', '__name__', '__package__', '__path__', '__spec__', '_get_tasks', '_get_tasks_by_domain', 'build_environment', 'collections', 'control', 'env_load', 'inspect', 'itertools', 'swimmer']\n"
     ]
    }
   ],
   "source": [
    "print(dir(Agents))"
   ]
  },
  {
   "cell_type": "markdown",
   "metadata": {},
   "source": [
    "###  Utility code for displaying videos\n"
   ]
  },
  {
   "cell_type": "code",
   "execution_count": 4,
   "metadata": {
    "cellView": "form",
    "execution": {},
    "tags": [
     "hide-input"
    ]
   },
   "outputs": [],
   "source": [
    "#@title Utility code for displaying videos\n",
    "def write_video(\n",
    "  filepath: os.PathLike,\n",
    "  frames: T.Iterable[np.ndarray],\n",
    "  # fps: int = 60,\n",
    "  # macro_block_size: T.Optional[int] = None,\n",
    "  quality: int = 10,\n",
    "  verbose: bool = False,\n",
    "  **kwargs,\n",
    "):\n",
    "  \"\"\"\n",
    "  Saves a sequence of frames as a video file.\n",
    "\n",
    "  Parameters:\n",
    "  - filepath (os.PathLike): Path to save the video file.\n",
    "  - frames (Iterable[np.ndarray]): An iterable of frames, where each frame is a numpy array.\n",
    "  - fps (int, optional): Frames per second, defaults to 60.\n",
    "  - macro_block_size (Optional[int], optional): Macro block size for video encoding, can affect compression efficiency.\n",
    "  - quality (int, optional): Quality of the output video, higher values indicate better quality.\n",
    "  - verbose (bool, optional): If True, prints the file path where the video is saved.\n",
    "  - **kwargs: Additional keyword arguments passed to the imageio.get_writer function.\n",
    "\n",
    "  Returns:\n",
    "  None. The video is written to the specified filepath.\n",
    "  \"\"\"\n",
    "\n",
    "  with imageio.get_writer(filepath,\n",
    "                        # fps=fps,\n",
    "                        # macro_block_size=macro_block_size,\n",
    "                        quality=quality,\n",
    "                        **kwargs) as video:\n",
    "    if verbose: print('Saving video to:', filepath)\n",
    "    for frame in frames:\n",
    "      video.append_data(frame)\n",
    "\n",
    "\n",
    "def display_video(\n",
    "  frames: T.Iterable[np.ndarray],\n",
    "  filename='output_videos/temp.mp4',\n",
    "  fps=60,\n",
    "  **kwargs,\n",
    "):\n",
    "  \"\"\"\n",
    "  Displays a video within a Jupyter Notebook from an iterable of frames.\n",
    "\n",
    "  Parameters:\n",
    "  - frames (Iterable[np.ndarray]): An iterable of frames, where each frame is a numpy array.\n",
    "  - filename (str, optional): Temporary filename to save the video before display, defaults to 'output_videos/temp.mp4'.\n",
    "  - fps (int, optional): Frames per second for the video display, defaults to 60.\n",
    "  - **kwargs: Additional keyword arguments passed to the write_video function.\n",
    "\n",
    "  Returns:\n",
    "  HTML object: An HTML video element that can be displayed in a Jupyter Notebook.\n",
    "  \"\"\"\n",
    "\n",
    "  # Write video to a temporary file.\n",
    "  filepath = os.path.abspath(filename)\n",
    "  write_video(filepath, frames, \n",
    "              #fps=fps, \n",
    "              verbose=False, **kwargs)\n",
    "\n",
    "  height, width, _ = frames[0].shape\n",
    "  dpi = 70\n",
    "  orig_backend = matplotlib.get_backend()\n",
    "  matplotlib.use('Agg')  # Switch to headless 'Agg' to inhibit figure rendering.\n",
    "  fig, ax = plt.subplots(1, 1, figsize=(width / dpi, height / dpi), dpi=dpi)\n",
    "  matplotlib.use(orig_backend)  # Switch back to the original backend.\n",
    "  ax.set_axis_off()\n",
    "  ax.set_aspect('equal')\n",
    "  ax.set_position([0, 0, 1, 1])\n",
    "  im = ax.imshow(frames[0])\n",
    "  def update(frame):\n",
    "    im.set_data(frame)\n",
    "    return [im]\n",
    "  interval = 1000/fps\n",
    "  anim = animation.FuncAnimation(fig=fig, func=update, frames=frames,\n",
    "                                  interval=interval, blit=True, repeat=False)\n",
    "  return HTML(anim.to_html5_video())"
   ]
  },
  {
   "cell_type": "markdown",
   "metadata": {
    "execution": {}
   },
   "source": [
    "\n",
    "In this notebook we will explore the major components essential for this project.\n",
    "\n",
    "\n",
    "*   **Understanding the DeepMind Control Suite Swimmer Agent:** We will begin by exploring the swimmer agent provided by the DeepMind Control Suite. This section includes a detailed exploration of the agent's API, task customization capabilities, and how to adapt the environment to fit our experimental needs.\n",
    "*   **Training Models Using Various Reinforcement Learning Algorithms:** Next, we move on to learn how can we train models for the agents we created. We will be using Tonic_RL library to train our model. We will first train a standard MLP model using the Proximal Policy Optimization (PPO) algorithm.\n",
    "\n",
    "* **Training the NCAP model:** Finally we will define the NCAP model from [Neural Circuit Architectural Priors for Embodied Control](https://arxiv.org/abs/2201.05242) paper. We will train it using PPO and compare it against the MLP model we trained before.\n",
    "\n"
   ]
  },
  {
   "cell_type": "markdown",
   "metadata": {
    "execution": {}
   },
   "source": [
    "---\n",
    "## Section 1: Exploring the DeepMind Swimmer"
   ]
  },
  {
   "cell_type": "markdown",
   "metadata": {
    "execution": {}
   },
   "source": [
    "### 1.1 Create a basic swim task for the swimmer environment\n"
   ]
  },
  {
   "cell_type": "markdown",
   "metadata": {
    "execution": {}
   },
   "source": [
    "First, we'll initialize a basic swimmer agent consisting of 6 links. Each agent requires a defined task and its corresponding reward function. In this instance, we've designed a swim forward task that involves the agent swimming forward in any direction.\n",
    "\n",
    "The environment is flexible, allowing for modifications to introduce additional tasks such as \"swim only in the x-direction\" or \"move towards a ball.\""
   ]
  },
  {
   "cell_type": "code",
   "execution_count": 5,
   "metadata": {
    "execution": {}
   },
   "outputs": [],
   "source": [
    "_SWIM_SPEED = 0.8\n",
    "\n",
    "@swimmer.SUITE.add()\n",
    "def multiswim(\n",
    "  n_links=6,\n",
    "  desired_speed=_SWIM_SPEED,\n",
    "  time_limit=swimmer._DEFAULT_TIME_LIMIT,\n",
    "  random=None,\n",
    "  environment_kwargs={},\n",
    "):\n",
    "  \"\"\"Returns the Swim task for a n-link swimmer.\"\"\"\n",
    "  model_string, assets = swimmer.get_model_and_assets(n_links)\n",
    "  print(model_string)\n",
    "  physics = swimmer.Physics.from_xml_string(model_string, assets=assets)\n",
    "  task = Swim(desired_speed=desired_speed, random=random)\n",
    "  return control.Environment(\n",
    "    physics,\n",
    "    task,\n",
    "    time_limit=time_limit,\n",
    "    control_timestep=swimmer._CONTROL_TIMESTEP,\n",
    "    **environment_kwargs,\n",
    "  )\n",
    "\n",
    "\n",
    "class Swim(swimmer.Swimmer):\n",
    "  \"\"\"Task to swim forwards at the desired speed.\"\"\"\n",
    "  def __init__(self, desired_speed=_SWIM_SPEED, **kwargs):\n",
    "    super().__init__(**kwargs)\n",
    "    self._num_swimmers = 2\n",
    "    self._desired_speed = desired_speed\n",
    "\n",
    "  def initialize_episode(self, physics):\n",
    "    super().initialize_episode(physics)\n",
    "    # Hide target by setting alpha to 0.\n",
    "    # physics.named.model.mat_rgba['target', 'a'] = 0\n",
    "    # physics.named.model.mat_rgba['target_default', 'a'] = 0\n",
    "    # physics.named.model.mat_rgba['target_highlight', 'a'] = 0\n",
    "\n",
    "  def get_observation(self, physics):\n",
    "    \"\"\"Returns an observation of joint angles and body velocities.\"\"\"\n",
    "    obs = collections.OrderedDict()\n",
    "    obs['joints'] = physics.joints()\n",
    "    obs['swimmer_distances'] = physics.nose_to_nose()\n",
    "    obs['body_velocities'] = physics.body_velocities()\n",
    "    return obs\n",
    "\n",
    "  def get_reward(self, physics):\n",
    "    \"\"\"Returns a smooth reward for desired speed and minimal distance between heads.\"\"\"\n",
    "    # Calculate forward velocity as the sum of the swimmers' velocities\n",
    "    target_size = physics.named.model.geom_size['target', 0]\n",
    "    forward_velocity = sum([-physics.named.data.sensordata[f'head_{i+1}_vel'][1] for i in range(self._num_swimmers)])/self._num_swimmers\n",
    "\n",
    "    # dist between noses of swimmers\n",
    "    distance_between_swimmer = physics.nose_to_nose_dist()\n",
    "    distance_to_target = sum([physics.nose_to_target_dist(f'head{i+1}', f'nose{i+1}') for i in range(self._num_swimmers)])/self._num_swimmers\n",
    "    \n",
    "    # reward for forward velocity\n",
    "    velocity_reward = rewards.tolerance(\n",
    "        forward_velocity,\n",
    "        bounds=(self._desired_speed, float('inf')),\n",
    "        margin=self._desired_speed,\n",
    "        value_at_margin=0.,\n",
    "        sigmoid='linear'\n",
    "    )\n",
    "\n",
    "    def _tolerance(distance, bounds, margin, value_at_margin):\n",
    "\n",
    "      upper, lower = bounds\n",
    "\n",
    "      if lower <= distance <= upper: # lower <= distance <= upper\n",
    "        return 1\n",
    "      elif distance > upper and distance <= margin: # upper < distance <= margin\n",
    "        return (1 -  (distance - upper))/(margin-upper)\n",
    "      elif distance > margin and distance <= value_at_margin: # margin < distance <= value_at_margin\n",
    "        return - (distance - margin)/value_at_margin\n",
    "      if distance > value_at_margin: # value_at_margin < distance\n",
    "        return -1\n",
    "\n",
    "    # reward for minimal distance b/w noses\n",
    "    distance_reward_between_swimmer = _tolerance(\n",
    "        distance_between_swimmer,\n",
    "        bounds=(0, 0.5),  # Assume we want the distance to be as close to 0 as possible\n",
    "        margin=target_size,  # Allow some margin for variation\n",
    "        value_at_margin=5*target_size\n",
    "    )\n",
    "\n",
    "    distance_reward_to_target = rewards.tolerance(\n",
    "        distance_to_target,\n",
    "        bounds=(0, target_size),\n",
    "        margin=5*target_size,\n",
    "        sigmoid='linear'\n",
    "    ) # 0 to 1\n",
    "    combined_reward = 1.2 * velocity_reward + 1.2 * distance_reward_to_target  + 1 * distance_reward_between_swimmer\n",
    "    return combined_reward"
   ]
  },
  {
   "cell_type": "markdown",
   "metadata": {},
   "source": [
    "Run this cell if FFMPEG and ImageIO do not work properly on your system:"
   ]
  },
  {
   "cell_type": "code",
   "execution_count": 6,
   "metadata": {},
   "outputs": [],
   "source": [
    "import matplotlib.pyplot as plt\n",
    "import matplotlib.animation as animation\n",
    "\n",
    "def display_frames(frames, fps=30, video_path='animation.mp4'):\n",
    "    \"\"\"\n",
    "    Displays a sequence of frames as an MP4 video within a Jupyter Notebook.\n",
    "\n",
    "    Parameters:\n",
    "    - frames (Iterable[np.ndarray]): An iterable of frames, where each frame is a numpy array.\n",
    "    - fps (int): Frames per second for the video display.\n",
    "    - video_path (str): Path to save the output MP4 video.\n",
    "    \n",
    "    Returns:\n",
    "    HTML object: An HTML video element that can be displayed in a Jupyter Notebook.\n",
    "    \"\"\"\n",
    "    \n",
    "    # Ensure the output directory exists\n",
    "    output_dir = os.path.dirname(video_path)\n",
    "    if not os.path.exists(output_dir):\n",
    "        os.makedirs(output_dir)\n",
    "\n",
    "    # Create the figure and axis for the animation\n",
    "    fig, ax = plt.subplots(figsize=(8, 6))\n",
    "    ax.axis('off')\n",
    "    \n",
    "    # Display the first frame\n",
    "    im = ax.imshow(frames[0])\n",
    "    \n",
    "    # Update function for animation\n",
    "    def update(frame):\n",
    "        im.set_data(frame)\n",
    "        return [im]\n",
    "    \n",
    "    # Create and save the animation using FFMpegWriter\n",
    "    ani = animation.FuncAnimation(fig, update, frames=frames, blit=True, interval=1000/fps)\n",
    "    \n",
    "    try:\n",
    "        writer = animation.FFMpegWriter(fps=fps)\n",
    "        ani.save(video_path, writer=writer)\n",
    "        plt.close(fig)\n",
    "        \n",
    "        # Return the HTML for displaying the MP4 video\n",
    "        return HTML(f'<video controls src=\"{video_path}\" />')\n",
    "    except FileNotFoundError:\n",
    "        print(\"FFmpeg not found, falling back to PillowWriter and saving as GIF.\")\n",
    "        gif_path = video_path.replace('.mp4', '.gif')\n",
    "        writer = animation.PillowWriter(fps=fps)\n",
    "        ani.save(gif_path, writer=writer)\n",
    "        plt.close(fig)\n",
    "        \n",
    "        # Return the HTML for displaying the GIF\n",
    "        return HTML(f'<img src=\"{gif_path}\" />')"
   ]
  },
  {
   "cell_type": "markdown",
   "metadata": {
    "execution": {}
   },
   "source": [
    "### 1.2 Vizualizing an agent that takes random actions in the environment"
   ]
  },
  {
   "cell_type": "markdown",
   "metadata": {
    "execution": {}
   },
   "source": [
    "Let's visualize the environment by executing a sequence of random actions on a swimmer agent. This involves applying random actions over a series of steps and compiling the rendered frames into a video to visualize the agent's behavior."
   ]
  },
  {
   "cell_type": "code",
   "execution_count": 9,
   "metadata": {
    "execution": {}
   },
   "outputs": [
    {
     "name": "stdout",
     "output_type": "stream",
     "text": [
      "importing\n",
      "Two Bodies Imported\n",
      "b'<mujoco model=\"swimmer\">\\n  <include file=\"./common/visual.xml\"/>\\n  <include file=\"./common/skybox.xml\"/>\\n  <include file=\"./common/materials.xml\"/>\\n\\n  <option timestep=\"0.002\" density=\"3000\">\\n    <flag contact=\"disable\"/>\\n  </option>\\n\\n  <default>\\n    <default class=\"swimmer\">\\n      <joint type=\"hinge\" pos=\"0 -.05 0\" axis=\"0 0 1\" limited=\"true\" solreflimit=\".05 1\" solimplimit=\"0 .8 .1\" armature=\"1e-6\"/>\\n      <default class=\"inertial\">\\n        <geom type=\"box\" size=\".001 .05 .01\" rgba=\"0 0 0 0\" mass=\".01\"/>\\n      </default>\\n      <default class=\"visual\">\\n        <geom type=\"capsule\" size=\".01\" fromto=\"0 -.05 0 0 .05 0\" material=\"self\" mass=\"0\"/>\\n      </default>\\n      <site size=\".01\" rgba=\"0 0 0 0\"/>\\n    </default>\\n    <default class=\"free\">\\n      <joint limited=\"false\" stiffness=\"0\" armature=\"0\"/>\\n    </default>\\n    <motor gear=\"5e-4\" ctrllimited=\"true\" ctrlrange=\"-1 1\"/>\\n  </default>\\n\\n  <worldbody>\\n    <geom name=\"ground\" type=\"plane\" size=\"2 2 0.1\" material=\"grid\"/>\\n\\n    <!-- Swimmer One -->\\n    <body name=\"head1\" pos=\"0 0 .05\" childclass=\"swimmer\">\\n      <light name=\"light1_1\" diffuse=\".8 .8 .8\" pos=\"0 0 1.5\"/>\\n      <geom name=\"head1\" type=\"ellipsoid\" size=\".02 .04 .017\" pos=\"0 -.022 0\" material=\"self\" mass=\"0\"/>\\n      <geom name=\"nose1\" type=\"sphere\" pos=\"0 -.06 0\" size=\".004\" material=\"effector\" mass=\"0\"/>\\n      <geom name=\"eyes1\" type=\"capsule\" fromto=\"-.006 -.054 .005 .006 -.054 .005\" size=\".004\" material=\"eye\" mass=\"0\"/>\\n      <camera name=\"tracking11\" pos=\"0.0 -0.2 0.5\" xyaxes=\"1 0 0 0 1 1\" mode=\"trackcom\" fovy=\"60\"/>\\n      <camera name=\"tracking12\" pos=\"-0.9 0.5 0.15\" xyaxes=\"0 -1 0 .3 0 1\" mode=\"trackcom\" fovy=\"60\"/>\\n      <camera name=\"eyes1\" pos=\"0 -.058 .005\" xyaxes=\"-1 0 0 0 0 1\"/>\\n      <joint name=\"rootx1\" class=\"free\" type=\"slide\" axis=\"1 0 0\" pos=\"0 -.05 0\"/>\\n      <joint name=\"rooty1\" class=\"free\" type=\"slide\" axis=\"0 1 0\" pos=\"0 -.05 0\"/>\\n      <joint name=\"rootz1\" class=\"free\" type=\"hinge\" axis=\"0 0 1\" pos=\"0 -.05 0\"/>\\n      <geom name=\"inertial1\" class=\"inertial\"/>\\n      <geom name=\"visual1\" class=\"visual\"/>\\n      <site name=\"head1\"/>\\n    <body name=\"segment_1_0\" pos=\"0 .1 0\"><geom class=\"visual\" name=\"visual_1_0\"/><geom class=\"inertial\" name=\"inertial_1_0\"/><site name=\"site_1_0\"/><joint name=\"joint_1_0\" range=\"-60.0 60.0\"/><body name=\"segment_1_1\" pos=\"0 .1 0\"><geom class=\"visual\" name=\"visual_1_1\"/><geom class=\"inertial\" name=\"inertial_1_1\"/><site name=\"site_1_1\"/><joint name=\"joint_1_1\" range=\"-60.0 60.0\"/><body name=\"segment_1_2\" pos=\"0 .1 0\"><geom class=\"visual\" name=\"visual_1_2\"/><geom class=\"inertial\" name=\"inertial_1_2\"/><site name=\"site_1_2\"/><joint name=\"joint_1_2\" range=\"-60.0 60.0\"/><body name=\"segment_1_3\" pos=\"0 .1 0\"><geom class=\"visual\" name=\"visual_1_3\"/><geom class=\"inertial\" name=\"inertial_1_3\"/><site name=\"site_1_3\"/><joint name=\"joint_1_3\" range=\"-60.0 60.0\"/><body name=\"segment_1_4\" pos=\"0 .1 0\"><geom class=\"visual\" name=\"visual_1_4\"/><geom class=\"inertial\" name=\"inertial_1_4\"/><site name=\"site_1_4\"/><joint name=\"joint_1_4\" range=\"-60.0 60.0\"/></body></body></body></body></body></body>\\n\\n    <!-- Swimmer Two -->\\n    <body name=\"head2\" pos=\"0 0.5 .05\" childclass=\"swimmer\">\\n      <light name=\"light2_1\" diffuse=\".8 .8 .8\" pos=\"0 0 1.5\"/>\\n      <geom name=\"head2\" type=\"ellipsoid\" size=\".02 .04 .017\" pos=\"0 -.022 0\" material=\"self\" mass=\"0\"/>\\n      <geom name=\"nose2\" type=\"sphere\" pos=\"0 -.06 0\" size=\".004\" material=\"effector\" mass=\"0\"/>\\n      <geom name=\"eyes2\" type=\"capsule\" fromto=\"-.006 -.054 .005 .006 -.054 .005\" size=\".004\" material=\"eye\" mass=\"0\"/>\\n      <camera name=\"tracking21\" pos=\"0.0 -0.2 0.5\" xyaxes=\"1 0 0 0 1 1\" mode=\"trackcom\" fovy=\"60\"/>\\n      <camera name=\"tracking22\" pos=\"-0.9 0.5 0.15\" xyaxes=\"0 -1 0 .3 0 1\" mode=\"trackcom\" fovy=\"60\"/>\\n      <camera name=\"eyes2\" pos=\"0 -.058 .005\" xyaxes=\"-1 0 0 0 0 1\"/>\\n      <joint name=\"rootx2\" class=\"free\" type=\"slide\" axis=\"1 0 0\" pos=\"0 -.05 0\"/>\\n      <joint name=\"rooty2\" class=\"free\" type=\"slide\" axis=\"0 1 0\" pos=\"0 -.05 0\"/>\\n      <joint name=\"rootz2\" class=\"free\" type=\"hinge\" axis=\"0 0 1\" pos=\"0 -.05 0\"/>\\n      <geom name=\"inertial2\" class=\"inertial\"/>\\n      <geom name=\"visual2\" class=\"visual\"/>\\n      <site name=\"head2\"/>\\n    <body name=\"segment_2_0\" pos=\"0 .1 0\"><geom class=\"visual\" name=\"visual_2_0\"/><geom class=\"inertial\" name=\"inertial_2_0\"/><site name=\"site_2_0\"/><joint name=\"joint_2_0\" range=\"-60.0 60.0\"/><body name=\"segment_2_1\" pos=\"0 .1 0\"><geom class=\"visual\" name=\"visual_2_1\"/><geom class=\"inertial\" name=\"inertial_2_1\"/><site name=\"site_2_1\"/><joint name=\"joint_2_1\" range=\"-60.0 60.0\"/><body name=\"segment_2_2\" pos=\"0 .1 0\"><geom class=\"visual\" name=\"visual_2_2\"/><geom class=\"inertial\" name=\"inertial_2_2\"/><site name=\"site_2_2\"/><joint name=\"joint_2_2\" range=\"-60.0 60.0\"/><body name=\"segment_2_3\" pos=\"0 .1 0\"><geom class=\"visual\" name=\"visual_2_3\"/><geom class=\"inertial\" name=\"inertial_2_3\"/><site name=\"site_2_3\"/><joint name=\"joint_2_3\" range=\"-60.0 60.0\"/><body name=\"segment_2_4\" pos=\"0 .1 0\"><geom class=\"visual\" name=\"visual_2_4\"/><geom class=\"inertial\" name=\"inertial_2_4\"/><site name=\"site_2_4\"/><joint name=\"joint_2_4\" range=\"-60.0 60.0\"/></body></body></body></body></body></body>\\n\\n    <geom name=\"target\" type=\"sphere\" pos=\"1 1 .05\" size=\".1\" material=\"target\"/>\\n    <light name=\"target_light\" diffuse=\"1 1 1\" pos=\"1 1 1.5\"/>\\n  </worldbody>\\n\\n  <sensor>\\n    <framepos name=\"nose_1_pos\" objtype=\"geom\" objname=\"nose1\"/>\\n    <framepos name=\"nose_2_pos\" objtype=\"geom\" objname=\"nose2\"/>\\n    <framepos name=\"target_pos\" objtype=\"geom\" objname=\"target\"/>\\n    <framexaxis name=\"head_1_xaxis\" objtype=\"xbody\" objname=\"head1\"/>\\n    <frameyaxis name=\"head_1_yaxis\" objtype=\"xbody\" objname=\"head1\"/>\\n    <framexaxis name=\"head_2_xaxis\" objtype=\"xbody\" objname=\"head2\"/>\\n    <frameyaxis name=\"head_2_yaxis\" objtype=\"xbody\" objname=\"head2\"/>\\n    <velocimeter name=\"head_1_vel\" site=\"head1\"/>\\n    <gyro name=\"head_1_gyro\" site=\"head1\"/>\\n    <velocimeter name=\"head_2_vel\" site=\"head2\"/> \\n    <gyro name=\"head_2_gyro\" site=\"head2\"/>\\n  </sensor>\\n\\n<actuator><motor name=\"motor_1_0\" joint=\"joint_1_0\"/><motor name=\"motor_1_1\" joint=\"joint_1_1\"/><motor name=\"motor_1_2\" joint=\"joint_1_2\"/><motor name=\"motor_1_3\" joint=\"joint_1_3\"/><motor name=\"motor_1_4\" joint=\"joint_1_4\"/><motor name=\"motor_2_0\" joint=\"joint_2_0\"/><motor name=\"motor_2_1\" joint=\"joint_2_1\"/><motor name=\"motor_2_2\" joint=\"joint_2_2\"/><motor name=\"motor_2_3\" joint=\"joint_2_3\"/><motor name=\"motor_2_4\" joint=\"joint_2_4\"/></actuator><sensor><velocimeter name=\"velocimeter_1_0\" site=\"site_1_0\"/><gyro name=\"gyro_1_0\" site=\"site_1_0\"/><velocimeter name=\"velocimeter_1_1\" site=\"site_1_1\"/><gyro name=\"gyro_1_1\" site=\"site_1_1\"/><velocimeter name=\"velocimeter_1_2\" site=\"site_1_2\"/><gyro name=\"gyro_1_2\" site=\"site_1_2\"/><velocimeter name=\"velocimeter_1_3\" site=\"site_1_3\"/><gyro name=\"gyro_1_3\" site=\"site_1_3\"/><velocimeter name=\"velocimeter_1_4\" site=\"site_1_4\"/><gyro name=\"gyro_1_4\" site=\"site_1_4\"/><velocimeter name=\"velocimeter_2_0\" site=\"site_2_0\"/><gyro name=\"gyro_2_0\" site=\"site_2_0\"/><velocimeter name=\"velocimeter_2_1\" site=\"site_2_1\"/><gyro name=\"gyro_2_1\" site=\"site_2_1\"/><velocimeter name=\"velocimeter_2_2\" site=\"site_2_2\"/><gyro name=\"gyro_2_2\" site=\"site_2_2\"/><velocimeter name=\"velocimeter_2_3\" site=\"site_2_3\"/><gyro name=\"gyro_2_3\" site=\"site_2_3\"/><velocimeter name=\"velocimeter_2_4\" site=\"site_2_4\"/><gyro name=\"gyro_2_4\" site=\"site_2_4\"/></sensor></mujoco>\\n'\n"
     ]
    }
   ],
   "source": [
    "\"\"\" Renders the current environment state to an image \"\"\"\n",
    "def render(env):\n",
    "    return env.physics.render(camera_id=0, width=640, height=480)\n",
    "    if frame is None or frame.size == 0:\n",
    "        print(\"Rendered frame is empty\")\n",
    "    else:\n",
    "        print(f\"Rendered frame dimensions: {frame.shape}\")\n",
    "        print(f\"Frame sample pixels: {frame[0,0]}, {frame[height-1, width-1]}\")  # Print sample pixel values\n",
    "    return frame\n",
    "\n",
    "\"\"\" Tests a DeepMind control suite environment by executing a series of random actions \"\"\"\n",
    "def test_dm_control(env):\n",
    "    env = wrappers.CanonicalSpecWrapper(env, clip=True)\n",
    "    env = wrappers.SinglePrecisionWrapper(env)\n",
    "\n",
    "    spec = env.action_spec()\n",
    "    timestep = env.reset()\n",
    "    frames = [render(env)]\n",
    "\n",
    "    for _ in range(300):  # Run for more frames\n",
    "        action = np.random.uniform(low=spec.minimum, high=spec.maximum, size=spec.shape)\n",
    "        timestep = env.step(action)\n",
    "        frames.append(render(env))\n",
    "\n",
    "    return display_video(frames)      \n",
    "    # return display_frames(frames, output_dir='output_videos', output_filename='animation.gif')    # to use matplotlib as the video backend\n",
    "\n",
    "env = Agents.env_load('swimmer', 'multiswim', task_kwargs={'random': 1})"
   ]
  },
  {
   "cell_type": "code",
   "execution_count": 10,
   "metadata": {
    "execution": {}
   },
   "outputs": [
    {
     "ename": "TypeError",
     "evalue": "TiffWriter.write() got an unexpected keyword argument 'quality'",
     "output_type": "error",
     "traceback": [
      "\u001b[0;31m---------------------------------------------------------------------------\u001b[0m",
      "\u001b[0;31mTypeError\u001b[0m                                 Traceback (most recent call last)",
      "Cell \u001b[0;32mIn[10], line 1\u001b[0m\n\u001b[0;32m----> 1\u001b[0m \u001b[43mtest_dm_control\u001b[49m\u001b[43m(\u001b[49m\u001b[43menv\u001b[49m\u001b[43m)\u001b[49m\n",
      "Cell \u001b[0;32mIn[9], line 25\u001b[0m, in \u001b[0;36mtest_dm_control\u001b[0;34m(env)\u001b[0m\n\u001b[1;32m     22\u001b[0m     timestep \u001b[38;5;241m=\u001b[39m env\u001b[38;5;241m.\u001b[39mstep(action)\n\u001b[1;32m     23\u001b[0m     frames\u001b[38;5;241m.\u001b[39mappend(render(env))\n\u001b[0;32m---> 25\u001b[0m \u001b[38;5;28;01mreturn\u001b[39;00m \u001b[43mdisplay_video\u001b[49m\u001b[43m(\u001b[49m\u001b[43mframes\u001b[49m\u001b[43m)\u001b[49m\n",
      "Cell \u001b[0;32mIn[6], line 58\u001b[0m, in \u001b[0;36mdisplay_video\u001b[0;34m(frames, filename, fps, **kwargs)\u001b[0m\n\u001b[1;32m     56\u001b[0m \u001b[38;5;66;03m# Write video to a temporary file.\u001b[39;00m\n\u001b[1;32m     57\u001b[0m filepath \u001b[38;5;241m=\u001b[39m os\u001b[38;5;241m.\u001b[39mpath\u001b[38;5;241m.\u001b[39mabspath(filename)\n\u001b[0;32m---> 58\u001b[0m \u001b[43mwrite_video\u001b[49m\u001b[43m(\u001b[49m\u001b[43mfilepath\u001b[49m\u001b[43m,\u001b[49m\u001b[43m \u001b[49m\u001b[43mframes\u001b[49m\u001b[43m,\u001b[49m\u001b[43m \u001b[49m\n\u001b[1;32m     59\u001b[0m \u001b[43m            \u001b[49m\u001b[38;5;66;43;03m#fps=fps, \u001b[39;49;00m\n\u001b[1;32m     60\u001b[0m \u001b[43m            \u001b[49m\u001b[43mverbose\u001b[49m\u001b[38;5;241;43m=\u001b[39;49m\u001b[38;5;28;43;01mFalse\u001b[39;49;00m\u001b[43m,\u001b[49m\u001b[43m \u001b[49m\u001b[38;5;241;43m*\u001b[39;49m\u001b[38;5;241;43m*\u001b[39;49m\u001b[43mkwargs\u001b[49m\u001b[43m)\u001b[49m\n\u001b[1;32m     62\u001b[0m height, width, _ \u001b[38;5;241m=\u001b[39m frames[\u001b[38;5;241m0\u001b[39m]\u001b[38;5;241m.\u001b[39mshape\n\u001b[1;32m     63\u001b[0m dpi \u001b[38;5;241m=\u001b[39m \u001b[38;5;241m70\u001b[39m\n",
      "Cell \u001b[0;32mIn[6], line 34\u001b[0m, in \u001b[0;36mwrite_video\u001b[0;34m(filepath, frames, quality, verbose, **kwargs)\u001b[0m\n\u001b[1;32m     32\u001b[0m \u001b[38;5;28;01mif\u001b[39;00m verbose: \u001b[38;5;28mprint\u001b[39m(\u001b[38;5;124m'\u001b[39m\u001b[38;5;124mSaving video to:\u001b[39m\u001b[38;5;124m'\u001b[39m, filepath)\n\u001b[1;32m     33\u001b[0m \u001b[38;5;28;01mfor\u001b[39;00m frame \u001b[38;5;129;01min\u001b[39;00m frames:\n\u001b[0;32m---> 34\u001b[0m   \u001b[43mvideo\u001b[49m\u001b[38;5;241;43m.\u001b[39;49m\u001b[43mappend_data\u001b[49m\u001b[43m(\u001b[49m\u001b[43mframe\u001b[49m\u001b[43m)\u001b[49m\n",
      "File \u001b[0;32m~/miniconda3/envs/social-agents/lib/python3.10/site-packages/imageio/v2.py:226\u001b[0m, in \u001b[0;36mLegacyWriter.append_data\u001b[0;34m(self, im, meta)\u001b[0m\n\u001b[1;32m    214\u001b[0m     warnings\u001b[38;5;241m.\u001b[39mwarn(\n\u001b[1;32m    215\u001b[0m         \u001b[38;5;124m\"\u001b[39m\u001b[38;5;124mV3 Plugins currently don\u001b[39m\u001b[38;5;124m'\u001b[39m\u001b[38;5;124mt have a uniform way to\u001b[39m\u001b[38;5;124m\"\u001b[39m\n\u001b[1;32m    216\u001b[0m         \u001b[38;5;124m\"\u001b[39m\u001b[38;5;124m write metadata, so any metadata is ignored.\u001b[39m\u001b[38;5;124m\"\u001b[39m\n\u001b[1;32m    217\u001b[0m     )\n\u001b[1;32m    219\u001b[0m \u001b[38;5;66;03m# total_meta = dict()\u001b[39;00m\n\u001b[1;32m    220\u001b[0m \u001b[38;5;66;03m# if meta is None:\u001b[39;00m\n\u001b[1;32m    221\u001b[0m \u001b[38;5;66;03m#     meta = {}\u001b[39;00m\n\u001b[1;32m    222\u001b[0m \u001b[38;5;66;03m# if hasattr(im, \"meta\") and isinstance(im.meta, dict):\u001b[39;00m\n\u001b[1;32m    223\u001b[0m \u001b[38;5;66;03m#     total_meta.update(im.meta)\u001b[39;00m\n\u001b[1;32m    224\u001b[0m \u001b[38;5;66;03m# total_meta.update(meta)\u001b[39;00m\n\u001b[0;32m--> 226\u001b[0m \u001b[38;5;28;01mreturn\u001b[39;00m \u001b[38;5;28;43mself\u001b[39;49m\u001b[38;5;241;43m.\u001b[39;49m\u001b[43minstance\u001b[49m\u001b[38;5;241;43m.\u001b[39;49m\u001b[43mwrite\u001b[49m\u001b[43m(\u001b[49m\u001b[43mim\u001b[49m\u001b[43m,\u001b[49m\u001b[43m \u001b[49m\u001b[38;5;241;43m*\u001b[39;49m\u001b[38;5;241;43m*\u001b[39;49m\u001b[38;5;28;43mself\u001b[39;49m\u001b[38;5;241;43m.\u001b[39;49m\u001b[43mwrite_args\u001b[49m\u001b[43m)\u001b[49m\n",
      "File \u001b[0;32m~/miniconda3/envs/social-agents/lib/python3.10/site-packages/imageio/plugins/tifffile_v3.py:224\u001b[0m, in \u001b[0;36mTifffilePlugin.write\u001b[0;34m(self, ndimage, is_batch, **kwargs)\u001b[0m\n\u001b[1;32m    221\u001b[0m     ndimage \u001b[38;5;241m=\u001b[39m np\u001b[38;5;241m.\u001b[39masarray(ndimage)[\u001b[38;5;28;01mNone\u001b[39;00m, :]\n\u001b[1;32m    223\u001b[0m \u001b[38;5;28;01mfor\u001b[39;00m image \u001b[38;5;129;01min\u001b[39;00m ndimage:\n\u001b[0;32m--> 224\u001b[0m     \u001b[38;5;28;43mself\u001b[39;49m\u001b[38;5;241;43m.\u001b[39;49m\u001b[43m_fh\u001b[49m\u001b[38;5;241;43m.\u001b[39;49m\u001b[43mwrite\u001b[49m\u001b[43m(\u001b[49m\u001b[43mimage\u001b[49m\u001b[43m,\u001b[49m\u001b[43m \u001b[49m\u001b[38;5;241;43m*\u001b[39;49m\u001b[38;5;241;43m*\u001b[39;49m\u001b[43mkwargs\u001b[49m\u001b[43m)\u001b[49m\n\u001b[1;32m    226\u001b[0m \u001b[38;5;28;01mif\u001b[39;00m \u001b[38;5;28mself\u001b[39m\u001b[38;5;241m.\u001b[39m_request\u001b[38;5;241m.\u001b[39m_uri_type \u001b[38;5;241m==\u001b[39m URI_BYTES:\n\u001b[1;32m    227\u001b[0m     \u001b[38;5;28mself\u001b[39m\u001b[38;5;241m.\u001b[39m_fh\u001b[38;5;241m.\u001b[39mclose()\n",
      "\u001b[0;31mTypeError\u001b[0m: TiffWriter.write() got an unexpected keyword argument 'quality'"
     ]
    }
   ],
   "source": [
    "test_dm_control(env)"
   ]
  },
  {
   "cell_type": "code",
   "execution_count": null,
   "metadata": {},
   "outputs": [
    {
     "data": {
      "text/plain": [
       "Array(shape=(), dtype=dtype('float64'), name='reward')"
      ]
     },
     "execution_count": 18,
     "metadata": {},
     "output_type": "execute_result"
    }
   ],
   "source": [
    "env.reward_spec()"
   ]
  },
  {
   "cell_type": "markdown",
   "metadata": {
    "execution": {}
   },
   "source": [
    "### 1.3 Swimmer Agent API"
   ]
  },
  {
   "cell_type": "markdown",
   "metadata": {
    "execution": {}
   },
   "source": [
    "The observation space consists of 25 total dimensions, combining joint positions and body velocities, while the action space involves 5 dimensions representing normalized joint forces."
   ]
  },
  {
   "cell_type": "markdown",
   "metadata": {
    "execution": {}
   },
   "source": [
    "\n",
    "**Observation Space**: 4k - 1 total (k = 6 $\\rightarrow$ 23)\n",
    "\n",
    "- k - 1: joint positions $q_i \\in [-\\pi, \\pi]$ (`joints`)\n",
    "- 3k: link linear velocities $vx_i, vy_i \\in \\mathbb{R}$ and rotational velocity $wz_i \\in \\mathbb{R}$ (`body_velocities`)"
   ]
  },
  {
   "cell_type": "code",
   "execution_count": null,
   "metadata": {
    "execution": {}
   },
   "outputs": [],
   "source": [
    "obs = env.observation_spec()\n",
    "print(obs)"
   ]
  },
  {
   "cell_type": "markdown",
   "metadata": {
    "execution": {}
   },
   "source": [
    "**Action Space**: k - 1 total (k = 6 $\\rightarrow$ 5)\n",
    "\n",
    "- k - 1: joint normalized force $\\ddot{q}_i \\in [-1, 1]$"
   ]
  },
  {
   "cell_type": "code",
   "execution_count": null,
   "metadata": {
    "execution": {}
   },
   "outputs": [],
   "source": [
    "env.action_spec()"
   ]
  },
  {
   "cell_type": "markdown",
   "metadata": {
    "execution": {}
   },
   "source": [
    "### 1.4 Example of simple modification to the agent"
   ]
  },
  {
   "cell_type": "markdown",
   "metadata": {
    "execution": {}
   },
   "source": [
    "\n",
    "Let's make a new swimmer agent with 12 links instead of 6, introducing complexity. Additionally, we have the flexibility to adjust various other parameters."
   ]
  },
  {
   "cell_type": "code",
   "execution_count": 7,
   "metadata": {
    "execution": {}
   },
   "outputs": [
    {
     "name": "stdout",
     "output_type": "stream",
     "text": [
      "importing\n",
      "Two Bodies Imported\n"
     ]
    }
   ],
   "source": [
    "@swimmer.SUITE.add()\n",
    "def swim_12_links(\n",
    "  n_links=12,\n",
    "  desired_speed=_SWIM_SPEED,\n",
    "  time_limit=swimmer._DEFAULT_TIME_LIMIT,\n",
    "  random=None,\n",
    "  environment_kwargs={},\n",
    "):\n",
    "  \"\"\"Returns the Swim task for a n-link swimmer.\"\"\"\n",
    "  model_string, assets = swimmer.get_model_and_assets(n_links)\n",
    "  physics = swimmer.Physics.from_xml_string(model_string, assets=assets)\n",
    "  task = Swim(desired_speed=desired_speed, random=random)\n",
    "  return control.Environment(\n",
    "    physics,\n",
    "    task,\n",
    "    time_limit=time_limit,\n",
    "    control_timestep=swimmer._CONTROL_TIMESTEP,\n",
    "    **environment_kwargs,\n",
    "  )\n",
    "\n",
    "env = Agents.env_load('swimmer', 'swim_12_links', task_kwargs={'random': 1})\n",
    "# test_dm_control(env)"
   ]
  },
  {
   "cell_type": "markdown",
   "metadata": {
    "execution": {}
   },
   "source": [
    "We can visualize this longer agent using our previously defined test_dm_control function."
   ]
  },
  {
   "cell_type": "markdown",
   "metadata": {
    "execution": {}
   },
   "source": [
    "❓"
   ]
  },
  {
   "cell_type": "markdown",
   "metadata": {
    "execution": {}
   },
   "source": [
    "Using the API provided by Deepmind we can create any kind of changes to the agent and the environment.\n",
    "\n",
    "Try to make the following changes to make yourself more familiar with the swimmer.\n",
    "\n",
    "*   ***Adding a target (like a ball) to this environment at some x distance away from the agent.***\n",
    "*   ***Increasing the viscosity of the environment.***\n",
    "\n",
    "\n",
    "\n",
    "Have a look at the following links to see what kind of assets you will need to modify to make these changes.\n",
    "\n",
    "\n",
    "*   [swimmer.py](https://github.com/google-deepmind/dm_control/blob/main/dm_control/suite/swimmer.py)\n",
    "*   [swimmer.xml](https://github.com/google-deepmind/dm_control/blob/main/dm_control/suite/swimmer.xml)\n",
    "\n",
    "\n"
   ]
  },
  {
   "cell_type": "code",
   "execution_count": null,
   "metadata": {},
   "outputs": [],
   "source": [
    "#@title Download and install tonic library for training agents\n",
    "\n",
    "import contextlib\n",
    "import io\n",
    "\n",
    "# with contextlib.redirect_stdout(io.StringIO()): #to suppress output\n",
    "#     !git clone https://github.com/neuromatch/tonic\n",
    "#     %cd tonic"
   ]
  },
  {
   "cell_type": "code",
   "execution_count": 9,
   "metadata": {
    "execution": {}
   },
   "outputs": [],
   "source": [
    "import os\n",
    "\n",
    "import gym.wrappers\n",
    "import numpy as np\n",
    "\n",
    "from tonic import environments\n",
    "from tonic.utils import logger\n",
    "import Agents\n",
    "\n",
    "\n",
    "def control_suite_environment(*args, **kwargs):\n",
    "    '''Returns a wrapped Control Suite environment.'''\n",
    "\n",
    "    def _builder(name, *args, **kwargs):\n",
    "        domain, task = name.split('-')\n",
    "        environment = CustomEnvironment(\n",
    "            domain_name=domain, task_name=task, *args, **kwargs)\n",
    "        time_limit = int(environment.environment._step_limit)\n",
    "        return gym.wrappers.TimeLimit(environment, time_limit)\n",
    "\n",
    "    return build_environment(_builder, *args, **kwargs)\n",
    "\n",
    "\n",
    "def build_environment(\n",
    "    builder, name, terminal_timeouts=False, time_feature=False,\n",
    "    max_episode_steps='default', scaled_actions=True, *args, **kwargs\n",
    "):\n",
    "    '''Builds and wrap an environment.\n",
    "    Time limits can be properly handled with terminal_timeouts=False or\n",
    "    time_feature=True, see https://arxiv.org/pdf/1712.00378.pdf for more\n",
    "    details.\n",
    "    '''\n",
    "\n",
    "    # Build the environment.\n",
    "    environment = builder(name, *args, **kwargs)\n",
    "\n",
    "    # Get the default time limit.\n",
    "    if max_episode_steps == 'default':\n",
    "        max_episode_steps = environment._max_episode_steps\n",
    "\n",
    "    # Remove the TimeLimit wrapper if needed.\n",
    "    if not terminal_timeouts:\n",
    "        assert type(environment) == gym.wrappers.TimeLimit, environment\n",
    "        environment = environment.env\n",
    "\n",
    "    # Add time as a feature if needed.\n",
    "    if time_feature:\n",
    "        environment = environments.wrappers.TimeFeature(\n",
    "            environment, max_episode_steps)\n",
    "\n",
    "    # Scale actions from [-1, 1]^n to the true action space if needed.\n",
    "    if scaled_actions:\n",
    "        environment = environments.wrappers.ActionRescaler(environment)\n",
    "\n",
    "    environment.name = name\n",
    "    environment.max_episode_steps = max_episode_steps\n",
    "\n",
    "    return environment\n",
    "\n",
    "\n",
    "def _flatten_observation(observation):\n",
    "    '''Turns OrderedDict observations into vectors.'''\n",
    "    observation = [np.array([o]) if np.isscalar(o) else o.ravel()\n",
    "                   for o in observation.values()]\n",
    "    return np.concatenate(observation, axis=0)\n",
    "\n",
    "\n",
    "class CustomEnvironment(gym.core.Env):\n",
    "    '''Turns a Control Suite environment into a Gym environment.'''\n",
    "\n",
    "    def __init__(\n",
    "        self, domain_name, task_name, task_kwargs=None, visualize_reward=True,\n",
    "        environment_kwargs=None\n",
    "    ):\n",
    "        \n",
    "        self.environment = Agents.env_load(\n",
    "            domain_name='swimmer', task_name='multiswim',\n",
    "            task_kwargs=task_kwargs, visualize_reward=visualize_reward,\n",
    "            environment_kwargs=environment_kwargs)\n",
    "\n",
    "        # Create the observation space.\n",
    "        observation_spec = self.environment.observation_spec()\n",
    "        dim = sum([int(np.prod(spec.shape))\n",
    "                   for spec in observation_spec.values()])\n",
    "        high = np.full(dim, np.inf, np.float32)\n",
    "        self.observation_space = gym.spaces.Box(-high, high, dtype=np.float32)\n",
    "\n",
    "        # Create the action space.\n",
    "        action_spec = self.environment.action_spec()\n",
    "        self.action_space = gym.spaces.Box(\n",
    "            action_spec.minimum, action_spec.maximum, dtype=np.float32)\n",
    "\n",
    "    def seed(self, seed):\n",
    "        self.environment.task._random = np.random.RandomState(seed)\n",
    "\n",
    "    def step(self, action):\n",
    "        try:\n",
    "            time_step = self.environment.step(action)\n",
    "            observation = _flatten_observation(time_step.observation)\n",
    "            reward = time_step.reward\n",
    "\n",
    "            # Remove terminations from timeouts.\n",
    "            done = time_step.last()\n",
    "            if done:\n",
    "                done = self.environment.task.get_termination(\n",
    "                    self.environment.physics)\n",
    "                done = done is not None\n",
    "\n",
    "            self.last_time_step = time_step\n",
    "\n",
    "        # In case MuJoCo crashed.\n",
    "        except Exception as e:\n",
    "            path = logger.get_path()\n",
    "            os.makedirs(path, exist_ok=True)\n",
    "            save_path = os.path.join(path, 'crashes.txt')\n",
    "            error = str(e)\n",
    "            with open(save_path, 'a') as file:\n",
    "                file.write(error + '\\n')\n",
    "            logger.error(error)\n",
    "            observation = _flatten_observation(self.last_time_step.observation)\n",
    "            observation = np.zeros_like(observation)\n",
    "            reward = 0.\n",
    "            done = True\n",
    "\n",
    "        return observation, reward, done, {}\n",
    "\n",
    "    def reset(self):\n",
    "        time_step = self.environment.reset()\n",
    "        self.last_time_step = time_step\n",
    "        return _flatten_observation(time_step.observation)\n",
    "\n",
    "    def render(self, mode='rgb_array', height=None, width=None, camera_id=0):\n",
    "        '''Returns RGB frames from a camera.'''\n",
    "        assert mode == 'rgb_array'\n",
    "        return self.environment.physics.render(\n",
    "            height=height, width=width, camera_id=camera_id)\n",
    "\n",
    "\n",
    "\n",
    "CustomEnv = control_suite_environment"
   ]
  },
  {
   "cell_type": "markdown",
   "metadata": {},
   "source": [
    "####  Submit your feedback\n"
   ]
  },
  {
   "cell_type": "markdown",
   "metadata": {
    "execution": {}
   },
   "source": [
    "---\n",
    "## Section 2: Training models on the swim task"
   ]
  },
  {
   "cell_type": "markdown",
   "metadata": {
    "execution": {}
   },
   "source": [
    "\n",
    "To train the agents we defined in the previous section, we will utilize standard reinforcement learning (RL) algorithms. For the purposes of this tutorial, we will employ the [tonic_rl](https://github.com/fabiopardo/tonic) library, which provides a robust framework for training RL agents. Throughout most of this project, you will primarily be modifying the environment or the model architecture. Therefore, I suggest treating these algorithms as a \"black box\" for now. Simply put, you input an untrained model, and the algorithm processes and returns a well-trained model. This approach allows us to focus on the impact of different architectures and environmental settings without delving deeply into the algorithmic complexities at this stage."
   ]
  },
  {
   "cell_type": "markdown",
   "metadata": {},
   "source": [
    "###  Download and install tonic library for training agents\n"
   ]
  },
  {
   "cell_type": "code",
   "execution_count": 10,
   "metadata": {
    "cellView": "form",
    "execution": {},
    "tags": [
     "hide-input"
    ]
   },
   "outputs": [],
   "source": [
    "#@title Download and install tonic library for training agents\n",
    "\n",
    "import contextlib\n",
    "import io\n",
    "\n",
    "with contextlib.redirect_stdout(io.StringIO()): #to suppress output\n",
    "    !git clone https://github.com/neuromatch/tonic\n",
    "    %cd tonic"
   ]
  },
  {
   "cell_type": "markdown",
   "metadata": {
    "execution": {}
   },
   "source": [
    "### Section 2.1 Defining the train function\n",
    "\n",
    "First we defined a general training function to train any agent on any given environment with a variety of available algorithms. Given below are some of the parameter definitions of the function. You'll likely want to adjust these parameters to customize the training process for an agent in a specific environment using your chosen algorithm from the tonic library:\n",
    "\n",
    "* **Header**: Python code required to run before training begins, primarily for importing essential libraries or modules.\n",
    "\n",
    "* **Agent**: The agent that will undergo training; refer to section 3.2 and 4.2 for definitions of MLP and NCAP respectively.\n",
    "\n",
    "* **Environment**: The training environment for the agent. Ensure it is registered with the DeepMind Control Suite as detailed in section 2.\n",
    "\n",
    "* **Name**: The experiment's name, which will be utilized for log and model saving purposes.\n",
    "\n",
    "* **Trainer**: The trainer instance selected for use. It allows the configuration of the training steps, model saving frequency, and other training-related parameters.\n"
   ]
  },
  {
   "cell_type": "code",
   "execution_count": 11,
   "metadata": {
    "execution": {}
   },
   "outputs": [],
   "source": [
    "import tonic\n",
    "import tonic.torch\n",
    "\n",
    "def train(\n",
    "  header,\n",
    "  agent,\n",
    "  environment,\n",
    "  name = 'test',\n",
    "  trainer = 'tonic.Trainer()',\n",
    "  before_training = None,\n",
    "  after_training = None,\n",
    "  parallel = 1,\n",
    "  sequential = 1,\n",
    "  seed = 0\n",
    "):\n",
    "  \"\"\"\n",
    "  Some additional parameters:\n",
    "\n",
    "  - before_training: Python code to execute immediately before the training loop commences, suitable for setup actions needed after initialization but prior to training.\n",
    "  - after_training: Python code to run once the training loop concludes, ideal for teardown or analytical purposes.\n",
    "  - parallel: The count of environments to execute in parallel. Limited to 1 in a Colab notebook, but if additional resources are available, this number can be increased to expedite training.\n",
    "  - sequential: The number of sequential steps the environment runs before sending observations back to the agent. This setting is useful for temporal batching. It can be disregarded for this tutorial's purposes.\n",
    "  - seed: The experiment's random seed, guaranteeing the reproducibility of the training process.\n",
    "\n",
    "  \"\"\"\n",
    "  # Capture the arguments to save them, e.g. to play with the trained agent.\n",
    "  args = dict(locals())\n",
    "\n",
    "  # Run the header first, e.g. to load an ML framework.\n",
    "  if header:\n",
    "    exec(header)\n",
    "\n",
    "  # Build the train and test environments.\n",
    "  _environment = environment\n",
    "  environment = tonic.environments.distribute(lambda: eval(_environment), parallel, sequential)\n",
    "  test_environment = tonic.environments.distribute(lambda: eval(_environment))\n",
    "\n",
    "\n",
    "  # Build the agent.\n",
    "  agent = eval(agent)\n",
    "  agent.initialize(\n",
    "    observation_space=test_environment.observation_space,\n",
    "    action_space=test_environment.action_space, seed=seed)\n",
    "\n",
    "  # Choose a name for the experiment.\n",
    "  if hasattr(test_environment, 'name'):\n",
    "    environment_name = test_environment.name\n",
    "  else:\n",
    "    environment_name = test_environment.__class__.__name__\n",
    "  if not name:\n",
    "    if hasattr(agent, 'name'):\n",
    "      name = agent.name\n",
    "    else:\n",
    "      name = agent.__class__.__name__\n",
    "    if parallel != 1 or sequential != 1:\n",
    "      name += f'-{parallel}x{sequential}'\n",
    "\n",
    "  # Initialize the logger to save data to the path environment/name/seed.\n",
    "  path = os.path.join('data', 'local', 'experiments', 'tonic', environment_name, name)\n",
    "  tonic.logger.initialize(path, script_path=None, config=args)\n",
    "\n",
    "  # Build the trainer.\n",
    "  trainer = eval(trainer)\n",
    "  trainer.initialize(\n",
    "    agent=agent,\n",
    "    environment=environment,\n",
    "    test_environment=test_environment,\n",
    "  )\n",
    "  # Run some code before training.\n",
    "  if before_training:\n",
    "    exec(before_training)\n",
    "\n",
    "  # Train.\n",
    "  trainer.run()\n",
    "\n",
    "  # Run some code after training.\n",
    "  if after_training:\n",
    "    exec(after_training)"
   ]
  },
  {
   "cell_type": "markdown",
   "metadata": {
    "execution": {}
   },
   "source": [
    "### Section 2.2 Training MLP model on swim task"
   ]
  },
  {
   "cell_type": "markdown",
   "metadata": {
    "execution": {}
   },
   "source": [
    "Now we are going to define a function for creating an actor-critic model suitable for Proximal Policy Optimization (PPO) using a Multi-Layer Perceptron (MLP) architecture."
   ]
  },
  {
   "cell_type": "code",
   "execution_count": 12,
   "metadata": {
    "execution": {}
   },
   "outputs": [],
   "source": [
    "from tonic.torch import models, normalizers\n",
    "import torch\n",
    "\n",
    "def ppo_mlp_model(\n",
    "  actor_sizes=(64, 64),\n",
    "  actor_activation=torch.nn.Tanh,\n",
    "  critic_sizes=(64, 64),\n",
    "  critic_activation=torch.nn.Tanh,\n",
    "):\n",
    "\n",
    "  \"\"\"\n",
    "  Constructs an ActorCritic model with specified architectures for the actor and critic networks.\n",
    "\n",
    "  Parameters:\n",
    "  - actor_sizes (tuple): Sizes of the layers in the actor MLP.\n",
    "  - actor_activation (torch activation): Activation function used in the actor MLP.\n",
    "  - critic_sizes (tuple): Sizes of the layers in the critic MLP.\n",
    "  - critic_activation (torch activation): Activation function used in the critic MLP.\n",
    "\n",
    "  Returns:\n",
    "  - models.ActorCritic: An ActorCritic model comprising an actor and a critic with MLP torsos,\n",
    "    equipped with a Gaussian policy head for the actor and a value head for the critic,\n",
    "    along with observation normalization.\n",
    "  \"\"\"\n",
    "\n",
    "  return models.ActorCritic(\n",
    "    actor=models.Actor(\n",
    "      encoder=models.ObservationEncoder(),\n",
    "      torso=models.MLP(actor_sizes, actor_activation),\n",
    "      head=models.DetachedScaleGaussianPolicyHead(),\n",
    "    ),\n",
    "    critic=models.Critic(\n",
    "      encoder=models.ObservationEncoder(),\n",
    "      torso=models.MLP(critic_sizes, critic_activation),\n",
    "      head=models.ValueHead(),\n",
    "    ),\n",
    "    observation_normalizer=normalizers.MeanStd(),\n",
    "  )"
   ]
  },
  {
   "cell_type": "markdown",
   "metadata": {
    "execution": {}
   },
   "source": [
    "Next we call the train function which initiates the training process for the provided agent using the Tonic library. It specifies the components necessary for training, including the model, environment, and training parameters:\n",
    "\n",
    "**Agent**: A Proximal Policy Optimization (PPO) agent with a custom Multi-Layer Perceptron (MLP) model architecture, configured with 256 units in each of two layers for both the actor and the critic.\n",
    "\n",
    "**Environment**: The training environment is set to \"swimmer-swim\" from the Control Suite, a benchmark suite for continuous control tasks.\n",
    "\n",
    "**Name**: The experiment is named 'mlp_256', which is useful for identifying logs and saved models associated with this training run.\n",
    "\n",
    "**Trainer**: Specifies the training configuration, including the total number of steps (5e5) and the frequency of saving the model (1e5 steps)."
   ]
  },
  {
   "cell_type": "markdown",
   "metadata": {
    "execution": {}
   },
   "source": [
    "\n",
    "*Note:* The model will checkpoint every 'save_steps' amount of training steps*  \n",
    "\n",
    "\n"
   ]
  },
  {
   "cell_type": "markdown",
   "metadata": {
    "execution": {}
   },
   "source": [
    "⏳ \n",
    "\n",
    "The model can take some time to train so feel free to skip the training for now. We have provided the pretrained model for you to play with. Move on to the next section to vizualize a agent with the pretrained model.\n",
    "\n",
    "Uncomment the cell below if you want to perform the training."
   ]
  },
  {
   "cell_type": "code",
   "execution_count": 16,
   "metadata": {
    "execution": {}
   },
   "outputs": [
    {
     "name": "stdout",
     "output_type": "stream",
     "text": [
      "importing\n",
      "Two Bodies Imported\n",
      "b'<mujoco model=\"swimmer\">\\n  <include file=\"./common/visual.xml\"/>\\n  <include file=\"./common/skybox.xml\"/>\\n  <include file=\"./common/materials.xml\"/>\\n\\n  <option timestep=\"0.002\" density=\"3000\">\\n    <flag contact=\"disable\"/>\\n  </option>\\n\\n  <default>\\n    <default class=\"swimmer\">\\n      <joint type=\"hinge\" pos=\"0 -.05 0\" axis=\"0 0 1\" limited=\"true\" solreflimit=\".05 1\" solimplimit=\"0 .8 .1\" armature=\"1e-6\"/>\\n      <default class=\"inertial\">\\n        <geom type=\"box\" size=\".001 .05 .01\" rgba=\"0 0 0 0\" mass=\".01\"/>\\n      </default>\\n      <default class=\"visual\">\\n        <geom type=\"capsule\" size=\".01\" fromto=\"0 -.05 0 0 .05 0\" material=\"self\" mass=\"0\"/>\\n      </default>\\n      <site size=\".01\" rgba=\"0 0 0 0\"/>\\n    </default>\\n    <default class=\"free\">\\n      <joint limited=\"false\" stiffness=\"0\" armature=\"0\"/>\\n    </default>\\n    <motor gear=\"5e-4\" ctrllimited=\"true\" ctrlrange=\"-1 1\"/>\\n  </default>\\n\\n  <worldbody>\\n    <geom name=\"ground\" type=\"plane\" size=\"2 2 0.1\" material=\"grid\"/>\\n\\n    <!-- Swimmer One -->\\n    <body name=\"head1\" pos=\"0 0 .05\" childclass=\"swimmer\">\\n      <light name=\"light1_1\" diffuse=\".8 .8 .8\" pos=\"0 0 1.5\"/>\\n      <geom name=\"head1\" type=\"ellipsoid\" size=\".02 .04 .017\" pos=\"0 -.022 0\" material=\"self\" mass=\"0\"/>\\n      <geom name=\"nose1\" type=\"sphere\" pos=\"0 -.06 0\" size=\".004\" material=\"effector\" mass=\"0\"/>\\n      <geom name=\"eyes1\" type=\"capsule\" fromto=\"-.006 -.054 .005 .006 -.054 .005\" size=\".004\" material=\"eye\" mass=\"0\"/>\\n      <camera name=\"tracking11\" pos=\"0.0 -0.2 0.5\" xyaxes=\"1 0 0 0 1 1\" mode=\"trackcom\" fovy=\"60\"/>\\n      <camera name=\"tracking12\" pos=\"-0.9 0.5 0.15\" xyaxes=\"0 -1 0 .3 0 1\" mode=\"trackcom\" fovy=\"60\"/>\\n      <camera name=\"eyes1\" pos=\"0 -.058 .005\" xyaxes=\"-1 0 0 0 0 1\"/>\\n      <joint name=\"rootx1\" class=\"free\" type=\"slide\" axis=\"1 0 0\" pos=\"0 -.05 0\"/>\\n      <joint name=\"rooty1\" class=\"free\" type=\"slide\" axis=\"0 1 0\" pos=\"0 -.05 0\"/>\\n      <joint name=\"rootz1\" class=\"free\" type=\"hinge\" axis=\"0 0 1\" pos=\"0 -.05 0\"/>\\n      <geom name=\"inertial1\" class=\"inertial\"/>\\n      <geom name=\"visual1\" class=\"visual\"/>\\n      <site name=\"head1\"/>\\n    <body name=\"segment_1_0\" pos=\"0 .1 0\"><geom class=\"visual\" name=\"visual_1_0\"/><geom class=\"inertial\" name=\"inertial_1_0\"/><site name=\"site_1_0\"/><joint name=\"joint_1_0\" range=\"-60.0 60.0\"/><body name=\"segment_1_1\" pos=\"0 .1 0\"><geom class=\"visual\" name=\"visual_1_1\"/><geom class=\"inertial\" name=\"inertial_1_1\"/><site name=\"site_1_1\"/><joint name=\"joint_1_1\" range=\"-60.0 60.0\"/><body name=\"segment_1_2\" pos=\"0 .1 0\"><geom class=\"visual\" name=\"visual_1_2\"/><geom class=\"inertial\" name=\"inertial_1_2\"/><site name=\"site_1_2\"/><joint name=\"joint_1_2\" range=\"-60.0 60.0\"/><body name=\"segment_1_3\" pos=\"0 .1 0\"><geom class=\"visual\" name=\"visual_1_3\"/><geom class=\"inertial\" name=\"inertial_1_3\"/><site name=\"site_1_3\"/><joint name=\"joint_1_3\" range=\"-60.0 60.0\"/><body name=\"segment_1_4\" pos=\"0 .1 0\"><geom class=\"visual\" name=\"visual_1_4\"/><geom class=\"inertial\" name=\"inertial_1_4\"/><site name=\"site_1_4\"/><joint name=\"joint_1_4\" range=\"-60.0 60.0\"/></body></body></body></body></body></body>\\n\\n    <!-- Swimmer Two -->\\n    <body name=\"head2\" pos=\"0 0.5 .05\" childclass=\"swimmer\">\\n      <light name=\"light2_1\" diffuse=\".8 .8 .8\" pos=\"0 0 1.5\"/>\\n      <geom name=\"head2\" type=\"ellipsoid\" size=\".02 .04 .017\" pos=\"0 -.022 0\" material=\"self\" mass=\"0\"/>\\n      <geom name=\"nose2\" type=\"sphere\" pos=\"0 -.06 0\" size=\".004\" material=\"effector\" mass=\"0\"/>\\n      <geom name=\"eyes2\" type=\"capsule\" fromto=\"-.006 -.054 .005 .006 -.054 .005\" size=\".004\" material=\"eye\" mass=\"0\"/>\\n      <camera name=\"tracking21\" pos=\"0.0 -0.2 0.5\" xyaxes=\"1 0 0 0 1 1\" mode=\"trackcom\" fovy=\"60\"/>\\n      <camera name=\"tracking22\" pos=\"-0.9 0.5 0.15\" xyaxes=\"0 -1 0 .3 0 1\" mode=\"trackcom\" fovy=\"60\"/>\\n      <camera name=\"eyes2\" pos=\"0 -.058 .005\" xyaxes=\"-1 0 0 0 0 1\"/>\\n      <joint name=\"rootx2\" class=\"free\" type=\"slide\" axis=\"1 0 0\" pos=\"0 -.05 0\"/>\\n      <joint name=\"rooty2\" class=\"free\" type=\"slide\" axis=\"0 1 0\" pos=\"0 -.05 0\"/>\\n      <joint name=\"rootz2\" class=\"free\" type=\"hinge\" axis=\"0 0 1\" pos=\"0 -.05 0\"/>\\n      <geom name=\"inertial2\" class=\"inertial\"/>\\n      <geom name=\"visual2\" class=\"visual\"/>\\n      <site name=\"head2\"/>\\n    <body name=\"segment_2_0\" pos=\"0 .1 0\"><geom class=\"visual\" name=\"visual_2_0\"/><geom class=\"inertial\" name=\"inertial_2_0\"/><site name=\"site_2_0\"/><joint name=\"joint_2_0\" range=\"-60.0 60.0\"/><body name=\"segment_2_1\" pos=\"0 .1 0\"><geom class=\"visual\" name=\"visual_2_1\"/><geom class=\"inertial\" name=\"inertial_2_1\"/><site name=\"site_2_1\"/><joint name=\"joint_2_1\" range=\"-60.0 60.0\"/><body name=\"segment_2_2\" pos=\"0 .1 0\"><geom class=\"visual\" name=\"visual_2_2\"/><geom class=\"inertial\" name=\"inertial_2_2\"/><site name=\"site_2_2\"/><joint name=\"joint_2_2\" range=\"-60.0 60.0\"/><body name=\"segment_2_3\" pos=\"0 .1 0\"><geom class=\"visual\" name=\"visual_2_3\"/><geom class=\"inertial\" name=\"inertial_2_3\"/><site name=\"site_2_3\"/><joint name=\"joint_2_3\" range=\"-60.0 60.0\"/><body name=\"segment_2_4\" pos=\"0 .1 0\"><geom class=\"visual\" name=\"visual_2_4\"/><geom class=\"inertial\" name=\"inertial_2_4\"/><site name=\"site_2_4\"/><joint name=\"joint_2_4\" range=\"-60.0 60.0\"/></body></body></body></body></body></body>\\n\\n    <geom name=\"target\" type=\"sphere\" pos=\"1 1 .05\" size=\".1\" material=\"target\"/>\\n    <light name=\"target_light\" diffuse=\"1 1 1\" pos=\"1 1 1.5\"/>\\n  </worldbody>\\n\\n  <sensor>\\n    <framepos name=\"nose_1_pos\" objtype=\"geom\" objname=\"nose1\"/>\\n    <framepos name=\"nose_2_pos\" objtype=\"geom\" objname=\"nose2\"/>\\n    <framepos name=\"target_pos\" objtype=\"geom\" objname=\"target\"/>\\n    <framexaxis name=\"head_1_xaxis\" objtype=\"xbody\" objname=\"head1\"/>\\n    <frameyaxis name=\"head_1_yaxis\" objtype=\"xbody\" objname=\"head1\"/>\\n    <framexaxis name=\"head_2_xaxis\" objtype=\"xbody\" objname=\"head2\"/>\\n    <frameyaxis name=\"head_2_yaxis\" objtype=\"xbody\" objname=\"head2\"/>\\n    <velocimeter name=\"head_1_vel\" site=\"head1\"/>\\n    <gyro name=\"head_1_gyro\" site=\"head1\"/>\\n    <velocimeter name=\"head_2_vel\" site=\"head2\"/> \\n    <gyro name=\"head_2_gyro\" site=\"head2\"/>\\n  </sensor>\\n\\n<actuator><motor name=\"motor_1_0\" joint=\"joint_1_0\"/><motor name=\"motor_1_1\" joint=\"joint_1_1\"/><motor name=\"motor_1_2\" joint=\"joint_1_2\"/><motor name=\"motor_1_3\" joint=\"joint_1_3\"/><motor name=\"motor_1_4\" joint=\"joint_1_4\"/><motor name=\"motor_2_0\" joint=\"joint_2_0\"/><motor name=\"motor_2_1\" joint=\"joint_2_1\"/><motor name=\"motor_2_2\" joint=\"joint_2_2\"/><motor name=\"motor_2_3\" joint=\"joint_2_3\"/><motor name=\"motor_2_4\" joint=\"joint_2_4\"/></actuator><sensor><velocimeter name=\"velocimeter_1_0\" site=\"site_1_0\"/><gyro name=\"gyro_1_0\" site=\"site_1_0\"/><velocimeter name=\"velocimeter_1_1\" site=\"site_1_1\"/><gyro name=\"gyro_1_1\" site=\"site_1_1\"/><velocimeter name=\"velocimeter_1_2\" site=\"site_1_2\"/><gyro name=\"gyro_1_2\" site=\"site_1_2\"/><velocimeter name=\"velocimeter_1_3\" site=\"site_1_3\"/><gyro name=\"gyro_1_3\" site=\"site_1_3\"/><velocimeter name=\"velocimeter_1_4\" site=\"site_1_4\"/><gyro name=\"gyro_1_4\" site=\"site_1_4\"/><velocimeter name=\"velocimeter_2_0\" site=\"site_2_0\"/><gyro name=\"gyro_2_0\" site=\"site_2_0\"/><velocimeter name=\"velocimeter_2_1\" site=\"site_2_1\"/><gyro name=\"gyro_2_1\" site=\"site_2_1\"/><velocimeter name=\"velocimeter_2_2\" site=\"site_2_2\"/><gyro name=\"gyro_2_2\" site=\"site_2_2\"/><velocimeter name=\"velocimeter_2_3\" site=\"site_2_3\"/><gyro name=\"gyro_2_3\" site=\"site_2_3\"/><velocimeter name=\"velocimeter_2_4\" site=\"site_2_4\"/><gyro name=\"gyro_2_4\" site=\"site_2_4\"/></sensor></mujoco>\\n'\n",
      "importing\n",
      "Two Bodies Imported\n",
      "b'<mujoco model=\"swimmer\">\\n  <include file=\"./common/visual.xml\"/>\\n  <include file=\"./common/skybox.xml\"/>\\n  <include file=\"./common/materials.xml\"/>\\n\\n  <option timestep=\"0.002\" density=\"3000\">\\n    <flag contact=\"disable\"/>\\n  </option>\\n\\n  <default>\\n    <default class=\"swimmer\">\\n      <joint type=\"hinge\" pos=\"0 -.05 0\" axis=\"0 0 1\" limited=\"true\" solreflimit=\".05 1\" solimplimit=\"0 .8 .1\" armature=\"1e-6\"/>\\n      <default class=\"inertial\">\\n        <geom type=\"box\" size=\".001 .05 .01\" rgba=\"0 0 0 0\" mass=\".01\"/>\\n      </default>\\n      <default class=\"visual\">\\n        <geom type=\"capsule\" size=\".01\" fromto=\"0 -.05 0 0 .05 0\" material=\"self\" mass=\"0\"/>\\n      </default>\\n      <site size=\".01\" rgba=\"0 0 0 0\"/>\\n    </default>\\n    <default class=\"free\">\\n      <joint limited=\"false\" stiffness=\"0\" armature=\"0\"/>\\n    </default>\\n    <motor gear=\"5e-4\" ctrllimited=\"true\" ctrlrange=\"-1 1\"/>\\n  </default>\\n\\n  <worldbody>\\n    <geom name=\"ground\" type=\"plane\" size=\"2 2 0.1\" material=\"grid\"/>\\n\\n    <!-- Swimmer One -->\\n    <body name=\"head1\" pos=\"0 0 .05\" childclass=\"swimmer\">\\n      <light name=\"light1_1\" diffuse=\".8 .8 .8\" pos=\"0 0 1.5\"/>\\n      <geom name=\"head1\" type=\"ellipsoid\" size=\".02 .04 .017\" pos=\"0 -.022 0\" material=\"self\" mass=\"0\"/>\\n      <geom name=\"nose1\" type=\"sphere\" pos=\"0 -.06 0\" size=\".004\" material=\"effector\" mass=\"0\"/>\\n      <geom name=\"eyes1\" type=\"capsule\" fromto=\"-.006 -.054 .005 .006 -.054 .005\" size=\".004\" material=\"eye\" mass=\"0\"/>\\n      <camera name=\"tracking11\" pos=\"0.0 -0.2 0.5\" xyaxes=\"1 0 0 0 1 1\" mode=\"trackcom\" fovy=\"60\"/>\\n      <camera name=\"tracking12\" pos=\"-0.9 0.5 0.15\" xyaxes=\"0 -1 0 .3 0 1\" mode=\"trackcom\" fovy=\"60\"/>\\n      <camera name=\"eyes1\" pos=\"0 -.058 .005\" xyaxes=\"-1 0 0 0 0 1\"/>\\n      <joint name=\"rootx1\" class=\"free\" type=\"slide\" axis=\"1 0 0\" pos=\"0 -.05 0\"/>\\n      <joint name=\"rooty1\" class=\"free\" type=\"slide\" axis=\"0 1 0\" pos=\"0 -.05 0\"/>\\n      <joint name=\"rootz1\" class=\"free\" type=\"hinge\" axis=\"0 0 1\" pos=\"0 -.05 0\"/>\\n      <geom name=\"inertial1\" class=\"inertial\"/>\\n      <geom name=\"visual1\" class=\"visual\"/>\\n      <site name=\"head1\"/>\\n    <body name=\"segment_1_0\" pos=\"0 .1 0\"><geom class=\"visual\" name=\"visual_1_0\"/><geom class=\"inertial\" name=\"inertial_1_0\"/><site name=\"site_1_0\"/><joint name=\"joint_1_0\" range=\"-60.0 60.0\"/><body name=\"segment_1_1\" pos=\"0 .1 0\"><geom class=\"visual\" name=\"visual_1_1\"/><geom class=\"inertial\" name=\"inertial_1_1\"/><site name=\"site_1_1\"/><joint name=\"joint_1_1\" range=\"-60.0 60.0\"/><body name=\"segment_1_2\" pos=\"0 .1 0\"><geom class=\"visual\" name=\"visual_1_2\"/><geom class=\"inertial\" name=\"inertial_1_2\"/><site name=\"site_1_2\"/><joint name=\"joint_1_2\" range=\"-60.0 60.0\"/><body name=\"segment_1_3\" pos=\"0 .1 0\"><geom class=\"visual\" name=\"visual_1_3\"/><geom class=\"inertial\" name=\"inertial_1_3\"/><site name=\"site_1_3\"/><joint name=\"joint_1_3\" range=\"-60.0 60.0\"/><body name=\"segment_1_4\" pos=\"0 .1 0\"><geom class=\"visual\" name=\"visual_1_4\"/><geom class=\"inertial\" name=\"inertial_1_4\"/><site name=\"site_1_4\"/><joint name=\"joint_1_4\" range=\"-60.0 60.0\"/></body></body></body></body></body></body>\\n\\n    <!-- Swimmer Two -->\\n    <body name=\"head2\" pos=\"0 0.5 .05\" childclass=\"swimmer\">\\n      <light name=\"light2_1\" diffuse=\".8 .8 .8\" pos=\"0 0 1.5\"/>\\n      <geom name=\"head2\" type=\"ellipsoid\" size=\".02 .04 .017\" pos=\"0 -.022 0\" material=\"self\" mass=\"0\"/>\\n      <geom name=\"nose2\" type=\"sphere\" pos=\"0 -.06 0\" size=\".004\" material=\"effector\" mass=\"0\"/>\\n      <geom name=\"eyes2\" type=\"capsule\" fromto=\"-.006 -.054 .005 .006 -.054 .005\" size=\".004\" material=\"eye\" mass=\"0\"/>\\n      <camera name=\"tracking21\" pos=\"0.0 -0.2 0.5\" xyaxes=\"1 0 0 0 1 1\" mode=\"trackcom\" fovy=\"60\"/>\\n      <camera name=\"tracking22\" pos=\"-0.9 0.5 0.15\" xyaxes=\"0 -1 0 .3 0 1\" mode=\"trackcom\" fovy=\"60\"/>\\n      <camera name=\"eyes2\" pos=\"0 -.058 .005\" xyaxes=\"-1 0 0 0 0 1\"/>\\n      <joint name=\"rootx2\" class=\"free\" type=\"slide\" axis=\"1 0 0\" pos=\"0 -.05 0\"/>\\n      <joint name=\"rooty2\" class=\"free\" type=\"slide\" axis=\"0 1 0\" pos=\"0 -.05 0\"/>\\n      <joint name=\"rootz2\" class=\"free\" type=\"hinge\" axis=\"0 0 1\" pos=\"0 -.05 0\"/>\\n      <geom name=\"inertial2\" class=\"inertial\"/>\\n      <geom name=\"visual2\" class=\"visual\"/>\\n      <site name=\"head2\"/>\\n    <body name=\"segment_2_0\" pos=\"0 .1 0\"><geom class=\"visual\" name=\"visual_2_0\"/><geom class=\"inertial\" name=\"inertial_2_0\"/><site name=\"site_2_0\"/><joint name=\"joint_2_0\" range=\"-60.0 60.0\"/><body name=\"segment_2_1\" pos=\"0 .1 0\"><geom class=\"visual\" name=\"visual_2_1\"/><geom class=\"inertial\" name=\"inertial_2_1\"/><site name=\"site_2_1\"/><joint name=\"joint_2_1\" range=\"-60.0 60.0\"/><body name=\"segment_2_2\" pos=\"0 .1 0\"><geom class=\"visual\" name=\"visual_2_2\"/><geom class=\"inertial\" name=\"inertial_2_2\"/><site name=\"site_2_2\"/><joint name=\"joint_2_2\" range=\"-60.0 60.0\"/><body name=\"segment_2_3\" pos=\"0 .1 0\"><geom class=\"visual\" name=\"visual_2_3\"/><geom class=\"inertial\" name=\"inertial_2_3\"/><site name=\"site_2_3\"/><joint name=\"joint_2_3\" range=\"-60.0 60.0\"/><body name=\"segment_2_4\" pos=\"0 .1 0\"><geom class=\"visual\" name=\"visual_2_4\"/><geom class=\"inertial\" name=\"inertial_2_4\"/><site name=\"site_2_4\"/><joint name=\"joint_2_4\" range=\"-60.0 60.0\"/></body></body></body></body></body></body>\\n\\n    <geom name=\"target\" type=\"sphere\" pos=\"1 1 .05\" size=\".1\" material=\"target\"/>\\n    <light name=\"target_light\" diffuse=\"1 1 1\" pos=\"1 1 1.5\"/>\\n  </worldbody>\\n\\n  <sensor>\\n    <framepos name=\"nose_1_pos\" objtype=\"geom\" objname=\"nose1\"/>\\n    <framepos name=\"nose_2_pos\" objtype=\"geom\" objname=\"nose2\"/>\\n    <framepos name=\"target_pos\" objtype=\"geom\" objname=\"target\"/>\\n    <framexaxis name=\"head_1_xaxis\" objtype=\"xbody\" objname=\"head1\"/>\\n    <frameyaxis name=\"head_1_yaxis\" objtype=\"xbody\" objname=\"head1\"/>\\n    <framexaxis name=\"head_2_xaxis\" objtype=\"xbody\" objname=\"head2\"/>\\n    <frameyaxis name=\"head_2_yaxis\" objtype=\"xbody\" objname=\"head2\"/>\\n    <velocimeter name=\"head_1_vel\" site=\"head1\"/>\\n    <gyro name=\"head_1_gyro\" site=\"head1\"/>\\n    <velocimeter name=\"head_2_vel\" site=\"head2\"/> \\n    <gyro name=\"head_2_gyro\" site=\"head2\"/>\\n  </sensor>\\n\\n<actuator><motor name=\"motor_1_0\" joint=\"joint_1_0\"/><motor name=\"motor_1_1\" joint=\"joint_1_1\"/><motor name=\"motor_1_2\" joint=\"joint_1_2\"/><motor name=\"motor_1_3\" joint=\"joint_1_3\"/><motor name=\"motor_1_4\" joint=\"joint_1_4\"/><motor name=\"motor_2_0\" joint=\"joint_2_0\"/><motor name=\"motor_2_1\" joint=\"joint_2_1\"/><motor name=\"motor_2_2\" joint=\"joint_2_2\"/><motor name=\"motor_2_3\" joint=\"joint_2_3\"/><motor name=\"motor_2_4\" joint=\"joint_2_4\"/></actuator><sensor><velocimeter name=\"velocimeter_1_0\" site=\"site_1_0\"/><gyro name=\"gyro_1_0\" site=\"site_1_0\"/><velocimeter name=\"velocimeter_1_1\" site=\"site_1_1\"/><gyro name=\"gyro_1_1\" site=\"site_1_1\"/><velocimeter name=\"velocimeter_1_2\" site=\"site_1_2\"/><gyro name=\"gyro_1_2\" site=\"site_1_2\"/><velocimeter name=\"velocimeter_1_3\" site=\"site_1_3\"/><gyro name=\"gyro_1_3\" site=\"site_1_3\"/><velocimeter name=\"velocimeter_1_4\" site=\"site_1_4\"/><gyro name=\"gyro_1_4\" site=\"site_1_4\"/><velocimeter name=\"velocimeter_2_0\" site=\"site_2_0\"/><gyro name=\"gyro_2_0\" site=\"site_2_0\"/><velocimeter name=\"velocimeter_2_1\" site=\"site_2_1\"/><gyro name=\"gyro_2_1\" site=\"site_2_1\"/><velocimeter name=\"velocimeter_2_2\" site=\"site_2_2\"/><gyro name=\"gyro_2_2\" site=\"site_2_2\"/><velocimeter name=\"velocimeter_2_3\" site=\"site_2_3\"/><gyro name=\"gyro_2_3\" site=\"site_2_3\"/><velocimeter name=\"velocimeter_2_4\" site=\"site_2_4\"/><gyro name=\"gyro_2_4\" site=\"site_2_4\"/></sensor></mujoco>\\n'\n",
      "importing\n",
      "Two Bodies Imported\n",
      "b'<mujoco model=\"swimmer\">\\n  <include file=\"./common/visual.xml\"/>\\n  <include file=\"./common/skybox.xml\"/>\\n  <include file=\"./common/materials.xml\"/>\\n\\n  <option timestep=\"0.002\" density=\"3000\">\\n    <flag contact=\"disable\"/>\\n  </option>\\n\\n  <default>\\n    <default class=\"swimmer\">\\n      <joint type=\"hinge\" pos=\"0 -.05 0\" axis=\"0 0 1\" limited=\"true\" solreflimit=\".05 1\" solimplimit=\"0 .8 .1\" armature=\"1e-6\"/>\\n      <default class=\"inertial\">\\n        <geom type=\"box\" size=\".001 .05 .01\" rgba=\"0 0 0 0\" mass=\".01\"/>\\n      </default>\\n      <default class=\"visual\">\\n        <geom type=\"capsule\" size=\".01\" fromto=\"0 -.05 0 0 .05 0\" material=\"self\" mass=\"0\"/>\\n      </default>\\n      <site size=\".01\" rgba=\"0 0 0 0\"/>\\n    </default>\\n    <default class=\"free\">\\n      <joint limited=\"false\" stiffness=\"0\" armature=\"0\"/>\\n    </default>\\n    <motor gear=\"5e-4\" ctrllimited=\"true\" ctrlrange=\"-1 1\"/>\\n  </default>\\n\\n  <worldbody>\\n    <geom name=\"ground\" type=\"plane\" size=\"2 2 0.1\" material=\"grid\"/>\\n\\n    <!-- Swimmer One -->\\n    <body name=\"head1\" pos=\"0 0 .05\" childclass=\"swimmer\">\\n      <light name=\"light1_1\" diffuse=\".8 .8 .8\" pos=\"0 0 1.5\"/>\\n      <geom name=\"head1\" type=\"ellipsoid\" size=\".02 .04 .017\" pos=\"0 -.022 0\" material=\"self\" mass=\"0\"/>\\n      <geom name=\"nose1\" type=\"sphere\" pos=\"0 -.06 0\" size=\".004\" material=\"effector\" mass=\"0\"/>\\n      <geom name=\"eyes1\" type=\"capsule\" fromto=\"-.006 -.054 .005 .006 -.054 .005\" size=\".004\" material=\"eye\" mass=\"0\"/>\\n      <camera name=\"tracking11\" pos=\"0.0 -0.2 0.5\" xyaxes=\"1 0 0 0 1 1\" mode=\"trackcom\" fovy=\"60\"/>\\n      <camera name=\"tracking12\" pos=\"-0.9 0.5 0.15\" xyaxes=\"0 -1 0 .3 0 1\" mode=\"trackcom\" fovy=\"60\"/>\\n      <camera name=\"eyes1\" pos=\"0 -.058 .005\" xyaxes=\"-1 0 0 0 0 1\"/>\\n      <joint name=\"rootx1\" class=\"free\" type=\"slide\" axis=\"1 0 0\" pos=\"0 -.05 0\"/>\\n      <joint name=\"rooty1\" class=\"free\" type=\"slide\" axis=\"0 1 0\" pos=\"0 -.05 0\"/>\\n      <joint name=\"rootz1\" class=\"free\" type=\"hinge\" axis=\"0 0 1\" pos=\"0 -.05 0\"/>\\n      <geom name=\"inertial1\" class=\"inertial\"/>\\n      <geom name=\"visual1\" class=\"visual\"/>\\n      <site name=\"head1\"/>\\n    <body name=\"segment_1_0\" pos=\"0 .1 0\"><geom class=\"visual\" name=\"visual_1_0\"/><geom class=\"inertial\" name=\"inertial_1_0\"/><site name=\"site_1_0\"/><joint name=\"joint_1_0\" range=\"-60.0 60.0\"/><body name=\"segment_1_1\" pos=\"0 .1 0\"><geom class=\"visual\" name=\"visual_1_1\"/><geom class=\"inertial\" name=\"inertial_1_1\"/><site name=\"site_1_1\"/><joint name=\"joint_1_1\" range=\"-60.0 60.0\"/><body name=\"segment_1_2\" pos=\"0 .1 0\"><geom class=\"visual\" name=\"visual_1_2\"/><geom class=\"inertial\" name=\"inertial_1_2\"/><site name=\"site_1_2\"/><joint name=\"joint_1_2\" range=\"-60.0 60.0\"/><body name=\"segment_1_3\" pos=\"0 .1 0\"><geom class=\"visual\" name=\"visual_1_3\"/><geom class=\"inertial\" name=\"inertial_1_3\"/><site name=\"site_1_3\"/><joint name=\"joint_1_3\" range=\"-60.0 60.0\"/><body name=\"segment_1_4\" pos=\"0 .1 0\"><geom class=\"visual\" name=\"visual_1_4\"/><geom class=\"inertial\" name=\"inertial_1_4\"/><site name=\"site_1_4\"/><joint name=\"joint_1_4\" range=\"-60.0 60.0\"/></body></body></body></body></body></body>\\n\\n    <!-- Swimmer Two -->\\n    <body name=\"head2\" pos=\"0 0.5 .05\" childclass=\"swimmer\">\\n      <light name=\"light2_1\" diffuse=\".8 .8 .8\" pos=\"0 0 1.5\"/>\\n      <geom name=\"head2\" type=\"ellipsoid\" size=\".02 .04 .017\" pos=\"0 -.022 0\" material=\"self\" mass=\"0\"/>\\n      <geom name=\"nose2\" type=\"sphere\" pos=\"0 -.06 0\" size=\".004\" material=\"effector\" mass=\"0\"/>\\n      <geom name=\"eyes2\" type=\"capsule\" fromto=\"-.006 -.054 .005 .006 -.054 .005\" size=\".004\" material=\"eye\" mass=\"0\"/>\\n      <camera name=\"tracking21\" pos=\"0.0 -0.2 0.5\" xyaxes=\"1 0 0 0 1 1\" mode=\"trackcom\" fovy=\"60\"/>\\n      <camera name=\"tracking22\" pos=\"-0.9 0.5 0.15\" xyaxes=\"0 -1 0 .3 0 1\" mode=\"trackcom\" fovy=\"60\"/>\\n      <camera name=\"eyes2\" pos=\"0 -.058 .005\" xyaxes=\"-1 0 0 0 0 1\"/>\\n      <joint name=\"rootx2\" class=\"free\" type=\"slide\" axis=\"1 0 0\" pos=\"0 -.05 0\"/>\\n      <joint name=\"rooty2\" class=\"free\" type=\"slide\" axis=\"0 1 0\" pos=\"0 -.05 0\"/>\\n      <joint name=\"rootz2\" class=\"free\" type=\"hinge\" axis=\"0 0 1\" pos=\"0 -.05 0\"/>\\n      <geom name=\"inertial2\" class=\"inertial\"/>\\n      <geom name=\"visual2\" class=\"visual\"/>\\n      <site name=\"head2\"/>\\n    <body name=\"segment_2_0\" pos=\"0 .1 0\"><geom class=\"visual\" name=\"visual_2_0\"/><geom class=\"inertial\" name=\"inertial_2_0\"/><site name=\"site_2_0\"/><joint name=\"joint_2_0\" range=\"-60.0 60.0\"/><body name=\"segment_2_1\" pos=\"0 .1 0\"><geom class=\"visual\" name=\"visual_2_1\"/><geom class=\"inertial\" name=\"inertial_2_1\"/><site name=\"site_2_1\"/><joint name=\"joint_2_1\" range=\"-60.0 60.0\"/><body name=\"segment_2_2\" pos=\"0 .1 0\"><geom class=\"visual\" name=\"visual_2_2\"/><geom class=\"inertial\" name=\"inertial_2_2\"/><site name=\"site_2_2\"/><joint name=\"joint_2_2\" range=\"-60.0 60.0\"/><body name=\"segment_2_3\" pos=\"0 .1 0\"><geom class=\"visual\" name=\"visual_2_3\"/><geom class=\"inertial\" name=\"inertial_2_3\"/><site name=\"site_2_3\"/><joint name=\"joint_2_3\" range=\"-60.0 60.0\"/><body name=\"segment_2_4\" pos=\"0 .1 0\"><geom class=\"visual\" name=\"visual_2_4\"/><geom class=\"inertial\" name=\"inertial_2_4\"/><site name=\"site_2_4\"/><joint name=\"joint_2_4\" range=\"-60.0 60.0\"/></body></body></body></body></body></body>\\n\\n    <geom name=\"target\" type=\"sphere\" pos=\"1 1 .05\" size=\".1\" material=\"target\"/>\\n    <light name=\"target_light\" diffuse=\"1 1 1\" pos=\"1 1 1.5\"/>\\n  </worldbody>\\n\\n  <sensor>\\n    <framepos name=\"nose_1_pos\" objtype=\"geom\" objname=\"nose1\"/>\\n    <framepos name=\"nose_2_pos\" objtype=\"geom\" objname=\"nose2\"/>\\n    <framepos name=\"target_pos\" objtype=\"geom\" objname=\"target\"/>\\n    <framexaxis name=\"head_1_xaxis\" objtype=\"xbody\" objname=\"head1\"/>\\n    <frameyaxis name=\"head_1_yaxis\" objtype=\"xbody\" objname=\"head1\"/>\\n    <framexaxis name=\"head_2_xaxis\" objtype=\"xbody\" objname=\"head2\"/>\\n    <frameyaxis name=\"head_2_yaxis\" objtype=\"xbody\" objname=\"head2\"/>\\n    <velocimeter name=\"head_1_vel\" site=\"head1\"/>\\n    <gyro name=\"head_1_gyro\" site=\"head1\"/>\\n    <velocimeter name=\"head_2_vel\" site=\"head2\"/> \\n    <gyro name=\"head_2_gyro\" site=\"head2\"/>\\n  </sensor>\\n\\n<actuator><motor name=\"motor_1_0\" joint=\"joint_1_0\"/><motor name=\"motor_1_1\" joint=\"joint_1_1\"/><motor name=\"motor_1_2\" joint=\"joint_1_2\"/><motor name=\"motor_1_3\" joint=\"joint_1_3\"/><motor name=\"motor_1_4\" joint=\"joint_1_4\"/><motor name=\"motor_2_0\" joint=\"joint_2_0\"/><motor name=\"motor_2_1\" joint=\"joint_2_1\"/><motor name=\"motor_2_2\" joint=\"joint_2_2\"/><motor name=\"motor_2_3\" joint=\"joint_2_3\"/><motor name=\"motor_2_4\" joint=\"joint_2_4\"/></actuator><sensor><velocimeter name=\"velocimeter_1_0\" site=\"site_1_0\"/><gyro name=\"gyro_1_0\" site=\"site_1_0\"/><velocimeter name=\"velocimeter_1_1\" site=\"site_1_1\"/><gyro name=\"gyro_1_1\" site=\"site_1_1\"/><velocimeter name=\"velocimeter_1_2\" site=\"site_1_2\"/><gyro name=\"gyro_1_2\" site=\"site_1_2\"/><velocimeter name=\"velocimeter_1_3\" site=\"site_1_3\"/><gyro name=\"gyro_1_3\" site=\"site_1_3\"/><velocimeter name=\"velocimeter_1_4\" site=\"site_1_4\"/><gyro name=\"gyro_1_4\" site=\"site_1_4\"/><velocimeter name=\"velocimeter_2_0\" site=\"site_2_0\"/><gyro name=\"gyro_2_0\" site=\"site_2_0\"/><velocimeter name=\"velocimeter_2_1\" site=\"site_2_1\"/><gyro name=\"gyro_2_1\" site=\"site_2_1\"/><velocimeter name=\"velocimeter_2_2\" site=\"site_2_2\"/><gyro name=\"gyro_2_2\" site=\"site_2_2\"/><velocimeter name=\"velocimeter_2_3\" site=\"site_2_3\"/><gyro name=\"gyro_2_3\" site=\"site_2_3\"/><velocimeter name=\"velocimeter_2_4\" site=\"site_2_4\"/><gyro name=\"gyro_2_4\" site=\"site_2_4\"/></sensor></mujoco>\\n'\n",
      "importing\n",
      "Two Bodies Imported\n",
      "b'<mujoco model=\"swimmer\">\\n  <include file=\"./common/visual.xml\"/>\\n  <include file=\"./common/skybox.xml\"/>\\n  <include file=\"./common/materials.xml\"/>\\n\\n  <option timestep=\"0.002\" density=\"3000\">\\n    <flag contact=\"disable\"/>\\n  </option>\\n\\n  <default>\\n    <default class=\"swimmer\">\\n      <joint type=\"hinge\" pos=\"0 -.05 0\" axis=\"0 0 1\" limited=\"true\" solreflimit=\".05 1\" solimplimit=\"0 .8 .1\" armature=\"1e-6\"/>\\n      <default class=\"inertial\">\\n        <geom type=\"box\" size=\".001 .05 .01\" rgba=\"0 0 0 0\" mass=\".01\"/>\\n      </default>\\n      <default class=\"visual\">\\n        <geom type=\"capsule\" size=\".01\" fromto=\"0 -.05 0 0 .05 0\" material=\"self\" mass=\"0\"/>\\n      </default>\\n      <site size=\".01\" rgba=\"0 0 0 0\"/>\\n    </default>\\n    <default class=\"free\">\\n      <joint limited=\"false\" stiffness=\"0\" armature=\"0\"/>\\n    </default>\\n    <motor gear=\"5e-4\" ctrllimited=\"true\" ctrlrange=\"-1 1\"/>\\n  </default>\\n\\n  <worldbody>\\n    <geom name=\"ground\" type=\"plane\" size=\"2 2 0.1\" material=\"grid\"/>\\n\\n    <!-- Swimmer One -->\\n    <body name=\"head1\" pos=\"0 0 .05\" childclass=\"swimmer\">\\n      <light name=\"light1_1\" diffuse=\".8 .8 .8\" pos=\"0 0 1.5\"/>\\n      <geom name=\"head1\" type=\"ellipsoid\" size=\".02 .04 .017\" pos=\"0 -.022 0\" material=\"self\" mass=\"0\"/>\\n      <geom name=\"nose1\" type=\"sphere\" pos=\"0 -.06 0\" size=\".004\" material=\"effector\" mass=\"0\"/>\\n      <geom name=\"eyes1\" type=\"capsule\" fromto=\"-.006 -.054 .005 .006 -.054 .005\" size=\".004\" material=\"eye\" mass=\"0\"/>\\n      <camera name=\"tracking11\" pos=\"0.0 -0.2 0.5\" xyaxes=\"1 0 0 0 1 1\" mode=\"trackcom\" fovy=\"60\"/>\\n      <camera name=\"tracking12\" pos=\"-0.9 0.5 0.15\" xyaxes=\"0 -1 0 .3 0 1\" mode=\"trackcom\" fovy=\"60\"/>\\n      <camera name=\"eyes1\" pos=\"0 -.058 .005\" xyaxes=\"-1 0 0 0 0 1\"/>\\n      <joint name=\"rootx1\" class=\"free\" type=\"slide\" axis=\"1 0 0\" pos=\"0 -.05 0\"/>\\n      <joint name=\"rooty1\" class=\"free\" type=\"slide\" axis=\"0 1 0\" pos=\"0 -.05 0\"/>\\n      <joint name=\"rootz1\" class=\"free\" type=\"hinge\" axis=\"0 0 1\" pos=\"0 -.05 0\"/>\\n      <geom name=\"inertial1\" class=\"inertial\"/>\\n      <geom name=\"visual1\" class=\"visual\"/>\\n      <site name=\"head1\"/>\\n    <body name=\"segment_1_0\" pos=\"0 .1 0\"><geom class=\"visual\" name=\"visual_1_0\"/><geom class=\"inertial\" name=\"inertial_1_0\"/><site name=\"site_1_0\"/><joint name=\"joint_1_0\" range=\"-60.0 60.0\"/><body name=\"segment_1_1\" pos=\"0 .1 0\"><geom class=\"visual\" name=\"visual_1_1\"/><geom class=\"inertial\" name=\"inertial_1_1\"/><site name=\"site_1_1\"/><joint name=\"joint_1_1\" range=\"-60.0 60.0\"/><body name=\"segment_1_2\" pos=\"0 .1 0\"><geom class=\"visual\" name=\"visual_1_2\"/><geom class=\"inertial\" name=\"inertial_1_2\"/><site name=\"site_1_2\"/><joint name=\"joint_1_2\" range=\"-60.0 60.0\"/><body name=\"segment_1_3\" pos=\"0 .1 0\"><geom class=\"visual\" name=\"visual_1_3\"/><geom class=\"inertial\" name=\"inertial_1_3\"/><site name=\"site_1_3\"/><joint name=\"joint_1_3\" range=\"-60.0 60.0\"/><body name=\"segment_1_4\" pos=\"0 .1 0\"><geom class=\"visual\" name=\"visual_1_4\"/><geom class=\"inertial\" name=\"inertial_1_4\"/><site name=\"site_1_4\"/><joint name=\"joint_1_4\" range=\"-60.0 60.0\"/></body></body></body></body></body></body>\\n\\n    <!-- Swimmer Two -->\\n    <body name=\"head2\" pos=\"0 0.5 .05\" childclass=\"swimmer\">\\n      <light name=\"light2_1\" diffuse=\".8 .8 .8\" pos=\"0 0 1.5\"/>\\n      <geom name=\"head2\" type=\"ellipsoid\" size=\".02 .04 .017\" pos=\"0 -.022 0\" material=\"self\" mass=\"0\"/>\\n      <geom name=\"nose2\" type=\"sphere\" pos=\"0 -.06 0\" size=\".004\" material=\"effector\" mass=\"0\"/>\\n      <geom name=\"eyes2\" type=\"capsule\" fromto=\"-.006 -.054 .005 .006 -.054 .005\" size=\".004\" material=\"eye\" mass=\"0\"/>\\n      <camera name=\"tracking21\" pos=\"0.0 -0.2 0.5\" xyaxes=\"1 0 0 0 1 1\" mode=\"trackcom\" fovy=\"60\"/>\\n      <camera name=\"tracking22\" pos=\"-0.9 0.5 0.15\" xyaxes=\"0 -1 0 .3 0 1\" mode=\"trackcom\" fovy=\"60\"/>\\n      <camera name=\"eyes2\" pos=\"0 -.058 .005\" xyaxes=\"-1 0 0 0 0 1\"/>\\n      <joint name=\"rootx2\" class=\"free\" type=\"slide\" axis=\"1 0 0\" pos=\"0 -.05 0\"/>\\n      <joint name=\"rooty2\" class=\"free\" type=\"slide\" axis=\"0 1 0\" pos=\"0 -.05 0\"/>\\n      <joint name=\"rootz2\" class=\"free\" type=\"hinge\" axis=\"0 0 1\" pos=\"0 -.05 0\"/>\\n      <geom name=\"inertial2\" class=\"inertial\"/>\\n      <geom name=\"visual2\" class=\"visual\"/>\\n      <site name=\"head2\"/>\\n    <body name=\"segment_2_0\" pos=\"0 .1 0\"><geom class=\"visual\" name=\"visual_2_0\"/><geom class=\"inertial\" name=\"inertial_2_0\"/><site name=\"site_2_0\"/><joint name=\"joint_2_0\" range=\"-60.0 60.0\"/><body name=\"segment_2_1\" pos=\"0 .1 0\"><geom class=\"visual\" name=\"visual_2_1\"/><geom class=\"inertial\" name=\"inertial_2_1\"/><site name=\"site_2_1\"/><joint name=\"joint_2_1\" range=\"-60.0 60.0\"/><body name=\"segment_2_2\" pos=\"0 .1 0\"><geom class=\"visual\" name=\"visual_2_2\"/><geom class=\"inertial\" name=\"inertial_2_2\"/><site name=\"site_2_2\"/><joint name=\"joint_2_2\" range=\"-60.0 60.0\"/><body name=\"segment_2_3\" pos=\"0 .1 0\"><geom class=\"visual\" name=\"visual_2_3\"/><geom class=\"inertial\" name=\"inertial_2_3\"/><site name=\"site_2_3\"/><joint name=\"joint_2_3\" range=\"-60.0 60.0\"/><body name=\"segment_2_4\" pos=\"0 .1 0\"><geom class=\"visual\" name=\"visual_2_4\"/><geom class=\"inertial\" name=\"inertial_2_4\"/><site name=\"site_2_4\"/><joint name=\"joint_2_4\" range=\"-60.0 60.0\"/></body></body></body></body></body></body>\\n\\n    <geom name=\"target\" type=\"sphere\" pos=\"1 1 .05\" size=\".1\" material=\"target\"/>\\n    <light name=\"target_light\" diffuse=\"1 1 1\" pos=\"1 1 1.5\"/>\\n  </worldbody>\\n\\n  <sensor>\\n    <framepos name=\"nose_1_pos\" objtype=\"geom\" objname=\"nose1\"/>\\n    <framepos name=\"nose_2_pos\" objtype=\"geom\" objname=\"nose2\"/>\\n    <framepos name=\"target_pos\" objtype=\"geom\" objname=\"target\"/>\\n    <framexaxis name=\"head_1_xaxis\" objtype=\"xbody\" objname=\"head1\"/>\\n    <frameyaxis name=\"head_1_yaxis\" objtype=\"xbody\" objname=\"head1\"/>\\n    <framexaxis name=\"head_2_xaxis\" objtype=\"xbody\" objname=\"head2\"/>\\n    <frameyaxis name=\"head_2_yaxis\" objtype=\"xbody\" objname=\"head2\"/>\\n    <velocimeter name=\"head_1_vel\" site=\"head1\"/>\\n    <gyro name=\"head_1_gyro\" site=\"head1\"/>\\n    <velocimeter name=\"head_2_vel\" site=\"head2\"/> \\n    <gyro name=\"head_2_gyro\" site=\"head2\"/>\\n  </sensor>\\n\\n<actuator><motor name=\"motor_1_0\" joint=\"joint_1_0\"/><motor name=\"motor_1_1\" joint=\"joint_1_1\"/><motor name=\"motor_1_2\" joint=\"joint_1_2\"/><motor name=\"motor_1_3\" joint=\"joint_1_3\"/><motor name=\"motor_1_4\" joint=\"joint_1_4\"/><motor name=\"motor_2_0\" joint=\"joint_2_0\"/><motor name=\"motor_2_1\" joint=\"joint_2_1\"/><motor name=\"motor_2_2\" joint=\"joint_2_2\"/><motor name=\"motor_2_3\" joint=\"joint_2_3\"/><motor name=\"motor_2_4\" joint=\"joint_2_4\"/></actuator><sensor><velocimeter name=\"velocimeter_1_0\" site=\"site_1_0\"/><gyro name=\"gyro_1_0\" site=\"site_1_0\"/><velocimeter name=\"velocimeter_1_1\" site=\"site_1_1\"/><gyro name=\"gyro_1_1\" site=\"site_1_1\"/><velocimeter name=\"velocimeter_1_2\" site=\"site_1_2\"/><gyro name=\"gyro_1_2\" site=\"site_1_2\"/><velocimeter name=\"velocimeter_1_3\" site=\"site_1_3\"/><gyro name=\"gyro_1_3\" site=\"site_1_3\"/><velocimeter name=\"velocimeter_1_4\" site=\"site_1_4\"/><gyro name=\"gyro_1_4\" site=\"site_1_4\"/><velocimeter name=\"velocimeter_2_0\" site=\"site_2_0\"/><gyro name=\"gyro_2_0\" site=\"site_2_0\"/><velocimeter name=\"velocimeter_2_1\" site=\"site_2_1\"/><gyro name=\"gyro_2_1\" site=\"site_2_1\"/><velocimeter name=\"velocimeter_2_2\" site=\"site_2_2\"/><gyro name=\"gyro_2_2\" site=\"site_2_2\"/><velocimeter name=\"velocimeter_2_3\" site=\"site_2_3\"/><gyro name=\"gyro_2_3\" site=\"site_2_3\"/><velocimeter name=\"velocimeter_2_4\" site=\"site_2_4\"/><gyro name=\"gyro_2_4\" site=\"site_2_4\"/></sensor></mujoco>\\n'\n",
      "\u001b[1m\u001b[32mConfig file saved to data/local/experiments/tonic/swimmer-mswim/mlp_256/config.yaml\u001b[0m\n",
      "\u001b[0m          Time left:  epoch 0:00:45  total 1:15:33          "
     ]
    },
    {
     "name": "stderr",
     "output_type": "stream",
     "text": [
      "/Users/Apple/miniconda3/envs/social-agents/lib/python3.10/site-packages/gym/spaces/box.py:127: UserWarning: \u001b[33mWARN: Box bound precision lowered by casting to float32\u001b[0m\n",
      "  logger.warn(f\"Box bound precision lowered by casting to {self.dtype}\")\n"
     ]
    },
    {
     "name": "stdout",
     "output_type": "stream",
     "text": [
      "         \u001b[0m Time left:  epoch 0:00:07  total 0:14:16          \u001b[1m\u001b[32mm\u001b[44m\u001b[97m\u001b[44m\u001b[97m\u001b[44m\u001b[97m\u001b[44m\u001b[97m\n",
      "Saving weights to data/local/experiments/tonic/swimmer-mswim/mlp_256/checkpoints/step_3000.pt\u001b[0m\n",
      "          Time lef\u001b[0mt:  epoch 0:00:11  total 0:27:54          \u001b[1m\u001b[32mm\u001b[44m\u001b[97m\u001b[44m\u001b[97m\u001b[44m\u001b[97m\n",
      "Saving weights to data/local/experiments/tonic/swimmer-mswim/mlp_256/checkpoints/step_6000.pt\u001b[0m\n",
      "          Time left:  epoch\u001b[0m 0:00:11  total 0:34:00          \u001b[1m\u001b[32mm\u001b[44m\u001b[97m\u001b[44m\u001b[97m\u001b[44m\u001b[97m\u001b[44m\u001b[97m\n",
      "Saving weights to data/local/experiments/tonic/swimmer-mswim/mlp_256/checkpoints/step_9000.pt\u001b[0m\n",
      "          Time left:  epoch 0:00:07 \u001b[0m total 0:28:59          \u001b[1m\u001b[32mm\u001b[44m\u001b[97m\u001b[44m\u001b[97m\u001b[44m\u001b[97m\n",
      "Saving weights to data/local/experiments/tonic/swimmer-mswim/mlp_256/checkpoints/step_12000.pt\u001b[0m\n",
      "          Time left:  epoch 0:00:06  total 0:\u001b[0m43:45          \u001b[1m\u001b[32mm\u001b[44m\u001b[97m\u001b[44m\u001b[97m\u001b[44m\u001b[97m\u001b[44m\u001b[97m\n",
      "Saving weights to data/local/experiments/tonic/swimmer-mswim/mlp_256/checkpoints/step_15000.pt\u001b[0m\n",
      "          Time left:  epoch 0:00:02  total 0:43:29    \u001b[0m      \u001b[1m\u001b[32mm\u001b[44m\u001b[97m\u001b[44m\u001b[97m\u001b[44m\u001b[97m\u001b[44m\u001b[97m\n",
      "Saving weights to data/local/experiments/tonic/swimmer-mswim/mlp_256/checkpoints/step_18000.pt\u001b[0m\n",
      "          Time left:  epoch 0:00:00  total 0:40:29          \u001b[0m\u001b[44m\u001b[97m\u001b[44m\u001b[97m\u001b[44m\u001b[97m\n",
      "actor                                                       \n",
      "  clip fraction                                       0.0927\n",
      "  entropy                                               1.05\n",
      "  iterations                                            5.25\n",
      "  kl                                                  0.0078\n",
      "  loss                                                -0.009\n",
      "  std                                                  0.693\n",
      "  stop                                                  0.19\n",
      "critic                                                      \n",
      "  iterations                                              80\n",
      "  loss                                                   173\n",
      "  v                                                     3.66\n",
      "test                                                        \n",
      "  action                                                    \n",
      "    max                                                 3.04\n",
      "    mean                                             -0.0244\n",
      "    min                                                -3.15\n",
      "    size                                               5,000\n",
      "    std                                                0.708\n",
      "  episode length                                            \n",
      "    max                                                1,000\n",
      "    mean                                               1e+03\n",
      "    min                                                1,000\n",
      "    size                                                   5\n",
      "    std                                                    0\n",
      "  episode score                                             \n",
      "    max                                                  324\n",
      "    mean                                                -305\n",
      "    min                                                 -894\n",
      "    size                                                   5\n",
      "    std                                                  524\n",
      "train                                                       \n",
      "  action                                                    \n",
      "    max                                                 3.03\n",
      "    mean                                           -0.000857\n",
      "    min                                                -3.73\n",
      "    size                                              20,000\n",
      "    std                                                0.704\n",
      "  episode length                                            \n",
      "    max                                                1,000\n",
      "    mean                                               1e+03\n",
      "    min                                                1,000\n",
      "    size                                                  20\n",
      "    std                                                    0\n",
      "  episode score                                             \n",
      "    max                                             1.46e+03\n",
      "    mean                                                 188\n",
      "    min                                                 -965\n",
      "    size                                                  20\n",
      "    std                                                  658\n",
      "  episodes                                                20\n",
      "  epoch seconds                                         26.4\n",
      "  epoch steps                                          2e+04\n",
      "  epochs                                                   1\n",
      "  seconds                                               26.4\n",
      "  steps                                                2e+04\n",
      "  steps per second                                       759\n",
      "  worker steps                                         2e+04\n",
      "\n",
      "\u001b[1m\u001b[32mLogging data to data/local/experiments/tonic/swimmer-mswim/mlp_256/log.csv\u001b[0m\n",
      "   \u001b[0m       Time left:  epoch 0:00:27  total 0:47:21          \u001b[1m\u001b[32mm\u001b[44m\u001b[97m\n",
      "Saving weights to data/local/experiments/tonic/swimmer-mswim/mlp_256/checkpoints/step_21000.pt\u001b[0m\n",
      "          Ti\u001b[0mme left:  epoch 0:00:20  total 0:43:12          \u001b[1m\u001b[32mm\u001b[44m\u001b[97m\u001b[44m\u001b[97m\u001b[44m\u001b[97m\u001b[44m\u001b[97m\n",
      "Saving weights to data/local/experiments/tonic/swimmer-mswim/mlp_256/checkpoints/step_24000.pt\u001b[0m\n",
      "          Time left: \u001b[0m epoch 0:00:17  total 0:44:19          \u001b[1m\u001b[32mm\u001b[44m\u001b[97m\u001b[44m\u001b[97m\u001b[44m\u001b[97m\n",
      "Saving weights to data/local/experiments/tonic/swimmer-mswim/mlp_256/checkpoints/step_27000.pt\u001b[0m\n",
      "          Time left:  epoch 0:\u001b[0m00:14  total 0:47:17          \u001b[1m\u001b[32mm\u001b[44m\u001b[97m\u001b[44m\u001b[97m\u001b[44m\u001b[97m\u001b[44m\u001b[97m\n",
      "Saving weights to data/local/experiments/tonic/swimmer-mswim/mlp_256/checkpoints/step_30000.pt\u001b[0m\n",
      "          Time left:  epoch 0:00:10  to\u001b[0mtal 0:46:55          \u001b[1m\u001b[32mm\u001b[44m\u001b[97m\u001b[44m\u001b[97m\u001b[44m\u001b[97m\u001b[44m\u001b[97m\n",
      "Saving weights to data/local/experiments/tonic/swimmer-mswim/mlp_256/checkpoints/step_33000.pt\u001b[0m\n",
      "          Time left:  epoch 0:00:05  total 0:44:\u001b[0m04          \u001b[1m\u001b[32mm\u001b[44m\u001b[97m\u001b[44m\u001b[97m\u001b[44m\u001b[97m\n",
      "Saving weights to data/local/experiments/tonic/swimmer-mswim/mlp_256/checkpoints/step_36000.pt\u001b[0m\n",
      "          Time left:  epoch 0:00:01  total 0:43:48       \u001b[0m   \u001b[1m\u001b[32mm\u001b[44m\u001b[97m\u001b[44m\u001b[97m\u001b[44m\u001b[97m\u001b[44m\u001b[97m\n",
      "Saving weights to data/local/experiments/tonic/swimmer-mswim/mlp_256/checkpoints/step_39000.pt\u001b[0m\n",
      "          Time left:  epoch 0:00:00  total 0:43:02          \u001b[0m\u001b[44m\u001b[97m\n",
      "actor                                                       \n",
      "  clip fraction                                        0.194\n",
      "  entropy                                               1.05\n",
      "  iterations                                            20.2\n",
      "  kl                                                  0.0114\n",
      "  loss                                               -0.0226\n",
      "  std                                                  0.691\n",
      "  stop                                                0.0396\n",
      "critic                                                      \n",
      "  iterations                                              80\n",
      "  loss                                                    75\n",
      "  v                                                     11.8\n",
      "test                                                        \n",
      "  action                                                    \n",
      "    max                                                 3.01\n",
      "    mean                                            -0.00927\n",
      "    min                                                -2.71\n",
      "    size                                               5,000\n",
      "    std                                                0.715\n",
      "  episode length                                            \n",
      "    max                                                1,000\n",
      "    mean                                               1e+03\n",
      "    min                                                1,000\n",
      "    size                                                   5\n",
      "    std                                                    0\n",
      "  episode score                                             \n",
      "    max                                             1.65e+03\n",
      "    mean                                                 818\n",
      "    min                                                  547\n",
      "    size                                                   5\n",
      "    std                                                  419\n",
      "train                                                       \n",
      "  action                                                    \n",
      "    max                                                 3.13\n",
      "    mean                                              -0.019\n",
      "    min                                                -3.38\n",
      "    size                                              20,000\n",
      "    std                                                0.709\n",
      "  episode length                                            \n",
      "    max                                                1,000\n",
      "    mean                                               1e+03\n",
      "    min                                                1,000\n",
      "    size                                                  20\n",
      "    std                                                    0\n",
      "  episode score                                             \n",
      "    max                                                  642\n",
      "    mean                                                 124\n",
      "    min                                                 -940\n",
      "    size                                                  20\n",
      "    std                                                  537\n",
      "  episodes                                                40\n",
      "  epoch seconds                                         28.2\n",
      "  epoch steps                                          2e+04\n",
      "  epochs                                                   2\n",
      "  seconds                                               54.6\n",
      "  steps                                                4e+04\n",
      "  steps per second                                       710\n",
      "  worker steps                                         4e+04\n",
      "\n",
      "      \u001b[0m    Time left:  epoch 0:00:25  total 0:45:23          \u001b[1m\u001b[32mm\u001b[44m\u001b[97m\u001b[44m\u001b[97m\u001b[44m\u001b[97m\n",
      "Saving weights to data/local/experiments/tonic/swimmer-mswim/mlp_256/checkpoints/step_42000.pt\u001b[0m\n",
      "          Time \u001b[0mleft:  epoch 0:00:19  total 0:43:17          \u001b[1m\u001b[32mm\u001b[44m\u001b[97m\u001b[44m\u001b[97m\u001b[44m\u001b[97m\u001b[44m\u001b[97m\n",
      "Saving weights to data/local/experiments/tonic/swimmer-mswim/mlp_256/checkpoints/step_45000.pt\u001b[0m\n",
      "          Time left:  ep\u001b[0moch 0:00:16  total 0:43:22          \u001b[1m\u001b[32mm\u001b[44m\u001b[97m\u001b[44m\u001b[97m\u001b[44m\u001b[97m\u001b[44m\u001b[97m\n",
      "Saving weights to data/local/experiments/tonic/swimmer-mswim/mlp_256/checkpoints/step_48000.pt\u001b[0m\n",
      "          Time left:  epoch 0:00:\u001b[0m12  total 0:43:39          \u001b[1m\u001b[32mm\u001b[44m\u001b[97m\u001b[44m\u001b[97m\u001b[44m\u001b[97m\n",
      "Saving weights to data/local/experiments/tonic/swimmer-mswim/mlp_256/checkpoints/step_51000.pt\u001b[0m\n",
      "          Time left:  epoch 0:00:08  total\u001b[0m 0:43:53          \u001b[1m\u001b[32mm\u001b[44m\u001b[97m\u001b[44m\u001b[97m\u001b[44m\u001b[97m\u001b[44m\u001b[97m\n",
      "Saving weights to data/local/experiments/tonic/swimmer-mswim/mlp_256/checkpoints/step_54000.pt\u001b[0m\n",
      "          Time left:  epoch 0:00:03  total 0:42:17 \u001b[0m         \u001b[1m\u001b[32mm\u001b[44m\u001b[97m\u001b[44m\u001b[97m\u001b[44m\u001b[97m\n",
      "Saving weights to data/local/experiments/tonic/swimmer-mswim/mlp_256/checkpoints/step_57000.pt\u001b[0m\n",
      "          Time left:  epoch 0:00:00  total 0:42:40          \u001b[0m\u001b[44m\u001b[97m\u001b[44m\u001b[97m\u001b[44m\u001b[97m\u001b[44m\u001b[97m\n",
      "actor                                                       \n",
      "  clip fraction                                       0.0939\n",
      "  entropy                                               1.05\n",
      "  iterations                                               6\n",
      "  kl                                                 0.00721\n",
      "  loss                                              -0.00644\n",
      "  std                                                  0.689\n",
      "  stop                                                 0.167\n",
      "critic                                                      \n",
      "  iterations                                              80\n",
      "  loss                                                  75.6\n",
      "  v                                                     29.8\n",
      "test                                                        \n",
      "  action                                                    \n",
      "    max                                                 3.16\n",
      "    mean                                             0.00562\n",
      "    min                                                -2.73\n",
      "    size                                               5,000\n",
      "    std                                                0.722\n",
      "  episode length                                            \n",
      "    max                                                1,000\n",
      "    mean                                               1e+03\n",
      "    min                                                1,000\n",
      "    size                                                   5\n",
      "    std                                                    0\n",
      "  episode score                                             \n",
      "    max                                                  850\n",
      "    mean                                                 341\n",
      "    min                                                 -908\n",
      "    size                                                   5\n",
      "    std                                                  635\n",
      "train                                                       \n",
      "  action                                                    \n",
      "    max                                                 3.12\n",
      "    mean                                             0.00332\n",
      "    min                                                 -3.3\n",
      "    size                                              20,000\n",
      "    std                                                0.721\n",
      "  episode length                                            \n",
      "    max                                                1,000\n",
      "    mean                                               1e+03\n",
      "    min                                                1,000\n",
      "    size                                                  20\n",
      "    std                                                    0\n",
      "  episode score                                             \n",
      "    max                                             1.67e+03\n",
      "    mean                                                 322\n",
      "    min                                                 -829\n",
      "    size                                                  20\n",
      "    std                                                  691\n",
      "  episodes                                                60\n",
      "  epoch seconds                                         26.8\n",
      "  epoch steps                                          2e+04\n",
      "  epochs                                                   3\n",
      "  seconds                                               81.4\n",
      "  steps                                                6e+04\n",
      "  steps per second                                       746\n",
      "  worker steps                                         6e+04\n",
      "\n",
      "\u001b[1m\u001b[32m\n",
      "Saving weights to data/local/experiments/tonic/swimmer-mswim/mlp_256/checkpoints/step_60000.pt\u001b[0m\n",
      "         \u001b[0m Time left:  epoch 0:00:23  total 0:44:24          \u001b[1m\u001b[32mm\u001b[44m\u001b[97m\u001b[44m\u001b[97m\u001b[44m\u001b[97m\u001b[44m\u001b[97m\u001b[44m\u001b[97m\n",
      "Saving weights to data/local/experiments/tonic/swimmer-mswim/mlp_256/checkpoints/step_63000.pt\u001b[0m\n",
      "          Time lef\u001b[0mt:  epoch 0:00:19  total 0:44:24          \u001b[1m\u001b[32mm\u001b[44m\u001b[97m\u001b[44m\u001b[97m\u001b[44m\u001b[97m\n",
      "Saving weights to data/local/experiments/tonic/swimmer-mswim/mlp_256/checkpoints/step_66000.pt\u001b[0m\n",
      "          Time left:  epoch\u001b[0m 0:00:14  total 0:43:00          \u001b[1m\u001b[32mm\u001b[44m\u001b[97m\u001b[44m\u001b[97m\u001b[44m\u001b[97m\u001b[44m\u001b[97m\n",
      "Saving weights to data/local/experiments/tonic/swimmer-mswim/mlp_256/checkpoints/step_69000.pt\u001b[0m\n",
      "          Time left:  epoch 0:00:10 \u001b[0m total 0:42:51          \u001b[1m\u001b[32mm\u001b[44m\u001b[97m\u001b[44m\u001b[97m\u001b[44m\u001b[97m\n",
      "Saving weights to data/local/experiments/tonic/swimmer-mswim/mlp_256/checkpoints/step_72000.pt\u001b[0m\n",
      "          Time left:  epoch 0:00:06  total 0:\u001b[0m43:06          \u001b[1m\u001b[32mm\u001b[44m\u001b[97m\u001b[44m\u001b[97m\u001b[44m\u001b[97m\u001b[44m\u001b[97m\n",
      "Saving weights to data/local/experiments/tonic/swimmer-mswim/mlp_256/checkpoints/step_75000.pt\u001b[0m\n",
      "          Time left:  epoch 0:00:02  total 0:43:04    \u001b[0m      \u001b[1m\u001b[32mm\u001b[44m\u001b[97m\u001b[44m\u001b[97m\u001b[44m\u001b[97m\u001b[44m\u001b[97m\n",
      "Saving weights to data/local/experiments/tonic/swimmer-mswim/mlp_256/checkpoints/step_78000.pt\u001b[0m\n",
      "          Time left:  epoch 0:00:00  total 0:42:17          \u001b[0m\u001b[44m\u001b[97m\u001b[44m\u001b[97m\u001b[44m\u001b[97m\n",
      "actor                                                       \n",
      "  clip fraction                                       0.0843\n",
      "  entropy                                               1.05\n",
      "  iterations                                             5.4\n",
      "  kl                                                 0.00688\n",
      "  loss                                              -0.00713\n",
      "  std                                                  0.689\n",
      "  stop                                                 0.185\n",
      "critic                                                      \n",
      "  iterations                                              80\n",
      "  loss                                                  52.1\n",
      "  v                                                     46.8\n",
      "test                                                        \n",
      "  action                                                    \n",
      "    max                                                 2.79\n",
      "    mean                                             -0.0322\n",
      "    min                                                -2.91\n",
      "    size                                               5,000\n",
      "    std                                                0.733\n",
      "  episode length                                            \n",
      "    max                                                1,000\n",
      "    mean                                               1e+03\n",
      "    min                                                1,000\n",
      "    size                                                   5\n",
      "    std                                                    0\n",
      "  episode score                                             \n",
      "    max                                             1.37e+03\n",
      "    mean                                                 816\n",
      "    min                                                  614\n",
      "    size                                                   5\n",
      "    std                                                  283\n",
      "train                                                       \n",
      "  action                                                    \n",
      "    max                                                 3.31\n",
      "    mean                                             0.00708\n",
      "    min                                                -3.41\n",
      "    size                                              20,000\n",
      "    std                                                0.728\n",
      "  episode length                                            \n",
      "    max                                                1,000\n",
      "    mean                                               1e+03\n",
      "    min                                                1,000\n",
      "    size                                                  20\n",
      "    std                                                    0\n",
      "  episode score                                             \n",
      "    max                                             1.56e+03\n",
      "    mean                                                 530\n",
      "    min                                                 -549\n",
      "    size                                                  20\n",
      "    std                                                  432\n",
      "  episodes                                                80\n",
      "  epoch seconds                                         26.1\n",
      "  epoch steps                                          2e+04\n",
      "  epochs                                                   4\n",
      "  seconds                                                108\n",
      "  steps                                                8e+04\n",
      "  steps per second                                       765\n",
      "  worker steps                                         8e+04\n",
      "\n",
      "   \u001b[0m       Time left:  epoch 0:00:25  total 0:42:39          \u001b[1m\u001b[32mm\u001b[44m\u001b[97m\n",
      "Saving weights to data/local/experiments/tonic/swimmer-mswim/mlp_256/checkpoints/step_81000.pt\u001b[0m\n",
      "          Ti\u001b[0mme left:  epoch 0:00:21  total 0:42:34          \u001b[1m\u001b[32mm\u001b[44m\u001b[97m\u001b[44m\u001b[97m\u001b[44m\u001b[97m\u001b[44m\u001b[97m\n",
      "Saving weights to data/local/experiments/tonic/swimmer-mswim/mlp_256/checkpoints/step_84000.pt\u001b[0m\n",
      "          Time left: \u001b[0m epoch 0:00:17  total 0:42:28          \u001b[1m\u001b[32mm\u001b[44m\u001b[97m\u001b[44m\u001b[97m\u001b[44m\u001b[97m\u001b[44m\u001b[97m\n",
      "Saving weights to data/local/experiments/tonic/swimmer-mswim/mlp_256/checkpoints/step_87000.pt\u001b[0m\n",
      "          Time left:  epoch 0:\u001b[0m00:13  total 0:41:25          \u001b[1m\u001b[32mm\u001b[44m\u001b[97m\u001b[44m\u001b[97m\u001b[44m\u001b[97m\n",
      "Saving weights to data/local/experiments/tonic/swimmer-mswim/mlp_256/checkpoints/step_90000.pt\u001b[0m\n",
      "          Time left:  epoch 0:00:09  to\u001b[0mtal 0:41:20          \u001b[1m\u001b[32mm\u001b[44m\u001b[97m\u001b[44m\u001b[97m\u001b[44m\u001b[97m\u001b[44m\u001b[97m\n",
      "Saving weights to data/local/experiments/tonic/swimmer-mswim/mlp_256/checkpoints/step_93000.pt\u001b[0m\n",
      "          Time left:  epoch 0:00:05  total 0:41:\u001b[0m18          \u001b[1m\u001b[32mm\u001b[44m\u001b[97m\u001b[44m\u001b[97m\u001b[44m\u001b[97m\n",
      "Saving weights to data/local/experiments/tonic/swimmer-mswim/mlp_256/checkpoints/step_96000.pt\u001b[0m\n",
      "          Time left:  epoch 0:00:01  total 0:41:24       \u001b[0m   \u001b[1m\u001b[32mm\u001b[44m\u001b[97m\u001b[44m\u001b[97m\u001b[44m\u001b[97m\u001b[44m\u001b[97m\n",
      "Saving weights to data/local/experiments/tonic/swimmer-mswim/mlp_256/checkpoints/step_99000.pt\u001b[0m\n",
      "          Time left:  epoch 0:00:00  total 0:41:06          \u001b[0m\u001b[44m\u001b[97m\n",
      "actor                                                       \n",
      "  clip fraction                                       0.0919\n",
      "  entropy                                               1.05\n",
      "  iterations                                             6.2\n",
      "  kl                                                 0.00719\n",
      "  loss                                              -0.00648\n",
      "  std                                                  0.689\n",
      "  stop                                                 0.161\n",
      "critic                                                      \n",
      "  iterations                                              80\n",
      "  loss                                                    45\n",
      "  v                                                       70\n",
      "test                                                        \n",
      "  action                                                    \n",
      "    max                                                 3.29\n",
      "    mean                                            -0.00741\n",
      "    min                                                -3.01\n",
      "    size                                               5,000\n",
      "    std                                                0.738\n",
      "  episode length                                            \n",
      "    max                                                1,000\n",
      "    mean                                               1e+03\n",
      "    min                                                1,000\n",
      "    size                                                   5\n",
      "    std                                                    0\n",
      "  episode score                                             \n",
      "    max                                             1.72e+03\n",
      "    mean                                                 818\n",
      "    min                                                 -177\n",
      "    size                                                   5\n",
      "    std                                                  607\n",
      "train                                                       \n",
      "  action                                                    \n",
      "    max                                                 3.39\n",
      "    mean                                            0.000659\n",
      "    min                                                -3.33\n",
      "    size                                              20,000\n",
      "    std                                                0.737\n",
      "  episode length                                            \n",
      "    max                                                1,000\n",
      "    mean                                               1e+03\n",
      "    min                                                1,000\n",
      "    size                                                  20\n",
      "    std                                                    0\n",
      "  episode score                                             \n",
      "    max                                             1.55e+03\n",
      "    mean                                                 767\n",
      "    min                                                 -616\n",
      "    size                                                  20\n",
      "    std                                                  556\n",
      "  episodes                                               100\n",
      "  epoch seconds                                           24\n",
      "  epoch steps                                          2e+04\n",
      "  epochs                                                   5\n",
      "  seconds                                                132\n",
      "  steps                                                1e+05\n",
      "  steps per second                                       834\n",
      "  worker steps                                         1e+05\n",
      "\n",
      "      \u001b[0m    Time left:  epoch 0:00:23  total 0:41:04          \u001b[1m\u001b[32mm\u001b[44m\u001b[97m\u001b[44m\u001b[97m\u001b[44m\u001b[97m\n",
      "Saving weights to data/local/experiments/tonic/swimmer-mswim/mlp_256/checkpoints/step_102000.pt\u001b[0m\n",
      "          Time \u001b[0mleft:  epoch 0:00:19  total 0:41:02          \u001b[1m\u001b[32mm\u001b[44m\u001b[97m\u001b[44m\u001b[97m\u001b[44m\u001b[97m\n",
      "Saving weights to data/local/experiments/tonic/swimmer-mswim/mlp_256/checkpoints/step_105000.pt\u001b[0m\n",
      "          Time left:  ep\u001b[0moch 0:00:15  total 0:41:45          \u001b[1m\u001b[32mm\u001b[44m\u001b[97m\u001b[44m\u001b[97m\u001b[44m\u001b[97m\u001b[44m\u001b[97m\n",
      "Saving weights to data/local/experiments/tonic/swimmer-mswim/mlp_256/checkpoints/step_108000.pt\u001b[0m\n",
      "          Time left:  epoch 0:00:\u001b[0m12  total 0:42:29          \u001b[1m\u001b[32mm\u001b[44m\u001b[97m\u001b[44m\u001b[97m\u001b[44m\u001b[97m\n",
      "Saving weights to data/local/experiments/tonic/swimmer-mswim/mlp_256/checkpoints/step_111000.pt\u001b[0m\n",
      "          Time left:  epoch 0:00:07  total\u001b[0m 0:41:39          \u001b[1m\u001b[32mm\u001b[44m\u001b[97m\u001b[44m\u001b[97m\u001b[44m\u001b[97m\u001b[44m\u001b[97m\n",
      "Saving weights to data/local/experiments/tonic/swimmer-mswim/mlp_256/checkpoints/step_114000.pt\u001b[0m\n",
      "          Time left:  epoch 0:00:03  total 0:41:36 \u001b[0m         \u001b[1m\u001b[32mm\u001b[44m\u001b[97m\u001b[44m\u001b[97m\u001b[44m\u001b[97m\u001b[44m\u001b[97m\n",
      "Saving weights to data/local/experiments/tonic/swimmer-mswim/mlp_256/checkpoints/step_117000.pt\u001b[0m\n",
      "          Time left:  epoch 0:00:00  total 0:41:34          \u001b[0m\u001b[44m\u001b[97m\u001b[44m\u001b[97m\u001b[44m\u001b[97m\u001b[44m\u001b[97m\n",
      "actor                                                       \n",
      "  clip fraction                                        0.187\n",
      "  entropy                                               1.04\n",
      "  iterations                                            35.6\n",
      "  kl                                                 0.00693\n",
      "  loss                                               -0.0237\n",
      "  std                                                  0.686\n",
      "  stop                                                0.0169\n",
      "critic                                                      \n",
      "  iterations                                              80\n",
      "  loss                                                  61.5\n",
      "  v                                                     77.7\n",
      "test                                                        \n",
      "  action                                                    \n",
      "    max                                                 3.65\n",
      "    mean                                            -0.00544\n",
      "    min                                                -3.52\n",
      "    size                                               5,000\n",
      "    std                                                0.738\n",
      "  episode length                                            \n",
      "    max                                                1,000\n",
      "    mean                                               1e+03\n",
      "    min                                                1,000\n",
      "    size                                                   5\n",
      "    std                                                    0\n",
      "  episode score                                             \n",
      "    max                                             1.28e+03\n",
      "    mean                                                 775\n",
      "    min                                                  582\n",
      "    size                                                   5\n",
      "    std                                                  254\n",
      "train                                                       \n",
      "  action                                                    \n",
      "    max                                                 3.41\n",
      "    mean                                             -0.0251\n",
      "    min                                                -3.24\n",
      "    size                                              20,000\n",
      "    std                                                0.738\n",
      "  episode length                                            \n",
      "    max                                                1,000\n",
      "    mean                                               1e+03\n",
      "    min                                                1,000\n",
      "    size                                                  20\n",
      "    std                                                    0\n",
      "  episode score                                             \n",
      "    max                                             1.84e+03\n",
      "    mean                                                 688\n",
      "    min                                                 -770\n",
      "    size                                                  20\n",
      "    std                                                  640\n",
      "  episodes                                               120\n",
      "  epoch seconds                                         29.4\n",
      "  epoch steps                                          2e+04\n",
      "  epochs                                                   6\n",
      "  seconds                                                161\n",
      "  steps                                              1.2e+05\n",
      "  steps per second                                       679\n",
      "  worker steps                                       1.2e+05\n",
      "\n",
      "\u001b[1m\u001b[32m\n",
      "Saving weights to data/local/experiments/tonic/swimmer-mswim/mlp_256/checkpoints/step_120000.pt\u001b[0m\n",
      "         \u001b[0m Time left:  epoch 0:00:22  total 0:41:59          \u001b[1m\u001b[32mm\u001b[44m\u001b[97m\u001b[44m\u001b[97m\u001b[44m\u001b[97m\u001b[44m\u001b[97m\u001b[44m\u001b[97m\n",
      "Saving weights to data/local/experiments/tonic/swimmer-mswim/mlp_256/checkpoints/step_123000.pt\u001b[0m\n",
      "          Time lef\u001b[0mt:  epoch 0:00:18  total 0:41:14          \u001b[1m\u001b[32mm\u001b[44m\u001b[97m\u001b[44m\u001b[97m\u001b[44m\u001b[97m\n",
      "Saving weights to data/local/experiments/tonic/swimmer-mswim/mlp_256/checkpoints/step_126000.pt\u001b[0m\n",
      "          Time left:  epoch\u001b[0m 0:00:14  total 0:41:10          \u001b[1m\u001b[32mm\u001b[44m\u001b[97m\u001b[44m\u001b[97m\u001b[44m\u001b[97m\u001b[44m\u001b[97m\n",
      "Saving weights to data/local/experiments/tonic/swimmer-mswim/mlp_256/checkpoints/step_129000.pt\u001b[0m\n",
      "          Time left:  epoch 0:00:10 \u001b[0m total 0:41:07          \u001b[1m\u001b[32mm\u001b[44m\u001b[97m\u001b[44m\u001b[97m\u001b[44m\u001b[97m\u001b[44m\u001b[97m\n",
      "Saving weights to data/local/experiments/tonic/swimmer-mswim/mlp_256/checkpoints/step_132000.pt\u001b[0m\n",
      "          Time left:  epoch 0:00:06  total 0:\u001b[0m40:25          \u001b[1m\u001b[32mm\u001b[44m\u001b[97m\u001b[44m\u001b[97m\u001b[44m\u001b[97m\n",
      "Saving weights to data/local/experiments/tonic/swimmer-mswim/mlp_256/checkpoints/step_135000.pt\u001b[0m\n",
      "          Time left:  epoch 0:00:02  total 0:40:26    \u001b[0m      \u001b[1m\u001b[32mm\u001b[44m\u001b[97m\u001b[44m\u001b[97m\u001b[44m\u001b[97m\u001b[44m\u001b[97m\n",
      "Saving weights to data/local/experiments/tonic/swimmer-mswim/mlp_256/checkpoints/step_138000.pt\u001b[0m\n",
      "          Time left:  epoch 0:00:00  total 0:41:09          \u001b[0m\u001b[44m\u001b[97m\u001b[44m\u001b[97m\u001b[44m\u001b[97m\n",
      "actor                                                       \n",
      "  clip fraction                                        0.198\n",
      "  entropy                                               1.04\n",
      "  iterations                                            20.2\n",
      "  kl                                                 0.00656\n",
      "  loss                                               -0.0224\n",
      "  std                                                  0.683\n",
      "  stop                                                0.0396\n",
      "critic                                                      \n",
      "  iterations                                              80\n",
      "  loss                                                  30.3\n",
      "  v                                                       78\n",
      "test                                                        \n",
      "  action                                                    \n",
      "    max                                                 3.54\n",
      "    mean                                             0.00474\n",
      "    min                                                -3.14\n",
      "    size                                               5,000\n",
      "    std                                                0.752\n",
      "  episode length                                            \n",
      "    max                                                1,000\n",
      "    mean                                               1e+03\n",
      "    min                                                1,000\n",
      "    size                                                   5\n",
      "    std                                                    0\n",
      "  episode score                                             \n",
      "    max                                             1.87e+03\n",
      "    mean                                            1.08e+03\n",
      "    min                                                  607\n",
      "    size                                                   5\n",
      "    std                                                  536\n",
      "train                                                       \n",
      "  action                                                    \n",
      "    max                                                 3.11\n",
      "    mean                                              -0.015\n",
      "    min                                                -3.61\n",
      "    size                                              20,000\n",
      "    std                                                0.744\n",
      "  episode length                                            \n",
      "    max                                                1,000\n",
      "    mean                                               1e+03\n",
      "    min                                                1,000\n",
      "    size                                                  20\n",
      "    std                                                    0\n",
      "  episode score                                             \n",
      "    max                                             1.62e+03\n",
      "    mean                                                 662\n",
      "    min                                                 -830\n",
      "    size                                                  20\n",
      "    std                                                  594\n",
      "  episodes                                               140\n",
      "  epoch seconds                                         26.6\n",
      "  epoch steps                                          2e+04\n",
      "  epochs                                                   7\n",
      "  seconds                                                188\n",
      "  steps                                              1.4e+05\n",
      "  steps per second                                       753\n",
      "  worker steps                                       1.4e+05\n",
      "\n",
      "   \u001b[0m       Time left:  epoch 0:00:25  total 0:41:20          \u001b[1m\u001b[32mm\u001b[44m\u001b[97m\n",
      "Saving weights to data/local/experiments/tonic/swimmer-mswim/mlp_256/checkpoints/step_141000.pt\u001b[0m\n",
      "          Ti\u001b[0mme left:  epoch 0:00:21  total 0:41:13          \u001b[1m\u001b[32mm\u001b[44m\u001b[97m\u001b[44m\u001b[97m\u001b[44m\u001b[97m\u001b[44m\u001b[97m\n",
      "Saving weights to data/local/experiments/tonic/swimmer-mswim/mlp_256/checkpoints/step_144000.pt\u001b[0m\n",
      "          Time left: \u001b[0m epoch 0:00:17  total 0:40:34          \u001b[1m\u001b[32mm\u001b[44m\u001b[97m\u001b[44m\u001b[97m\u001b[44m\u001b[97m\u001b[44m\u001b[97m\n",
      "Saving weights to data/local/experiments/tonic/swimmer-mswim/mlp_256/checkpoints/step_147000.pt\u001b[0m\n",
      "          Time left:  epoch 0:\u001b[0m00:13  total 0:40:28          \u001b[1m\u001b[32mm\u001b[44m\u001b[97m\u001b[44m\u001b[97m\u001b[44m\u001b[97m\n",
      "Saving weights to data/local/experiments/tonic/swimmer-mswim/mlp_256/checkpoints/step_150000.pt\u001b[0m\n",
      "          Time left:  epoch 0:00:09  to\u001b[0mtal 0:40:25          \u001b[1m\u001b[32mm\u001b[44m\u001b[97m\u001b[44m\u001b[97m\u001b[44m\u001b[97m\u001b[44m\u001b[97m\n",
      "Saving weights to data/local/experiments/tonic/swimmer-mswim/mlp_256/checkpoints/step_153000.pt\u001b[0m\n",
      "          Time left:  epoch 0:00:05  total 0:40:\u001b[0m18          \u001b[1m\u001b[32mm\u001b[44m\u001b[97m\u001b[44m\u001b[97m\u001b[44m\u001b[97m\n",
      "Saving weights to data/local/experiments/tonic/swimmer-mswim/mlp_256/checkpoints/step_156000.pt\u001b[0m\n",
      "          Time left:  epoch 0:00:01  total 0:39:43       \u001b[0m   \u001b[1m\u001b[32mm\u001b[44m\u001b[97m\u001b[44m\u001b[97m\u001b[44m\u001b[97m\u001b[44m\u001b[97m\n",
      "Saving weights to data/local/experiments/tonic/swimmer-mswim/mlp_256/checkpoints/step_159000.pt\u001b[0m\n",
      "          Time left:  epoch 0:00:00  total 0:40:02          \u001b[0m\u001b[44m\u001b[97m\u001b[44m\u001b[97m\n",
      "actor                                                       \n",
      "  clip fraction                                       0.0875\n",
      "  entropy                                               1.04\n",
      "  iterations                                             5.6\n",
      "  kl                                                 0.00692\n",
      "  loss                                              -0.00723\n",
      "  std                                                  0.682\n",
      "  stop                                                 0.179\n",
      "critic                                                      \n",
      "  iterations                                              80\n",
      "  loss                                                  37.8\n",
      "  v                                                     97.2\n",
      "test                                                        \n",
      "  action                                                    \n",
      "    max                                                 3.12\n",
      "    mean                                             -0.0417\n",
      "    min                                                -3.09\n",
      "    size                                               5,000\n",
      "    std                                                0.745\n",
      "  episode length                                            \n",
      "    max                                                1,000\n",
      "    mean                                               1e+03\n",
      "    min                                                1,000\n",
      "    size                                                   5\n",
      "    std                                                    0\n",
      "  episode score                                             \n",
      "    max                                             1.65e+03\n",
      "    mean                                                 969\n",
      "    min                                                  758\n",
      "    size                                                   5\n",
      "    std                                                  342\n",
      "train                                                       \n",
      "  action                                                    \n",
      "    max                                                 3.27\n",
      "    mean                                             -0.0184\n",
      "    min                                                -3.32\n",
      "    size                                              20,000\n",
      "    std                                                0.747\n",
      "  episode length                                            \n",
      "    max                                                1,000\n",
      "    mean                                               1e+03\n",
      "    min                                                1,000\n",
      "    size                                                  20\n",
      "    std                                                    0\n",
      "  episode score                                             \n",
      "    max                                             1.84e+03\n",
      "    mean                                                 837\n",
      "    min                                                 -774\n",
      "    size                                                  20\n",
      "    std                                                  644\n",
      "  episodes                                               160\n",
      "  epoch seconds                                           23\n",
      "  epoch steps                                          2e+04\n",
      "  epochs                                                   8\n",
      "  seconds                                                211\n",
      "  steps                                              1.6e+05\n",
      "  steps per second                                       869\n",
      "  worker steps                                       1.6e+05\n",
      "\n",
      "      \u001b[0m    Time left:  epoch 0:00:23  total 0:40:00          \u001b[1m\u001b[32mm\u001b[44m\u001b[97m\u001b[44m\u001b[97m\u001b[44m\u001b[97m\n",
      "Saving weights to data/local/experiments/tonic/swimmer-mswim/mlp_256/checkpoints/step_162000.pt\u001b[0m\n",
      "          Time \u001b[0mleft:  epoch 0:00:19  total 0:39:55          \u001b[1m\u001b[32mm\u001b[44m\u001b[97m\u001b[44m\u001b[97m\u001b[44m\u001b[97m\n",
      "Saving weights to data/local/experiments/tonic/swimmer-mswim/mlp_256/checkpoints/step_165000.pt\u001b[0m\n",
      "          Time left:  ep\u001b[0moch 0:00:15  total 0:39:50          \u001b[1m\u001b[32mm\u001b[44m\u001b[97m\u001b[44m\u001b[97m\u001b[44m\u001b[97m\u001b[44m\u001b[97m\n",
      "Saving weights to data/local/experiments/tonic/swimmer-mswim/mlp_256/checkpoints/step_168000.pt\u001b[0m\n",
      "          Time left:  epoch 0:00:\u001b[0m11  total 0:39:18          \u001b[1m\u001b[32mm\u001b[44m\u001b[97m\u001b[44m\u001b[97m\u001b[44m\u001b[97m\n",
      "Saving weights to data/local/experiments/tonic/swimmer-mswim/mlp_256/checkpoints/step_171000.pt\u001b[0m\n",
      "          Time left:  epoch 0:00:07  total\u001b[0m 0:39:18          \u001b[1m\u001b[32mm\u001b[44m\u001b[97m\u001b[44m\u001b[97m\u001b[44m\u001b[97m\u001b[44m\u001b[97m\n",
      "Saving weights to data/local/experiments/tonic/swimmer-mswim/mlp_256/checkpoints/step_174000.pt\u001b[0m\n",
      "          Time left:  epoch 0:00:03  total 0:39:22 \u001b[0m         \u001b[1m\u001b[32mm\u001b[44m\u001b[97m\u001b[44m\u001b[97m\u001b[44m\u001b[97m\u001b[44m\u001b[97m\n",
      "Saving weights to data/local/experiments/tonic/swimmer-mswim/mlp_256/checkpoints/step_177000.pt\u001b[0m\n",
      "          Time left:  epoch 0:00:00  total 0:38:52          \u001b[0m\u001b[44m\u001b[97m\u001b[44m\u001b[97m\u001b[44m\u001b[97m\u001b[44m\u001b[97m\n",
      "actor                                                       \n",
      "  clip fraction                                       0.0963\n",
      "  entropy                                               1.04\n",
      "  iterations                                            5.75\n",
      "  kl                                                 0.00666\n",
      "  loss                                              -0.00731\n",
      "  std                                                  0.681\n",
      "  stop                                                 0.174\n",
      "critic                                                      \n",
      "  iterations                                              80\n",
      "  loss                                                  20.7\n",
      "  v                                                     88.4\n",
      "test                                                        \n",
      "  action                                                    \n",
      "    max                                                 2.95\n",
      "    mean                                             -0.0173\n",
      "    min                                                -3.14\n",
      "    size                                               5,000\n",
      "    std                                                 0.75\n",
      "  episode length                                            \n",
      "    max                                                1,000\n",
      "    mean                                               1e+03\n",
      "    min                                                1,000\n",
      "    size                                                   5\n",
      "    std                                                    0\n",
      "  episode score                                             \n",
      "    max                                             1.58e+03\n",
      "    mean                                                 956\n",
      "    min                                                  655\n",
      "    size                                                   5\n",
      "    std                                                  323\n",
      "train                                                       \n",
      "  action                                                    \n",
      "    max                                                 3.31\n",
      "    mean                                             -0.0167\n",
      "    min                                                -3.38\n",
      "    size                                              20,000\n",
      "    std                                                0.745\n",
      "  episode length                                            \n",
      "    max                                                1,000\n",
      "    mean                                               1e+03\n",
      "    min                                                1,000\n",
      "    size                                                  20\n",
      "    std                                                    0\n",
      "  episode score                                             \n",
      "    max                                             1.93e+03\n",
      "    mean                                                 880\n",
      "    min                                                  285\n",
      "    size                                                  20\n",
      "    std                                                  391\n",
      "  episodes                                               180\n",
      "  epoch seconds                                         21.8\n",
      "  epoch steps                                          2e+04\n",
      "  epochs                                                   9\n",
      "  seconds                                                233\n",
      "  steps                                              1.8e+05\n",
      "  steps per second                                       918\n",
      "  worker steps                                       1.8e+05\n",
      "\n",
      "\u001b[1m\u001b[32m\n",
      "Saving weights to data/local/experiments/tonic/swimmer-mswim/mlp_256/checkpoints/step_180000.pt\u001b[0m\n",
      "         \u001b[0m Time left:  epoch 0:00:22  total 0:39:15          \u001b[1m\u001b[32mm\u001b[44m\u001b[97m\u001b[44m\u001b[97m\u001b[44m\u001b[97m\u001b[44m\u001b[97m\n",
      "Saving weights to data/local/experiments/tonic/swimmer-mswim/mlp_256/checkpoints/step_183000.pt\u001b[0m\n",
      "          Time lef\u001b[0mt:  epoch 0:00:18  total 0:39:19          \u001b[1m\u001b[32mm\u001b[44m\u001b[97m\u001b[44m\u001b[97m\u001b[44m\u001b[97m\n",
      "Saving weights to data/local/experiments/tonic/swimmer-mswim/mlp_256/checkpoints/step_186000.pt\u001b[0m\n",
      "          Time left:  epoch\u001b[0m 0:00:14  total 0:39:22          \u001b[1m\u001b[32mm\u001b[44m\u001b[97m\u001b[44m\u001b[97m\u001b[44m\u001b[97m\u001b[44m\u001b[97m\n",
      "Saving weights to data/local/experiments/tonic/swimmer-mswim/mlp_256/checkpoints/step_189000.pt\u001b[0m\n",
      "          Time left:  epoch 0:00:10 \u001b[0m total 0:38:54          \u001b[1m\u001b[32mm\u001b[44m\u001b[97m\u001b[44m\u001b[97m\u001b[44m\u001b[97m\u001b[44m\u001b[97m\n",
      "Saving weights to data/local/experiments/tonic/swimmer-mswim/mlp_256/checkpoints/step_192000.pt\u001b[0m\n",
      "          Time left:  epoch 0:00:06  total 0:\u001b[0m39:18          \u001b[1m\u001b[32mm\u001b[44m\u001b[97m\u001b[44m\u001b[97m\u001b[44m\u001b[97m\n",
      "Saving weights to data/local/experiments/tonic/swimmer-mswim/mlp_256/checkpoints/step_195000.pt\u001b[0m\n",
      "          Time left:  epoch 0:00:02  total 0:39:15    \u001b[0m      \u001b[1m\u001b[32mm\u001b[44m\u001b[97m\u001b[44m\u001b[97m\u001b[44m\u001b[97m\u001b[44m\u001b[97m\n",
      "Saving weights to data/local/experiments/tonic/swimmer-mswim/mlp_256/checkpoints/step_198000.pt\u001b[0m\n",
      "          Time left:  epoch 0:00:00  total 0:38:56          \u001b[0m\u001b[44m\u001b[97m\u001b[44m\u001b[97m\u001b[44m\u001b[97m\n",
      "actor                                                       \n",
      "  clip fraction                                        0.182\n",
      "  entropy                                               1.04\n",
      "  iterations                                            21.8\n",
      "  kl                                                 0.00892\n",
      "  loss                                               -0.0235\n",
      "  std                                                  0.683\n",
      "  stop                                                0.0367\n",
      "critic                                                      \n",
      "  iterations                                              80\n",
      "  loss                                                  31.6\n",
      "  v                                                      109\n",
      "test                                                        \n",
      "  action                                                    \n",
      "    max                                                 3.15\n",
      "    mean                                              0.0411\n",
      "    min                                                -3.22\n",
      "    size                                               5,000\n",
      "    std                                                0.768\n",
      "  episode length                                            \n",
      "    max                                                1,000\n",
      "    mean                                               1e+03\n",
      "    min                                                1,000\n",
      "    size                                                   5\n",
      "    std                                                    0\n",
      "  episode score                                             \n",
      "    max                                             1.72e+03\n",
      "    mean                                                 830\n",
      "    min                                                 -701\n",
      "    size                                                   5\n",
      "    std                                                  861\n",
      "train                                                       \n",
      "  action                                                    \n",
      "    max                                                 3.34\n",
      "    mean                                             -0.0177\n",
      "    min                                                -3.22\n",
      "    size                                              20,000\n",
      "    std                                                0.755\n",
      "  episode length                                            \n",
      "    max                                                1,000\n",
      "    mean                                               1e+03\n",
      "    min                                                1,000\n",
      "    size                                                  20\n",
      "    std                                                    0\n",
      "  episode score                                             \n",
      "    max                                             1.72e+03\n",
      "    mean                                            1.06e+03\n",
      "    min                                                  470\n",
      "    size                                                  20\n",
      "    std                                                  397\n",
      "  episodes                                               200\n",
      "  epoch seconds                                         28.8\n",
      "  epoch steps                                          2e+04\n",
      "  epochs                                                  10\n",
      "  seconds                                                261\n",
      "  steps                                                2e+05\n",
      "  steps per second                                       694\n",
      "  worker steps                                         2e+05\n",
      "\n",
      "   \u001b[0m       Time left:  epoch 0:00:24  total 0:39:25          \u001b[1m\u001b[32mm\u001b[44m\u001b[97m\u001b[44m\u001b[97m\n",
      "Saving weights to data/local/experiments/tonic/swimmer-mswim/mlp_256/checkpoints/step_201000.pt\u001b[0m\n",
      "          Ti\u001b[0mme left:  epoch 0:00:20  total 0:38:57          \u001b[1m\u001b[32mm\u001b[44m\u001b[97m\u001b[44m\u001b[97m\u001b[44m\u001b[97m\n",
      "Saving weights to data/local/experiments/tonic/swimmer-mswim/mlp_256/checkpoints/step_204000.pt\u001b[0m\n",
      "          Time left: \u001b[0m epoch 0:00:16  total 0:38:50          \u001b[1m\u001b[32mm\u001b[44m\u001b[97m\u001b[44m\u001b[97m\u001b[44m\u001b[97m\u001b[44m\u001b[97m\n",
      "Saving weights to data/local/experiments/tonic/swimmer-mswim/mlp_256/checkpoints/step_207000.pt\u001b[0m\n",
      "          Time left:  epoch 0:\u001b[0m00:12  total 0:38:45          \u001b[1m\u001b[32mm\u001b[44m\u001b[97m\u001b[44m\u001b[97m\u001b[44m\u001b[97m\n",
      "Saving weights to data/local/experiments/tonic/swimmer-mswim/mlp_256/checkpoints/step_210000.pt\u001b[0m\n",
      "          Time left:  epoch 0:00:09  to\u001b[0mtal 0:38:38          \u001b[1m\u001b[32mm\u001b[44m\u001b[97m\u001b[44m\u001b[97m\u001b[44m\u001b[97m\u001b[44m\u001b[97m\n",
      "Saving weights to data/local/experiments/tonic/swimmer-mswim/mlp_256/checkpoints/step_213000.pt\u001b[0m\n",
      "          Time left:  epoch 0:00:05  total 0:38:\u001b[0m12          \u001b[1m\u001b[32mm\u001b[44m\u001b[97m\u001b[44m\u001b[97m\u001b[44m\u001b[97m\n",
      "Saving weights to data/local/experiments/tonic/swimmer-mswim/mlp_256/checkpoints/step_216000.pt\u001b[0m\n",
      "          Time left:  epoch 0:00:01  total 0:38:10       \u001b[0m   \u001b[1m\u001b[32mm\u001b[44m\u001b[97m\u001b[44m\u001b[97m\u001b[44m\u001b[97m\u001b[44m\u001b[97m\n",
      "Saving weights to data/local/experiments/tonic/swimmer-mswim/mlp_256/checkpoints/step_219000.pt\u001b[0m\n",
      "          Time left:  epoch 0:00:00  total 0:38:01          \u001b[0m\u001b[44m\u001b[97m\u001b[44m\u001b[97m\n",
      "actor                                                       \n",
      "  clip fraction                                       0.0869\n",
      "  entropy                                               1.04\n",
      "  iterations                                               5\n",
      "  kl                                                 0.00661\n",
      "  loss                                              -0.00701\n",
      "  std                                                  0.684\n",
      "  stop                                                   0.2\n",
      "critic                                                      \n",
      "  iterations                                              80\n",
      "  loss                                                  9.88\n",
      "  v                                                      102\n",
      "test                                                        \n",
      "  action                                                    \n",
      "    max                                                    3\n",
      "    mean                                            -0.00504\n",
      "    min                                                -3.17\n",
      "    size                                               5,000\n",
      "    std                                                0.769\n",
      "  episode length                                            \n",
      "    max                                                1,000\n",
      "    mean                                               1e+03\n",
      "    min                                                1,000\n",
      "    size                                                   5\n",
      "    std                                                    0\n",
      "  episode score                                             \n",
      "    max                                             1.54e+03\n",
      "    mean                                            1.03e+03\n",
      "    min                                                  704\n",
      "    size                                                   5\n",
      "    std                                                  331\n",
      "train                                                       \n",
      "  action                                                    \n",
      "    max                                                 3.43\n",
      "    mean                                             -0.0112\n",
      "    min                                                -3.47\n",
      "    size                                              20,000\n",
      "    std                                                 0.77\n",
      "  episode length                                            \n",
      "    max                                                1,000\n",
      "    mean                                               1e+03\n",
      "    min                                                1,000\n",
      "    size                                                  20\n",
      "    std                                                    0\n",
      "  episode score                                             \n",
      "    max                                             1.88e+03\n",
      "    mean                                                 867\n",
      "    min                                                  666\n",
      "    size                                                  20\n",
      "    std                                                  274\n",
      "  episodes                                               220\n",
      "  epoch seconds                                         22.4\n",
      "  epoch steps                                          2e+04\n",
      "  epochs                                                  11\n",
      "  seconds                                                284\n",
      "  steps                                              2.2e+05\n",
      "  steps per second                                       893\n",
      "  worker steps                                       2.2e+05\n",
      "\n",
      "      \u001b[0m    Time left:  epoch 0:00:23  total 0:38:19          \u001b[1m\u001b[32mm\u001b[44m\u001b[97m\u001b[44m\u001b[97m\u001b[44m\u001b[97m\n",
      "Saving weights to data/local/experiments/tonic/swimmer-mswim/mlp_256/checkpoints/step_222000.pt\u001b[0m\n",
      "          Time \u001b[0mleft:  epoch 0:00:19  total 0:37:55          \u001b[1m\u001b[32mm\u001b[44m\u001b[97m\u001b[44m\u001b[97m\u001b[44m\u001b[97m\n",
      "Saving weights to data/local/experiments/tonic/swimmer-mswim/mlp_256/checkpoints/step_225000.pt\u001b[0m\n",
      "          Time left:  ep\u001b[0moch 0:00:15  total 0:37:57          \u001b[1m\u001b[32mm\u001b[44m\u001b[97m\u001b[44m\u001b[97m\u001b[44m\u001b[97m\u001b[44m\u001b[97m\n",
      "Saving weights to data/local/experiments/tonic/swimmer-mswim/mlp_256/checkpoints/step_228000.pt\u001b[0m\n",
      "          Time left:  epoch 0:00:\u001b[0m11  total 0:37:55          \u001b[1m\u001b[32mm\u001b[44m\u001b[97m\u001b[44m\u001b[97m\u001b[44m\u001b[97m\u001b[44m\u001b[97m\n",
      "Saving weights to data/local/experiments/tonic/swimmer-mswim/mlp_256/checkpoints/step_231000.pt\u001b[0m\n",
      "          Time left:  epoch 0:00:07  total\u001b[0m 0:38:06          \u001b[1m\u001b[32mm\u001b[44m\u001b[97m\u001b[44m\u001b[97m\u001b[44m\u001b[97m\n",
      "Saving weights to data/local/experiments/tonic/swimmer-mswim/mlp_256/checkpoints/step_234000.pt\u001b[0m\n",
      "          Time left:  epoch 0:00:03  total 0:37:43 \u001b[0m         \u001b[1m\u001b[32mm\u001b[44m\u001b[97m\u001b[44m\u001b[97m\u001b[44m\u001b[97m\u001b[44m\u001b[97m\n",
      "Saving weights to data/local/experiments/tonic/swimmer-mswim/mlp_256/checkpoints/step_237000.pt\u001b[0m\n",
      "          Time left:  epoch 0:00:00  total 0:37:40          \u001b[0m\u001b[44m\u001b[97m\u001b[44m\u001b[97m\u001b[44m\u001b[97m\u001b[44m\u001b[97m\n",
      "actor                                                       \n",
      "  clip fraction                                        0.174\n",
      "  entropy                                               1.04\n",
      "  iterations                                            15.2\n",
      "  kl                                                  0.0102\n",
      "  loss                                               -0.0196\n",
      "  std                                                  0.682\n",
      "  stop                                                0.0658\n",
      "critic                                                      \n",
      "  iterations                                              80\n",
      "  loss                                                  33.3\n",
      "  v                                                      101\n",
      "test                                                        \n",
      "  action                                                    \n",
      "    max                                                 3.13\n",
      "    mean                                              0.0615\n",
      "    min                                                 -2.8\n",
      "    size                                               5,000\n",
      "    std                                                0.784\n",
      "  episode length                                            \n",
      "    max                                                1,000\n",
      "    mean                                               1e+03\n",
      "    min                                                1,000\n",
      "    size                                                   5\n",
      "    std                                                    0\n",
      "  episode score                                             \n",
      "    max                                             1.51e+03\n",
      "    mean                                                 892\n",
      "    min                                                  657\n",
      "    size                                                   5\n",
      "    std                                                  311\n",
      "train                                                       \n",
      "  action                                                    \n",
      "    max                                                 3.36\n",
      "    mean                                              0.0194\n",
      "    min                                                -3.35\n",
      "    size                                              20,000\n",
      "    std                                                0.782\n",
      "  episode length                                            \n",
      "    max                                                1,000\n",
      "    mean                                               1e+03\n",
      "    min                                                1,000\n",
      "    size                                                  20\n",
      "    std                                                    0\n",
      "  episode score                                             \n",
      "    max                                             1.96e+03\n",
      "    mean                                               1e+03\n",
      "    min                                                  272\n",
      "    size                                                  20\n",
      "    std                                                  413\n",
      "  episodes                                               240\n",
      "  epoch seconds                                         26.2\n",
      "  epoch steps                                          2e+04\n",
      "  epochs                                                  12\n",
      "  seconds                                                310\n",
      "  steps                                              2.4e+05\n",
      "  steps per second                                       762\n",
      "  worker steps                                       2.4e+05\n",
      "\n",
      "\u001b[1m\u001b[32m\n",
      "Saving weights to data/local/experiments/tonic/swimmer-mswim/mlp_256/checkpoints/step_240000.pt\u001b[0m\n",
      "         \u001b[0m Time left:  epoch 0:00:21  total 0:37:49          \u001b[1m\u001b[32mm\u001b[44m\u001b[97m\u001b[44m\u001b[97m\u001b[44m\u001b[97m\u001b[44m\u001b[97m\u001b[44m\u001b[97m\n",
      "Saving weights to data/local/experiments/tonic/swimmer-mswim/mlp_256/checkpoints/step_243000.pt\u001b[0m\n",
      "          Time lef\u001b[0mt:  epoch 0:00:18  total 0:37:48          \u001b[1m\u001b[32mm\u001b[44m\u001b[97m\u001b[44m\u001b[97m\u001b[44m\u001b[97m\u001b[44m\u001b[97m\n",
      "Saving weights to data/local/experiments/tonic/swimmer-mswim/mlp_256/checkpoints/step_246000.pt\u001b[0m\n",
      "          Time left:  epoch\u001b[0m 0:00:14  total 0:37:26          \u001b[1m\u001b[32mm\u001b[44m\u001b[97m\u001b[44m\u001b[97m\u001b[44m\u001b[97m\n",
      "Saving weights to data/local/experiments/tonic/swimmer-mswim/mlp_256/checkpoints/step_249000.pt\u001b[0m\n",
      "          Time left:  epoch 0:00:10 \u001b[0m total 0:37:23          \u001b[1m\u001b[32mm\u001b[44m\u001b[97m\u001b[44m\u001b[97m\u001b[44m\u001b[97m\u001b[44m\u001b[97m\n",
      "Saving weights to data/local/experiments/tonic/swimmer-mswim/mlp_256/checkpoints/step_252000.pt\u001b[0m\n",
      "          Time left:  epoch 0:00:06  total 0:\u001b[0m37:23          \u001b[1m\u001b[32mm\u001b[44m\u001b[97m\u001b[44m\u001b[97m\u001b[44m\u001b[97m\n",
      "Saving weights to data/local/experiments/tonic/swimmer-mswim/mlp_256/checkpoints/step_255000.pt\u001b[0m\n",
      "          Time left:  epoch 0:00:02  total 0:37:01    \u001b[0m      \u001b[1m\u001b[32mm\u001b[44m\u001b[97m\u001b[44m\u001b[97m\u001b[44m\u001b[97m\u001b[44m\u001b[97m\n",
      "Saving weights to data/local/experiments/tonic/swimmer-mswim/mlp_256/checkpoints/step_258000.pt\u001b[0m\n",
      "          Time left:  epoch 0:00:00  total 0:37:04          \u001b[0m\u001b[44m\u001b[97m\u001b[44m\u001b[97m\u001b[44m\u001b[97m\n",
      "actor                                                       \n",
      "  clip fraction                                        0.144\n",
      "  entropy                                               1.03\n",
      "  iterations                                             7.8\n",
      "  kl                                                 0.00909\n",
      "  loss                                               -0.0101\n",
      "  std                                                   0.68\n",
      "  stop                                                 0.128\n",
      "critic                                                      \n",
      "  iterations                                              80\n",
      "  loss                                                  18.7\n",
      "  v                                                     93.4\n",
      "test                                                        \n",
      "  action                                                    \n",
      "    max                                                 3.11\n",
      "    mean                                              0.0172\n",
      "    min                                                -3.31\n",
      "    size                                               5,000\n",
      "    std                                                0.787\n",
      "  episode length                                            \n",
      "    max                                                1,000\n",
      "    mean                                               1e+03\n",
      "    min                                                1,000\n",
      "    size                                                   5\n",
      "    std                                                    0\n",
      "  episode score                                             \n",
      "    max                                             1.22e+03\n",
      "    mean                                                 750\n",
      "    min                                                  259\n",
      "    size                                                   5\n",
      "    std                                                  305\n",
      "train                                                       \n",
      "  action                                                    \n",
      "    max                                                 3.59\n",
      "    mean                                             0.00274\n",
      "    min                                                -3.32\n",
      "    size                                              20,000\n",
      "    std                                                0.783\n",
      "  episode length                                            \n",
      "    max                                                1,000\n",
      "    mean                                               1e+03\n",
      "    min                                                1,000\n",
      "    size                                                  20\n",
      "    std                                                    0\n",
      "  episode score                                             \n",
      "    max                                             1.38e+03\n",
      "    mean                                                 758\n",
      "    min                                                  279\n",
      "    size                                                  20\n",
      "    std                                                  239\n",
      "  episodes                                               260\n",
      "  epoch seconds                                           24\n",
      "  epoch steps                                          2e+04\n",
      "  epochs                                                  13\n",
      "  seconds                                                334\n",
      "  steps                                              2.6e+05\n",
      "  steps per second                                       834\n",
      "  worker steps                                       2.6e+05\n",
      "\n",
      "   \u001b[0m       Time left:  epoch 0:00:24  total 0:37:08          \u001b[1m\u001b[32mm\u001b[44m\u001b[97m\n",
      "Saving weights to data/local/experiments/tonic/swimmer-mswim/mlp_256/checkpoints/step_261000.pt\u001b[0m\n",
      "          Ti\u001b[0mme left:  epoch 0:00:20  total 0:37:03          \u001b[1m\u001b[32mm\u001b[44m\u001b[97m\u001b[44m\u001b[97m\u001b[44m\u001b[97m\u001b[44m\u001b[97m\n",
      "Saving weights to data/local/experiments/tonic/swimmer-mswim/mlp_256/checkpoints/step_264000.pt\u001b[0m\n",
      "          Time left: \u001b[0m epoch 0:00:16  total 0:36:58          \u001b[1m\u001b[32mm\u001b[44m\u001b[97m\u001b[44m\u001b[97m\u001b[44m\u001b[97m\u001b[44m\u001b[97m\n",
      "Saving weights to data/local/experiments/tonic/swimmer-mswim/mlp_256/checkpoints/step_267000.pt\u001b[0m\n",
      "          Time left:  epoch 0:\u001b[0m00:12  total 0:36:37          \u001b[1m\u001b[32mm\u001b[44m\u001b[97m\u001b[44m\u001b[97m\u001b[44m\u001b[97m\n",
      "Saving weights to data/local/experiments/tonic/swimmer-mswim/mlp_256/checkpoints/step_270000.pt\u001b[0m\n",
      "          Time left:  epoch 0:00:08  to\u001b[0mtal 0:36:33          \u001b[1m\u001b[32mm\u001b[44m\u001b[97m\u001b[44m\u001b[97m\u001b[44m\u001b[97m\n",
      "Saving weights to data/local/experiments/tonic/swimmer-mswim/mlp_256/checkpoints/step_273000.pt\u001b[0m\n",
      "          Time left:  epoch 0:00:05  total 0:36:\u001b[0m29          \u001b[1m\u001b[32mm\u001b[44m\u001b[97m\u001b[44m\u001b[97m\u001b[44m\u001b[97m\u001b[44m\u001b[97m\n",
      "Saving weights to data/local/experiments/tonic/swimmer-mswim/mlp_256/checkpoints/step_276000.pt\u001b[0m\n",
      "          Time left:  epoch 0:00:01  total 0:36:28       \u001b[0m   \u001b[1m\u001b[32mm\u001b[44m\u001b[97m\u001b[44m\u001b[97m\u001b[44m\u001b[97m\n",
      "Saving weights to data/local/experiments/tonic/swimmer-mswim/mlp_256/checkpoints/step_279000.pt\u001b[0m\n",
      "          Time left:  epoch 0:00:00  total 0:36:21          \u001b[0m\u001b[44m\u001b[97m\u001b[44m\u001b[97m\n",
      "actor                                                       \n",
      "  clip fraction                                       0.0994\n",
      "  entropy                                               1.03\n",
      "  iterations                                             5.4\n",
      "  kl                                                 0.00692\n",
      "  loss                                              -0.00611\n",
      "  std                                                  0.679\n",
      "  stop                                                 0.185\n",
      "critic                                                      \n",
      "  iterations                                              80\n",
      "  loss                                                  27.5\n",
      "  v                                                     88.2\n",
      "test                                                        \n",
      "  action                                                    \n",
      "    max                                                  3.1\n",
      "    mean                                              0.0262\n",
      "    min                                                -3.42\n",
      "    size                                               5,000\n",
      "    std                                                0.797\n",
      "  episode length                                            \n",
      "    max                                                1,000\n",
      "    mean                                               1e+03\n",
      "    min                                                1,000\n",
      "    size                                                   5\n",
      "    std                                                    0\n",
      "  episode score                                             \n",
      "    max                                                  785\n",
      "    mean                                                 632\n",
      "    min                                                  108\n",
      "    size                                                   5\n",
      "    std                                                  263\n",
      "train                                                       \n",
      "  action                                                    \n",
      "    max                                                 3.24\n",
      "    mean                                              0.0153\n",
      "    min                                                -3.75\n",
      "    size                                              20,000\n",
      "    std                                                0.792\n",
      "  episode length                                            \n",
      "    max                                                1,000\n",
      "    mean                                               1e+03\n",
      "    min                                                1,000\n",
      "    size                                                  20\n",
      "    std                                                    0\n",
      "  episode score                                             \n",
      "    max                                             1.84e+03\n",
      "    mean                                                 889\n",
      "    min                                                  368\n",
      "    size                                                  20\n",
      "    std                                                  394\n",
      "  episodes                                               280\n",
      "  epoch seconds                                         22.8\n",
      "  epoch steps                                          2e+04\n",
      "  epochs                                                  14\n",
      "  seconds                                                357\n",
      "  steps                                              2.8e+05\n",
      "  steps per second                                       877\n",
      "  worker steps                                       2.8e+05\n",
      "\n",
      "      \u001b[0m    Time left:  epoch 0:00:22  total 0:36:19          \u001b[1m\u001b[32mm\u001b[44m\u001b[97m\u001b[44m\u001b[97m\u001b[44m\u001b[97m\n",
      "Saving weights to data/local/experiments/tonic/swimmer-mswim/mlp_256/checkpoints/step_282000.pt\u001b[0m\n",
      "          Time \u001b[0mleft:  epoch 0:00:19  total 0:36:20          \u001b[1m\u001b[32mm\u001b[44m\u001b[97m\u001b[44m\u001b[97m\u001b[44m\u001b[97m\n",
      "Saving weights to data/local/experiments/tonic/swimmer-mswim/mlp_256/checkpoints/step_285000.pt\u001b[0m\n",
      "          Time left:  ep\u001b[0moch 0:00:15  total 0:36:15          \u001b[1m\u001b[32mm\u001b[44m\u001b[97m\u001b[44m\u001b[97m\u001b[44m\u001b[97m\u001b[44m\u001b[97m\n",
      "Saving weights to data/local/experiments/tonic/swimmer-mswim/mlp_256/checkpoints/step_288000.pt\u001b[0m\n",
      "          Time left:  epoch 0:00:\u001b[0m11  total 0:36:12          \u001b[1m\u001b[32mm\u001b[44m\u001b[97m\u001b[44m\u001b[97m\u001b[44m\u001b[97m\u001b[44m\u001b[97m\n",
      "Saving weights to data/local/experiments/tonic/swimmer-mswim/mlp_256/checkpoints/step_291000.pt\u001b[0m\n",
      "          Time left:  epoch 0:00:07  total\u001b[0m 0:35:54          \u001b[1m\u001b[32mm\u001b[44m\u001b[97m\u001b[44m\u001b[97m\u001b[44m\u001b[97m\n",
      "Saving weights to data/local/experiments/tonic/swimmer-mswim/mlp_256/checkpoints/step_294000.pt\u001b[0m\n",
      "          Time left:  epoch 0:00:03  total 0:35:54 \u001b[0m         \u001b[1m\u001b[32mm\u001b[44m\u001b[97m\u001b[44m\u001b[97m\u001b[44m\u001b[97m\u001b[44m\u001b[97m\n",
      "Saving weights to data/local/experiments/tonic/swimmer-mswim/mlp_256/checkpoints/step_297000.pt\u001b[0m\n",
      "          Time left:  epoch 0:00:00  total 0:35:54          \u001b[0m\u001b[44m\u001b[97m\u001b[44m\u001b[97m\u001b[44m\u001b[97m\u001b[44m\u001b[97m\u001b[44m\u001b[97m\n",
      "actor                                                       \n",
      "  clip fraction                                        0.101\n",
      "  entropy                                               1.03\n",
      "  iterations                                             5.8\n",
      "  kl                                                 0.00765\n",
      "  loss                                               -0.0063\n",
      "  std                                                  0.679\n",
      "  stop                                                 0.172\n",
      "critic                                                      \n",
      "  iterations                                              80\n",
      "  loss                                                  34.1\n",
      "  v                                                     87.6\n",
      "test                                                        \n",
      "  action                                                    \n",
      "    max                                                 3.21\n",
      "    mean                                              0.0256\n",
      "    min                                                -3.16\n",
      "    size                                               5,000\n",
      "    std                                                0.804\n",
      "  episode length                                            \n",
      "    max                                                1,000\n",
      "    mean                                               1e+03\n",
      "    min                                                1,000\n",
      "    size                                                   5\n",
      "    std                                                    0\n",
      "  episode score                                             \n",
      "    max                                             1.58e+03\n",
      "    mean                                                 864\n",
      "    min                                                  402\n",
      "    size                                                   5\n",
      "    std                                                  389\n",
      "train                                                       \n",
      "  action                                                    \n",
      "    max                                                 3.46\n",
      "    mean                                              0.0187\n",
      "    min                                                -3.25\n",
      "    size                                              20,000\n",
      "    std                                                0.804\n",
      "  episode length                                            \n",
      "    max                                                1,000\n",
      "    mean                                               1e+03\n",
      "    min                                                1,000\n",
      "    size                                                  20\n",
      "    std                                                    0\n",
      "  episode score                                             \n",
      "    max                                             1.69e+03\n",
      "    mean                                                 838\n",
      "    min                                                  218\n",
      "    size                                                  20\n",
      "    std                                                  390\n",
      "  episodes                                               300\n",
      "  epoch seconds                                         24.9\n",
      "  epoch steps                                          2e+04\n",
      "  epochs                                                  15\n",
      "  seconds                                                382\n",
      "  steps                                                3e+05\n",
      "  steps per second                                       803\n",
      "  worker steps                                         3e+05\n",
      "\n",
      "\u001b[1m\u001b[32m\n",
      "Saving weights to data/local/experiments/tonic/swimmer-mswim/mlp_256/checkpoints/step_300000.pt\u001b[0m\n",
      "         \u001b[0m Time left:  epoch 0:00:21  total 0:35:45          \u001b[1m\u001b[32mm\u001b[44m\u001b[97m\u001b[44m\u001b[97m\u001b[44m\u001b[97m\u001b[44m\u001b[97m\n",
      "Saving weights to data/local/experiments/tonic/swimmer-mswim/mlp_256/checkpoints/step_303000.pt\u001b[0m\n",
      "          Time lef\u001b[0mt:  epoch 0:00:17  total 0:35:45          \u001b[1m\u001b[32mm\u001b[44m\u001b[97m\u001b[44m\u001b[97m\u001b[44m\u001b[97m\u001b[44m\u001b[97m\n",
      "Saving weights to data/local/experiments/tonic/swimmer-mswim/mlp_256/checkpoints/step_306000.pt\u001b[0m\n",
      "          Time left:  epoch\u001b[0m 0:00:13  total 0:35:46          \u001b[1m\u001b[32mm\u001b[44m\u001b[97m\u001b[44m\u001b[97m\u001b[44m\u001b[97m\n",
      "Saving weights to data/local/experiments/tonic/swimmer-mswim/mlp_256/checkpoints/step_309000.pt\u001b[0m\n",
      "          Time left:  epoch 0:00:\u001b[0m11  total 0:35:34          \u001b[44m\u001b[97m\u001b[44m\u001b[97m\u001b[44m\u001b[97m"
     ]
    }
   ],
   "source": [
    "train('import tonic.torch',\n",
    "      'tonic.torch.agents.PPO(model=ppo_mlp_model(actor_sizes=(256, 256), critic_sizes=(256,256)))',\n",
    "      'CustomEnv(\"swimmer-mswim\")',\n",
    "      name = 'mlp_256',\n",
    "      trainer = 'tonic.Trainer(steps=int(2e6),save_steps=int(3000))')"
   ]
  },
  {
   "cell_type": "markdown",
   "metadata": {
    "execution": {}
   },
   "source": [
    "❓"
   ]
  },
  {
   "cell_type": "markdown",
   "metadata": {
    "execution": {}
   },
   "source": [
    "**Try playing with the parameters of the trainer and the MLP model and see how it affects the performance.**\n",
    "\n",
    "\n",
    "*   ***How do the actor and the critic model size affect the performance.***\n",
    "*   ***Consider increasing the number of steps in trainer to train the model for longer.***\n",
    "*   ***Explore [Tonic library](https://github.com/fabiopardo/tonic) to see what algorithms we can use to train our agents. (D4PG is usually faster than PPO)***"
   ]
  },
  {
   "cell_type": "code",
   "execution_count": null,
   "metadata": {
    "execution": {}
   },
   "outputs": [],
   "source": [
    "# add your code"
   ]
  },
  {
   "cell_type": "markdown",
   "metadata": {
    "execution": {}
   },
   "source": [
    "### Section 2.3 Function to run any model on the environment and generate video"
   ]
  },
  {
   "cell_type": "markdown",
   "metadata": {
    "execution": {}
   },
   "source": [
    "One of the most fun things about these environments is their visualization. We don't want to just look at the reward to know how good our model is we want to see how well the agent swims. This is particularly important to avoid \"reward hacking,\" where an agent learns to exploit the reward system in ways that are unintended and potentially detrimental to the desired outcomes. Moreover visualizing the agent also help us understand where the model is going wrong."
   ]
  },
  {
   "cell_type": "markdown",
   "metadata": {
    "execution": {}
   },
   "source": [
    "Here we have defined a function that will generate the videos of the agent using the input model. The function requires path to the checkpoint folder and the environment you wanna run the trained model on."
   ]
  },
  {
   "cell_type": "code",
   "execution_count": 14,
   "metadata": {
    "execution": {}
   },
   "outputs": [],
   "source": [
    "def play_model(path, checkpoint='last',environment='default',seed=None, header=None):\n",
    "\n",
    "  \"\"\"\n",
    "    Plays a model within an environment and renders the gameplay to a video.\n",
    "\n",
    "    Parameters:\n",
    "    - path (str): Path to the directory containing the model and checkpoints.\n",
    "    - checkpoint (str): Specifies which checkpoint to use ('last', 'first', or a specific ID). 'none' indicates no checkpoint.\n",
    "    - environment (str): The environment to use. 'default' uses the environment specified in the configuration file.\n",
    "    - seed (int): Optional seed for reproducibility.\n",
    "    - header (str): Optional Python code to execute before initializing the model, such as importing libraries.\n",
    "    \"\"\"\n",
    "\n",
    "  if checkpoint == 'none':\n",
    "    # Use no checkpoint, the agent is freshly created.\n",
    "    checkpoint_path = None\n",
    "    tonic.logger.log('Not loading any weights')\n",
    "  else:\n",
    "    checkpoint_path = os.path.join(path, 'checkpoints')\n",
    "    if not os.path.isdir(checkpoint_path):\n",
    "      tonic.logger.error(f'{checkpoint_path} is not a directory')\n",
    "      checkpoint_path = None\n",
    "\n",
    "    # List all the checkpoints.\n",
    "    checkpoint_ids = []\n",
    "    for file in os.listdir(checkpoint_path):\n",
    "      if file[:5] == 'step_':\n",
    "        checkpoint_id = file.split('.')[0]\n",
    "        checkpoint_ids.append(int(checkpoint_id[5:]))\n",
    "\n",
    "    if checkpoint_ids:\n",
    "      if checkpoint == 'last':\n",
    "        # Use the last checkpoint.\n",
    "        checkpoint_id = max(checkpoint_ids)\n",
    "        checkpoint_path = os.path.join(checkpoint_path, f'step_{checkpoint_id}')\n",
    "      elif checkpoint == 'first':\n",
    "        # Use the first checkpoint.\n",
    "        checkpoint_id = min(checkpoint_ids)\n",
    "        checkpoint_path = os.path.join(checkpoint_path, f'step_{checkpoint_id}')\n",
    "      else:\n",
    "        # Use the specified checkpoint.\n",
    "        checkpoint_id = int(checkpoint)\n",
    "        if checkpoint_id in checkpoint_ids:\n",
    "          checkpoint_path = os.path.join(checkpoint_path, f'step_{checkpoint_id}')\n",
    "        else:\n",
    "          tonic.logger.error(f'Checkpoint {checkpoint_id} not found in {checkpoint_path}')\n",
    "          checkpoint_path = None\n",
    "    else:\n",
    "      tonic.logger.error(f'No checkpoint found in {checkpoint_path}')\n",
    "      checkpoint_path = None\n",
    "\n",
    "  # Load the experiment configuration.\n",
    "  arguments_path = os.path.join(path, 'config.yaml')\n",
    "  with open(arguments_path, 'r') as config_file:\n",
    "    config = yaml.load(config_file, Loader=yaml.FullLoader)\n",
    "  config = argparse.Namespace(**config)\n",
    "\n",
    "  # Run the header first, e.g. to load an ML framework.\n",
    "  try:\n",
    "    if config.header:\n",
    "      exec(config.header)\n",
    "    if header:\n",
    "      exec(header)\n",
    "  except:\n",
    "    pass\n",
    "\n",
    "  # Build the agent.\n",
    "  agent = eval(config.agent)\n",
    "\n",
    "  # Build the environment.\n",
    "  if environment == 'default':\n",
    "    environment  = tonic.environments.distribute(lambda: eval(config.environment))\n",
    "  else:\n",
    "    environment  = tonic.environments.distribute(lambda: eval(environment))\n",
    "  if seed is not None:\n",
    "    environment.seed(seed)\n",
    "\n",
    "  # Initialize the agent.\n",
    "  agent.initialize(\n",
    "    observation_space=environment.observation_space,\n",
    "    action_space=environment.action_space,\n",
    "    seed=seed,\n",
    "  )\n",
    "\n",
    "  # Load the weights of the agent form a checkpoint.\n",
    "  if checkpoint_path:\n",
    "    agent.load(checkpoint_path)\n",
    "\n",
    "  steps = 0\n",
    "  test_observations = environment.start()\n",
    "  frames = [environment.render('rgb_array',camera_id=0, width=640, height=480)[0]]\n",
    "  score, length = 0, 0\n",
    "\n",
    "  while True:\n",
    "      # Select an action.\n",
    "      actions = agent.test_step(test_observations, steps)\n",
    "      assert not np.isnan(actions.sum())\n",
    "\n",
    "      # Take a step in the environment.\n",
    "      test_observations, infos = environment.step(actions)\n",
    "      frames.append(environment.render('rgb_array',camera_id=0, width=640, height=480)[0])\n",
    "      agent.test_update(**infos, steps=steps)\n",
    "\n",
    "      score += infos['rewards'][0]\n",
    "      length += 1\n",
    "\n",
    "      if infos['resets'][0]:\n",
    "          break\n",
    "  video_path = os.path.join(path, 'video.mp4')\n",
    "  print('Reward for the run: ', score)\n",
    "  return display_frames(frames,video_path=video_path)"
   ]
  },
  {
   "cell_type": "markdown",
   "metadata": {
    "execution": {}
   },
   "source": [
    "Let's visualize the agent with a pretrained MLP model. Once you have your pretrained model, you can replace the experiment path to visualize the agent with your model."
   ]
  },
  {
   "cell_type": "markdown",
   "metadata": {
    "execution": {}
   },
   "source": [
    "⏳"
   ]
  },
  {
   "cell_type": "code",
   "execution_count": 15,
   "metadata": {
    "cellView": "form",
    "execution": {}
   },
   "outputs": [
    {
     "name": "stdout",
     "output_type": "stream",
     "text": [
      "importing\n",
      "Two Bodies Imported\n",
      "b'<mujoco model=\"swimmer\">\\n  <include file=\"./common/visual.xml\"/>\\n  <include file=\"./common/skybox.xml\"/>\\n  <include file=\"./common/materials.xml\"/>\\n\\n  <option timestep=\"0.002\" density=\"3000\">\\n    <flag contact=\"disable\"/>\\n  </option>\\n\\n  <default>\\n    <default class=\"swimmer\">\\n      <joint type=\"hinge\" pos=\"0 -.05 0\" axis=\"0 0 1\" limited=\"true\" solreflimit=\".05 1\" solimplimit=\"0 .8 .1\" armature=\"1e-6\"/>\\n      <default class=\"inertial\">\\n        <geom type=\"box\" size=\".001 .05 .01\" rgba=\"0 0 0 0\" mass=\".01\"/>\\n      </default>\\n      <default class=\"visual\">\\n        <geom type=\"capsule\" size=\".01\" fromto=\"0 -.05 0 0 .05 0\" material=\"self\" mass=\"0\"/>\\n      </default>\\n      <site size=\".01\" rgba=\"0 0 0 0\"/>\\n    </default>\\n    <default class=\"free\">\\n      <joint limited=\"false\" stiffness=\"0\" armature=\"0\"/>\\n    </default>\\n    <motor gear=\"5e-4\" ctrllimited=\"true\" ctrlrange=\"-1 1\"/>\\n  </default>\\n\\n  <worldbody>\\n    <geom name=\"ground\" type=\"plane\" size=\"2 2 0.1\" material=\"grid\"/>\\n\\n    <!-- Swimmer One -->\\n    <body name=\"head1\" pos=\"0 0 .05\" childclass=\"swimmer\">\\n      <light name=\"light1_1\" diffuse=\".8 .8 .8\" pos=\"0 0 1.5\"/>\\n      <geom name=\"head1\" type=\"ellipsoid\" size=\".02 .04 .017\" pos=\"0 -.022 0\" material=\"self\" mass=\"0\"/>\\n      <geom name=\"nose1\" type=\"sphere\" pos=\"0 -.06 0\" size=\".004\" material=\"effector\" mass=\"0\"/>\\n      <geom name=\"eyes1\" type=\"capsule\" fromto=\"-.006 -.054 .005 .006 -.054 .005\" size=\".004\" material=\"eye\" mass=\"0\"/>\\n      <camera name=\"tracking11\" pos=\"0.0 -0.2 0.5\" xyaxes=\"1 0 0 0 1 1\" mode=\"trackcom\" fovy=\"60\"/>\\n      <camera name=\"tracking12\" pos=\"-0.9 0.5 0.15\" xyaxes=\"0 -1 0 .3 0 1\" mode=\"trackcom\" fovy=\"60\"/>\\n      <camera name=\"eyes1\" pos=\"0 -.058 .005\" xyaxes=\"-1 0 0 0 0 1\"/>\\n      <joint name=\"rootx1\" class=\"free\" type=\"slide\" axis=\"1 0 0\" pos=\"0 -.05 0\"/>\\n      <joint name=\"rooty1\" class=\"free\" type=\"slide\" axis=\"0 1 0\" pos=\"0 -.05 0\"/>\\n      <joint name=\"rootz1\" class=\"free\" type=\"hinge\" axis=\"0 0 1\" pos=\"0 -.05 0\"/>\\n      <geom name=\"inertial1\" class=\"inertial\"/>\\n      <geom name=\"visual1\" class=\"visual\"/>\\n      <site name=\"head1\"/>\\n    <body name=\"segment_1_0\" pos=\"0 .1 0\"><geom class=\"visual\" name=\"visual_1_0\"/><geom class=\"inertial\" name=\"inertial_1_0\"/><site name=\"site_1_0\"/><joint name=\"joint_1_0\" range=\"-60.0 60.0\"/><body name=\"segment_1_1\" pos=\"0 .1 0\"><geom class=\"visual\" name=\"visual_1_1\"/><geom class=\"inertial\" name=\"inertial_1_1\"/><site name=\"site_1_1\"/><joint name=\"joint_1_1\" range=\"-60.0 60.0\"/><body name=\"segment_1_2\" pos=\"0 .1 0\"><geom class=\"visual\" name=\"visual_1_2\"/><geom class=\"inertial\" name=\"inertial_1_2\"/><site name=\"site_1_2\"/><joint name=\"joint_1_2\" range=\"-60.0 60.0\"/><body name=\"segment_1_3\" pos=\"0 .1 0\"><geom class=\"visual\" name=\"visual_1_3\"/><geom class=\"inertial\" name=\"inertial_1_3\"/><site name=\"site_1_3\"/><joint name=\"joint_1_3\" range=\"-60.0 60.0\"/><body name=\"segment_1_4\" pos=\"0 .1 0\"><geom class=\"visual\" name=\"visual_1_4\"/><geom class=\"inertial\" name=\"inertial_1_4\"/><site name=\"site_1_4\"/><joint name=\"joint_1_4\" range=\"-60.0 60.0\"/></body></body></body></body></body></body>\\n\\n    <!-- Swimmer Two -->\\n    <body name=\"head2\" pos=\"0 0.5 .05\" childclass=\"swimmer\">\\n      <light name=\"light2_1\" diffuse=\".8 .8 .8\" pos=\"0 0 1.5\"/>\\n      <geom name=\"head2\" type=\"ellipsoid\" size=\".02 .04 .017\" pos=\"0 -.022 0\" material=\"self\" mass=\"0\"/>\\n      <geom name=\"nose2\" type=\"sphere\" pos=\"0 -.06 0\" size=\".004\" material=\"effector\" mass=\"0\"/>\\n      <geom name=\"eyes2\" type=\"capsule\" fromto=\"-.006 -.054 .005 .006 -.054 .005\" size=\".004\" material=\"eye\" mass=\"0\"/>\\n      <camera name=\"tracking21\" pos=\"0.0 -0.2 0.5\" xyaxes=\"1 0 0 0 1 1\" mode=\"trackcom\" fovy=\"60\"/>\\n      <camera name=\"tracking22\" pos=\"-0.9 0.5 0.15\" xyaxes=\"0 -1 0 .3 0 1\" mode=\"trackcom\" fovy=\"60\"/>\\n      <camera name=\"eyes2\" pos=\"0 -.058 .005\" xyaxes=\"-1 0 0 0 0 1\"/>\\n      <joint name=\"rootx2\" class=\"free\" type=\"slide\" axis=\"1 0 0\" pos=\"0 -.05 0\"/>\\n      <joint name=\"rooty2\" class=\"free\" type=\"slide\" axis=\"0 1 0\" pos=\"0 -.05 0\"/>\\n      <joint name=\"rootz2\" class=\"free\" type=\"hinge\" axis=\"0 0 1\" pos=\"0 -.05 0\"/>\\n      <geom name=\"inertial2\" class=\"inertial\"/>\\n      <geom name=\"visual2\" class=\"visual\"/>\\n      <site name=\"head2\"/>\\n    <body name=\"segment_2_0\" pos=\"0 .1 0\"><geom class=\"visual\" name=\"visual_2_0\"/><geom class=\"inertial\" name=\"inertial_2_0\"/><site name=\"site_2_0\"/><joint name=\"joint_2_0\" range=\"-60.0 60.0\"/><body name=\"segment_2_1\" pos=\"0 .1 0\"><geom class=\"visual\" name=\"visual_2_1\"/><geom class=\"inertial\" name=\"inertial_2_1\"/><site name=\"site_2_1\"/><joint name=\"joint_2_1\" range=\"-60.0 60.0\"/><body name=\"segment_2_2\" pos=\"0 .1 0\"><geom class=\"visual\" name=\"visual_2_2\"/><geom class=\"inertial\" name=\"inertial_2_2\"/><site name=\"site_2_2\"/><joint name=\"joint_2_2\" range=\"-60.0 60.0\"/><body name=\"segment_2_3\" pos=\"0 .1 0\"><geom class=\"visual\" name=\"visual_2_3\"/><geom class=\"inertial\" name=\"inertial_2_3\"/><site name=\"site_2_3\"/><joint name=\"joint_2_3\" range=\"-60.0 60.0\"/><body name=\"segment_2_4\" pos=\"0 .1 0\"><geom class=\"visual\" name=\"visual_2_4\"/><geom class=\"inertial\" name=\"inertial_2_4\"/><site name=\"site_2_4\"/><joint name=\"joint_2_4\" range=\"-60.0 60.0\"/></body></body></body></body></body></body>\\n\\n    <geom name=\"target\" type=\"sphere\" pos=\"1 1 .05\" size=\".1\" material=\"target\"/>\\n    <light name=\"target_light\" diffuse=\"1 1 1\" pos=\"1 1 1.5\"/>\\n  </worldbody>\\n\\n  <sensor>\\n    <framepos name=\"nose_1_pos\" objtype=\"geom\" objname=\"nose1\"/>\\n    <framepos name=\"nose_2_pos\" objtype=\"geom\" objname=\"nose2\"/>\\n    <framepos name=\"target_pos\" objtype=\"geom\" objname=\"target\"/>\\n    <framexaxis name=\"head_1_xaxis\" objtype=\"xbody\" objname=\"head1\"/>\\n    <frameyaxis name=\"head_1_yaxis\" objtype=\"xbody\" objname=\"head1\"/>\\n    <framexaxis name=\"head_2_xaxis\" objtype=\"xbody\" objname=\"head2\"/>\\n    <frameyaxis name=\"head_2_yaxis\" objtype=\"xbody\" objname=\"head2\"/>\\n    <velocimeter name=\"head_1_vel\" site=\"head1\"/>\\n    <gyro name=\"head_1_gyro\" site=\"head1\"/>\\n    <velocimeter name=\"head_2_vel\" site=\"head2\"/> \\n    <gyro name=\"head_2_gyro\" site=\"head2\"/>\\n  </sensor>\\n\\n<actuator><motor name=\"motor_1_0\" joint=\"joint_1_0\"/><motor name=\"motor_1_1\" joint=\"joint_1_1\"/><motor name=\"motor_1_2\" joint=\"joint_1_2\"/><motor name=\"motor_1_3\" joint=\"joint_1_3\"/><motor name=\"motor_1_4\" joint=\"joint_1_4\"/><motor name=\"motor_2_0\" joint=\"joint_2_0\"/><motor name=\"motor_2_1\" joint=\"joint_2_1\"/><motor name=\"motor_2_2\" joint=\"joint_2_2\"/><motor name=\"motor_2_3\" joint=\"joint_2_3\"/><motor name=\"motor_2_4\" joint=\"joint_2_4\"/></actuator><sensor><velocimeter name=\"velocimeter_1_0\" site=\"site_1_0\"/><gyro name=\"gyro_1_0\" site=\"site_1_0\"/><velocimeter name=\"velocimeter_1_1\" site=\"site_1_1\"/><gyro name=\"gyro_1_1\" site=\"site_1_1\"/><velocimeter name=\"velocimeter_1_2\" site=\"site_1_2\"/><gyro name=\"gyro_1_2\" site=\"site_1_2\"/><velocimeter name=\"velocimeter_1_3\" site=\"site_1_3\"/><gyro name=\"gyro_1_3\" site=\"site_1_3\"/><velocimeter name=\"velocimeter_1_4\" site=\"site_1_4\"/><gyro name=\"gyro_1_4\" site=\"site_1_4\"/><velocimeter name=\"velocimeter_2_0\" site=\"site_2_0\"/><gyro name=\"gyro_2_0\" site=\"site_2_0\"/><velocimeter name=\"velocimeter_2_1\" site=\"site_2_1\"/><gyro name=\"gyro_2_1\" site=\"site_2_1\"/><velocimeter name=\"velocimeter_2_2\" site=\"site_2_2\"/><gyro name=\"gyro_2_2\" site=\"site_2_2\"/><velocimeter name=\"velocimeter_2_3\" site=\"site_2_3\"/><gyro name=\"gyro_2_3\" site=\"site_2_3\"/><velocimeter name=\"velocimeter_2_4\" site=\"site_2_4\"/><gyro name=\"gyro_2_4\" site=\"site_2_4\"/></sensor></mujoco>\\n'\n",
      "importing\n",
      "Two Bodies Imported\n",
      "b'<mujoco model=\"swimmer\">\\n  <include file=\"./common/visual.xml\"/>\\n  <include file=\"./common/skybox.xml\"/>\\n  <include file=\"./common/materials.xml\"/>\\n\\n  <option timestep=\"0.002\" density=\"3000\">\\n    <flag contact=\"disable\"/>\\n  </option>\\n\\n  <default>\\n    <default class=\"swimmer\">\\n      <joint type=\"hinge\" pos=\"0 -.05 0\" axis=\"0 0 1\" limited=\"true\" solreflimit=\".05 1\" solimplimit=\"0 .8 .1\" armature=\"1e-6\"/>\\n      <default class=\"inertial\">\\n        <geom type=\"box\" size=\".001 .05 .01\" rgba=\"0 0 0 0\" mass=\".01\"/>\\n      </default>\\n      <default class=\"visual\">\\n        <geom type=\"capsule\" size=\".01\" fromto=\"0 -.05 0 0 .05 0\" material=\"self\" mass=\"0\"/>\\n      </default>\\n      <site size=\".01\" rgba=\"0 0 0 0\"/>\\n    </default>\\n    <default class=\"free\">\\n      <joint limited=\"false\" stiffness=\"0\" armature=\"0\"/>\\n    </default>\\n    <motor gear=\"5e-4\" ctrllimited=\"true\" ctrlrange=\"-1 1\"/>\\n  </default>\\n\\n  <worldbody>\\n    <geom name=\"ground\" type=\"plane\" size=\"2 2 0.1\" material=\"grid\"/>\\n\\n    <!-- Swimmer One -->\\n    <body name=\"head1\" pos=\"0 0 .05\" childclass=\"swimmer\">\\n      <light name=\"light1_1\" diffuse=\".8 .8 .8\" pos=\"0 0 1.5\"/>\\n      <geom name=\"head1\" type=\"ellipsoid\" size=\".02 .04 .017\" pos=\"0 -.022 0\" material=\"self\" mass=\"0\"/>\\n      <geom name=\"nose1\" type=\"sphere\" pos=\"0 -.06 0\" size=\".004\" material=\"effector\" mass=\"0\"/>\\n      <geom name=\"eyes1\" type=\"capsule\" fromto=\"-.006 -.054 .005 .006 -.054 .005\" size=\".004\" material=\"eye\" mass=\"0\"/>\\n      <camera name=\"tracking11\" pos=\"0.0 -0.2 0.5\" xyaxes=\"1 0 0 0 1 1\" mode=\"trackcom\" fovy=\"60\"/>\\n      <camera name=\"tracking12\" pos=\"-0.9 0.5 0.15\" xyaxes=\"0 -1 0 .3 0 1\" mode=\"trackcom\" fovy=\"60\"/>\\n      <camera name=\"eyes1\" pos=\"0 -.058 .005\" xyaxes=\"-1 0 0 0 0 1\"/>\\n      <joint name=\"rootx1\" class=\"free\" type=\"slide\" axis=\"1 0 0\" pos=\"0 -.05 0\"/>\\n      <joint name=\"rooty1\" class=\"free\" type=\"slide\" axis=\"0 1 0\" pos=\"0 -.05 0\"/>\\n      <joint name=\"rootz1\" class=\"free\" type=\"hinge\" axis=\"0 0 1\" pos=\"0 -.05 0\"/>\\n      <geom name=\"inertial1\" class=\"inertial\"/>\\n      <geom name=\"visual1\" class=\"visual\"/>\\n      <site name=\"head1\"/>\\n    <body name=\"segment_1_0\" pos=\"0 .1 0\"><geom class=\"visual\" name=\"visual_1_0\"/><geom class=\"inertial\" name=\"inertial_1_0\"/><site name=\"site_1_0\"/><joint name=\"joint_1_0\" range=\"-60.0 60.0\"/><body name=\"segment_1_1\" pos=\"0 .1 0\"><geom class=\"visual\" name=\"visual_1_1\"/><geom class=\"inertial\" name=\"inertial_1_1\"/><site name=\"site_1_1\"/><joint name=\"joint_1_1\" range=\"-60.0 60.0\"/><body name=\"segment_1_2\" pos=\"0 .1 0\"><geom class=\"visual\" name=\"visual_1_2\"/><geom class=\"inertial\" name=\"inertial_1_2\"/><site name=\"site_1_2\"/><joint name=\"joint_1_2\" range=\"-60.0 60.0\"/><body name=\"segment_1_3\" pos=\"0 .1 0\"><geom class=\"visual\" name=\"visual_1_3\"/><geom class=\"inertial\" name=\"inertial_1_3\"/><site name=\"site_1_3\"/><joint name=\"joint_1_3\" range=\"-60.0 60.0\"/><body name=\"segment_1_4\" pos=\"0 .1 0\"><geom class=\"visual\" name=\"visual_1_4\"/><geom class=\"inertial\" name=\"inertial_1_4\"/><site name=\"site_1_4\"/><joint name=\"joint_1_4\" range=\"-60.0 60.0\"/></body></body></body></body></body></body>\\n\\n    <!-- Swimmer Two -->\\n    <body name=\"head2\" pos=\"0 0.5 .05\" childclass=\"swimmer\">\\n      <light name=\"light2_1\" diffuse=\".8 .8 .8\" pos=\"0 0 1.5\"/>\\n      <geom name=\"head2\" type=\"ellipsoid\" size=\".02 .04 .017\" pos=\"0 -.022 0\" material=\"self\" mass=\"0\"/>\\n      <geom name=\"nose2\" type=\"sphere\" pos=\"0 -.06 0\" size=\".004\" material=\"effector\" mass=\"0\"/>\\n      <geom name=\"eyes2\" type=\"capsule\" fromto=\"-.006 -.054 .005 .006 -.054 .005\" size=\".004\" material=\"eye\" mass=\"0\"/>\\n      <camera name=\"tracking21\" pos=\"0.0 -0.2 0.5\" xyaxes=\"1 0 0 0 1 1\" mode=\"trackcom\" fovy=\"60\"/>\\n      <camera name=\"tracking22\" pos=\"-0.9 0.5 0.15\" xyaxes=\"0 -1 0 .3 0 1\" mode=\"trackcom\" fovy=\"60\"/>\\n      <camera name=\"eyes2\" pos=\"0 -.058 .005\" xyaxes=\"-1 0 0 0 0 1\"/>\\n      <joint name=\"rootx2\" class=\"free\" type=\"slide\" axis=\"1 0 0\" pos=\"0 -.05 0\"/>\\n      <joint name=\"rooty2\" class=\"free\" type=\"slide\" axis=\"0 1 0\" pos=\"0 -.05 0\"/>\\n      <joint name=\"rootz2\" class=\"free\" type=\"hinge\" axis=\"0 0 1\" pos=\"0 -.05 0\"/>\\n      <geom name=\"inertial2\" class=\"inertial\"/>\\n      <geom name=\"visual2\" class=\"visual\"/>\\n      <site name=\"head2\"/>\\n    <body name=\"segment_2_0\" pos=\"0 .1 0\"><geom class=\"visual\" name=\"visual_2_0\"/><geom class=\"inertial\" name=\"inertial_2_0\"/><site name=\"site_2_0\"/><joint name=\"joint_2_0\" range=\"-60.0 60.0\"/><body name=\"segment_2_1\" pos=\"0 .1 0\"><geom class=\"visual\" name=\"visual_2_1\"/><geom class=\"inertial\" name=\"inertial_2_1\"/><site name=\"site_2_1\"/><joint name=\"joint_2_1\" range=\"-60.0 60.0\"/><body name=\"segment_2_2\" pos=\"0 .1 0\"><geom class=\"visual\" name=\"visual_2_2\"/><geom class=\"inertial\" name=\"inertial_2_2\"/><site name=\"site_2_2\"/><joint name=\"joint_2_2\" range=\"-60.0 60.0\"/><body name=\"segment_2_3\" pos=\"0 .1 0\"><geom class=\"visual\" name=\"visual_2_3\"/><geom class=\"inertial\" name=\"inertial_2_3\"/><site name=\"site_2_3\"/><joint name=\"joint_2_3\" range=\"-60.0 60.0\"/><body name=\"segment_2_4\" pos=\"0 .1 0\"><geom class=\"visual\" name=\"visual_2_4\"/><geom class=\"inertial\" name=\"inertial_2_4\"/><site name=\"site_2_4\"/><joint name=\"joint_2_4\" range=\"-60.0 60.0\"/></body></body></body></body></body></body>\\n\\n    <geom name=\"target\" type=\"sphere\" pos=\"1 1 .05\" size=\".1\" material=\"target\"/>\\n    <light name=\"target_light\" diffuse=\"1 1 1\" pos=\"1 1 1.5\"/>\\n  </worldbody>\\n\\n  <sensor>\\n    <framepos name=\"nose_1_pos\" objtype=\"geom\" objname=\"nose1\"/>\\n    <framepos name=\"nose_2_pos\" objtype=\"geom\" objname=\"nose2\"/>\\n    <framepos name=\"target_pos\" objtype=\"geom\" objname=\"target\"/>\\n    <framexaxis name=\"head_1_xaxis\" objtype=\"xbody\" objname=\"head1\"/>\\n    <frameyaxis name=\"head_1_yaxis\" objtype=\"xbody\" objname=\"head1\"/>\\n    <framexaxis name=\"head_2_xaxis\" objtype=\"xbody\" objname=\"head2\"/>\\n    <frameyaxis name=\"head_2_yaxis\" objtype=\"xbody\" objname=\"head2\"/>\\n    <velocimeter name=\"head_1_vel\" site=\"head1\"/>\\n    <gyro name=\"head_1_gyro\" site=\"head1\"/>\\n    <velocimeter name=\"head_2_vel\" site=\"head2\"/> \\n    <gyro name=\"head_2_gyro\" site=\"head2\"/>\\n  </sensor>\\n\\n<actuator><motor name=\"motor_1_0\" joint=\"joint_1_0\"/><motor name=\"motor_1_1\" joint=\"joint_1_1\"/><motor name=\"motor_1_2\" joint=\"joint_1_2\"/><motor name=\"motor_1_3\" joint=\"joint_1_3\"/><motor name=\"motor_1_4\" joint=\"joint_1_4\"/><motor name=\"motor_2_0\" joint=\"joint_2_0\"/><motor name=\"motor_2_1\" joint=\"joint_2_1\"/><motor name=\"motor_2_2\" joint=\"joint_2_2\"/><motor name=\"motor_2_3\" joint=\"joint_2_3\"/><motor name=\"motor_2_4\" joint=\"joint_2_4\"/></actuator><sensor><velocimeter name=\"velocimeter_1_0\" site=\"site_1_0\"/><gyro name=\"gyro_1_0\" site=\"site_1_0\"/><velocimeter name=\"velocimeter_1_1\" site=\"site_1_1\"/><gyro name=\"gyro_1_1\" site=\"site_1_1\"/><velocimeter name=\"velocimeter_1_2\" site=\"site_1_2\"/><gyro name=\"gyro_1_2\" site=\"site_1_2\"/><velocimeter name=\"velocimeter_1_3\" site=\"site_1_3\"/><gyro name=\"gyro_1_3\" site=\"site_1_3\"/><velocimeter name=\"velocimeter_1_4\" site=\"site_1_4\"/><gyro name=\"gyro_1_4\" site=\"site_1_4\"/><velocimeter name=\"velocimeter_2_0\" site=\"site_2_0\"/><gyro name=\"gyro_2_0\" site=\"site_2_0\"/><velocimeter name=\"velocimeter_2_1\" site=\"site_2_1\"/><gyro name=\"gyro_2_1\" site=\"site_2_1\"/><velocimeter name=\"velocimeter_2_2\" site=\"site_2_2\"/><gyro name=\"gyro_2_2\" site=\"site_2_2\"/><velocimeter name=\"velocimeter_2_3\" site=\"site_2_3\"/><gyro name=\"gyro_2_3\" site=\"site_2_3\"/><velocimeter name=\"velocimeter_2_4\" site=\"site_2_4\"/><gyro name=\"gyro_2_4\" site=\"site_2_4\"/></sensor></mujoco>\\n'\n",
      "\u001b[1m\u001b[32m\n",
      "Loading weights from data/local/experiments/tonic/swimmer-mswim/mlp_256/checkpoints/step_1000000.pt\u001b[0m\n"
     ]
    },
    {
     "name": "stderr",
     "output_type": "stream",
     "text": [
      "/Users/Apple/miniconda3/envs/social-agents/lib/python3.10/site-packages/gym/spaces/box.py:127: UserWarning: \u001b[33mWARN: Box bound precision lowered by casting to float32\u001b[0m\n",
      "  logger.warn(f\"Box bound precision lowered by casting to {self.dtype}\")\n"
     ]
    },
    {
     "name": "stdout",
     "output_type": "stream",
     "text": [
      "Reward for the run:  492.20160669088364\n"
     ]
    },
    {
     "data": {
      "text/html": [
       "<video controls src=\"data/local/experiments/tonic/swimmer-mswim/mlp_256/video.mp4\" />"
      ],
      "text/plain": [
       "<IPython.core.display.HTML object>"
      ]
     },
     "execution_count": 15,
     "metadata": {},
     "output_type": "execute_result"
    }
   ],
   "source": [
    "play_model('data/local/experiments/tonic/swimmer-mswim/mlp_256')\n",
    "# play_model('data/local/experiments/tonic/swimmer-swim/pretrained_mlp_ppo')"
   ]
  },
  {
   "cell_type": "markdown",
   "metadata": {
    "execution": {}
   },
   "source": [
    "❓"
   ]
  },
  {
   "cell_type": "markdown",
   "metadata": {
    "execution": {}
   },
   "source": [
    "Try testing the model on a modification of the enviroment it was trained on.\n",
    "\n",
    "\n",
    "*   ***Train on basic swim task and test on a environment with higher viscosity.***\n",
    "*   ***Can we train on the basic 6 link swimmer and test on a larger 12 link swimmer?***\n",
    "* ***Train the model for a bit on the modified environment and see how quickly the model can adapt to the new environment.***\n",
    "\n",
    "\n"
   ]
  },
  {
   "cell_type": "code",
   "execution_count": null,
   "metadata": {
    "execution": {}
   },
   "outputs": [],
   "source": []
  },
  {
   "cell_type": "markdown",
   "metadata": {},
   "source": [
    "####  Submit your feedback\n"
   ]
  },
  {
   "cell_type": "code",
   "execution_count": null,
   "metadata": {
    "cellView": "form",
    "execution": {},
    "tags": [
     "hide-input"
    ]
   },
   "outputs": [],
   "source": [
    "# @title Submit your feedback\n",
    "content_review(f\"{feedback_prefix}_training_models_on_swim_task\")"
   ]
  },
  {
   "cell_type": "markdown",
   "metadata": {
    "execution": {}
   },
   "source": [
    "---\n",
    "## Section 3: NCAP"
   ]
  },
  {
   "cell_type": "markdown",
   "metadata": {
    "execution": {}
   },
   "source": [
    "Now that we are familiar with how to train standard models on the swimmer agent let's take a look at NCAP a model that was inspired from the C. elegans motor circuit.\n",
    "Our hope with using such models is that they would already have really good priors which should lead to much better transfer, faster learning curves and possibly really good innate performance (zero shot performance).\n",
    "\n",
    "Check out [NCAP paper](https://arxiv.org/abs/2201.05242) to learn more about the model."
   ]
  },
  {
   "cell_type": "markdown",
   "metadata": {},
   "source": [
    "###  Paper Illustration\n"
   ]
  },
  {
   "cell_type": "code",
   "execution_count": null,
   "metadata": {
    "cellView": "form",
    "execution": {},
    "tags": [
     "hide-input"
    ]
   },
   "outputs": [],
   "source": [
    "#@title Paper Illustration\n",
    "\n",
    "from IPython.display import Image, display\n",
    "import os\n",
    "from pathlib import Path\n",
    "\n",
    "url = \"https://github.com/neuromatch/NeuroAI_Course/blob/main/projects/project-notebooks/static/NCAPPaper.png?raw=true\"\n",
    "\n",
    "display(Image(url=url))"
   ]
  },
  {
   "cell_type": "markdown",
   "metadata": {
    "execution": {}
   },
   "source": [
    "### 3.1 NCAP classes"
   ]
  },
  {
   "cell_type": "markdown",
   "metadata": {
    "execution": {}
   },
   "source": [
    "Now we are going to define ***SwimmerModule*** (NCAP model) and ***SwimmerActor*** (wrapper around NCAP model to make it compatible with tonic) classes.\n",
    "\n",
    "\n",
    "\n",
    "  "
   ]
  },
  {
   "cell_type": "markdown",
   "metadata": {
    "execution": {}
   },
   "source": [
    "#### Section 3.1.1 Defining the constraints"
   ]
  },
  {
   "cell_type": "code",
   "execution_count": null,
   "metadata": {
    "execution": {}
   },
   "outputs": [],
   "source": [
    "# ==================================================================================================\n",
    "# Weight constraints.\n",
    "\n",
    "\n",
    "def excitatory(w, upper=None):\n",
    "    return w.clamp(min=0, max=upper)\n",
    "\n",
    "\n",
    "def inhibitory(w, lower=None):\n",
    "    return w.clamp(min=lower, max=0)\n",
    "\n",
    "\n",
    "def unsigned(w, lower=None, upper=None):\n",
    "    return w if lower is None and upper is None else w.clamp(min=lower, max=upper)\n",
    "\n",
    "\n",
    "# ==================================================================================================\n",
    "# Activation constraints.\n",
    "\n",
    "\n",
    "def graded(x):\n",
    "    return x.clamp(min=0, max=1)\n",
    "\n",
    "\n",
    "# ==================================================================================================\n",
    "# Weight initialization.\n",
    "\n",
    "\n",
    "def excitatory_uniform(shape=(1,), lower=0., upper=1.):\n",
    "    assert lower >= 0\n",
    "    return nn.init.uniform_(nn.Parameter(torch.empty(shape)), a=lower, b=upper)\n",
    "\n",
    "\n",
    "def inhibitory_uniform(shape=(1,), lower=-1., upper=0.):\n",
    "    assert upper <= 0\n",
    "    return nn.init.uniform_(nn.Parameter(torch.empty(shape)), a=lower, b=upper)\n",
    "\n",
    "\n",
    "def unsigned_uniform(shape=(1,), lower=-1., upper=1.):\n",
    "    return nn.init.uniform_(nn.Parameter(torch.empty(shape)), a=lower, b=upper)\n",
    "\n",
    "\n",
    "def excitatory_constant(shape=(1,), value=1.):\n",
    "    return nn.Parameter(torch.full(shape, value))\n",
    "\n",
    "\n",
    "def inhibitory_constant(shape=(1,), value=-1.):\n",
    "    return nn.Parameter(torch.full(shape, value))\n",
    "\n",
    "\n",
    "def unsigned_constant(shape=(1,), lower=-1., upper=1., p=0.5):\n",
    "    with torch.no_grad():\n",
    "        weight = torch.empty(shape).uniform_(0, 1)\n",
    "        mask = weight < p\n",
    "        weight[mask] = upper\n",
    "        weight[~mask] = lower\n",
    "        return nn.Parameter(weight)"
   ]
  },
  {
   "cell_type": "markdown",
   "metadata": {
    "execution": {}
   },
   "source": [
    "***Can you think of more kinds of weight initializations and constraints that might be useful for the swimmer agent?***"
   ]
  },
  {
   "cell_type": "markdown",
   "metadata": {
    "execution": {}
   },
   "source": [
    "#### Section 3.1.2: Defining the ***SwimmerModule***"
   ]
  },
  {
   "cell_type": "markdown",
   "metadata": {
    "execution": {}
   },
   "source": [
    "The ***SwimmerModule*** class represents the neural network module inspired by the C. elegans neural circuitry, designed for controlling a robotic swimmer with specific architectural priors, such as proprioception and oscillatory movement patterns."
   ]
  },
  {
   "cell_type": "code",
   "execution_count": null,
   "metadata": {},
   "outputs": [],
   "source": [
    "def NCAP_damping(thre, delt, a=0.0001, proximity=1):\n",
    "    \"\"\"return a damping value \n",
    "\n",
    "    Parameters\n",
    "    ----------\n",
    "    a : float\n",
    "        the effect of proximity to visicosity\n",
    "    proximity : float\n",
    "        the distance between agents\n",
    "    thre: float\n",
    "        the threshold distance where there is no effect\n",
    "    delt: time to where damping occurs\n",
    "    \"\"\"\n",
    "\n",
    "    if proximity <= thre:\n",
    "        _lamda = calculate_damping(a, proximity, thre)\n",
    "        return np.exp(-_lamda*delt)"
   ]
  },
  {
   "cell_type": "code",
   "execution_count": null,
   "metadata": {
    "execution": {}
   },
   "outputs": [],
   "source": [
    "class SwimmerModule(nn.Module):\n",
    "    \"\"\"C.-elegans-inspired neural circuit architectural prior.\"\"\"\n",
    "\n",
    "    def __init__(\n",
    "            self,\n",
    "            n_joints: int,\n",
    "            n_turn_joints: int = 1,\n",
    "            oscillator_period: int = 60,\n",
    "            use_weight_sharing: bool = True,\n",
    "            use_weight_constraints: bool = True,\n",
    "            use_weight_constant_init: bool = True,\n",
    "            include_proprioception: bool = True,\n",
    "            include_head_oscillators: bool = True,\n",
    "            include_speed_control: bool = False,\n",
    "            include_turn_control: bool = False,\n",
    "    ):\n",
    "        super().__init__()\n",
    "        self.n_joints = n_joints\n",
    "        self.n_turn_joints = n_turn_joints\n",
    "        self.oscillator_period = oscillator_period\n",
    "        self.include_proprioception = include_proprioception\n",
    "        self.include_head_oscillators = include_head_oscillators\n",
    "        self.include_speed_control = include_speed_control\n",
    "        self.include_turn_control = include_turn_control\n",
    "\n",
    "        # Log activity\n",
    "        self.connections_log = []\n",
    "\n",
    "        # Timestep counter (for oscillations).\n",
    "        self.timestep = 0\n",
    "\n",
    "        # Weight sharing switch function.\n",
    "        self.ws = lambda nonshared, shared: shared if use_weight_sharing else nonshared\n",
    "\n",
    "        # Weight constraint and init functions.\n",
    "        if use_weight_constraints:\n",
    "            self.exc = excitatory\n",
    "            self.inh = inhibitory\n",
    "            if use_weight_constant_init:\n",
    "                exc_param = excitatory_constant\n",
    "                inh_param = inhibitory_constant\n",
    "            else:\n",
    "                exc_param = excitatory_uniform\n",
    "                inh_param = inhibitory_uniform\n",
    "        else:\n",
    "            self.exc = unsigned\n",
    "            self.inh = unsigned\n",
    "            if use_weight_constant_init:\n",
    "                exc_param = inh_param = unsigned_constant\n",
    "            else:\n",
    "                exc_param = inh_param = unsigned_uniform\n",
    "\n",
    "        # Learnable parameters.\n",
    "        self.params = nn.ParameterDict()\n",
    "        if use_weight_sharing:\n",
    "            if self.include_proprioception:\n",
    "                self.params['bneuron_prop'] = exc_param()\n",
    "            if self.include_speed_control:\n",
    "                self.params['bneuron_speed'] = inh_param()\n",
    "            if self.include_turn_control:\n",
    "                self.params['bneuron_turn'] = exc_param()\n",
    "            if self.include_head_oscillators:\n",
    "                self.params['bneuron_osc'] = exc_param()\n",
    "            self.params['muscle_ipsi'] = exc_param()\n",
    "            self.params['muscle_contra'] = inh_param()\n",
    "        else:\n",
    "            for i in range(self.n_joints):\n",
    "                if self.include_proprioception and i > 0:\n",
    "                    self.params[f'bneuron_d_prop_{i}'] = exc_param()\n",
    "                    self.params[f'bneuron_v_prop_{i}'] = exc_param()\n",
    "\n",
    "                if self.include_speed_control:\n",
    "                    self.params[f'bneuron_d_speed_{i}'] = inh_param()\n",
    "                    self.params[f'bneuron_v_speed_{i}'] = inh_param()\n",
    "\n",
    "                if self.include_turn_control and i < self.n_turn_joints:\n",
    "                    self.params[f'bneuron_d_turn_{i}'] = exc_param()\n",
    "                    self.params[f'bneuron_v_turn_{i}'] = exc_param()\n",
    "\n",
    "                if self.include_head_oscillators and i == 0:\n",
    "                    self.params[f'bneuron_d_osc_{i}'] = exc_param()\n",
    "                    self.params[f'bneuron_v_osc_{i}'] = exc_param()\n",
    "\n",
    "                self.params[f'muscle_d_d_{i}'] = exc_param()\n",
    "                self.params[f'muscle_d_v_{i}'] = inh_param()\n",
    "                self.params[f'muscle_v_v_{i}'] = exc_param()\n",
    "                self.params[f'muscle_v_d_{i}'] = inh_param()\n",
    "\n",
    "    def reset(self):\n",
    "        self.timestep = 0\n",
    "\n",
    "    def log_activity(self, activity_type, neuron):\n",
    "        \"\"\"Logs an active connection between neurons.\"\"\"\n",
    "        self.connections_log.append((self.timestep, activity_type, neuron))\n",
    "\n",
    "    def NCAP_damping(self, thre, delt, a=0.0001, proximity=1):\n",
    "        \"\"\"return a damping value \n",
    "\n",
    "        Parameters\n",
    "        ----------\n",
    "        a : float\n",
    "            the effect of proximity to visicosity\n",
    "        proximity : float\n",
    "            the distance between agents\n",
    "        thre: float\n",
    "            the threshold distance where there is no effect\n",
    "        delt: time to where damping occurs\n",
    "        \"\"\"\n",
    "\n",
    "        if proximity <= thre:\n",
    "            _lamda = calculate_damping(a, proximity, thre)\n",
    "            return np.exp(-_lamda*delt)\n",
    "\n",
    "    def forward(\n",
    "            self,\n",
    "            joint_pos,\n",
    "            right_control=None,\n",
    "            left_control=None,\n",
    "            speed_control=None,\n",
    "            timesteps=None,\n",
    "            log_activity=True,\n",
    "            log_file='log.txt'\n",
    "    ):\n",
    "        \"\"\"Forward pass.\n",
    "\n",
    "    Args:\n",
    "      joint_pos (torch.Tensor): Joint positions in [-1, 1], shape (..., n_joints).\n",
    "      right_control (torch.Tensor): Right turn control in [0, 1], shape (..., 1).\n",
    "      left_control (torch.Tensor): Left turn control in [0, 1], shape (..., 1).\n",
    "      speed_control (torch.Tensor): Speed control in [0, 1], 0 stopped, 1 fastest, shape (..., 1).\n",
    "      timesteps (torch.Tensor): Timesteps in [0, max_env_steps], shape (..., 1).\n",
    "\n",
    "    Returns:\n",
    "      (torch.Tensor): Joint torques in [-1, 1], shape (..., n_joints).\n",
    "    \"\"\"\n",
    "\n",
    "        exc = self.exc\n",
    "        inh = self.inh\n",
    "        ws = self.ws\n",
    "\n",
    "        # Separate into dorsal and ventral sensor values in [0, 1], shape (..., n_joints).\n",
    "        joint_pos_d = joint_pos.clamp(min=0, max=1)\n",
    "        joint_pos_v = joint_pos.clamp(min=-1, max=0).neg()\n",
    "\n",
    "        # Convert speed signal from acceleration into brake.\n",
    "        if self.include_speed_control:\n",
    "            assert speed_control is not None\n",
    "            speed_control = 1 - speed_control.clamp(min=0, max=1)\n",
    "\n",
    "        joint_torques = []  # [shape (..., 1)]\n",
    "        for i in range(self.n_joints):\n",
    "            bneuron_d = bneuron_v = torch.zeros_like(joint_pos[..., 0, None])  # shape (..., 1)\n",
    "\n",
    "            # B-neurons recieve proprioceptive input from previous joint to propagate waves down the body.\n",
    "            if self.include_proprioception and i > 0:\n",
    "                bneuron_d = bneuron_d + joint_pos_d[\n",
    "                    ..., i - 1, None] * exc(self.params[ws(f'bneuron_d_prop_{i}', 'bneuron_prop')])\n",
    "                bneuron_v = bneuron_v + joint_pos_v[\n",
    "                    ..., i - 1, None] * exc(self.params[ws(f'bneuron_v_prop_{i}', 'bneuron_prop')])\n",
    "                self.log_activity('exc', f'bneuron_d_prop_{i}')\n",
    "                self.log_activity('exc', f'bneuron_v_prop_{i}')\n",
    "\n",
    "            # Speed control unit modulates all B-neurons.\n",
    "            if self.include_speed_control:\n",
    "                bneuron_d = bneuron_d + speed_control * inh(\n",
    "                    self.params[ws(f'bneuron_d_speed_{i}', 'bneuron_speed')]\n",
    "                )\n",
    "                bneuron_v = bneuron_v + speed_control * inh(\n",
    "                    self.params[ws(f'bneuron_v_speed_{i}', 'bneuron_speed')]\n",
    "                )\n",
    "                self.log_activity('inh', f'bneuron_d_speed_{i}')\n",
    "                self.log_activity('inh', f'bneuron_v_speed_{i}')\n",
    "\n",
    "            # Turn control units modulate head B-neurons.\n",
    "            if self.include_turn_control and i < self.n_turn_joints:\n",
    "                assert right_control is not None\n",
    "                assert left_control is not None\n",
    "                turn_control_d = right_control.clamp(min=0, max=1)  # shape (..., 1)\n",
    "                turn_control_v = left_control.clamp(min=0, max=1)\n",
    "                bneuron_d = bneuron_d + turn_control_d * exc(\n",
    "                    self.params[ws(f'bneuron_d_turn_{i}', 'bneuron_turn')]\n",
    "                )\n",
    "                bneuron_v = bneuron_v + turn_control_v * exc(\n",
    "                    self.params[ws(f'bneuron_v_turn_{i}', 'bneuron_turn')]\n",
    "                )\n",
    "                self.log_activity('exc', f'bneuron_d_turn_{i}')\n",
    "                self.log_activity('exc', f'bneuron_v_turn_{i}')\n",
    "\n",
    "            # Oscillator units modulate first B-neurons.\n",
    "            if self.include_head_oscillators and i == 0:\n",
    "                if timesteps is not None:\n",
    "                    phase = timesteps.round().remainder(self.oscillator_period)\n",
    "                    mask = phase < self.oscillator_period // 2\n",
    "                    oscillator_d = torch.zeros_like(timesteps)  # shape (..., 1)\n",
    "                    oscillator_v = torch.zeros_like(timesteps)  # shape (..., 1)\n",
    "                    oscillator_d[mask] = 1.\n",
    "                    oscillator_v[~mask] = 1.\n",
    "                else:\n",
    "                    phase = self.timestep % self.oscillator_period  # in [0, oscillator_period)\n",
    "                    if phase < self.oscillator_period // 2:\n",
    "                        oscillator_d, oscillator_v = 1.0, 0.0\n",
    "                    else:\n",
    "                        oscillator_d, oscillator_v = 0.0, 1.0\n",
    "                \n",
    "                freq = 1/self.oscillator_period\n",
    "                oscillator_d = oscillator_d-(2*np.pi*freq)*NCAP_damping(thre, delt)*oscillator_d # apply damping on oscillator\n",
    "                oscillator_v = oscillator_v-(2*np.pi*freq)*NCAP_damping(thre, delt)*oscillator_d\n",
    "\n",
    "                bneuron_d = bneuron_d + oscillator_d * exc(\n",
    "                    self.params[ws(f'bneuron_d_osc_{i}', 'bneuron_osc')]\n",
    "                )\n",
    "                bneuron_v = bneuron_v + oscillator_v * exc(\n",
    "                    self.params[ws(f'bneuron_v_osc_{i}', 'bneuron_osc')]\n",
    "                )\n",
    "\n",
    "                self.log_activity('exc', f'bneuron_d_osc_{i}')\n",
    "                self.log_activity('exc', f'bneuron_v_osc_{i}')\n",
    "\n",
    "            # B-neuron activation.\n",
    "            bneuron_d = graded(bneuron_d)\n",
    "            bneuron_v = graded(bneuron_v)\n",
    "\n",
    "            # Muscles receive excitatory ipsilateral and inhibitory contralateral input.\n",
    "            muscle_d = graded(\n",
    "                bneuron_d * exc(self.params[ws(f'muscle_d_d_{i}', 'muscle_ipsi')]) +\n",
    "                bneuron_v * inh(self.params[ws(f'muscle_d_v_{i}', 'muscle_contra')])\n",
    "            )\n",
    "            muscle_v = graded(\n",
    "                bneuron_v * exc(self.params[ws(f'muscle_v_v_{i}', 'muscle_ipsi')]) +\n",
    "                bneuron_d * inh(self.params[ws(f'muscle_v_d_{i}', 'muscle_contra')])\n",
    "            )\n",
    "\n",
    "            # Joint torque from antagonistic contraction of dorsal and ventral muscles.\n",
    "            joint_torque = muscle_d - muscle_v\n",
    "            joint_torques.append(joint_torque)\n",
    "\n",
    "        self.timestep += 1\n",
    "\n",
    "        out = torch.cat(joint_torques, -1)  # shape (..., n_joints)\n",
    "        return out"
   ]
  },
  {
   "cell_type": "markdown",
   "metadata": {
    "execution": {}
   },
   "source": [
    "#### Section 3.1.3: Defining the ***SwimmerActor*** wrapper"
   ]
  },
  {
   "cell_type": "markdown",
   "metadata": {
    "execution": {}
   },
   "source": [
    "\n",
    "The ***SwimmerActor*** class acts as a wrapper around the ***SwimmerModule***, managing high-level control signals and observations coming from the environment and passing them to the ***SwimmerModule*** in a suitable format. This class is basically responsible for making the SwimmerModule compatible with the tonic library. If you wish to use any other library to try a algorithm not present in tonic you have to write a new wrapper to make ***SwimmerModule*** compatible with that library."
   ]
  },
  {
   "cell_type": "code",
   "execution_count": null,
   "metadata": {
    "execution": {}
   },
   "outputs": [],
   "source": [
    "class SwimmerActor(nn.Module):\n",
    "    def __init__(\n",
    "            self,\n",
    "            swimmer,\n",
    "            controller=None,\n",
    "            distribution=None,\n",
    "            timestep_transform=(-1, 1, 0, 1000),\n",
    "    ):\n",
    "        super().__init__()\n",
    "        self.swimmer = swimmer\n",
    "        self.controller = controller\n",
    "        self.distribution = distribution\n",
    "        self.timestep_transform = timestep_transform\n",
    "\n",
    "    def initialize(\n",
    "            self,\n",
    "            observation_space,\n",
    "            action_space,\n",
    "            observation_normalizer=None,\n",
    "    ):\n",
    "        self.action_size = action_space.shape[0]\n",
    "\n",
    "    def forward(self, observations):\n",
    "        joint_pos = observations[..., :self.action_size]\n",
    "        timesteps = observations[..., -1, None]\n",
    "\n",
    "        # Normalize joint positions by max joint angle (in radians).\n",
    "        joint_limit = 2 * np.pi / (self.action_size + 1)  # In dm_control, calculated with n_bodies.\n",
    "        joint_pos = torch.clamp(joint_pos / joint_limit, min=-1, max=1)\n",
    "\n",
    "        # Convert normalized time signal into timestep.\n",
    "        if self.timestep_transform:\n",
    "            low_in, high_in, low_out, high_out = self.timestep_transform\n",
    "            timesteps = (timesteps - low_in) / (high_in - low_in) * (high_out - low_out) + low_out\n",
    "\n",
    "        # Generate high-level control signals.\n",
    "        if self.controller:\n",
    "            right, left, speed = self.controller(observations)\n",
    "        else:\n",
    "            right, left, speed = None, None, None\n",
    "\n",
    "        # Generate low-level action signals.\n",
    "        actions = self.swimmer(\n",
    "            joint_pos,\n",
    "            timesteps=timesteps,\n",
    "            right_control=right,\n",
    "            left_control=left,\n",
    "            speed_control=speed,\n",
    "        )\n",
    "\n",
    "        # Pass through distribution for stochastic policy.\n",
    "        if self.distribution:\n",
    "            actions = self.distribution(actions)\n",
    "\n",
    "        return actions"
   ]
  },
  {
   "cell_type": "markdown",
   "metadata": {},
   "source": [
    "#####  Submit your feedback\n"
   ]
  },
  {
   "cell_type": "code",
   "execution_count": null,
   "metadata": {
    "cellView": "form",
    "execution": {},
    "tags": [
     "hide-input"
    ]
   },
   "outputs": [],
   "source": [
    "# @title Submit your feedback\n",
    "content_review(f\"{feedback_prefix}_ncap_classes\")"
   ]
  },
  {
   "cell_type": "markdown",
   "metadata": {
    "execution": {}
   },
   "source": [
    "### 3.2: Train NCAP"
   ]
  },
  {
   "cell_type": "markdown",
   "metadata": {
    "execution": {}
   },
   "source": [
    "We will now define functions akin to those for MLP we defined in Section 3.2, but tailored for the SwimmerActor model.\n",
    "  \n"
   ]
  },
  {
   "cell_type": "code",
   "execution_count": null,
   "metadata": {
    "execution": {}
   },
   "outputs": [],
   "source": [
    "from tonic.torch import models, normalizers\n",
    "import torch\n",
    "\n",
    "\n",
    "def ppo_swimmer_model(\n",
    "        n_joints=5,\n",
    "        action_noise=0.1,\n",
    "        critic_sizes=(64, 64),\n",
    "        critic_activation=nn.Tanh,\n",
    "        **swimmer_kwargs,\n",
    "):\n",
    "    return models.ActorCritic(\n",
    "        actor=SwimmerActor(\n",
    "            swimmer=SwimmerModule(n_joints=n_joints, **swimmer_kwargs),\n",
    "            distribution=lambda x: torch.distributions.normal.Normal(x, action_noise),\n",
    "        ),\n",
    "        critic=models.Critic(\n",
    "            encoder=models.ObservationEncoder(),\n",
    "            torso=models.MLP(critic_sizes, critic_activation),\n",
    "            head=models.ValueHead(),\n",
    "        ),\n",
    "        observation_normalizer=normalizers.MeanStd(),\n",
    "    )\n",
    "\n",
    "\n",
    "def d4pg_swimmer_model(\n",
    "  n_joints=5,\n",
    "  critic_sizes=(256, 256),\n",
    "  critic_activation=nn.ReLU,\n",
    "  **swimmer_kwargs,\n",
    "):\n",
    "  return models.ActorCriticWithTargets(\n",
    "    actor=SwimmerActor(swimmer=SwimmerModule(n_joints=n_joints, **swimmer_kwargs),),\n",
    "    critic=models.Critic(\n",
    "      encoder=models.ObservationActionEncoder(),\n",
    "      torso=models.MLP(critic_sizes, critic_activation),\n",
    "      # These values are for the control suite with 0.99 discount.\n",
    "      head=models.DistributionalValueHead(-150., 150., 51),\n",
    "    ),\n",
    "    observation_normalizer=normalizers.MeanStd(),\n",
    "  )"
   ]
  },
  {
   "cell_type": "markdown",
   "metadata": {
    "execution": {}
   },
   "source": [
    "⏳"
   ]
  },
  {
   "cell_type": "code",
   "execution_count": null,
   "metadata": {
    "execution": {}
   },
   "outputs": [],
   "source": [
    "train('import tonic.torch',\n",
    "      # 'tonic.torch.agents.D4PG(model=d4pg_swimmer_model(n_joints=5,critic_sizes=(128,128)))',\n",
    "      'tonic.torch.agents.PPO(model=ppo_swimmer_model(n_joints=5,critic_sizes=(256,256)))',\n",
    "  'tonic.environments.ControlSuite(\"swimmer-swim\",time_feature=True)',\n",
    "  name = 'ncap_ppo',\n",
    "  trainer = 'tonic.Trainer(steps=int(1e5),save_steps=int(5e4))')"
   ]
  },
  {
   "cell_type": "markdown",
   "metadata": {
    "execution": {}
   },
   "source": [
    "Let's visualize the trained NCAP agent in the environment."
   ]
  },
  {
   "cell_type": "markdown",
   "metadata": {
    "execution": {}
   },
   "source": [
    "⏳"
   ]
  },
  {
   "cell_type": "code",
   "execution_count": null,
   "metadata": {
    "cellView": "form",
    "execution": {}
   },
   "outputs": [],
   "source": [
    "# play_model('data/local/experiments/tonic/swimmer-swim/ncap_ppo')\n",
    "play_model('data/local/experiments/tonic/swimmer-swim/pretrained_ncap_ppo')"
   ]
  },
  {
   "cell_type": "markdown",
   "metadata": {
    "execution": {}
   },
   "source": [
    "❓"
   ]
  },
  {
   "cell_type": "markdown",
   "metadata": {
    "execution": {}
   },
   "source": [
    "***This architecture was designed using the C. elegans motor circuit that can swim right at birth i.e it should already have really good priors. Can you try visualizing an agent with an untrained NCAP model. Can it swim?***"
   ]
  },
  {
   "cell_type": "markdown",
   "metadata": {},
   "source": [
    "####  Submit your feedback\n"
   ]
  },
  {
   "cell_type": "code",
   "execution_count": null,
   "metadata": {
    "cellView": "form",
    "execution": {},
    "tags": [
     "hide-input"
    ]
   },
   "outputs": [],
   "source": [
    "# @title Submit your feedback\n",
    "content_review(f\"{feedback_prefix}_train_ncap\")"
   ]
  },
  {
   "cell_type": "markdown",
   "metadata": {
    "execution": {}
   },
   "source": [
    "### 3.3 Plot perfomance"
   ]
  },
  {
   "cell_type": "markdown",
   "metadata": {
    "execution": {}
   },
   "source": [
    "Now we are going to visualize performance of our model"
   ]
  },
  {
   "cell_type": "code",
   "execution_count": 11,
   "metadata": {
    "execution": {}
   },
   "outputs": [],
   "source": [
    "def plot_performance(paths, ax=None,title='Model Performance'):\n",
    "    \"\"\"\n",
    "    Plots the performance of multiple models on the same axes using Seaborn for styling.\n",
    "\n",
    "    Reads CSV log files from specified paths and plots the mean episode scores\n",
    "    achieved during testing against the cumulative time steps for each model.\n",
    "    The plot uses a logarithmic scale for the x-axis to better display the progression\n",
    "    over a wide range of steps. Each line's legend is set to the name of the last folder\n",
    "    in the path, representing the model's name. Seaborn styles are applied for enhanced visualization.\n",
    "\n",
    "    Parameters:\n",
    "    - paths (list of str): Paths to the experiment directories.\n",
    "    - ax (matplotlib.axes.Axes, optional): A matplotlib axis object to plot on. If None,\n",
    "      a new figure and axis are created.\n",
    "    \"\"\"\n",
    "    # Set the Seaborn style\n",
    "    sns.set(style=\"whitegrid\")\n",
    "    colors = sns.color_palette(\"colorblind\")  # Colorblind-friendly palette\n",
    "\n",
    "    if ax is None:\n",
    "        fig, ax = plt.subplots()\n",
    "\n",
    "    for index, path in enumerate(paths):\n",
    "        # Extract the model name from the path\n",
    "        model_name = os.path.basename(path.rstrip('/'))\n",
    "\n",
    "        # Load data\n",
    "        df = pd.read_csv(os.path.join(path, 'log.csv'))\n",
    "        scores = df['test/episode_score/mean']\n",
    "        lengths = df['test/episode_length/mean']\n",
    "        steps = np.cumsum(lengths)\n",
    "        sns.lineplot(x=steps, y=scores, ax=ax, label=model_name, color=colors[index % len(colors)])\n",
    "\n",
    "    ax.set_xscale('log')\n",
    "    ax.set_xlabel('Cumulative Time Steps')\n",
    "    ax.set_ylabel('Max Episode Score')\n",
    "    ax.legend()\n",
    "    ax.set_title(title)"
   ]
  },
  {
   "cell_type": "code",
   "execution_count": 12,
   "metadata": {
    "execution": {}
   },
   "outputs": [
    {
     "ename": "FileNotFoundError",
     "evalue": "[Errno 2] No such file or directory: 'data/local/experiments/tonic/swimmer-swim/pretrained_ncap_ppo/log.csv'",
     "output_type": "error",
     "traceback": [
      "\u001b[0;31m---------------------------------------------------------------------------\u001b[0m",
      "\u001b[0;31mFileNotFoundError\u001b[0m                         Traceback (most recent call last)",
      "Cell \u001b[0;32mIn[12], line 8\u001b[0m\n\u001b[1;32m      3\u001b[0m \u001b[38;5;66;03m#Replace the paths with the path to models you trained to plot their performance.\u001b[39;00m\n\u001b[1;32m      4\u001b[0m paths \u001b[38;5;241m=\u001b[39m [\n\u001b[1;32m      5\u001b[0m     \u001b[38;5;124m'\u001b[39m\u001b[38;5;124mdata/local/experiments/tonic/swimmer-swim/pretrained_ncap_ppo\u001b[39m\u001b[38;5;124m'\u001b[39m,\n\u001b[1;32m      6\u001b[0m     \u001b[38;5;124m'\u001b[39m\u001b[38;5;124mdata/local/experiments/tonic/swimmer-swim/pretrained_mlp_ppo\u001b[39m\u001b[38;5;124m'\u001b[39m\n\u001b[1;32m      7\u001b[0m ]\n\u001b[0;32m----> 8\u001b[0m \u001b[43mplot_performance\u001b[49m\u001b[43m(\u001b[49m\u001b[43mpaths\u001b[49m\u001b[43m,\u001b[49m\u001b[43m \u001b[49m\u001b[43max\u001b[49m\u001b[38;5;241;43m=\u001b[39;49m\u001b[43max\u001b[49m\u001b[43m,\u001b[49m\u001b[43m \u001b[49m\u001b[43mtitle\u001b[49m\u001b[38;5;241;43m=\u001b[39;49m\u001b[38;5;124;43m'\u001b[39;49m\u001b[38;5;124;43mMLP v/s NCAP\u001b[39;49m\u001b[38;5;124;43m'\u001b[39;49m\u001b[43m)\u001b[49m\n\u001b[1;32m      9\u001b[0m plt\u001b[38;5;241m.\u001b[39mtight_layout()\n\u001b[1;32m     10\u001b[0m plt\u001b[38;5;241m.\u001b[39mshow()\n",
      "Cell \u001b[0;32mIn[11], line 28\u001b[0m, in \u001b[0;36mplot_performance\u001b[0;34m(paths, ax, title)\u001b[0m\n\u001b[1;32m     25\u001b[0m model_name \u001b[38;5;241m=\u001b[39m os\u001b[38;5;241m.\u001b[39mpath\u001b[38;5;241m.\u001b[39mbasename(path\u001b[38;5;241m.\u001b[39mrstrip(\u001b[38;5;124m'\u001b[39m\u001b[38;5;124m/\u001b[39m\u001b[38;5;124m'\u001b[39m))\n\u001b[1;32m     27\u001b[0m \u001b[38;5;66;03m# Load data\u001b[39;00m\n\u001b[0;32m---> 28\u001b[0m df \u001b[38;5;241m=\u001b[39m \u001b[43mpd\u001b[49m\u001b[38;5;241;43m.\u001b[39;49m\u001b[43mread_csv\u001b[49m\u001b[43m(\u001b[49m\u001b[43mos\u001b[49m\u001b[38;5;241;43m.\u001b[39;49m\u001b[43mpath\u001b[49m\u001b[38;5;241;43m.\u001b[39;49m\u001b[43mjoin\u001b[49m\u001b[43m(\u001b[49m\u001b[43mpath\u001b[49m\u001b[43m,\u001b[49m\u001b[43m \u001b[49m\u001b[38;5;124;43m'\u001b[39;49m\u001b[38;5;124;43mlog.csv\u001b[39;49m\u001b[38;5;124;43m'\u001b[39;49m\u001b[43m)\u001b[49m\u001b[43m)\u001b[49m\n\u001b[1;32m     29\u001b[0m scores \u001b[38;5;241m=\u001b[39m df[\u001b[38;5;124m'\u001b[39m\u001b[38;5;124mtest/episode_score/mean\u001b[39m\u001b[38;5;124m'\u001b[39m]\n\u001b[1;32m     30\u001b[0m lengths \u001b[38;5;241m=\u001b[39m df[\u001b[38;5;124m'\u001b[39m\u001b[38;5;124mtest/episode_length/mean\u001b[39m\u001b[38;5;124m'\u001b[39m]\n",
      "File \u001b[0;32m~/miniconda3/envs/social-agents/lib/python3.10/site-packages/pandas/io/parsers/readers.py:1026\u001b[0m, in \u001b[0;36mread_csv\u001b[0;34m(filepath_or_buffer, sep, delimiter, header, names, index_col, usecols, dtype, engine, converters, true_values, false_values, skipinitialspace, skiprows, skipfooter, nrows, na_values, keep_default_na, na_filter, verbose, skip_blank_lines, parse_dates, infer_datetime_format, keep_date_col, date_parser, date_format, dayfirst, cache_dates, iterator, chunksize, compression, thousands, decimal, lineterminator, quotechar, quoting, doublequote, escapechar, comment, encoding, encoding_errors, dialect, on_bad_lines, delim_whitespace, low_memory, memory_map, float_precision, storage_options, dtype_backend)\u001b[0m\n\u001b[1;32m   1013\u001b[0m kwds_defaults \u001b[38;5;241m=\u001b[39m _refine_defaults_read(\n\u001b[1;32m   1014\u001b[0m     dialect,\n\u001b[1;32m   1015\u001b[0m     delimiter,\n\u001b[0;32m   (...)\u001b[0m\n\u001b[1;32m   1022\u001b[0m     dtype_backend\u001b[38;5;241m=\u001b[39mdtype_backend,\n\u001b[1;32m   1023\u001b[0m )\n\u001b[1;32m   1024\u001b[0m kwds\u001b[38;5;241m.\u001b[39mupdate(kwds_defaults)\n\u001b[0;32m-> 1026\u001b[0m \u001b[38;5;28;01mreturn\u001b[39;00m \u001b[43m_read\u001b[49m\u001b[43m(\u001b[49m\u001b[43mfilepath_or_buffer\u001b[49m\u001b[43m,\u001b[49m\u001b[43m \u001b[49m\u001b[43mkwds\u001b[49m\u001b[43m)\u001b[49m\n",
      "File \u001b[0;32m~/miniconda3/envs/social-agents/lib/python3.10/site-packages/pandas/io/parsers/readers.py:620\u001b[0m, in \u001b[0;36m_read\u001b[0;34m(filepath_or_buffer, kwds)\u001b[0m\n\u001b[1;32m    617\u001b[0m _validate_names(kwds\u001b[38;5;241m.\u001b[39mget(\u001b[38;5;124m\"\u001b[39m\u001b[38;5;124mnames\u001b[39m\u001b[38;5;124m\"\u001b[39m, \u001b[38;5;28;01mNone\u001b[39;00m))\n\u001b[1;32m    619\u001b[0m \u001b[38;5;66;03m# Create the parser.\u001b[39;00m\n\u001b[0;32m--> 620\u001b[0m parser \u001b[38;5;241m=\u001b[39m \u001b[43mTextFileReader\u001b[49m\u001b[43m(\u001b[49m\u001b[43mfilepath_or_buffer\u001b[49m\u001b[43m,\u001b[49m\u001b[43m \u001b[49m\u001b[38;5;241;43m*\u001b[39;49m\u001b[38;5;241;43m*\u001b[39;49m\u001b[43mkwds\u001b[49m\u001b[43m)\u001b[49m\n\u001b[1;32m    622\u001b[0m \u001b[38;5;28;01mif\u001b[39;00m chunksize \u001b[38;5;129;01mor\u001b[39;00m iterator:\n\u001b[1;32m    623\u001b[0m     \u001b[38;5;28;01mreturn\u001b[39;00m parser\n",
      "File \u001b[0;32m~/miniconda3/envs/social-agents/lib/python3.10/site-packages/pandas/io/parsers/readers.py:1620\u001b[0m, in \u001b[0;36mTextFileReader.__init__\u001b[0;34m(self, f, engine, **kwds)\u001b[0m\n\u001b[1;32m   1617\u001b[0m     \u001b[38;5;28mself\u001b[39m\u001b[38;5;241m.\u001b[39moptions[\u001b[38;5;124m\"\u001b[39m\u001b[38;5;124mhas_index_names\u001b[39m\u001b[38;5;124m\"\u001b[39m] \u001b[38;5;241m=\u001b[39m kwds[\u001b[38;5;124m\"\u001b[39m\u001b[38;5;124mhas_index_names\u001b[39m\u001b[38;5;124m\"\u001b[39m]\n\u001b[1;32m   1619\u001b[0m \u001b[38;5;28mself\u001b[39m\u001b[38;5;241m.\u001b[39mhandles: IOHandles \u001b[38;5;241m|\u001b[39m \u001b[38;5;28;01mNone\u001b[39;00m \u001b[38;5;241m=\u001b[39m \u001b[38;5;28;01mNone\u001b[39;00m\n\u001b[0;32m-> 1620\u001b[0m \u001b[38;5;28mself\u001b[39m\u001b[38;5;241m.\u001b[39m_engine \u001b[38;5;241m=\u001b[39m \u001b[38;5;28;43mself\u001b[39;49m\u001b[38;5;241;43m.\u001b[39;49m\u001b[43m_make_engine\u001b[49m\u001b[43m(\u001b[49m\u001b[43mf\u001b[49m\u001b[43m,\u001b[49m\u001b[43m \u001b[49m\u001b[38;5;28;43mself\u001b[39;49m\u001b[38;5;241;43m.\u001b[39;49m\u001b[43mengine\u001b[49m\u001b[43m)\u001b[49m\n",
      "File \u001b[0;32m~/miniconda3/envs/social-agents/lib/python3.10/site-packages/pandas/io/parsers/readers.py:1880\u001b[0m, in \u001b[0;36mTextFileReader._make_engine\u001b[0;34m(self, f, engine)\u001b[0m\n\u001b[1;32m   1878\u001b[0m     \u001b[38;5;28;01mif\u001b[39;00m \u001b[38;5;124m\"\u001b[39m\u001b[38;5;124mb\u001b[39m\u001b[38;5;124m\"\u001b[39m \u001b[38;5;129;01mnot\u001b[39;00m \u001b[38;5;129;01min\u001b[39;00m mode:\n\u001b[1;32m   1879\u001b[0m         mode \u001b[38;5;241m+\u001b[39m\u001b[38;5;241m=\u001b[39m \u001b[38;5;124m\"\u001b[39m\u001b[38;5;124mb\u001b[39m\u001b[38;5;124m\"\u001b[39m\n\u001b[0;32m-> 1880\u001b[0m \u001b[38;5;28mself\u001b[39m\u001b[38;5;241m.\u001b[39mhandles \u001b[38;5;241m=\u001b[39m \u001b[43mget_handle\u001b[49m\u001b[43m(\u001b[49m\n\u001b[1;32m   1881\u001b[0m \u001b[43m    \u001b[49m\u001b[43mf\u001b[49m\u001b[43m,\u001b[49m\n\u001b[1;32m   1882\u001b[0m \u001b[43m    \u001b[49m\u001b[43mmode\u001b[49m\u001b[43m,\u001b[49m\n\u001b[1;32m   1883\u001b[0m \u001b[43m    \u001b[49m\u001b[43mencoding\u001b[49m\u001b[38;5;241;43m=\u001b[39;49m\u001b[38;5;28;43mself\u001b[39;49m\u001b[38;5;241;43m.\u001b[39;49m\u001b[43moptions\u001b[49m\u001b[38;5;241;43m.\u001b[39;49m\u001b[43mget\u001b[49m\u001b[43m(\u001b[49m\u001b[38;5;124;43m\"\u001b[39;49m\u001b[38;5;124;43mencoding\u001b[39;49m\u001b[38;5;124;43m\"\u001b[39;49m\u001b[43m,\u001b[49m\u001b[43m \u001b[49m\u001b[38;5;28;43;01mNone\u001b[39;49;00m\u001b[43m)\u001b[49m\u001b[43m,\u001b[49m\n\u001b[1;32m   1884\u001b[0m \u001b[43m    \u001b[49m\u001b[43mcompression\u001b[49m\u001b[38;5;241;43m=\u001b[39;49m\u001b[38;5;28;43mself\u001b[39;49m\u001b[38;5;241;43m.\u001b[39;49m\u001b[43moptions\u001b[49m\u001b[38;5;241;43m.\u001b[39;49m\u001b[43mget\u001b[49m\u001b[43m(\u001b[49m\u001b[38;5;124;43m\"\u001b[39;49m\u001b[38;5;124;43mcompression\u001b[39;49m\u001b[38;5;124;43m\"\u001b[39;49m\u001b[43m,\u001b[49m\u001b[43m \u001b[49m\u001b[38;5;28;43;01mNone\u001b[39;49;00m\u001b[43m)\u001b[49m\u001b[43m,\u001b[49m\n\u001b[1;32m   1885\u001b[0m \u001b[43m    \u001b[49m\u001b[43mmemory_map\u001b[49m\u001b[38;5;241;43m=\u001b[39;49m\u001b[38;5;28;43mself\u001b[39;49m\u001b[38;5;241;43m.\u001b[39;49m\u001b[43moptions\u001b[49m\u001b[38;5;241;43m.\u001b[39;49m\u001b[43mget\u001b[49m\u001b[43m(\u001b[49m\u001b[38;5;124;43m\"\u001b[39;49m\u001b[38;5;124;43mmemory_map\u001b[39;49m\u001b[38;5;124;43m\"\u001b[39;49m\u001b[43m,\u001b[49m\u001b[43m \u001b[49m\u001b[38;5;28;43;01mFalse\u001b[39;49;00m\u001b[43m)\u001b[49m\u001b[43m,\u001b[49m\n\u001b[1;32m   1886\u001b[0m \u001b[43m    \u001b[49m\u001b[43mis_text\u001b[49m\u001b[38;5;241;43m=\u001b[39;49m\u001b[43mis_text\u001b[49m\u001b[43m,\u001b[49m\n\u001b[1;32m   1887\u001b[0m \u001b[43m    \u001b[49m\u001b[43merrors\u001b[49m\u001b[38;5;241;43m=\u001b[39;49m\u001b[38;5;28;43mself\u001b[39;49m\u001b[38;5;241;43m.\u001b[39;49m\u001b[43moptions\u001b[49m\u001b[38;5;241;43m.\u001b[39;49m\u001b[43mget\u001b[49m\u001b[43m(\u001b[49m\u001b[38;5;124;43m\"\u001b[39;49m\u001b[38;5;124;43mencoding_errors\u001b[39;49m\u001b[38;5;124;43m\"\u001b[39;49m\u001b[43m,\u001b[49m\u001b[43m \u001b[49m\u001b[38;5;124;43m\"\u001b[39;49m\u001b[38;5;124;43mstrict\u001b[39;49m\u001b[38;5;124;43m\"\u001b[39;49m\u001b[43m)\u001b[49m\u001b[43m,\u001b[49m\n\u001b[1;32m   1888\u001b[0m \u001b[43m    \u001b[49m\u001b[43mstorage_options\u001b[49m\u001b[38;5;241;43m=\u001b[39;49m\u001b[38;5;28;43mself\u001b[39;49m\u001b[38;5;241;43m.\u001b[39;49m\u001b[43moptions\u001b[49m\u001b[38;5;241;43m.\u001b[39;49m\u001b[43mget\u001b[49m\u001b[43m(\u001b[49m\u001b[38;5;124;43m\"\u001b[39;49m\u001b[38;5;124;43mstorage_options\u001b[39;49m\u001b[38;5;124;43m\"\u001b[39;49m\u001b[43m,\u001b[49m\u001b[43m \u001b[49m\u001b[38;5;28;43;01mNone\u001b[39;49;00m\u001b[43m)\u001b[49m\u001b[43m,\u001b[49m\n\u001b[1;32m   1889\u001b[0m \u001b[43m\u001b[49m\u001b[43m)\u001b[49m\n\u001b[1;32m   1890\u001b[0m \u001b[38;5;28;01massert\u001b[39;00m \u001b[38;5;28mself\u001b[39m\u001b[38;5;241m.\u001b[39mhandles \u001b[38;5;129;01mis\u001b[39;00m \u001b[38;5;129;01mnot\u001b[39;00m \u001b[38;5;28;01mNone\u001b[39;00m\n\u001b[1;32m   1891\u001b[0m f \u001b[38;5;241m=\u001b[39m \u001b[38;5;28mself\u001b[39m\u001b[38;5;241m.\u001b[39mhandles\u001b[38;5;241m.\u001b[39mhandle\n",
      "File \u001b[0;32m~/miniconda3/envs/social-agents/lib/python3.10/site-packages/pandas/io/common.py:873\u001b[0m, in \u001b[0;36mget_handle\u001b[0;34m(path_or_buf, mode, encoding, compression, memory_map, is_text, errors, storage_options)\u001b[0m\n\u001b[1;32m    868\u001b[0m \u001b[38;5;28;01melif\u001b[39;00m \u001b[38;5;28misinstance\u001b[39m(handle, \u001b[38;5;28mstr\u001b[39m):\n\u001b[1;32m    869\u001b[0m     \u001b[38;5;66;03m# Check whether the filename is to be opened in binary mode.\u001b[39;00m\n\u001b[1;32m    870\u001b[0m     \u001b[38;5;66;03m# Binary mode does not support 'encoding' and 'newline'.\u001b[39;00m\n\u001b[1;32m    871\u001b[0m     \u001b[38;5;28;01mif\u001b[39;00m ioargs\u001b[38;5;241m.\u001b[39mencoding \u001b[38;5;129;01mand\u001b[39;00m \u001b[38;5;124m\"\u001b[39m\u001b[38;5;124mb\u001b[39m\u001b[38;5;124m\"\u001b[39m \u001b[38;5;129;01mnot\u001b[39;00m \u001b[38;5;129;01min\u001b[39;00m ioargs\u001b[38;5;241m.\u001b[39mmode:\n\u001b[1;32m    872\u001b[0m         \u001b[38;5;66;03m# Encoding\u001b[39;00m\n\u001b[0;32m--> 873\u001b[0m         handle \u001b[38;5;241m=\u001b[39m \u001b[38;5;28;43mopen\u001b[39;49m\u001b[43m(\u001b[49m\n\u001b[1;32m    874\u001b[0m \u001b[43m            \u001b[49m\u001b[43mhandle\u001b[49m\u001b[43m,\u001b[49m\n\u001b[1;32m    875\u001b[0m \u001b[43m            \u001b[49m\u001b[43mioargs\u001b[49m\u001b[38;5;241;43m.\u001b[39;49m\u001b[43mmode\u001b[49m\u001b[43m,\u001b[49m\n\u001b[1;32m    876\u001b[0m \u001b[43m            \u001b[49m\u001b[43mencoding\u001b[49m\u001b[38;5;241;43m=\u001b[39;49m\u001b[43mioargs\u001b[49m\u001b[38;5;241;43m.\u001b[39;49m\u001b[43mencoding\u001b[49m\u001b[43m,\u001b[49m\n\u001b[1;32m    877\u001b[0m \u001b[43m            \u001b[49m\u001b[43merrors\u001b[49m\u001b[38;5;241;43m=\u001b[39;49m\u001b[43merrors\u001b[49m\u001b[43m,\u001b[49m\n\u001b[1;32m    878\u001b[0m \u001b[43m            \u001b[49m\u001b[43mnewline\u001b[49m\u001b[38;5;241;43m=\u001b[39;49m\u001b[38;5;124;43m\"\u001b[39;49m\u001b[38;5;124;43m\"\u001b[39;49m\u001b[43m,\u001b[49m\n\u001b[1;32m    879\u001b[0m \u001b[43m        \u001b[49m\u001b[43m)\u001b[49m\n\u001b[1;32m    880\u001b[0m     \u001b[38;5;28;01melse\u001b[39;00m:\n\u001b[1;32m    881\u001b[0m         \u001b[38;5;66;03m# Binary mode\u001b[39;00m\n\u001b[1;32m    882\u001b[0m         handle \u001b[38;5;241m=\u001b[39m \u001b[38;5;28mopen\u001b[39m(handle, ioargs\u001b[38;5;241m.\u001b[39mmode)\n",
      "\u001b[0;31mFileNotFoundError\u001b[0m: [Errno 2] No such file or directory: 'data/local/experiments/tonic/swimmer-swim/pretrained_ncap_ppo/log.csv'"
     ]
    },
    {
     "data": {
      "image/png": "[encoded data removed]",
      "text/plain": [
       "<Figure size 640x480 with 1 Axes>"
      ]
     },
     "metadata": {},
     "output_type": "display_data"
    }
   ],
   "source": [
    "fig, ax = plt.subplots()\n",
    "\n",
    "#Replace the paths with the path to models you trained to plot their performance.\n",
    "paths = [\n",
    "    'data/local/experiments/tonic/swimmer-swim/pretrained_ncap_ppo',\n",
    "    'data/local/experiments/tonic/swimmer-swim/pretrained_mlp_ppo'\n",
    "]\n",
    "plot_performance(paths, ax=ax, title='MLP v/s NCAP')\n",
    "plt.tight_layout()\n",
    "plt.show()"
   ]
  },
  {
   "cell_type": "markdown",
   "metadata": {
    "execution": {}
   },
   "source": [
    "❓"
   ]
  },
  {
   "cell_type": "markdown",
   "metadata": {
    "execution": {}
   },
   "source": [
    "\n",
    "\n",
    "* ***Compare the performance and learning curve of NCAP to MLP for the basic swimmer agent.***\n",
    "* ***Try testing the model on a modification of the environment (e.g., the 12-link swimmer) it was trained on.***\n",
    "* ***What happens if we remove certain weight constraints (e.g., sign constraint) from the NCAP model?***\n"
   ]
  },
  {
   "cell_type": "code",
   "execution_count": null,
   "metadata": {
    "execution": {}
   },
   "outputs": [],
   "source": [
    "# add your code"
   ]
  },
  {
   "cell_type": "markdown",
   "metadata": {},
   "source": [
    "####  Submit your feedback\n"
   ]
  },
  {
   "cell_type": "code",
   "execution_count": null,
   "metadata": {
    "cellView": "form",
    "execution": {},
    "tags": [
     "hide-input"
    ]
   },
   "outputs": [],
   "source": [
    "# @title Submit your feedback\n",
    "content_review(f\"{feedback_prefix}_plot_performance\")"
   ]
  },
  {
   "cell_type": "markdown",
   "metadata": {
    "execution": {}
   },
   "source": [
    "---\n",
    "## Section 4: Visualizing the sparse network"
   ]
  },
  {
   "cell_type": "markdown",
   "metadata": {
    "execution": {}
   },
   "source": [
    "\n",
    "Given the importance of architectural choices in our project we have provided a function which can visualize the network architecture. This includes the ability to render the NCAP network, representing the C. Elegans connectome."
   ]
  },
  {
   "cell_type": "code",
   "execution_count": null,
   "metadata": {
    "execution": {}
   },
   "outputs": [],
   "source": [
    "import networkx as nx\n",
    "import matplotlib.pyplot as plt\n",
    "import numpy as np\n",
    "\n",
    "\n",
    "def draw_network(mode='NCAP', N=2, include_speed_control=False, include_turn_control=False):\n",
    "\n",
    "    \"\"\"\n",
    "    Draws a network graph for a swimmer model based on either NCAP or MLP architecture.\n",
    "\n",
    "    Parameters:\n",
    "    - mode (str): Determines the architecture type ('NCAP' or 'MLP'). Defaults to 'NCAP'.\n",
    "    - N (int): Number of joints in the swimmer model. Defaults to 2.\n",
    "    - include_speed_control (bool): If True, includes nodes for speed control in the graph.\n",
    "    - include_turn_control (bool): If True, includes nodes for turn control in the graph.\n",
    "    \"\"\"\n",
    "\n",
    "\n",
    "    G = nx.DiGraph()\n",
    "\n",
    "    n=2+N*4\n",
    "\n",
    "    nodes =dict()\n",
    "\n",
    "    if include_speed_control:\n",
    "      nodes['1-s'] = n+7\n",
    "    if include_turn_control:\n",
    "      nodes['r'] = n+5\n",
    "      nodes['l'] = n+3\n",
    "\n",
    "    nodes['o'] = n-1\n",
    "    nodes['$o^d$'] = n-0\n",
    "    nodes['$o^v$']= n-2\n",
    "\n",
    "    custom_node_positions = {}\n",
    "    custom_node_positions['o'] = (1, nodes['o'])\n",
    "    custom_node_positions['$o^d$'] = (1.5, nodes['$o^d$'])\n",
    "    custom_node_positions['$o^v$'] = (1.5, nodes['$o^v$'])\n",
    "\n",
    "\n",
    "    if include_speed_control:\n",
    "      custom_node_positions['1-s'] = (1.5, nodes['1-s'])\n",
    "    if include_turn_control:\n",
    "      custom_node_positions['r'] = (1.5, nodes['r'])\n",
    "      custom_node_positions['l'] = (1.5, nodes['l'])\n",
    "\n",
    "    for i in range(1,N+1):\n",
    "      nodes[f'$q_{i}$'] = 4*(N-i) + 1\n",
    "      nodes[f'$q^d_{i}$'] = 4*(N-i) + 2\n",
    "      nodes[f'$q^v_{i}$'] = 4*(N-i)\n",
    "      nodes[f'$b^d_{i}$'] = 4*(N-i) + 2\n",
    "      nodes[f'$b^v_{i}$'] = 4*(N-i)\n",
    "      nodes[f'$m^d_{i}$'] = 4*(N-i) + 2\n",
    "      nodes[f'$m^v_{i}$'] = 4*(N-i)\n",
    "      nodes['$\\overset{..}{q}$' + f'$_{i}$'] = 4*(N-i) + 1\n",
    "\n",
    "      custom_node_positions[f'$q_{i}$'] = (1, nodes[f'$q_{i}$'])\n",
    "      custom_node_positions[f'$q^d_{i}$'] = (1.5, nodes[f'$q^d_{i}$'])\n",
    "      custom_node_positions[f'$q^v_{i}$'] = (1.5, nodes[f'$q^v_{i}$'])\n",
    "      custom_node_positions[f'$b^d_{i}$'] = (2, nodes[f'$b^d_{i}$'])\n",
    "      custom_node_positions[f'$b^v_{i}$'] = (2, nodes[f'$b^v_{i}$'])\n",
    "      custom_node_positions[f'$m^d_{i}$'] = (2.5, nodes[f'$m^d_{i}$'])\n",
    "      custom_node_positions[f'$m^v_{i}$'] = (2.5, nodes[f'$m^v_{i}$'])\n",
    "      custom_node_positions['$\\overset{..}{q}$' + f'$_{i}$'] = (3, nodes['$\\overset{..}{q}$' + f'$_{i}$'])\n",
    "\n",
    "    for node, layer in nodes.items():\n",
    "        G.add_node(node, layer=layer)\n",
    "\n",
    "    if mode=='NCAP':\n",
    "        # Add edges between nodes\n",
    "        edges_colors = ['green', 'orange', 'green', 'green']\n",
    "        edge_labels = {\n",
    "            ('o', '$o^d$'):'+1',\n",
    "            ('o', '$o^v$'):'-1',\n",
    "            ('$o^d$', '$b^d_1$'):'o',\n",
    "            ('$o^v$', '$b^v_1$'):'o'\n",
    "            }\n",
    "\n",
    "        if include_speed_control:\n",
    "          edges_colors += ['orange']\n",
    "          edge_labels[('1-s', '$b^d_1$')] = 's, to all b'\n",
    "        if include_turn_control:\n",
    "          edges_colors += ['green', 'green']\n",
    "          edge_labels[('r', '$b^d_1$')] = 't'\n",
    "          edge_labels[('l', '$b^v_1$')] = 't'\n",
    "\n",
    "\n",
    "        for i in range(1,N+1):\n",
    "          if i < N:\n",
    "            edges_colors += ['green', 'orange', 'green', 'green']\n",
    "\n",
    "            edge_labels[((f'$q_{i}$', f'$q^d_{i}$'))] = '+1'\n",
    "            edge_labels[((f'$q_{i}$', f'$q^v_{i}$'))] = '-1'\n",
    "            edge_labels[((f'$q^d_{i}$', f'$b^d_{i+1}$'))] = 'p'\n",
    "            edge_labels[((f'$q^v_{i}$', f'$b^v_{i+1}$'))] = 'p'\n",
    "\n",
    "          edges_colors += ['green', 'orange', 'green', 'orange',\n",
    "                          'orange', 'green']\n",
    "\n",
    "          edge_labels[((f'$b^d_{i}$', f'$m^d_{i}$'))] = 'i'\n",
    "          edge_labels[((f'$b^d_{i}$', f'$m^v_{i}$'))] = 'c'\n",
    "          edge_labels[((f'$b^v_{i}$', f'$m^v_{i}$'))] = 'i'\n",
    "          edge_labels[((f'$b^v_{i}$', f'$m^d_{i}$'))] = 'c'\n",
    "          edge_labels[((f'$m^v_{i}$', '$\\overset{..}{q}$' + f'$_{i}$'))] = '-1'\n",
    "          edge_labels[((f'$m^d_{i}$', '$\\overset{..}{q}$' + f'$_{i}$'))] = '+1'\n",
    "\n",
    "        edges = edge_labels.keys()\n",
    "\n",
    "    elif mode=='MLP':\n",
    "      edges = []\n",
    "      layers = [1, 1.5, 2, 2.5, 3]\n",
    "      layers_nodes = [[], [], [], [], []]\n",
    "      for key, value in custom_node_positions.items():\n",
    "        ind = layers.index(value[0])\n",
    "        layers_nodes[ind].append(key)\n",
    "      for layer_ind in range(len(layers_nodes) - 1):\n",
    "        for node1 in layers_nodes[layer_ind]:\n",
    "          for node2 in layers_nodes[layer_ind+1]:\n",
    "            edges.append((node1, node2))\n",
    "      edges_colors = np.repeat('gray', len(edges))\n",
    "\n",
    "\n",
    "    G.add_edges_from(edges)\n",
    "\n",
    "    # Draw the graph using the custom node positions\n",
    "    options = {\"edge_color\": edges_colors, \"edgecolors\": \"tab:gray\", \"node_size\": 500, 'node_color':'white'}\n",
    "    nx.draw(G, pos=custom_node_positions, with_labels=True, arrowstyle=\"-\", arrowsize=20, **options)\n",
    "    if mode=='NCAP':\n",
    "      nx.draw_networkx_edge_labels(G, pos=custom_node_positions, edge_labels=edge_labels)"
   ]
  },
  {
   "cell_type": "code",
   "execution_count": null,
   "metadata": {
    "execution": {}
   },
   "outputs": [],
   "source": [
    "draw_network('MLP', N=6)"
   ]
  },
  {
   "cell_type": "code",
   "execution_count": null,
   "metadata": {
    "execution": {}
   },
   "outputs": [],
   "source": [
    "draw_network('NCAP', N=6, include_speed_control=True, include_turn_control=True)"
   ]
  },
  {
   "cell_type": "markdown",
   "metadata": {
    "execution": {}
   },
   "source": [
    "Notice that the NCAP architecture is highly sparse and interpretable as compared to the MLP. Moreover notice that the ncap architecture can be completely embedded within a fully connected MLP of 3 hidden layers and ReLU nonlinearities. This enables us to do a thorough investigation into how specific architectural elements influence both performance and the learning process. By leveraging this capability, we can systematically analyze the impact of the architectural preferences inherent to the model and make better design choices.\n",
    "\n"
   ]
  },
  {
   "cell_type": "markdown",
   "metadata": {
    "execution": {}
   },
   "source": [
    "*It might be useful to also visualize the network's activity for NCAP. Given it only has 4 learnable parameters it becomes much easier to interpret the network.*\n",
    "\n"
   ]
  },
  {
   "cell_type": "markdown",
   "metadata": {},
   "source": [
    "###  Submit your feedback\n"
   ]
  },
  {
   "cell_type": "code",
   "execution_count": null,
   "metadata": {
    "cellView": "form",
    "execution": {},
    "tags": [
     "hide-input"
    ]
   },
   "outputs": [],
   "source": [
    "# @title Submit your feedback\n",
    "content_review(f\"{feedback_prefix}_visualizing_the_sparse_network\")"
   ]
  },
  {
   "cell_type": "markdown",
   "metadata": {
    "execution": {}
   },
   "source": [
    "---\n",
    "## Conclusion"
   ]
  },
  {
   "cell_type": "markdown",
   "metadata": {
    "execution": {}
   },
   "source": [
    "\n",
    "\n",
    "Based on the concepts we've discussed in this tutorial, you should now be equipped to advance with the project. Within this project, there are multiple pathways you can explore. For each pathway, you will delve deeply into one of the main sections outlined in this notebook, allowing for a thorough investigation of different factors that can influence performance:\n",
    "\n",
    "*   ***Exploring the effects of environment:*** Investigate how different environmental settings impact agent performance. This could involve altering parameters of the environment or the types of tasks and reward functions. Understanding these effects can help in making better architectural choices and learning algorithms that result in agents that are robust and adaptable\n",
    "\n",
    "\n",
    "*   ***Exploring the effects of learning algorithms:*** Standard RL algorithms often struggle with sparse and constrained networks, which can lead to suboptimal performance. Explore where these algorithms fail and analyze potential reasons for their limitations. Experiment with modifications or alternative algorithms that might overcome these challenges.\n",
    "\n",
    "\n",
    "* ***Exploring the effects of model architecture:*** Investigate how various architectural decisions within the NCAP model influence its performance. Visualize the model and its activity and explore potential improvements by tweaking architectural elements, assessing how these changes affect learning outcomes and operational efficiency."
   ]
  }
 ],
 "metadata": {
  "accelerator": "GPU",
  "colab": {
   "collapsed_sections": [],
   "gpuType": "T4",
   "include_colab_link": true,
   "name": "Macrocircuits",
   "provenance": [],
   "toc_visible": true
  },
  "kernel": {
   "display_name": "Python 3",
   "language": "python",
   "name": "python3"
  },
  "kernelspec": {
   "display_name": "Python 3 (ipykernel)",
   "language": "python",
   "name": "python3"
  },
  "language_info": {
   "codemirror_mode": {
    "name": "ipython",
    "version": 3
   },
   "file_extension": ".py",
   "mimetype": "text/x-python",
   "name": "python",
   "nbconvert_exporter": "python",
   "pygments_lexer": "ipython3",
   "version": "3.10.14"
  }
 },
 "nbformat": 4,
 "nbformat_minor": 4
}
